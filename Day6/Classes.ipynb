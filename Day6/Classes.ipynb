{
 "cells": [
  {
   "cell_type": "markdown",
   "metadata": {},
   "source": [
    "Classes"
   ]
  },
  {
   "cell_type": "code",
   "execution_count": 1,
   "metadata": {},
   "outputs": [],
   "source": [
    "class Point:\n",
    "    \"\"\"\n",
    "    Simple class for representing a point in a Cartesian coordinate system.\n",
    "    \"\"\"\n",
    "    \n",
    "    def __init__(self, x, y):\n",
    "        \"\"\"\n",
    "        Create a new Point at x, y.\n",
    "        \"\"\"\n",
    "        self.x = x\n",
    "        self.y = y\n",
    "        \n",
    "    def translate(self, dx, dy):\n",
    "        \"\"\"\n",
    "        Translate the point by dx and dy in the x and y direction.\n",
    "        \"\"\"\n",
    "        self.x += dx\n",
    "        self.y += dy\n",
    "        \n",
    "    def __str__(self):\n",
    "        return(\"Point at [%f, %f]\" % (self.x, self.y))"
   ]
  },
  {
   "cell_type": "code",
   "execution_count": 3,
   "metadata": {},
   "outputs": [
    {
     "name": "stdout",
     "output_type": "stream",
     "text": [
      "1:  Point at [0.000000, 0.000000]\n"
     ]
    }
   ],
   "source": [
    "p1 = Point(0,0)\n",
    "print(\"1: \", p1)"
   ]
  },
  {
   "cell_type": "code",
   "execution_count": 4,
   "metadata": {},
   "outputs": [
    {
     "name": "stdout",
     "output_type": "stream",
     "text": [
      "2:  Point at [0.310000, 1.500000]\n",
      "3:  Point at [1.000000, 1.000000]\n"
     ]
    }
   ],
   "source": [
    "p2 = Point(1,1)\n",
    "p1.translate(0.31, 1.5)\n",
    "print(\"2: \", p1)\n",
    "print(\"3: \", p2)"
   ]
  },
  {
   "cell_type": "markdown",
   "metadata": {},
   "source": [
    "Another example"
   ]
  },
  {
   "cell_type": "code",
   "execution_count": 20,
   "metadata": {},
   "outputs": [
    {
     "name": "stdout",
     "output_type": "stream",
     "text": [
      "1: Radius is:  1\n",
      "2: Area is:  3.14\n",
      "3: Circumference is:  6.28\n",
      "4: Area is: 3.14\n",
      "32.17\n"
     ]
    }
   ],
   "source": [
    "class Circle:\n",
    "    pi = 3.14\n",
    "\n",
    "    # Circle gets instantiated with a radius (default is 1)\n",
    "    def __init__(self, radius=1):\n",
    "        self.radius = radius\n",
    "        self.area = radius * radius * Circle.pi\n",
    "\n",
    "     # Method for resetting Radius\n",
    "    def setRadius(self, new_radius):\n",
    "        self.radius = new_radius\n",
    "        self.area = new_radius * new_radius * self.pi\n",
    "\n",
    "    # Method for getting Circumference\n",
    "    def getCircumference(self):\n",
    "        return self.radius * self.pi * 2\n",
    "\n",
    "c = Circle()\n",
    "print('1: Radius is: ',c.radius)\n",
    "print('2: Area is: ',c.area)\n",
    "print('3: Circumference is: ',c.getCircumference()) \n",
    "print(\"4: Area is:\", c.area)\n",
    "\n",
    "c2 = Circle(radius=5.123)\n",
    "print(f\"{c2.getCircumference():.2f}\")\n",
    "\n",
    "\n",
    "\n"
   ]
  },
  {
   "cell_type": "markdown",
   "metadata": {},
   "source": [
    "Exercise: Add a Rectangle class. Have a function for getArea(), and getPerimeter()"
   ]
  },
  {
   "cell_type": "code",
   "execution_count": 13,
   "metadata": {},
   "outputs": [],
   "source": [
    "class Rectangle:\n",
    "    \n",
    "    def __init__(self, w=1, h=1):\n",
    "        self.w = w\n",
    "        self.h = h\n",
    "        \n",
    "    def getArea(self):\n",
    "        return self.w * self.h\n",
    "        \n",
    "    def getPerimeter(self):\n",
    "        return 2 * self.w + 2 * self.h\n",
    "    \n",
    "    def __str__(self):  #repr if you do not want to print....\n",
    "        return(f\"This is a class rectange with width of {self.w} and height of {self.h}\")"
   ]
  },
  {
   "cell_type": "code",
   "execution_count": 16,
   "metadata": {},
   "outputs": [
    {
     "name": "stdout",
     "output_type": "stream",
     "text": [
      "This is a class rectange with width of 2 and height of 3\n",
      "6\n",
      "10\n"
     ]
    }
   ],
   "source": [
    "r = Rectangle(w=2, h=3)\n",
    "print(r)\n",
    "print(r.getArea())\n",
    "print(r.getPerimeter())\n",
    "\n",
    "\n"
   ]
  },
  {
   "cell_type": "markdown",
   "metadata": {},
   "source": [
    "Exception and Files"
   ]
  },
  {
   "cell_type": "code",
   "execution_count": 17,
   "metadata": {},
   "outputs": [
    {
     "ename": "ZeroDivisionError",
     "evalue": "division by zero",
     "output_type": "error",
     "traceback": [
      "\u001b[0;31m---------------------------------------------------------------------------\u001b[0m",
      "\u001b[0;31mZeroDivisionError\u001b[0m                         Traceback (most recent call last)",
      "\u001b[1;32m/root/projects/Day6/Classes.ipynb Cell 11\u001b[0m in \u001b[0;36m<cell line: 5>\u001b[0;34m()\u001b[0m\n\u001b[1;32m      <a href='vscode-notebook-cell://attached-container%2B7b22636f6e7461696e65724e616d65223a222f707974686f6e2d666f722d647361692d626f6f7463616d702d707974686f6e2d31227d/root/projects/Day6/Classes.ipynb#X16sdnNjb2RlLXJlbW90ZQ%3D%3D?line=1'>2</a>\u001b[0m b \u001b[39m=\u001b[39m \u001b[39m2\u001b[39m\n\u001b[1;32m      <a href='vscode-notebook-cell://attached-container%2B7b22636f6e7461696e65724e616d65223a222f707974686f6e2d666f722d647361692d626f6f7463616d702d707974686f6e2d31227d/root/projects/Day6/Classes.ipynb#X16sdnNjb2RlLXJlbW90ZQ%3D%3D?line=2'>3</a>\u001b[0m c \u001b[39m=\u001b[39m \u001b[39m3\u001b[39m\n\u001b[0;32m----> <a href='vscode-notebook-cell://attached-container%2B7b22636f6e7461696e65724e616d65223a222f707974686f6e2d666f722d647361692d626f6f7463616d702d707974686f6e2d31227d/root/projects/Day6/Classes.ipynb#X16sdnNjb2RlLXJlbW90ZQ%3D%3D?line=4'>5</a>\u001b[0m c \u001b[39m=\u001b[39m b \u001b[39m/\u001b[39;49m a\n\u001b[1;32m      <a href='vscode-notebook-cell://attached-container%2B7b22636f6e7461696e65724e616d65223a222f707974686f6e2d666f722d647361692d626f6f7463616d702d707974686f6e2d31227d/root/projects/Day6/Classes.ipynb#X16sdnNjb2RlLXJlbW90ZQ%3D%3D?line=6'>7</a>\u001b[0m \u001b[39m'''\u001b[39;00m\n\u001b[1;32m      <a href='vscode-notebook-cell://attached-container%2B7b22636f6e7461696e65724e616d65223a222f707974686f6e2d666f722d647361692d626f6f7463616d702d707974686f6e2d31227d/root/projects/Day6/Classes.ipynb#X16sdnNjb2RlLXJlbW90ZQ%3D%3D?line=7'>8</a>\u001b[0m \u001b[39mtwo parts of error msg:\u001b[39;00m\n\u001b[1;32m      <a href='vscode-notebook-cell://attached-container%2B7b22636f6e7461696e65724e616d65223a222f707974686f6e2d666f722d647361692d626f6f7463616d702d707974686f6e2d31227d/root/projects/Day6/Classes.ipynb#X16sdnNjb2RlLXJlbW90ZQ%3D%3D?line=8'>9</a>\u001b[0m \n\u001b[1;32m     <a href='vscode-notebook-cell://attached-container%2B7b22636f6e7461696e65724e616d65223a222f707974686f6e2d666f722d647361692d626f6f7463616d702d707974686f6e2d31227d/root/projects/Day6/Classes.ipynb#X16sdnNjb2RlLXJlbW90ZQ%3D%3D?line=9'>10</a>\u001b[0m \u001b[39m1. traceback: tell you where\u001b[39;00m\n\u001b[1;32m     <a href='vscode-notebook-cell://attached-container%2B7b22636f6e7461696e65724e616d65223a222f707974686f6e2d666f722d647361692d626f6f7463616d702d707974686f6e2d31227d/root/projects/Day6/Classes.ipynb#X16sdnNjb2RlLXJlbW90ZQ%3D%3D?line=10'>11</a>\u001b[0m \u001b[39m2. type of error, e.g., ZeroDivisionError\u001b[39;00m\n\u001b[1;32m     <a href='vscode-notebook-cell://attached-container%2B7b22636f6e7461696e65724e616d65223a222f707974686f6e2d666f722d647361692d626f6f7463616d702d707974686f6e2d31227d/root/projects/Day6/Classes.ipynb#X16sdnNjb2RlLXJlbW90ZQ%3D%3D?line=11'>12</a>\u001b[0m \u001b[39m'''\u001b[39;00m\n\u001b[1;32m     <a href='vscode-notebook-cell://attached-container%2B7b22636f6e7461696e65724e616d65223a222f707974686f6e2d666f722d647361692d626f6f7463616d702d707974686f6e2d31227d/root/projects/Day6/Classes.ipynb#X16sdnNjb2RlLXJlbW90ZQ%3D%3D?line=13'>14</a>\u001b[0m \u001b[39mprint\u001b[39m(c)\n",
      "\u001b[0;31mZeroDivisionError\u001b[0m: division by zero"
     ]
    }
   ],
   "source": [
    "a = 0\n",
    "b = 2\n",
    "c = 3\n",
    "\n",
    "c = b / a\n",
    "\n",
    "'''\n",
    "two parts of error msg:\n",
    "\n",
    "1. traceback: tell you where\n",
    "2. type of error, e.g., ZeroDivisionError\n",
    "'''\n",
    "\n",
    "print(c)\n",
    "print(\"hello\")"
   ]
  },
  {
   "cell_type": "code",
   "execution_count": 19,
   "metadata": {},
   "outputs": [
    {
     "name": "stdout",
     "output_type": "stream",
     "text": [
      "division by zero\n",
      "3\n",
      "hello\n"
     ]
    }
   ],
   "source": [
    "try:\n",
    "    c = b/a\n",
    "except Exception as e:\n",
    "    print(e)\n",
    "\n",
    "print(c)\n",
    "print(\"hello\")    "
   ]
  },
  {
   "cell_type": "code",
   "execution_count": 22,
   "metadata": {},
   "outputs": [
    {
     "name": "stdout",
     "output_type": "stream",
     "text": [
      "Something is wrong\n",
      "still running\n"
     ]
    }
   ],
   "source": [
    "try:\n",
    "    c = b/a\n",
    "except:\n",
    "    print(\"Something is wrong\")\n",
    "\n",
    "print(\"still running\")"
   ]
  },
  {
   "cell_type": "code",
   "execution_count": 24,
   "metadata": {},
   "outputs": [
    {
     "name": "stdout",
     "output_type": "stream",
     "text": [
      "Please do not add string to integer\n",
      "program still running\n"
     ]
    }
   ],
   "source": [
    "a = 1\n",
    "\n",
    "try:\n",
    "    c = b/a\n",
    "    d = \"Anjana\" + 3\n",
    "except ZeroDivisionError:\n",
    "    print(\"Please do not divide by zero\")\n",
    "except TypeError:\n",
    "    print(\"Please do not add string to integer\")\n",
    "except:\n",
    "    print(\"Oh no...it can be divided, it's also not adding strings.... but still something is not running.....\")            \n",
    "\n",
    "print(\"program still running\")    "
   ]
  },
  {
   "cell_type": "markdown",
   "metadata": {},
   "source": [
    "Create a function accepting two numbers\n",
    "Divide the first number by the second number --> first / second()\n",
    "\n",
    "Try to capture the error - first, it's not a number, second, divide by zero"
   ]
  },
  {
   "cell_type": "code",
   "execution_count": 29,
   "metadata": {},
   "outputs": [
    {
     "name": "stdout",
     "output_type": "stream",
     "text": [
      "0.667\n"
     ]
    }
   ],
   "source": [
    "def devide(first, second):\n",
    "    try:\n",
    "        result = first / second\n",
    "    except ZeroDivisionError:\n",
    "        print(f\"The divisor should not be {second}\")\n",
    "        result = 0\n",
    "    except:\n",
    "        print(\"Something is wrong.  We gonna come back soon....\")\n",
    "        result = 0    \n",
    "    return result\n",
    "\n",
    "print(f\"{devide(2,3):.3f}\")        "
   ]
  },
  {
   "cell_type": "code",
   "execution_count": 32,
   "metadata": {},
   "outputs": [
    {
     "name": "stdout",
     "output_type": "stream",
     "text": [
      "The divisor should not be 0\n",
      "0\n"
     ]
    }
   ],
   "source": [
    "try:\n",
    "    first = int(input(\"Input num1\"))\n",
    "    second = int(input(\"Input num2\"))\n",
    "except ValueError:\n",
    "    print(\"Please give me only numbers. OK?\")\n",
    "except Exception as e:\n",
    "    print(f\"Something is wrong. Error: {e}\")   \n",
    "else:  #else must come after all the \"except\"; #else will be run when try is successful\n",
    "    print(devide(first, second))\n",
    "\n"
   ]
  },
  {
   "cell_type": "code",
   "execution_count": 33,
   "metadata": {},
   "outputs": [],
   "source": [
    "#to open file, use open()\n",
    "f = open(\"chaky.txt\", \"a+\")  #<-----when you open, it's only for readonly!!\n",
    "\n",
    "#four options you need to know\n",
    "#a => append\n",
    "#w => write (overwrite)\n",
    "#a+ ==> append and read\n",
    "#w+ ==> write(overwrite) and read"
   ]
  },
  {
   "cell_type": "code",
   "execution_count": 34,
   "metadata": {},
   "outputs": [
    {
     "name": "stdout",
     "output_type": "stream",
     "text": [
      "\n"
     ]
    }
   ],
   "source": [
    "#how to read?\n",
    "\n",
    "#two ways\n",
    "#1st way: read the whole thing using read()\n",
    "#print(f.read())  #it's already read!"
   ]
  },
  {
   "cell_type": "code",
   "execution_count": 38,
   "metadata": {},
   "outputs": [
    {
     "name": "stdout",
     "output_type": "stream",
     "text": [
      "\n",
      "\n"
     ]
    }
   ],
   "source": [
    "#2nd way: read line by line using readline()\n",
    "print(f.readline())\n",
    "x = f.readline()\n",
    "print(x)"
   ]
  },
  {
   "cell_type": "code",
   "execution_count": 40,
   "metadata": {},
   "outputs": [],
   "source": [
    "#how to write to a file?\n",
    "f.write(\"\\nHere is my new line\")\n",
    "#close\n",
    "f.close()"
   ]
  },
  {
   "cell_type": "code",
   "execution_count": 41,
   "metadata": {},
   "outputs": [
    {
     "ename": "FileNotFoundError",
     "evalue": "[Errno 2] No such file or directory: 'notexisting.txt'",
     "output_type": "error",
     "traceback": [
      "\u001b[0;31m---------------------------------------------------------------------------\u001b[0m",
      "\u001b[0;31mFileNotFoundError\u001b[0m                         Traceback (most recent call last)",
      "\u001b[1;32m/root/projects/Day6/Classes.ipynb Cell 22\u001b[0m in \u001b[0;36m<cell line: 1>\u001b[0;34m()\u001b[0m\n\u001b[0;32m----> <a href='vscode-notebook-cell://attached-container%2B7b22636f6e7461696e65724e616d65223a222f707974686f6e2d666f722d647361692d626f6f7463616d702d707974686f6e2d31227d/root/projects/Day6/Classes.ipynb#X35sdnNjb2RlLXJlbW90ZQ%3D%3D?line=0'>1</a>\u001b[0m f \u001b[39m=\u001b[39m \u001b[39mopen\u001b[39;49m(\u001b[39m\"\u001b[39;49m\u001b[39mnotexisting.txt\u001b[39;49m\u001b[39m\"\u001b[39;49m)\n",
      "\u001b[0;31mFileNotFoundError\u001b[0m: [Errno 2] No such file or directory: 'notexisting.txt'"
     ]
    }
   ],
   "source": [
    "f = open(\"notexisting.txt\")"
   ]
  },
  {
   "cell_type": "code",
   "execution_count": 42,
   "metadata": {},
   "outputs": [
    {
     "name": "stdout",
     "output_type": "stream",
     "text": [
      "The file does not exist!\n"
     ]
    }
   ],
   "source": [
    "try:\n",
    "    f = open(\"something.txt\")\n",
    "except FileNotFoundError:\n",
    "    print(\"The file does not exist!\")\n",
    "else:\n",
    "    for line in f:\n",
    "        print(f\"Line: {line}\")"
   ]
  },
  {
   "cell_type": "markdown",
   "metadata": {},
   "source": [
    "Let's first open the file for reading\n",
    "Print last line"
   ]
  },
  {
   "cell_type": "code",
   "execution_count": 43,
   "metadata": {},
   "outputs": [
    {
     "name": "stdout",
     "output_type": "stream",
     "text": [
      "Here is my new line\n"
     ]
    }
   ],
   "source": [
    "#in a situation of logging, we may want to print the last couple of lines of the logs\n",
    "\n",
    "#1st way\n",
    "try:\n",
    "    f = open(\"chaky.txt\")\n",
    "except FileNotFoundError:\n",
    "    print(\"The file does not exist\")\n",
    "else:\n",
    "    for line in f:\n",
    "        pass\n",
    "    print(line)"
   ]
  },
  {
   "cell_type": "code",
   "execution_count": 44,
   "metadata": {},
   "outputs": [
    {
     "name": "stdout",
     "output_type": "stream",
     "text": [
      "Here is my new line\n"
     ]
    }
   ],
   "source": [
    "#2nd way\n",
    "try:\n",
    "    f = open(\"chaky.txt\")\n",
    "except FileNotFoundError:\n",
    "    print(\"The file does not exist\")\n",
    "else:\n",
    "    lines = f.readlines()\n",
    "    print(lines[-1])  #readlines give you a list of line"
   ]
  },
  {
   "cell_type": "markdown",
   "metadata": {},
   "source": [
    "Exercise\n",
    "\n",
    "Create a file if not exists\n",
    "Write something to it\n",
    "Don't forget to call f.close() in order for the contents to appear...."
   ]
  },
  {
   "cell_type": "code",
   "execution_count": null,
   "metadata": {},
   "outputs": [],
   "source": [
    "try:\n",
    "    f = open(\"chaky.txt\", \"a+\")\n",
    "except Exception as e:\n",
    "    print(f\"Error: {e}\")\n",
    "else:\n",
    "    f.write(\"\\n Another new line\")\n",
    "    f.close()  #automatically flush whatever in the memory to the file\n",
    "    #f.flush()"
   ]
  }
 ],
 "metadata": {
  "kernelspec": {
   "display_name": "Python 3.8.10 ('.venv': pipenv)",
   "language": "python",
   "name": "python3"
  },
  "language_info": {
   "codemirror_mode": {
    "name": "ipython",
    "version": 3
   },
   "file_extension": ".py",
   "mimetype": "text/x-python",
   "name": "python",
   "nbconvert_exporter": "python",
   "pygments_lexer": "ipython3",
   "version": "3.8.10"
  },
  "orig_nbformat": 4,
  "vscode": {
   "interpreter": {
    "hash": "27768773b483d82a9b2b839e3fa80b1be5789db7fd78df4eedef2df266871616"
   }
  }
 },
 "nbformat": 4,
 "nbformat_minor": 2
}
