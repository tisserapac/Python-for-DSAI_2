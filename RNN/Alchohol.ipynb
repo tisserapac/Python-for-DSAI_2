{
 "cells": [
  {
   "cell_type": "markdown",
   "metadata": {},
   "source": [
    "# Sales of Alcohol Prediction using LSTM"
   ]
  },
  {
   "cell_type": "code",
   "execution_count": 1,
   "metadata": {},
   "outputs": [],
   "source": [
    "import torch\n",
    "import torch.nn as nn\n",
    "\n",
    "import numpy as np\n",
    "import pandas as pd\n",
    "import matplotlib.pyplot as plt"
   ]
  },
  {
   "cell_type": "code",
   "execution_count": 2,
   "metadata": {},
   "outputs": [],
   "source": [
    "device = torch.device(\"cuda\" if torch.cuda.is_available() else \"cpu\")"
   ]
  },
  {
   "cell_type": "markdown",
   "metadata": {},
   "source": [
    "## 1. ETL"
   ]
  },
  {
   "cell_type": "code",
   "execution_count": 4,
   "metadata": {},
   "outputs": [
    {
     "data": {
      "text/html": [
       "<div>\n",
       "<style scoped>\n",
       "    .dataframe tbody tr th:only-of-type {\n",
       "        vertical-align: middle;\n",
       "    }\n",
       "\n",
       "    .dataframe tbody tr th {\n",
       "        vertical-align: top;\n",
       "    }\n",
       "\n",
       "    .dataframe thead th {\n",
       "        text-align: right;\n",
       "    }\n",
       "</style>\n",
       "<table border=\"1\" class=\"dataframe\">\n",
       "  <thead>\n",
       "    <tr style=\"text-align: right;\">\n",
       "      <th></th>\n",
       "      <th>S4248SM144NCEN</th>\n",
       "    </tr>\n",
       "    <tr>\n",
       "      <th>DATE</th>\n",
       "      <th></th>\n",
       "    </tr>\n",
       "  </thead>\n",
       "  <tbody>\n",
       "    <tr>\n",
       "      <th>1992-01-01</th>\n",
       "      <td>3459</td>\n",
       "    </tr>\n",
       "    <tr>\n",
       "      <th>1992-02-01</th>\n",
       "      <td>3458</td>\n",
       "    </tr>\n",
       "    <tr>\n",
       "      <th>1992-03-01</th>\n",
       "      <td>4002</td>\n",
       "    </tr>\n",
       "    <tr>\n",
       "      <th>1992-04-01</th>\n",
       "      <td>4564</td>\n",
       "    </tr>\n",
       "    <tr>\n",
       "      <th>1992-05-01</th>\n",
       "      <td>4221</td>\n",
       "    </tr>\n",
       "  </tbody>\n",
       "</table>\n",
       "</div>"
      ],
      "text/plain": [
       "            S4248SM144NCEN\n",
       "DATE                      \n",
       "1992-01-01            3459\n",
       "1992-02-01            3458\n",
       "1992-03-01            4002\n",
       "1992-04-01            4564\n",
       "1992-05-01            4221"
      ]
     },
     "execution_count": 4,
     "metadata": {},
     "output_type": "execute_result"
    }
   ],
   "source": [
    "df = pd.read_csv('../data/Alcohol_Sales.csv', index_col = 0, parse_dates=True)\n",
    "df.head()"
   ]
  },
  {
   "cell_type": "code",
   "execution_count": 5,
   "metadata": {},
   "outputs": [
    {
     "data": {
      "text/plain": [
       "325"
      ]
     },
     "execution_count": 5,
     "metadata": {},
     "output_type": "execute_result"
    }
   ],
   "source": [
    "len(df)"
   ]
  },
  {
   "cell_type": "code",
   "execution_count": 6,
   "metadata": {},
   "outputs": [
    {
     "data": {
      "text/plain": [
       "Index(['Sales'], dtype='object')"
      ]
     },
     "execution_count": 6,
     "metadata": {},
     "output_type": "execute_result"
    }
   ],
   "source": [
    "df = df.rename(columns = {'S4248SM144NCEN': 'Sales'})\n",
    "df.columns"
   ]
  },
  {
   "cell_type": "markdown",
   "metadata": {},
   "source": [
    "## 2. EDA"
   ]
  },
  {
   "cell_type": "code",
   "execution_count": 7,
   "metadata": {},
   "outputs": [
    {
     "data": {
      "text/html": [
       "<div>\n",
       "<style scoped>\n",
       "    .dataframe tbody tr th:only-of-type {\n",
       "        vertical-align: middle;\n",
       "    }\n",
       "\n",
       "    .dataframe tbody tr th {\n",
       "        vertical-align: top;\n",
       "    }\n",
       "\n",
       "    .dataframe thead th {\n",
       "        text-align: right;\n",
       "    }\n",
       "</style>\n",
       "<table border=\"1\" class=\"dataframe\">\n",
       "  <thead>\n",
       "    <tr style=\"text-align: right;\">\n",
       "      <th></th>\n",
       "      <th>Sales</th>\n",
       "    </tr>\n",
       "    <tr>\n",
       "      <th>DATE</th>\n",
       "      <th></th>\n",
       "    </tr>\n",
       "  </thead>\n",
       "  <tbody>\n",
       "    <tr>\n",
       "      <th>1992-01-01</th>\n",
       "      <td>3459</td>\n",
       "    </tr>\n",
       "    <tr>\n",
       "      <th>1992-02-01</th>\n",
       "      <td>3458</td>\n",
       "    </tr>\n",
       "    <tr>\n",
       "      <th>1992-03-01</th>\n",
       "      <td>4002</td>\n",
       "    </tr>\n",
       "    <tr>\n",
       "      <th>1992-04-01</th>\n",
       "      <td>4564</td>\n",
       "    </tr>\n",
       "    <tr>\n",
       "      <th>1992-05-01</th>\n",
       "      <td>4221</td>\n",
       "    </tr>\n",
       "  </tbody>\n",
       "</table>\n",
       "</div>"
      ],
      "text/plain": [
       "            Sales\n",
       "DATE             \n",
       "1992-01-01   3459\n",
       "1992-02-01   3458\n",
       "1992-03-01   4002\n",
       "1992-04-01   4564\n",
       "1992-05-01   4221"
      ]
     },
     "execution_count": 7,
     "metadata": {},
     "output_type": "execute_result"
    }
   ],
   "source": [
    "df.head()"
   ]
  },
  {
   "cell_type": "code",
   "execution_count": 8,
   "metadata": {},
   "outputs": [
    {
     "data": {
      "text/plain": [
       "DatetimeIndex(['1992-01-01', '1992-02-01', '1992-03-01', '1992-04-01',\n",
       "               '1992-05-01', '1992-06-01', '1992-07-01', '1992-08-01',\n",
       "               '1992-09-01', '1992-10-01',\n",
       "               ...\n",
       "               '2018-04-01', '2018-05-01', '2018-06-01', '2018-07-01',\n",
       "               '2018-08-01', '2018-09-01', '2018-10-01', '2018-11-01',\n",
       "               '2018-12-01', '2019-01-01'],\n",
       "              dtype='datetime64[ns]', name='DATE', length=325, freq=None)"
      ]
     },
     "execution_count": 8,
     "metadata": {},
     "output_type": "execute_result"
    }
   ],
   "source": [
    "df.index"
   ]
  },
  {
   "cell_type": "code",
   "execution_count": 9,
   "metadata": {},
   "outputs": [
    {
     "data": {
      "image/png": "[encoded data removed]",
      "text/plain": [
       "<Figure size 432x288 with 1 Axes>"
      ]
     },
     "metadata": {
      "needs_background": "light"
     },
     "output_type": "display_data"
    }
   ],
   "source": [
    "plt.plot(df['Sales'])\n",
    "plt.grid()\n",
    "#optionally, you need title, xaxis, yaxis, etc....."
   ]
  },
  {
   "cell_type": "markdown",
   "metadata": {},
   "source": [
    "## 3. Feature Extraction"
   ]
  },
  {
   "cell_type": "code",
   "execution_count": 10,
   "metadata": {},
   "outputs": [
    {
     "data": {
      "text/plain": [
       "(325,)"
      ]
     },
     "execution_count": 10,
     "metadata": {},
     "output_type": "execute_result"
    }
   ],
   "source": [
    "y = df['Sales'].values.astype('float') #.values is basically getting numpy array of pandas\n",
    "y.shape"
   ]
  },
  {
   "cell_type": "code",
   "execution_count": 11,
   "metadata": {},
   "outputs": [],
   "source": [
    "#test size\n",
    "test_size = 10\n",
    "\n",
    "train_set = y[:-test_size]\n",
    "test_set  = y[-test_size:]"
   ]
  },
  {
   "cell_type": "code",
   "execution_count": 12,
   "metadata": {},
   "outputs": [
    {
     "data": {
      "text/plain": [
       "(315, 10)"
      ]
     },
     "execution_count": 12,
     "metadata": {},
     "output_type": "execute_result"
    }
   ],
   "source": [
    "len(train_set), len(test_set)"
   ]
  },
  {
   "cell_type": "markdown",
   "metadata": {},
   "source": [
    "## 4. Preprocessing\n",
    "\n",
    "In anything, for neural network, it's better to normalize, so to reach convergence faster....  Two ways are:\n",
    "1. Standardizing - normalize around the mean $\\displaystyle\\frac{x_i - \\mu}{\\sigma}$\n",
    "2. MinMax - $\\displaystyle\\frac{x_i - x_\\text{min}}{x_\\text{max} - x_\\text{min}}$\n",
    "\n",
    "In signal, we cannot the trust the mean, so minmax is better."
   ]
  },
  {
   "cell_type": "code",
   "execution_count": 13,
   "metadata": {},
   "outputs": [],
   "source": [
    "from sklearn.preprocessing import MinMaxScaler\n",
    "\n",
    "scaler = MinMaxScaler(feature_range=(-1, 1)) #by default 0, 1\n",
    "#for signal, -1 to 1 is a good way to normalize"
   ]
  },
  {
   "cell_type": "code",
   "execution_count": 14,
   "metadata": {},
   "outputs": [],
   "source": [
    "#to prevent data leakage, you only scale the train set independently of test set\n",
    "#scaler.fit_transform((m, n))\n",
    "train_minmax = scaler.fit_transform(train_set.reshape(-1, 1))"
   ]
  },
  {
   "cell_type": "code",
   "execution_count": 15,
   "metadata": {},
   "outputs": [
    {
     "data": {
      "text/plain": [
       "(-1.0, 1.0, -0.20000108542719033)"
      ]
     },
     "execution_count": 15,
     "metadata": {},
     "output_type": "execute_result"
    }
   ],
   "source": [
    "train_minmax.min(), train_minmax.max(), train_minmax.mean()"
   ]
  },
  {
   "cell_type": "code",
   "execution_count": 16,
   "metadata": {},
   "outputs": [],
   "source": [
    "train_minmax = torch.FloatTensor(train_minmax).reshape(-1)"
   ]
  },
  {
   "cell_type": "markdown",
   "metadata": {},
   "source": [
    "## 5. Create our batch creator"
   ]
  },
  {
   "cell_type": "code",
   "execution_count": 17,
   "metadata": {},
   "outputs": [],
   "source": [
    "window_size = 10\n",
    "\n",
    "def input_data(seq, window_size, label_size=1):\n",
    "    out = []\n",
    "    total_length = len(seq)\n",
    "    for i in range(total_length-window_size):  #if not, we will go out of bound\n",
    "        window = seq[i:i+window_size]\n",
    "        label  = seq[i+window_size:i+window_size+label_size]\n",
    "        out.append((window, label))\n",
    "    return out\n",
    "\n",
    "#question: if my window is 10, label size is 1, my seq is ???\n",
    "#        :  then what is the shape of out??? "
   ]
  },
  {
   "cell_type": "code",
   "execution_count": 18,
   "metadata": {},
   "outputs": [
    {
     "data": {
      "text/plain": [
       "305"
      ]
     },
     "execution_count": 18,
     "metadata": {},
     "output_type": "execute_result"
    }
   ],
   "source": [
    "train_data = input_data(train_minmax, window_size)\n",
    "len(train_data)"
   ]
  },
  {
   "cell_type": "code",
   "execution_count": 19,
   "metadata": {},
   "outputs": [
    {
     "data": {
      "text/plain": [
       "(tensor([-0.9268, -0.9270, -0.8340, -0.7379, -0.7966, -0.7439, -0.7547, -0.8109,\n",
       "         -0.8128, -0.7901]),\n",
       " tensor([-0.7933]))"
      ]
     },
     "execution_count": 19,
     "metadata": {},
     "output_type": "execute_result"
    }
   ],
   "source": [
    "train_data[0] #sample should be simply (10)"
   ]
  },
  {
   "cell_type": "markdown",
   "metadata": {},
   "source": [
    "## 6. Define the model"
   ]
  },
  {
   "cell_type": "code",
   "execution_count": 20,
   "metadata": {},
   "outputs": [],
   "source": [
    "class chakyLSTM(nn.Module):\n",
    "    #why out_size = 1, because later on, we will label_size = 1\n",
    "    def __init__(self, input_size = 1, hidden_size=100, out_size=1):\n",
    "        super().__init__()\n",
    "        self.hidden_size = hidden_size\n",
    "        \n",
    "        self.lstm   = nn.LSTM(input_size, hidden_size)\n",
    "        self.linear = nn.Linear(hidden_size, out_size) #taking the last hidden state\n",
    "        \n",
    "        #optional\n",
    "        #h0, c0\n",
    "        #(D*num layer, N, Hin)\n",
    "        self.hidden = (torch.zeros(1, 1, hidden_size).to(device),\n",
    "                       torch.zeros(1, 1, hidden_size).to(device))\n",
    "        \n",
    "    def forward(self, seq):\n",
    "        #seq shape: (10)\n",
    "        seq = seq.reshape(len(seq), 1, -1)\n",
    "        #seq shape: (10, 1, 1)\n",
    "        out, (_, _) = self.lstm(seq, self.hidden) #you don't need self.hidden\n",
    "        #out shape: (L, N, Hout * D) ==> (10, 1, 100)\n",
    "        out = out[-1, :, :] #(B, Hout)\n",
    "        #out shape: (1, 100)\n",
    "        out = self.linear(out)\n",
    "        #out shape: (1, 1)\n",
    "        return out\n",
    "        "
   ]
  },
  {
   "cell_type": "markdown",
   "metadata": {},
   "source": [
    "## 7. Training!!"
   ]
  },
  {
   "cell_type": "code",
   "execution_count": 21,
   "metadata": {},
   "outputs": [],
   "source": [
    "torch.manual_seed(999999)\n",
    "model = chakyLSTM().to(device)\n",
    "\n",
    "criterion = nn.MSELoss()\n",
    "optimizer = torch.optim.Adam(model.parameters(), lr=0.001)"
   ]
  },
  {
   "cell_type": "code",
   "execution_count": 22,
   "metadata": {},
   "outputs": [
    {
     "name": "stdout",
     "output_type": "stream",
     "text": [
      "   400\n",
      " 40000\n",
      "   400\n",
      "   400\n",
      "   100\n",
      "     1\n",
      "______\n",
      " 41301\n"
     ]
    }
   ],
   "source": [
    "def count_parameters(model):\n",
    "    params = [p.numel() for p in model.parameters() if p.requires_grad]\n",
    "    for item in params:\n",
    "        print(f'{item:>6}')\n",
    "    print(f'______\\n{sum(params):>6}')\n",
    "    \n",
    "count_parameters(model) #why 400?, why 40000????"
   ]
  },
  {
   "cell_type": "code",
   "execution_count": 26,
   "metadata": {},
   "outputs": [
    {
     "name": "stdout",
     "output_type": "stream",
     "text": [
      "Epoch:  0 - Loss: 0.00139\n",
      "Epoch:  1 - Loss: 0.00310\n",
      "Epoch:  2 - Loss: 0.00816\n",
      "Epoch:  3 - Loss: 0.00687\n",
      "Epoch:  4 - Loss: 0.00445\n"
     ]
    }
   ],
   "source": [
    "#epochs = 50\n",
    "epochs = 5\n",
    "\n",
    "for e in range(epochs):\n",
    "    \n",
    "    for seq, ytrain in train_data:\n",
    "        #seq: (10, ); target: (1, )\n",
    "        \n",
    "        seq = seq.to(device)\n",
    "        ytrain = ytrain.to(device)\n",
    "        \n",
    "        # Reset the hidden parameters\n",
    "        model.hidden = (torch.zeros(1,1,model.hidden_size).to(device),\n",
    "                        torch.zeros(1,1,model.hidden_size).to(device))\n",
    "        \n",
    "        yhat = model(seq) #1. predict\n",
    "        yhat = yhat.reshape(-1) #I think you don't need this\n",
    "        loss = criterion(yhat, ytrain) #2. loss\n",
    "        optimizer.zero_grad() #3. clear gradients\n",
    "        loss.backward()  #4. backpropagate\n",
    "        optimizer.step() #5. update\n",
    "    \n",
    "    #if e % 10 == 0:\n",
    "    #    print(f'Epoch: {e:2.0f} - Loss: {loss:.5f}')\n",
    "    if e % 1 == 0:\n",
    "        print(f'Epoch: {e:2.0f} - Loss: {loss:.5f}')"
   ]
  },
  {
   "cell_type": "markdown",
   "metadata": {},
   "source": [
    "## 8. Plot the loss\n",
    "Skip for brevity"
   ]
  },
  {
   "cell_type": "markdown",
   "metadata": {},
   "source": [
    "## 9. Inference"
   ]
  },
  {
   "cell_type": "code",
   "execution_count": 29,
   "metadata": {},
   "outputs": [
    {
     "data": {
      "text/plain": [
       "[0.5775477886199951,\n",
       " 0.5767274498939514,\n",
       " 0.5830810070037842,\n",
       " 0.5829794406890869,\n",
       " 0.5869259238243103,\n",
       " 0.588081419467926,\n",
       " 0.5872154235839844,\n",
       " 0.5829313397407532,\n",
       " 0.5936740636825562,\n",
       " 0.6008546948432922]"
      ]
     },
     "execution_count": 29,
     "metadata": {},
     "output_type": "execute_result"
    }
   ],
   "source": [
    "future = window_size\n",
    "\n",
    "#prepare a list of predictions and append on this list\n",
    "preds = train_minmax[-window_size:].tolist()\n",
    "\n",
    "#usually we do with torch.no_grad():\n",
    "model.eval() #same effect as no_grad(): all gradients are turned off; dropout and batchnorm off...\n",
    "#i just read the documentation and double check\n",
    "#model.eval() turns off dropout and batchnorm during testing, but not gradients\n",
    "\n",
    "for _ in range(future):\n",
    "    #act as the current train\n",
    "    seq = torch.FloatTensor(preds[-window_size:]).to(device)\n",
    "    with torch.no_grad():\n",
    "        # Reset the hidden parameters\n",
    "        model.hidden = (torch.zeros(1,1,model.hidden_size).to(device),\n",
    "                        torch.zeros(1,1,model.hidden_size).to(device))\n",
    "        yhat = model(seq)\n",
    "        yhat = yhat.reshape(-1)\n",
    "        preds.append(yhat.item())\n",
    "        \n",
    "preds[-window_size:]\n",
    "    "
   ]
  },
  {
   "cell_type": "code",
   "execution_count": 30,
   "metadata": {},
   "outputs": [
    {
     "data": {
      "text/plain": [
       "array([11919., 14138., 14583., 12640., 14257., 12396., 13914., 14174.,\n",
       "       15504., 10718.])"
      ]
     },
     "execution_count": 30,
     "metadata": {},
     "output_type": "execute_result"
    }
   ],
   "source": [
    "test_set"
   ]
  },
  {
   "cell_type": "markdown",
   "metadata": {},
   "source": [
    "## 10. Denormalize our data!"
   ]
  },
  {
   "cell_type": "code",
   "execution_count": 31,
   "metadata": {},
   "outputs": [
    {
     "data": {
      "text/plain": [
       "MinMaxScaler(feature_range=(-1, 1))"
      ]
     },
     "execution_count": 31,
     "metadata": {},
     "output_type": "execute_result"
    }
   ],
   "source": [
    "scaler #it already fit, so it knows how to inverse"
   ]
  },
  {
   "cell_type": "code",
   "execution_count": 32,
   "metadata": {},
   "outputs": [],
   "source": [
    "preds_real = scaler.inverse_transform(np.array(preds).reshape(-1, 1))"
   ]
  },
  {
   "cell_type": "code",
   "execution_count": 33,
   "metadata": {},
   "outputs": [
    {
     "data": {
      "text/plain": [
       "array([[12258.86578953],\n",
       "       [12254.06721815],\n",
       "       [12291.23235047],\n",
       "       [12290.63823831],\n",
       "       [12313.72319141],\n",
       "       [12320.48226318],\n",
       "       [12315.41662025],\n",
       "       [12290.35687181],\n",
       "       [12353.19643551],\n",
       "       [12395.19953749]])"
      ]
     },
     "execution_count": 33,
     "metadata": {},
     "output_type": "execute_result"
    }
   ],
   "source": [
    "preds_real[-window_size:]"
   ]
  },
  {
   "cell_type": "code",
   "execution_count": 34,
   "metadata": {},
   "outputs": [
    {
     "data": {
      "text/plain": [
       "array([11919., 14138., 14583., 12640., 14257., 12396., 13914., 14174.,\n",
       "       15504., 10718.])"
      ]
     },
     "execution_count": 34,
     "metadata": {},
     "output_type": "execute_result"
    }
   ],
   "source": [
    "test_set"
   ]
  },
  {
   "cell_type": "code",
   "execution_count": null,
   "metadata": {},
   "outputs": [],
   "source": []
  }
 ],
 "metadata": {
  "kernelspec": {
   "display_name": "Python 3 (ipykernel)",
   "language": "python",
   "name": "python3"
  },
  "language_info": {
   "codemirror_mode": {
    "name": "ipython",
    "version": 3
   },
   "file_extension": ".py",
   "mimetype": "text/x-python",
   "name": "python",
   "nbconvert_exporter": "python",
   "pygments_lexer": "ipython3",
   "version": "3.9.12"
  },
  "vscode": {
   "interpreter": {
    "hash": "becc4c8e5ad229b2591d820334d85e3db0111492344629bf57f272470dce75a5"
   }
  }
 },
 "nbformat": 4,
 "nbformat_minor": 2
}
