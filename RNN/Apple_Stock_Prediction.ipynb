{
 "cells": [
  {
   "cell_type": "code",
   "execution_count": 66,
   "id": "74b12b46",
   "metadata": {},
   "outputs": [],
   "source": [
    "import torch\n",
    "import torch.nn as nn\n",
    "\n",
    "import numpy as np\n",
    "import pandas as pd\n",
    "import matplotlib.pyplot as plt"
   ]
  },
  {
   "cell_type": "markdown",
   "id": "75c1eccb",
   "metadata": {},
   "source": [
    "## 1. ETL"
   ]
  },
  {
   "cell_type": "code",
   "execution_count": 67,
   "id": "ebe765eb",
   "metadata": {},
   "outputs": [
    {
     "data": {
      "text/html": [
       "<div>\n",
       "<style scoped>\n",
       "    .dataframe tbody tr th:only-of-type {\n",
       "        vertical-align: middle;\n",
       "    }\n",
       "\n",
       "    .dataframe tbody tr th {\n",
       "        vertical-align: top;\n",
       "    }\n",
       "\n",
       "    .dataframe thead th {\n",
       "        text-align: right;\n",
       "    }\n",
       "</style>\n",
       "<table border=\"1\" class=\"dataframe\">\n",
       "  <thead>\n",
       "    <tr style=\"text-align: right;\">\n",
       "      <th></th>\n",
       "      <th>Open</th>\n",
       "      <th>High</th>\n",
       "      <th>Low</th>\n",
       "      <th>Close</th>\n",
       "      <th>Volume</th>\n",
       "      <th>Adj Close</th>\n",
       "    </tr>\n",
       "    <tr>\n",
       "      <th>Date</th>\n",
       "      <th></th>\n",
       "      <th></th>\n",
       "      <th></th>\n",
       "      <th></th>\n",
       "      <th></th>\n",
       "      <th></th>\n",
       "    </tr>\n",
       "  </thead>\n",
       "  <tbody>\n",
       "    <tr>\n",
       "      <th>2014-07-08</th>\n",
       "      <td>96.27</td>\n",
       "      <td>96.80</td>\n",
       "      <td>93.92</td>\n",
       "      <td>95.35</td>\n",
       "      <td>65130000</td>\n",
       "      <td>95.35</td>\n",
       "    </tr>\n",
       "    <tr>\n",
       "      <th>2014-07-07</th>\n",
       "      <td>94.14</td>\n",
       "      <td>95.99</td>\n",
       "      <td>94.10</td>\n",
       "      <td>95.97</td>\n",
       "      <td>56305400</td>\n",
       "      <td>95.97</td>\n",
       "    </tr>\n",
       "    <tr>\n",
       "      <th>2014-07-03</th>\n",
       "      <td>93.67</td>\n",
       "      <td>94.10</td>\n",
       "      <td>93.20</td>\n",
       "      <td>94.03</td>\n",
       "      <td>22891800</td>\n",
       "      <td>94.03</td>\n",
       "    </tr>\n",
       "    <tr>\n",
       "      <th>2014-07-02</th>\n",
       "      <td>93.87</td>\n",
       "      <td>94.06</td>\n",
       "      <td>93.09</td>\n",
       "      <td>93.48</td>\n",
       "      <td>28420900</td>\n",
       "      <td>93.48</td>\n",
       "    </tr>\n",
       "    <tr>\n",
       "      <th>2014-07-01</th>\n",
       "      <td>93.52</td>\n",
       "      <td>94.07</td>\n",
       "      <td>93.13</td>\n",
       "      <td>93.52</td>\n",
       "      <td>38170200</td>\n",
       "      <td>93.52</td>\n",
       "    </tr>\n",
       "  </tbody>\n",
       "</table>\n",
       "</div>"
      ],
      "text/plain": [
       "             Open   High    Low  Close    Volume  Adj Close\n",
       "Date                                                       \n",
       "2014-07-08  96.27  96.80  93.92  95.35  65130000      95.35\n",
       "2014-07-07  94.14  95.99  94.10  95.97  56305400      95.97\n",
       "2014-07-03  93.67  94.10  93.20  94.03  22891800      94.03\n",
       "2014-07-02  93.87  94.06  93.09  93.48  28420900      93.48\n",
       "2014-07-01  93.52  94.07  93.13  93.52  38170200      93.52"
      ]
     },
     "execution_count": 67,
     "metadata": {},
     "output_type": "execute_result"
    }
   ],
   "source": [
    "df = pd.read_csv('appl_1980_2014.csv', index_col = 0, parse_dates=True)\n",
    "df.head()"
   ]
  },
  {
   "cell_type": "code",
   "execution_count": 68,
   "id": "e664d502",
   "metadata": {},
   "outputs": [],
   "source": [
    "#delete all the columns, use only Close\n",
    "#today task: by 16:00, make a prediction\n",
    "#use whatever window_size you want\n",
    "#submit Google Classroom"
   ]
  },
  {
   "cell_type": "markdown",
   "id": "0e2c9b23",
   "metadata": {},
   "source": [
    "## 2. EDA"
   ]
  },
  {
   "cell_type": "code",
   "execution_count": 69,
   "id": "71a5252a",
   "metadata": {},
   "outputs": [
    {
     "data": {
      "text/plain": [
       "8465"
      ]
     },
     "execution_count": 69,
     "metadata": {},
     "output_type": "execute_result"
    }
   ],
   "source": [
    "len(df)"
   ]
  },
  {
   "cell_type": "code",
   "execution_count": 70,
   "id": "11b73ba9",
   "metadata": {},
   "outputs": [],
   "source": [
    "df.drop('Open', inplace=True, axis=1)\n",
    "df.drop('High', inplace=True, axis=1)\n",
    "df.drop('Low', inplace=True, axis=1)\n",
    "df.drop('Volume', inplace=True, axis=1)\n",
    "df.drop('Adj Close', inplace=True, axis=1)"
   ]
  },
  {
   "cell_type": "code",
   "execution_count": 71,
   "id": "09eb6461",
   "metadata": {},
   "outputs": [
    {
     "data": {
      "text/html": [
       "<div>\n",
       "<style scoped>\n",
       "    .dataframe tbody tr th:only-of-type {\n",
       "        vertical-align: middle;\n",
       "    }\n",
       "\n",
       "    .dataframe tbody tr th {\n",
       "        vertical-align: top;\n",
       "    }\n",
       "\n",
       "    .dataframe thead th {\n",
       "        text-align: right;\n",
       "    }\n",
       "</style>\n",
       "<table border=\"1\" class=\"dataframe\">\n",
       "  <thead>\n",
       "    <tr style=\"text-align: right;\">\n",
       "      <th></th>\n",
       "      <th>Close</th>\n",
       "    </tr>\n",
       "    <tr>\n",
       "      <th>Date</th>\n",
       "      <th></th>\n",
       "    </tr>\n",
       "  </thead>\n",
       "  <tbody>\n",
       "    <tr>\n",
       "      <th>2014-07-08</th>\n",
       "      <td>95.35</td>\n",
       "    </tr>\n",
       "    <tr>\n",
       "      <th>2014-07-07</th>\n",
       "      <td>95.97</td>\n",
       "    </tr>\n",
       "    <tr>\n",
       "      <th>2014-07-03</th>\n",
       "      <td>94.03</td>\n",
       "    </tr>\n",
       "    <tr>\n",
       "      <th>2014-07-02</th>\n",
       "      <td>93.48</td>\n",
       "    </tr>\n",
       "    <tr>\n",
       "      <th>2014-07-01</th>\n",
       "      <td>93.52</td>\n",
       "    </tr>\n",
       "  </tbody>\n",
       "</table>\n",
       "</div>"
      ],
      "text/plain": [
       "            Close\n",
       "Date             \n",
       "2014-07-08  95.35\n",
       "2014-07-07  95.97\n",
       "2014-07-03  94.03\n",
       "2014-07-02  93.48\n",
       "2014-07-01  93.52"
      ]
     },
     "execution_count": 71,
     "metadata": {},
     "output_type": "execute_result"
    }
   ],
   "source": [
    "df.head()"
   ]
  },
  {
   "cell_type": "code",
   "execution_count": 72,
   "id": "88027c4c",
   "metadata": {},
   "outputs": [
    {
     "data": {
      "image/png": "[encoded data removed]",
      "text/plain": [
       "<Figure size 432x288 with 1 Axes>"
      ]
     },
     "metadata": {
      "needs_background": "light"
     },
     "output_type": "display_data"
    }
   ],
   "source": [
    "plt.plot(df['Close'])\n",
    "plt.grid()"
   ]
  },
  {
   "cell_type": "markdown",
   "id": "bec61030",
   "metadata": {},
   "source": [
    "## 3. Feature Extraction"
   ]
  },
  {
   "cell_type": "code",
   "execution_count": 73,
   "id": "7b1009a4",
   "metadata": {},
   "outputs": [
    {
     "data": {
      "text/plain": [
       "(8465,)"
      ]
     },
     "execution_count": 73,
     "metadata": {},
     "output_type": "execute_result"
    }
   ],
   "source": [
    "y = df['Close'].values.astype('float')\n",
    "y.shape"
   ]
  },
  {
   "cell_type": "code",
   "execution_count": 74,
   "id": "8e152fee",
   "metadata": {},
   "outputs": [],
   "source": [
    "test_size = 10\n",
    "\n",
    "train_set = y[:-test_size]\n",
    "test_set  = y[-test_size:]"
   ]
  },
  {
   "cell_type": "code",
   "execution_count": 75,
   "id": "c09bf7d5",
   "metadata": {},
   "outputs": [
    {
     "data": {
      "text/plain": [
       "(8455, 10)"
      ]
     },
     "execution_count": 75,
     "metadata": {},
     "output_type": "execute_result"
    }
   ],
   "source": [
    "len(train_set), len(test_set)"
   ]
  },
  {
   "cell_type": "markdown",
   "id": "4f815016",
   "metadata": {},
   "source": [
    "## 4. Preprocessing"
   ]
  },
  {
   "cell_type": "code",
   "execution_count": 76,
   "id": "a7e2c422",
   "metadata": {},
   "outputs": [],
   "source": [
    "from sklearn.preprocessing import MinMaxScaler\n",
    "\n",
    "scaler = MinMaxScaler(feature_range=(-1, 1))"
   ]
  },
  {
   "cell_type": "code",
   "execution_count": 77,
   "id": "c6ce7a27",
   "metadata": {},
   "outputs": [],
   "source": [
    "train_minmax = scaler.fit_transform(train_set.reshape(-1, 1))"
   ]
  },
  {
   "cell_type": "code",
   "execution_count": 78,
   "id": "c799d111",
   "metadata": {},
   "outputs": [],
   "source": [
    "train_minmax = torch.FloatTensor(train_minmax).reshape(-1)"
   ]
  },
  {
   "cell_type": "code",
   "execution_count": 79,
   "id": "c0538944",
   "metadata": {},
   "outputs": [
    {
     "data": {
      "text/plain": [
       "(tensor(-1.), tensor(1.), tensor(-0.7464))"
      ]
     },
     "execution_count": 79,
     "metadata": {},
     "output_type": "execute_result"
    }
   ],
   "source": [
    "train_minmax.min(), train_minmax.max(), train_minmax.mean()"
   ]
  },
  {
   "cell_type": "code",
   "execution_count": 80,
   "id": "366112c5",
   "metadata": {},
   "outputs": [],
   "source": [
    "train_minmax = torch.FloatTensor(train_minmax).reshape(-1)"
   ]
  },
  {
   "cell_type": "markdown",
   "id": "fdceae6c",
   "metadata": {},
   "source": [
    "## 5. Create the batch creator"
   ]
  },
  {
   "cell_type": "code",
   "execution_count": 81,
   "id": "56ad9ea0",
   "metadata": {},
   "outputs": [],
   "source": [
    "window_size = 10\n",
    "\n",
    "def input_data(seq, window_size, label_size=1):\n",
    "    out = []\n",
    "    total_length = len(seq)\n",
    "    for i in range(total_length-window_size):  #if not, we will go out of bound\n",
    "        window = seq[i:i+window_size]\n",
    "        label  = seq[i+window_size:i+window_size+label_size]\n",
    "        out.append((window, label))\n",
    "    return out"
   ]
  },
  {
   "cell_type": "code",
   "execution_count": 82,
   "id": "b78380e0",
   "metadata": {},
   "outputs": [
    {
     "data": {
      "text/plain": [
       "8445"
      ]
     },
     "execution_count": 82,
     "metadata": {},
     "output_type": "execute_result"
    }
   ],
   "source": [
    "train_data = input_data(train_minmax, window_size)\n",
    "len(train_data)"
   ]
  },
  {
   "cell_type": "code",
   "execution_count": 83,
   "id": "f738e4fe",
   "metadata": {},
   "outputs": [
    {
     "data": {
      "text/plain": [
       "(tensor([-0.7559, -0.7541, -0.7597, -0.7613, -0.7612, -0.7629, -0.7656, -0.7688,\n",
       "         -0.7703, -0.7706]),\n",
       " tensor([-0.7690]))"
      ]
     },
     "execution_count": 83,
     "metadata": {},
     "output_type": "execute_result"
    }
   ],
   "source": [
    "train_data[0]"
   ]
  },
  {
   "cell_type": "markdown",
   "id": "8978e249",
   "metadata": {},
   "source": [
    "## 6. Define the model"
   ]
  },
  {
   "cell_type": "code",
   "execution_count": 84,
   "id": "f2395f03",
   "metadata": {},
   "outputs": [],
   "source": [
    "class chakyLSTM(nn.Module):\n",
    "    #why out_size = 1, because later on, we will label_size = 1\n",
    "    def __init__(self, input_size = 1, hidden_size=100, out_size=1):\n",
    "        super().__init__()\n",
    "        self.hidden_size = hidden_size\n",
    "        \n",
    "        self.lstm   = nn.LSTM(input_size, hidden_size)\n",
    "        self.linear = nn.Linear(hidden_size, out_size) #taking the last hidden state\n",
    "        \n",
    "        #optional\n",
    "        #h0, c0\n",
    "        #(D*num layer, N, Hin)\n",
    "        self.hidden = (torch.zeros(1, 1, hidden_size),\n",
    "                       torch.zeros(1, 1, hidden_size))\n",
    "        \n",
    "    def forward(self, seq):\n",
    "        #seq shape: (10)\n",
    "        seq = seq.reshape(len(seq), 1, -1)\n",
    "        #seq shape: (10, 1, 1)\n",
    "        out, (_, _) = self.lstm(seq, self.hidden) #you don't need self.hidden\n",
    "        #out shape: (L, N, Hout * D) ==> (10, 1, 100)\n",
    "        out = out[-1, :, :] #(B, Hout)\n",
    "        #out shape: (1, 100)\n",
    "        out = self.linear(out)\n",
    "        #out shape: (1, 1)\n",
    "        return out"
   ]
  },
  {
   "cell_type": "markdown",
   "id": "6188abc9",
   "metadata": {},
   "source": [
    "## 7. Training"
   ]
  },
  {
   "cell_type": "code",
   "execution_count": 85,
   "id": "85baba9a",
   "metadata": {},
   "outputs": [],
   "source": [
    "torch.manual_seed(999)\n",
    "model = chakyLSTM()\n",
    "\n",
    "criterion = nn.MSELoss()\n",
    "optimizer = torch.optim.Adam(model.parameters(), lr=0.001)"
   ]
  },
  {
   "cell_type": "code",
   "execution_count": 86,
   "id": "74160232",
   "metadata": {},
   "outputs": [
    {
     "name": "stdout",
     "output_type": "stream",
     "text": [
      "   400\n",
      " 40000\n",
      "   400\n",
      "   400\n",
      "   100\n",
      "     1\n",
      "______\n",
      " 41301\n"
     ]
    }
   ],
   "source": [
    "def count_parameters(model):\n",
    "    params = [p.numel() for p in model.parameters() if p.requires_grad]\n",
    "    for item in params:\n",
    "        print(f'{item:>6}')\n",
    "    print(f'______\\n{sum(params):>6}')\n",
    "    \n",
    "count_parameters(model)"
   ]
  },
  {
   "cell_type": "code",
   "execution_count": 87,
   "id": "6b9ce837",
   "metadata": {},
   "outputs": [
    {
     "name": "stdout",
     "output_type": "stream",
     "text": [
      "Epoch:  0 - Loss: 5.033376737628714e-08\n",
      "Epoch:  1 - Loss: 4.6412769734160975e-05\n",
      "Epoch:  2 - Loss: 4.203107164357789e-05\n",
      "Epoch:  3 - Loss: 2.2694754079566337e-05\n",
      "Epoch:  4 - Loss: 2.0826171748922206e-05\n",
      "Epoch:  5 - Loss: 2.3565860374219483e-06\n",
      "Epoch:  6 - Loss: 8.960162745097477e-07\n",
      "Epoch:  7 - Loss: 1.3410171959549189e-05\n",
      "Epoch:  8 - Loss: 1.8915816326625645e-05\n",
      "Epoch:  9 - Loss: 3.14124881697353e-05\n"
     ]
    }
   ],
   "source": [
    "epochs = 10\n",
    "loss_vals = []\n",
    "\n",
    "for e in range(epochs):\n",
    "    \n",
    "    for seq, ytrain in train_data:\n",
    "        #seq: (10, ); target: (1, )\n",
    "        \n",
    "        yhat = model(seq) #1. predict\n",
    "        yhat = yhat.reshape(-1) #I think you don't need this\n",
    "        loss = criterion(yhat, ytrain) #2. loss\n",
    "        loss_vals.append(loss.item())\n",
    "        optimizer.zero_grad() #3. clear gradients\n",
    "        loss.backward()  #4. backpropagate\n",
    "        optimizer.step() #5. update\n",
    "    \n",
    "    print(f'Epoch: {e:2.0f} - Loss: {loss}')"
   ]
  },
  {
   "cell_type": "code",
   "execution_count": 94,
   "id": "3581b563",
   "metadata": {},
   "outputs": [],
   "source": [
    "#loss_vals"
   ]
  },
  {
   "cell_type": "markdown",
   "id": "cc08257c",
   "metadata": {},
   "source": [
    "## 8. Plot the loss"
   ]
  },
  {
   "cell_type": "code",
   "execution_count": 95,
   "id": "4b3fd391",
   "metadata": {},
   "outputs": [
    {
     "data": {
      "image/png": "[encoded data removed]",
      "text/plain": [
       "<Figure size 432x288 with 1 Axes>"
      ]
     },
     "metadata": {
      "needs_background": "light"
     },
     "output_type": "display_data"
    }
   ],
   "source": [
    "plt.plot(loss_vals)\n",
    "plt.grid()"
   ]
  },
  {
   "cell_type": "markdown",
   "id": "3b12563d",
   "metadata": {},
   "source": [
    "## 9. Inference"
   ]
  },
  {
   "cell_type": "code",
   "execution_count": 88,
   "id": "0377d590",
   "metadata": {},
   "outputs": [
    {
     "data": {
      "text/plain": [
       "[-0.9294388294219971,\n",
       " -0.930277407169342,\n",
       " -0.9300442337989807,\n",
       " -0.929993212223053,\n",
       " -0.9299883842468262,\n",
       " -0.9299923777580261,\n",
       " -0.9299954175949097,\n",
       " -0.9299981594085693,\n",
       " -0.9299983382225037,\n",
       " -0.9299976825714111]"
      ]
     },
     "execution_count": 88,
     "metadata": {},
     "output_type": "execute_result"
    }
   ],
   "source": [
    "future = window_size\n",
    "\n",
    "#prepare a list of predictions and append on this list\n",
    "preds = train_minmax[-window_size:].tolist()\n",
    "\n",
    "#usually we do with torch.no_grad():\n",
    "model.eval() #same effect as no_grad(): all gradients are turned off; dropout and batchnorm off...\n",
    "#i just read the documentation and double check\n",
    "#model.eval() turns off dropout and batchnorm during testing, but not gradients\n",
    "\n",
    "for _ in range(future):\n",
    "    #act as the current train\n",
    "    seq = torch.FloatTensor(preds[-window_size:])\n",
    "    with torch.no_grad():\n",
    "        yhat = model(seq)\n",
    "        yhat = yhat.reshape(-1)\n",
    "        preds.append(yhat.item())\n",
    "        \n",
    "preds[-window_size:]"
   ]
  },
  {
   "cell_type": "code",
   "execution_count": 89,
   "id": "4b4276d3",
   "metadata": {},
   "outputs": [
    {
     "data": {
      "text/plain": [
       "array([35.5 , 32.5 , 30.88, 29.63, 28.25, 26.63, 25.87, 25.25, 27.25,\n",
       "       28.75])"
      ]
     },
     "execution_count": 89,
     "metadata": {},
     "output_type": "execute_result"
    }
   ],
   "source": [
    "test_set"
   ]
  },
  {
   "cell_type": "code",
   "execution_count": 90,
   "id": "bf918ebf",
   "metadata": {},
   "outputs": [],
   "source": [
    "preds_real = scaler.inverse_transform(np.array(preds).reshape(-1, 1))"
   ]
  },
  {
   "cell_type": "code",
   "execution_count": 91,
   "id": "f86f0f17",
   "metadata": {},
   "outputs": [
    {
     "data": {
      "text/plain": [
       "array([[35.38241249],\n",
       "       [35.09264195],\n",
       "       [35.17321501],\n",
       "       [35.19084552],\n",
       "       [35.19251382],\n",
       "       [35.19113387],\n",
       "       [35.19008345],\n",
       "       [35.18913602],\n",
       "       [35.18907423],\n",
       "       [35.18930079]])"
      ]
     },
     "execution_count": 91,
     "metadata": {},
     "output_type": "execute_result"
    }
   ],
   "source": [
    "preds_real[-window_size:]"
   ]
  },
  {
   "cell_type": "code",
   "execution_count": 92,
   "id": "59f73aea",
   "metadata": {},
   "outputs": [
    {
     "data": {
      "text/plain": [
       "array([35.5 , 32.5 , 30.88, 29.63, 28.25, 26.63, 25.87, 25.25, 27.25,\n",
       "       28.75])"
      ]
     },
     "execution_count": 92,
     "metadata": {},
     "output_type": "execute_result"
    }
   ],
   "source": [
    "test_set"
   ]
  },
  {
   "cell_type": "code",
   "execution_count": 100,
   "id": "54c2b690",
   "metadata": {},
   "outputs": [
    {
     "data": {
      "text/plain": [
       "DatetimeIndex(['1980-12-26', '1980-12-24', '1980-12-23', '1980-12-22',\n",
       "               '1980-12-19', '1980-12-18', '1980-12-17', '1980-12-16',\n",
       "               '1980-12-15', '1980-12-12'],\n",
       "              dtype='datetime64[ns]', name='Date', freq=None)"
      ]
     },
     "execution_count": 100,
     "metadata": {},
     "output_type": "execute_result"
    }
   ],
   "source": [
    "X = df.index\n",
    "X_test_set  = X[-test_size:]\n",
    "X_test_set"
   ]
  },
  {
   "cell_type": "code",
   "execution_count": 96,
   "id": "ba7ee9d8",
   "metadata": {},
   "outputs": [
    {
     "data": {
      "image/png": "[encoded data removed]",
      "text/plain": [
       "<Figure size 432x288 with 1 Axes>"
      ]
     },
     "metadata": {
      "needs_background": "light"
     },
     "output_type": "display_data"
    }
   ],
   "source": [
    "plt.plot(df['Close'])\n",
    "plt.grid()"
   ]
  },
  {
   "cell_type": "code",
   "execution_count": 103,
   "id": "39dbd4e8",
   "metadata": {},
   "outputs": [
    {
     "data": {
      "text/plain": [
       "20"
      ]
     },
     "execution_count": 103,
     "metadata": {},
     "output_type": "execute_result"
    }
   ],
   "source": [
    "len(preds_real)"
   ]
  },
  {
   "cell_type": "code",
   "execution_count": 107,
   "id": "b756daa7",
   "metadata": {},
   "outputs": [
    {
     "data": {
      "image/png": "[encoded data removed]",
      "text/plain": [
       "<Figure size 720x576 with 1 Axes>"
      ]
     },
     "metadata": {
      "needs_background": "light"
     },
     "output_type": "display_data"
    }
   ],
   "source": [
    "f = plt.figure(figsize=(10, 8))\n",
    "plt.plot(X_test_set, test_set, label='Real Price')\n",
    "plt.plot(X_test_set, preds_real[-window_size:], label='Predicted Price')\n",
    "plt.xlabel('Yesr')\n",
    "plt.ylabel('Stock Price')\n",
    "plt.title('Predictions')\n",
    "plt.legend()\n",
    "plt.show()"
   ]
  },
  {
   "cell_type": "code",
   "execution_count": null,
   "id": "d82a2402",
   "metadata": {},
   "outputs": [],
   "source": []
  }
 ],
 "metadata": {
  "kernelspec": {
   "display_name": "Python 3 (ipykernel)",
   "language": "python",
   "name": "python3"
  },
  "language_info": {
   "codemirror_mode": {
    "name": "ipython",
    "version": 3
   },
   "file_extension": ".py",
   "mimetype": "text/x-python",
   "name": "python",
   "nbconvert_exporter": "python",
   "pygments_lexer": "ipython3",
   "version": "3.9.12"
  }
 },
 "nbformat": 4,
 "nbformat_minor": 5
}
