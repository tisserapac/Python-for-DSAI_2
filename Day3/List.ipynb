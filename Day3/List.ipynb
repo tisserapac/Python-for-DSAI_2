{
 "cells": [
  {
   "cell_type": "code",
   "execution_count": 2,
   "metadata": {},
   "outputs": [
    {
     "name": "stdout",
     "output_type": "stream",
     "text": [
      "1: Length:  13\n",
      "2: string[0]:  S\n",
      "3: string[0:2]:  St\n",
      "4: string[:3]:  Str\n",
      "5: string[3:]:  ing is fun\n",
      "6: string[:]:  String is fun\n",
      "71: string[-2:]:  un\n",
      "8: string[-0:]:  String is fun\n",
      "9: string[::2]:  Srn sfn\n",
      "10: string[1::2]:  tigi u\n",
      "11: Replace ing with ange:  Strange is fun\n"
     ]
    }
   ],
   "source": [
    "string = \"String is fun\"\n",
    "print(\"1: Length: \", len(string))\n",
    "print(\"2: string[0]: \", string[0])\n",
    "print(\"3: string[0:2]: \", string[0:2])\n",
    "print(\"4: string[:3]: \", string[:3])\n",
    "print(\"5: string[3:]: \", string[3:])\n",
    "print(\"6: string[:]: \", string[:])\n",
    "print(\"71: string[-2:]: \", string[-2:])\n",
    "print(\"8: string[-0:]: \", string[-0:])\n",
    "print(\"9: string[::2]: \", string[::2])\n",
    "print(\"10: string[1::2]: \", string[1::2])\n",
    "print(\"11: Replace ing with ange: \", string.replace(\"ing\", \"ange\"))"
   ]
  },
  {
   "cell_type": "code",
   "execution_count": 5,
   "metadata": {},
   "outputs": [
    {
     "name": "stdout",
     "output_type": "stream",
     "text": [
      "1: Range             [0, 1, 2, 3, 4, 5, 6, 7, 8, 9]\n",
      "2: With step 2       [1, 3, 5, 7, 9]\n",
      "3: Range -5 to +5    [-5, -4, -3, -2, -1, 0, 1, 2, 3, 4]\n",
      "3: With start -10    [-10, -9, -8, -7, -6, -5, -4, -3, -2, -1]\n",
      "4: 5 zeros           [0, 0, 0, 0, 0]\n"
     ]
    }
   ],
   "source": [
    "list_num     = [1, 2, 3, 4] \n",
    "list_string  = [\"Chaky\", \"John\", \"Peter\"] \n",
    "list_combine = [\"Chaky\", 1, 2, True] \n",
    "\n",
    "print(\"1: Range            \", list(range(10))) #ange(start, stop, step)\n",
    "print(\"2: With step 2      \", list(range(1, 10, 2)))\n",
    "print(\"3: Range -5 to +5   \", list(range(-5, 5)))\n",
    "print(\"3: With start -10   \", list(range(-10,0)))\n",
    "\n",
    "\n",
    "print(\"4: 5 zeros          \", [0]*5)"
   ]
  },
  {
   "cell_type": "code",
   "execution_count": 7,
   "metadata": {},
   "outputs": [
    {
     "name": "stdout",
     "output_type": "stream",
     "text": [
      "1: Changing value at index 0 to 0:  [0, 2, 3]\n",
      "2: Changing using slicing method:  [5, 6, 3]\n"
     ]
    }
   ],
   "source": [
    "a = [1, 2, 3]\n",
    "a[0] = 0\n",
    "print(\"1: Changing value at index 0 to 0: \", a)\n",
    "a[0:2] = 5, 6\n",
    "print(\"2: Changing using slicing method: \", a)"
   ]
  },
  {
   "cell_type": "code",
   "execution_count": 1,
   "metadata": {},
   "outputs": [
    {
     "name": "stdout",
     "output_type": "stream",
     "text": [
      "1: A append b [1, 2, [3]]\n",
      "2: A extend b [1, 2, [3], 3]\n",
      "1: A append c [1, 2, [3], 3, 3]\n"
     ]
    }
   ],
   "source": [
    "a = [1, 2]\n",
    "b = [3]\n",
    "c = 3\n",
    "a.append(b)\n",
    "print(\"1: A append b\", a)\n",
    "a.extend(b)\n",
    "print(\"2: A extend b\", a)\n",
    "a.append(c)\n",
    "print(\"1: A append c\", a)"
   ]
  },
  {
   "cell_type": "code",
   "execution_count": 21,
   "metadata": {},
   "outputs": [
    {
     "name": "stdout",
     "output_type": "stream",
     "text": [
      "1: Reverse [3, 19, 5]:  [5, 19, 3]\n",
      "1: Sorted [3, 19, 5]:  [3, 5, 19]\n",
      "2: Sorted ['Car', 'Apple', 'Boy']:  ['Apple', 'Boy', 'Car']\n",
      "3: Reverse:  None ['Car', 'Boy', 'Apple']\n"
     ]
    }
   ],
   "source": [
    "a = [3,19,5]\n",
    "a.reverse()\n",
    "print(\"1: Reverse [3, 19, 5]: \", a)\n",
    "b = [\"Car\", \"Apple\", \"Boy\"]\n",
    "a.sort()\n",
    "b.sort()\n",
    "\n",
    "print(\"1: Sorted [3, 19, 5]: \", a)\n",
    "print(\"2: Sorted ['Car', 'Apple', 'Boy']: \", b)\n",
    "print(\"3: Reverse: \", b.reverse(), b)\n",
    "\n"
   ]
  },
  {
   "cell_type": "code",
   "execution_count": 25,
   "metadata": {},
   "outputs": [
    {
     "name": "stdout",
     "output_type": "stream",
     "text": [
      "1: 3 in a? True\n",
      "2: 4 in a? False\n",
      "['Car', 'Boy', 'Apple']\n",
      "3: Car in b? True\n",
      "3: car in b? False\n"
     ]
    }
   ],
   "source": [
    "print(\"1: 3 in a?\", 3 in a)\n",
    "print(\"2: 4 in a?\", 4 in a)\n",
    "print(b)\n",
    "print(\"3: Car in b?\", 'Car' in b)\n",
    "print(\"3: car in b?\", 'car' in b)"
   ]
  },
  {
   "cell_type": "code",
   "execution_count": 30,
   "metadata": {},
   "outputs": [
    {
     "name": "stdout",
     "output_type": "stream",
     "text": [
      "1: I:  0\n",
      "1: I:  1\n",
      "1: I:  2\n",
      "2:  8\n",
      "2:  9\n",
      "2:  10\n",
      "3:  8\n",
      "3:  9\n",
      "3:  10\n",
      "4: Index: 0; value: 8\n",
      "4: Index: 1; value: 9\n",
      "4: Index: 2; value: 10\n"
     ]
    }
   ],
   "source": [
    "for i in range(3):\n",
    "    print(\"1: I: \", i)\n",
    "\n",
    "some_list = [8, 9, 10]\n",
    "\n",
    "for num in some_list:\n",
    "    print(\"2: \", num)\n",
    "\n",
    "for i in range(len(some_list)):\n",
    "    print(\"3: \", some_list[i])    \n",
    "\n",
    "for ix, (value) in enumerate(some_list):\n",
    "    print(f\"4: Index: {ix}; value: {value}\")\n"
   ]
  },
  {
   "cell_type": "code",
   "execution_count": 4,
   "metadata": {},
   "outputs": [
    {
     "data": {
      "text/plain": [
       "[2, 3, 4]"
      ]
     },
     "execution_count": 4,
     "metadata": {},
     "output_type": "execute_result"
    }
   ],
   "source": [
    "x = [1,2,3,4,5]\n",
    "# Get the first 3 elements\n",
    "# Trick use semi colon\n",
    "# x[start:stop] - here the stop is exclusive\n",
    "x[0:3]\n",
    "#Get the 2,3,4 \n",
    "x[1:4]"
   ]
  },
  {
   "cell_type": "code",
   "execution_count": 11,
   "metadata": {},
   "outputs": [
    {
     "data": {
      "text/plain": [
       "[1, 2, 3]"
      ]
     },
     "execution_count": 11,
     "metadata": {},
     "output_type": "execute_result"
    }
   ],
   "source": [
    "x = [1, 2, 3, 4, 5, 6, 7]\n",
    "# Get 4, 5, 6, 7\n",
    "x[-4:]\n",
    "# Get the last two members from the back\n",
    "x[-2:]\n",
    "x[:] # All\n",
    "x[3:] #Index 3 to end\n",
    "x[:3] #Start to index 2"
   ]
  },
  {
   "cell_type": "code",
   "execution_count": 14,
   "metadata": {},
   "outputs": [
    {
     "data": {
      "text/plain": [
       "[2, 4, 6, 8, 10]"
      ]
     },
     "execution_count": 14,
     "metadata": {},
     "output_type": "execute_result"
    }
   ],
   "source": [
    "x = [1, 2, 3, 4, 5, 6, 7, 8, 9, 10]\n",
    "# Get only odd numbers\n",
    "# x[start:stop:step]\n",
    "x[0::2]\n",
    "# Get only odd numbers\n",
    "x[1::2]"
   ]
  },
  {
   "cell_type": "code",
   "execution_count": 16,
   "metadata": {},
   "outputs": [
    {
     "data": {
      "text/plain": [
       "'thon'"
      ]
     },
     "execution_count": 16,
     "metadata": {},
     "output_type": "execute_result"
    }
   ],
   "source": [
    "x = \"Python\" # String is a list of characters\n",
    "x[0] # 'P'\n",
    "# Get 'thon'\n",
    "x[2:]"
   ]
  },
  {
   "cell_type": "code",
   "execution_count": 27,
   "metadata": {},
   "outputs": [
    {
     "name": "stdout",
     "output_type": "stream",
     "text": [
      "0021 3233 3221\n",
      "['0021', '3233', '3221']\n"
     ]
    }
   ],
   "source": [
    "product_ID = '0021-3233-3221'\n",
    "# Depatment ID\n",
    "dept_id = product_ID[:4]\n",
    "# Cat Id\n",
    "cat_id = product_ID[5:9]\n",
    "# Product ID\n",
    "prod_id = product_ID[-4:]\n",
    "print (dept_id, cat_id, prod_id)\n",
    "\n",
    "id_list = product_ID.split('-')\n",
    "print (id_list)"
   ]
  },
  {
   "cell_type": "code",
   "execution_count": null,
   "metadata": {},
   "outputs": [],
   "source": [
    "x = [1, True, \"Test\"]"
   ]
  },
  {
   "cell_type": "code",
   "execution_count": 30,
   "metadata": {},
   "outputs": [
    {
     "data": {
      "text/plain": [
       "[0, 1, 2, 3, 4, 5, 6, 7, 8, 9, 10]"
      ]
     },
     "execution_count": 30,
     "metadata": {},
     "output_type": "execute_result"
    }
   ],
   "source": [
    "# List with 0..10\n",
    "# range(start, stop, step)\n",
    "# range(stop) - stop is not included\n",
    "range(10) #T his will not create a list but a range object\n",
    "list(range(11))"
   ]
  },
  {
   "cell_type": "code",
   "execution_count": 32,
   "metadata": {},
   "outputs": [
    {
     "data": {
      "text/plain": [
       "[2, 3, 4, 5]"
      ]
     },
     "execution_count": 32,
     "metadata": {},
     "output_type": "execute_result"
    }
   ],
   "source": [
    "# A list with 2..5\n",
    "list(range(2, 6))"
   ]
  },
  {
   "cell_type": "code",
   "execution_count": 34,
   "metadata": {},
   "outputs": [
    {
     "data": {
      "text/plain": [
       "[2, 4, 6, 8]"
      ]
     },
     "execution_count": 34,
     "metadata": {},
     "output_type": "execute_result"
    }
   ],
   "source": [
    "# List with 2,4,6,8\n",
    "list(range(2, 9, 2)) #range(start, stop, step)"
   ]
  },
  {
   "cell_type": "code",
   "execution_count": 39,
   "metadata": {},
   "outputs": [
    {
     "data": {
      "text/plain": [
       "[8, 6, 4, 2]"
      ]
     },
     "execution_count": 39,
     "metadata": {},
     "output_type": "execute_result"
    }
   ],
   "source": [
    "# Create 8, 6, 4, 2\n",
    "list(range(8, 1, -2)) #range(start, stop, step)"
   ]
  },
  {
   "cell_type": "code",
   "execution_count": 40,
   "metadata": {},
   "outputs": [
    {
     "data": {
      "text/plain": [
       "[-5, 0, 5, 10, 15]"
      ]
     },
     "execution_count": 40,
     "metadata": {},
     "output_type": "execute_result"
    }
   ],
   "source": [
    "# Create -5, 0, 5, 10, 15\n",
    "list(range(-5,16, 5))"
   ]
  },
  {
   "cell_type": "code",
   "execution_count": 44,
   "metadata": {},
   "outputs": [
    {
     "name": "stdout",
     "output_type": "stream",
     "text": [
      "[1, 2, 3, 99]\n"
     ]
    }
   ],
   "source": [
    "x = [1, 2, 3]\n",
    "# Add or change elements\n",
    "# If you want to change - Index way --> Cannot use for adding\n",
    "# x[3] = 4\n",
    "# If you want to add - Append way\n",
    "x.append(99)\n",
    "print(x)"
   ]
  },
  {
   "cell_type": "code",
   "execution_count": 47,
   "metadata": {},
   "outputs": [
    {
     "name": "stdout",
     "output_type": "stream",
     "text": [
      "['John', 'Tom', 'May']\n",
      "['John', 'Tom', 'May', 'Smith', 'Matt', 'Henry']\n"
     ]
    }
   ],
   "source": [
    "x = [\"John\", \"Tom\", \"Peter\"]\n",
    "# Change Peter to May\n",
    "x[2] = \"May\"\n",
    "print(x)\n",
    "\n",
    "# Add three more names\n",
    "x.append(\"Smith\")\n",
    "x.append(\"Sam\")\n",
    "x.append(\"Henry\")\n",
    "print(x)"
   ]
  },
  {
   "cell_type": "markdown",
   "metadata": {},
   "source": [
    "Combine lists"
   ]
  },
  {
   "cell_type": "code",
   "execution_count": 49,
   "metadata": {},
   "outputs": [
    {
     "name": "stdout",
     "output_type": "stream",
     "text": [
      "['John', 'Tom', 'Peter', ['July', 'Sam', 'Henry']]\n",
      "['John', 'Tom', 'Peter', ['July', 'Sam', 'Henry'], 'July', 'Sam', 'Henry']\n"
     ]
    }
   ],
   "source": [
    "x = [\"John\", \"Tom\", \"Peter\"]\n",
    "y = [\"July\", \"Sam\", \"Henry\"]\n",
    "x.append(y) # List y inside lis t x\n",
    "print(x)\n",
    "\n",
    "# How to combine without list inside ist\n",
    "# Use extend\n",
    "x.extend(y)\n",
    "print(x)"
   ]
  },
  {
   "cell_type": "code",
   "execution_count": 52,
   "metadata": {},
   "outputs": [
    {
     "name": "stdout",
     "output_type": "stream",
     "text": [
      "[3, 6, 9, 12, -5, 0, 5, 10, 15]\n"
     ]
    }
   ],
   "source": [
    "x = list(range(3,13,3))\n",
    "y = list(range(-5,16,5))\n",
    "# Combine x and y\n",
    "x.extend(y)\n",
    "print(x)"
   ]
  },
  {
   "cell_type": "markdown",
   "metadata": {},
   "source": [
    "Sorting"
   ]
  },
  {
   "cell_type": "code",
   "execution_count": 16,
   "metadata": {},
   "outputs": [
    {
     "name": "stdout",
     "output_type": "stream",
     "text": [
      "Valid\n",
      "Input your name (Type exit to leave)\n",
      "Input your email\n",
      "Email invalid, Try again\n",
      "Input your name (Type exit to leave)\n",
      "[]\n",
      "[]\n",
      "[]\n",
      "[]\n"
     ]
    }
   ],
   "source": [
    "import re\n",
    "\n",
    "# Email - name@domanname.com\n",
    "# Start with ^ - start of a pattern\n",
    "# Define length + means one or more ? means zero of more\n",
    "# . is a reserverd symbol\n",
    "#{1, 3} 1 to 3 l3tters\n",
    "# $ end of patter\n",
    "pattern = \"^[a-zA-Z0-9]+@[a-zA-Z0-9]+\\.[a-z]{1,3}$\"\n",
    "\n",
    "# a = \"chaklam@gmail.com\"\n",
    "# if re.match(pattern,a):\n",
    "#     print(\"Valid\")\n",
    "\n",
    "list_of_names = []\n",
    "list_of_emails = []\n",
    "\n",
    "while (True):\n",
    "    print(\"Input your name (Type exit to leave)\")\n",
    "    name = input()\n",
    "    # Exit if user has typed exit\n",
    "    if (name == \"exit\"):\n",
    "        break\n",
    "    print(\"Input your email\")\n",
    "    email = input()\n",
    "\n",
    "    # Check email validity\n",
    "    if not re.match(pattern, email):\n",
    "        print(\"Email invalid, Try again\")\n",
    "        continue\n",
    "\n",
    "    # Before append, check if name or email already exist\n",
    "    if (name in list_of_names or email in list_of_emails):\n",
    "        print(\"Name or email already exists, Try again\")\n",
    "        continue\n",
    "        \n",
    "    list_of_names.append(name)\n",
    "    list_of_emails.append(email)\n",
    "\n",
    "print(list_of_names)   \n",
    "print(list_of_emails)\n",
    "list_of_names.sort()\n",
    "list_of_emails.sort()\n",
    "print(list_of_names)  \n",
    "print(list_of_emails)"
   ]
  },
  {
   "cell_type": "markdown",
   "metadata": {},
   "source": [
    "Looping a list"
   ]
  },
  {
   "cell_type": "code",
   "execution_count": 17,
   "metadata": {},
   "outputs": [
    {
     "name": "stdout",
     "output_type": "stream",
     "text": [
      "1\n",
      "2\n",
      "3\n"
     ]
    }
   ],
   "source": [
    "x = [1, 2, 3]\n",
    "\n",
    "for value in x:\n",
    "    print(value)"
   ]
  },
  {
   "cell_type": "code",
   "execution_count": 19,
   "metadata": {},
   "outputs": [
    {
     "name": "stdout",
     "output_type": "stream",
     "text": [
      "0\n",
      "1\n",
      "2\n",
      "3\n",
      "4\n",
      "5\n",
      "6\n",
      "7\n",
      "8\n",
      "9\n"
     ]
    }
   ],
   "source": [
    "x = list(range(10))\n",
    "for value in x:\n",
    "    print(value)"
   ]
  },
  {
   "cell_type": "code",
   "execution_count": 20,
   "metadata": {},
   "outputs": [
    {
     "name": "stdout",
     "output_type": "stream",
     "text": [
      "0\n",
      "1\n",
      "2\n",
      "3\n",
      "4\n",
      "5\n",
      "6\n",
      "7\n",
      "8\n",
      "9\n"
     ]
    }
   ],
   "source": [
    "# Directly using range\n",
    "x = list(range(10))\n",
    "for item in range(10):\n",
    "    print( item )"
   ]
  },
  {
   "cell_type": "code",
   "execution_count": 23,
   "metadata": {},
   "outputs": [
    {
     "name": "stdout",
     "output_type": "stream",
     "text": [
      "0: Sword\n",
      "1: Magic\n",
      "2: Shield\n"
     ]
    }
   ],
   "source": [
    "x = [\"Sword\", \"Magic\", \"Shield\"]\n",
    "for index, item in enumerate(x):\n",
    "    print(index, item, sep=': ')"
   ]
  },
  {
   "cell_type": "markdown",
   "metadata": {},
   "source": [
    "Randomization in list"
   ]
  },
  {
   "cell_type": "code",
   "execution_count": 2,
   "metadata": {},
   "outputs": [
    {
     "name": "stdout",
     "output_type": "stream",
     "text": [
      "8\n"
     ]
    }
   ],
   "source": [
    "import random\n",
    "x = list(range(10))\n",
    "item = random.choice(x)\n",
    "print(item)\n",
    "# Print one random number from the list\n",
    "\n"
   ]
  },
  {
   "cell_type": "code",
   "execution_count": 2,
   "metadata": {},
   "outputs": [
    {
     "name": "stdout",
     "output_type": "stream",
     "text": [
      "Henry\n"
     ]
    }
   ],
   "source": [
    "# Create a list of three dictionary items\n",
    "# Randomly pick one item\n",
    "import random\n",
    "\n",
    "dictionaries = [\"Python\", \"List\", \"Henry\"]\n",
    "secret = random.choice(dictionaries)\n",
    "print(secret)\n"
   ]
  },
  {
   "cell_type": "code",
   "execution_count": 3,
   "metadata": {},
   "outputs": [
    {
     "name": "stdout",
     "output_type": "stream",
     "text": [
      "[2, 0]\n"
     ]
    }
   ],
   "source": [
    "#What if we need two random items\n",
    "import random\n",
    "x = list(range(10))\n",
    "sample = random.sample(x,2)\n",
    "print(sample)"
   ]
  },
  {
   "cell_type": "code",
   "execution_count": 32,
   "metadata": {},
   "outputs": [
    {
     "name": "stdout",
     "output_type": "stream",
     "text": [
      "[2, 3, 4]\n"
     ]
    }
   ],
   "source": [
    "x = [1, 2, 3]\n",
    "# Loop and add 1 to each element\n",
    "for index, item in enumerate(x):\n",
    "    x[index] = item + 1\n",
    "\n",
    "print(x)    \n"
   ]
  },
  {
   "cell_type": "code",
   "execution_count": 10,
   "metadata": {},
   "outputs": [
    {
     "name": "stdout",
     "output_type": "stream",
     "text": [
      "[2, 3, 4]\n",
      "[3, 4, 5]\n"
     ]
    }
   ],
   "source": [
    "x = [1,2,3]\n",
    "\n",
    "for index, _ in enumerate(x):\n",
    "    x[index] = x[index] +1\n",
    "\n",
    "print(x)\n",
    "\n",
    "new_list = [num+1 for num in x]\n",
    "print(new_list)"
   ]
  },
  {
   "cell_type": "code",
   "execution_count": 3,
   "metadata": {},
   "outputs": [
    {
     "name": "stdout",
     "output_type": "stream",
     "text": [
      "[0, 0, 2, 2, 1, 1, 1, 0, 0, 2, 0, 2, 1, 2, 0]\n",
      "Number of coins:  5\n",
      "Current level:  2\n",
      "Place where the monster is [4, 5, 6, 12]\n"
     ]
    }
   ],
   "source": [
    "#step 1. randomly create a list of length 15, compose of 0, 1, 2 randomly\n",
    "#e.g., [0011211122200]\n",
    "#0 will mean nothing\n",
    "#1 means monster\n",
    "#2 means coin\n",
    "\n",
    "game_map = []\n",
    "\n",
    "for _ in range(15):\n",
    "    game_map.append(random.randint(0,2))\n",
    "\n",
    "print(game_map)\n",
    "\n",
    "#Step 2. Loop through the list\n",
    "    #If it is 0 (nothing) go to the next item\n",
    "    #If it is 1 (monster) level up\n",
    "        #initially, your level is 0, if you kill one monster, you level up\n",
    "        #when your level is 1, you need to kill two monsters, then you level up\n",
    "        #when your level is 2, you need to kill three monsters to level up\n",
    "        #keep track of the index where the monster is\n",
    "    #If it is 2 (coin) add to the wallet\n",
    "\n",
    "wallet  = 0\n",
    "level   = 0\n",
    "monster = 0\n",
    "dangerous_place = []\n",
    "\n",
    "for index, event in enumerate(game_map):\n",
    "    if event == 0:\n",
    "        pass\n",
    "    if event == 1:\n",
    "        dangerous_place.append(index)\n",
    "        monster = monster + 1\n",
    "        if (level < monster):\n",
    "            level = level + 1\n",
    "            monster = 0\n",
    "    if event == 2:\n",
    "        wallet = wallet + 1\n",
    "\n",
    "        \n",
    "#step 3: print the level, wallet, place where the monster is\n",
    "print(\"Number of coins: \", wallet)\n",
    "print(\"Current level: \", level)\n",
    "print(\"Place where the monster is\", dangerous_place)\n",
    "\n",
    "\n",
    "        \n",
    "\n"
   ]
  },
  {
   "cell_type": "code",
   "execution_count": null,
   "metadata": {},
   "outputs": [],
   "source": []
  }
 ],
 "metadata": {
  "kernelspec": {
   "display_name": "Python 3.8.10 ('.venv': pipenv)",
   "language": "python",
   "name": "python3"
  },
  "language_info": {
   "codemirror_mode": {
    "name": "ipython",
    "version": 3
   },
   "file_extension": ".py",
   "mimetype": "text/x-python",
   "name": "python",
   "nbconvert_exporter": "python",
   "pygments_lexer": "ipython3",
   "version": "3.8.10"
  },
  "orig_nbformat": 4,
  "vscode": {
   "interpreter": {
    "hash": "27768773b483d82a9b2b839e3fa80b1be5789db7fd78df4eedef2df266871616"
   }
  }
 },
 "nbformat": 4,
 "nbformat_minor": 2
}
