{
 "cells": [
  {
   "cell_type": "markdown",
   "metadata": {},
   "source": [
    "# Programming for Data Science and Artificial Intelligence\n",
    "\n",
    "## Sklearn\n",
    "\n",
    "So far\n",
    "- bootcamp - Python\n",
    "- NumPy\n",
    "- Pandas\n",
    "\n",
    "Today\n",
    "- Sklearn - machine learning\n",
    "\n",
    "- Matplotlib\n",
    "- Deploying models to the internet - 6 hours\n",
    "\n",
    "At this point, you can already work in many entry-level DS jobs\n",
    "\n",
    "- Regression from scratch\n",
    "- Classification from scratch\n",
    "- Clustering from scratch + sklearn\n",
    "- Dimensionaltiy reduction + sklearn\n",
    "\n",
    "Midterm\n",
    "\n",
    "Deep learning\n",
    "- PyTorch (Numpy equivalent called torch tensors)\n",
    "- Fully-Connected Neural Network\n",
    "- Convolutional Neural Network\n",
    "\n",
    "Signal Processing - useful for EEG, wifi, stocks, time series\n",
    "\n",
    "Optional: AWS, GANs, Autoencoders, etc.\n",
    "\n",
    "Chaky - why do i need to code?\n",
    "--> some company just use software - Rapidminer, Weka, Azure ML, etc.\n",
    "--> these software are very powerful, and can do many **typical** ML stuffs\n",
    "--> but the highlight of coding, is that you can customize as much as you want, you can always use the latest algorithm, you don't have stick with the preprocessing techniques these software gave you....etc....Basically, coding is the MOST powerful.\n",
    "\n",
    "\n",
    "Four jobs in the market:\n",
    "\n",
    "Thailand: 35k - 200k\n",
    "\n",
    "- Data analysts: Tools: PowerBI, Excel, SQL, Reports\n",
    "- Data scientists: mathematics oriented; mostly Python\n",
    "- Data engineers: database, cloud computing - AWS, Microsoft thingy\n",
    "- ML ops:   software engineers in ML domain (very very efficient, and optimized - true computer science program)"
   ]
  },
  {
   "cell_type": "code",
   "execution_count": 78,
   "metadata": {},
   "outputs": [],
   "source": [
    "# Pandas is built on top of NumPy\n",
    "#   it means that Pandas, in a very raw level, is actually nothing but NumPy array\n",
    "#   pandas has added functionality, like dealing with missing values, for example\n",
    "\n",
    "# so why NumPy?  Why not use Pandas always?\n",
    "# Pandas is MUCH slower than NumPy"
   ]
  },
  {
   "cell_type": "markdown",
   "metadata": {},
   "source": [
    "### Import Pandas"
   ]
  },
  {
   "cell_type": "code",
   "execution_count": 79,
   "metadata": {},
   "outputs": [],
   "source": [
    "import pandas as pd"
   ]
  },
  {
   "cell_type": "code",
   "execution_count": 80,
   "metadata": {},
   "outputs": [
    {
     "data": {
      "text/plain": [
       "'1.4.3'"
      ]
     },
     "execution_count": 80,
     "metadata": {},
     "output_type": "execute_result"
    }
   ],
   "source": [
    "pd.__version__"
   ]
  },
  {
   "cell_type": "markdown",
   "metadata": {},
   "source": [
    "# 1. Extract-Transform-Load (ETL) \n",
    "\n",
    "- Challenge: many data sources; maintain a lot of connectors; transform them to one single format"
   ]
  },
  {
   "cell_type": "markdown",
   "metadata": {},
   "source": [
    "### Load csv file"
   ]
  },
  {
   "cell_type": "code",
   "execution_count": 81,
   "metadata": {},
   "outputs": [],
   "source": [
    "#the name of data that pandas called, is \"Dataframe\"\n",
    "df = pd.read_csv(\"data/howlongwelive.csv\")"
   ]
  },
  {
   "cell_type": "markdown",
   "metadata": {},
   "source": [
    "### Preview the dataframe"
   ]
  },
  {
   "cell_type": "code",
   "execution_count": 82,
   "metadata": {},
   "outputs": [
    {
     "data": {
      "text/html": [
       "<div>\n",
       "<style scoped>\n",
       "    .dataframe tbody tr th:only-of-type {\n",
       "        vertical-align: middle;\n",
       "    }\n",
       "\n",
       "    .dataframe tbody tr th {\n",
       "        vertical-align: top;\n",
       "    }\n",
       "\n",
       "    .dataframe thead th {\n",
       "        text-align: right;\n",
       "    }\n",
       "</style>\n",
       "<table border=\"1\" class=\"dataframe\">\n",
       "  <thead>\n",
       "    <tr style=\"text-align: right;\">\n",
       "      <th></th>\n",
       "      <th>Country</th>\n",
       "      <th>Year</th>\n",
       "      <th>Status</th>\n",
       "      <th>Life expectancy</th>\n",
       "      <th>Adult Mortality</th>\n",
       "      <th>infant deaths</th>\n",
       "      <th>Alcohol</th>\n",
       "      <th>percentage expenditure</th>\n",
       "      <th>Hepatitis B</th>\n",
       "      <th>Measles</th>\n",
       "      <th>...</th>\n",
       "      <th>Polio</th>\n",
       "      <th>Total expenditure</th>\n",
       "      <th>Diphtheria</th>\n",
       "      <th>HIV/AIDS</th>\n",
       "      <th>GDP</th>\n",
       "      <th>Population</th>\n",
       "      <th>thinness  1-19 years</th>\n",
       "      <th>thinness 5-9 years</th>\n",
       "      <th>Income composition of resources</th>\n",
       "      <th>Schooling</th>\n",
       "    </tr>\n",
       "  </thead>\n",
       "  <tbody>\n",
       "    <tr>\n",
       "      <th>0</th>\n",
       "      <td>Afghanistan</td>\n",
       "      <td>2015</td>\n",
       "      <td>Developing</td>\n",
       "      <td>65.0</td>\n",
       "      <td>263.0</td>\n",
       "      <td>62</td>\n",
       "      <td>0.01</td>\n",
       "      <td>71.279624</td>\n",
       "      <td>65.0</td>\n",
       "      <td>1154</td>\n",
       "      <td>...</td>\n",
       "      <td>6.0</td>\n",
       "      <td>8.16</td>\n",
       "      <td>65.0</td>\n",
       "      <td>0.1</td>\n",
       "      <td>584.259210</td>\n",
       "      <td>33736494.0</td>\n",
       "      <td>17.2</td>\n",
       "      <td>17.3</td>\n",
       "      <td>0.479</td>\n",
       "      <td>10.1</td>\n",
       "    </tr>\n",
       "    <tr>\n",
       "      <th>1</th>\n",
       "      <td>Afghanistan</td>\n",
       "      <td>2014</td>\n",
       "      <td>Developing</td>\n",
       "      <td>59.9</td>\n",
       "      <td>271.0</td>\n",
       "      <td>64</td>\n",
       "      <td>0.01</td>\n",
       "      <td>73.523582</td>\n",
       "      <td>62.0</td>\n",
       "      <td>492</td>\n",
       "      <td>...</td>\n",
       "      <td>58.0</td>\n",
       "      <td>8.18</td>\n",
       "      <td>62.0</td>\n",
       "      <td>0.1</td>\n",
       "      <td>612.696514</td>\n",
       "      <td>327582.0</td>\n",
       "      <td>17.5</td>\n",
       "      <td>17.5</td>\n",
       "      <td>0.476</td>\n",
       "      <td>10.0</td>\n",
       "    </tr>\n",
       "    <tr>\n",
       "      <th>2</th>\n",
       "      <td>Afghanistan</td>\n",
       "      <td>2013</td>\n",
       "      <td>Developing</td>\n",
       "      <td>59.9</td>\n",
       "      <td>268.0</td>\n",
       "      <td>66</td>\n",
       "      <td>0.01</td>\n",
       "      <td>73.219243</td>\n",
       "      <td>64.0</td>\n",
       "      <td>430</td>\n",
       "      <td>...</td>\n",
       "      <td>62.0</td>\n",
       "      <td>8.13</td>\n",
       "      <td>64.0</td>\n",
       "      <td>0.1</td>\n",
       "      <td>631.744976</td>\n",
       "      <td>31731688.0</td>\n",
       "      <td>17.7</td>\n",
       "      <td>17.7</td>\n",
       "      <td>0.470</td>\n",
       "      <td>9.9</td>\n",
       "    </tr>\n",
       "    <tr>\n",
       "      <th>3</th>\n",
       "      <td>Afghanistan</td>\n",
       "      <td>2012</td>\n",
       "      <td>Developing</td>\n",
       "      <td>59.5</td>\n",
       "      <td>272.0</td>\n",
       "      <td>69</td>\n",
       "      <td>0.01</td>\n",
       "      <td>78.184215</td>\n",
       "      <td>67.0</td>\n",
       "      <td>2787</td>\n",
       "      <td>...</td>\n",
       "      <td>67.0</td>\n",
       "      <td>8.52</td>\n",
       "      <td>67.0</td>\n",
       "      <td>0.1</td>\n",
       "      <td>669.959000</td>\n",
       "      <td>3696958.0</td>\n",
       "      <td>17.9</td>\n",
       "      <td>18.0</td>\n",
       "      <td>0.463</td>\n",
       "      <td>9.8</td>\n",
       "    </tr>\n",
       "    <tr>\n",
       "      <th>4</th>\n",
       "      <td>Afghanistan</td>\n",
       "      <td>2011</td>\n",
       "      <td>Developing</td>\n",
       "      <td>59.2</td>\n",
       "      <td>275.0</td>\n",
       "      <td>71</td>\n",
       "      <td>0.01</td>\n",
       "      <td>7.097109</td>\n",
       "      <td>68.0</td>\n",
       "      <td>3013</td>\n",
       "      <td>...</td>\n",
       "      <td>68.0</td>\n",
       "      <td>7.87</td>\n",
       "      <td>68.0</td>\n",
       "      <td>0.1</td>\n",
       "      <td>63.537231</td>\n",
       "      <td>2978599.0</td>\n",
       "      <td>18.2</td>\n",
       "      <td>18.2</td>\n",
       "      <td>0.454</td>\n",
       "      <td>9.5</td>\n",
       "    </tr>\n",
       "  </tbody>\n",
       "</table>\n",
       "<p>5 rows × 22 columns</p>\n",
       "</div>"
      ],
      "text/plain": [
       "       Country  Year      Status  Life expectancy   Adult Mortality  \\\n",
       "0  Afghanistan  2015  Developing              65.0            263.0   \n",
       "1  Afghanistan  2014  Developing              59.9            271.0   \n",
       "2  Afghanistan  2013  Developing              59.9            268.0   \n",
       "3  Afghanistan  2012  Developing              59.5            272.0   \n",
       "4  Afghanistan  2011  Developing              59.2            275.0   \n",
       "\n",
       "   infant deaths  Alcohol  percentage expenditure  Hepatitis B  Measles   ...  \\\n",
       "0             62     0.01               71.279624         65.0      1154  ...   \n",
       "1             64     0.01               73.523582         62.0       492  ...   \n",
       "2             66     0.01               73.219243         64.0       430  ...   \n",
       "3             69     0.01               78.184215         67.0      2787  ...   \n",
       "4             71     0.01                7.097109         68.0      3013  ...   \n",
       "\n",
       "   Polio  Total expenditure  Diphtheria    HIV/AIDS         GDP  Population  \\\n",
       "0    6.0               8.16         65.0        0.1  584.259210  33736494.0   \n",
       "1   58.0               8.18         62.0        0.1  612.696514    327582.0   \n",
       "2   62.0               8.13         64.0        0.1  631.744976  31731688.0   \n",
       "3   67.0               8.52         67.0        0.1  669.959000   3696958.0   \n",
       "4   68.0               7.87         68.0        0.1   63.537231   2978599.0   \n",
       "\n",
       "    thinness  1-19 years   thinness 5-9 years  \\\n",
       "0                   17.2                 17.3   \n",
       "1                   17.5                 17.5   \n",
       "2                   17.7                 17.7   \n",
       "3                   17.9                 18.0   \n",
       "4                   18.2                 18.2   \n",
       "\n",
       "   Income composition of resources  Schooling  \n",
       "0                            0.479       10.1  \n",
       "1                            0.476       10.0  \n",
       "2                            0.470        9.9  \n",
       "3                            0.463        9.8  \n",
       "4                            0.454        9.5  \n",
       "\n",
       "[5 rows x 22 columns]"
      ]
     },
     "execution_count": 82,
     "metadata": {},
     "output_type": "execute_result"
    }
   ],
   "source": [
    "#you use df.head()\n",
    "#format: df.head(number of rows; default is 5; you can also put negative numbers)\n",
    "df.head()"
   ]
  },
  {
   "cell_type": "code",
   "execution_count": 83,
   "metadata": {},
   "outputs": [
    {
     "data": {
      "text/plain": [
       "(2938, 22)"
      ]
     },
     "execution_count": 83,
     "metadata": {},
     "output_type": "execute_result"
    }
   ],
   "source": [
    "#as I say, Pandas IS NumPy\n",
    "df.shape\n",
    "\n",
    "#means that there are 2938 rows, and 22 columns"
   ]
  },
  {
   "cell_type": "code",
   "execution_count": 84,
   "metadata": {},
   "outputs": [
    {
     "data": {
      "text/plain": [
       "Index(['Country', 'Year', 'Status', 'Life expectancy ', 'Adult Mortality',\n",
       "       'infant deaths', 'Alcohol', 'percentage expenditure', 'Hepatitis B',\n",
       "       'Measles ', ' BMI ', 'under-five deaths ', 'Polio', 'Total expenditure',\n",
       "       'Diphtheria ', ' HIV/AIDS', 'GDP', 'Population',\n",
       "       ' thinness  1-19 years', ' thinness 5-9 years',\n",
       "       'Income composition of resources', 'Schooling'],\n",
       "      dtype='object')"
      ]
     },
     "execution_count": 84,
     "metadata": {},
     "output_type": "execute_result"
    }
   ],
   "source": [
    "#maybe you want a list of columns\n",
    "df.columns"
   ]
  },
  {
   "cell_type": "markdown",
   "metadata": {},
   "source": [
    "# 2. Exploratory Data Analysis (EDA)\n",
    "- looking at the distribution of data\n",
    "- plot something useful\n",
    "- understand the data\n",
    "- know which features to use\n",
    "  \n",
    "Note: **this is the MOST important step in all data science**"
   ]
  },
  {
   "cell_type": "code",
   "execution_count": 85,
   "metadata": {},
   "outputs": [],
   "source": [
    "## related seaborn\n",
    "#df.info()\n",
    "\n",
    "#list the datatypes of the dataframe\n",
    "#key: we DON'T LIKE \"object\" ==> \"string\"\n",
    "\n",
    "#so when you \"object\", you change it to numbers or drop it"
   ]
  },
  {
   "cell_type": "code",
   "execution_count": 86,
   "metadata": {},
   "outputs": [
    {
     "data": {
      "text/plain": [
       "0       Developing\n",
       "1       Developing\n",
       "2       Developing\n",
       "3       Developing\n",
       "4       Developing\n",
       "           ...    \n",
       "2933    Developing\n",
       "2934    Developing\n",
       "2935    Developing\n",
       "2936    Developing\n",
       "2937    Developing\n",
       "Name: Status, Length: 2938, dtype: object"
      ]
     },
     "execution_count": 86,
     "metadata": {},
     "output_type": "execute_result"
    }
   ],
   "source": [
    "#two ways to access each column\n",
    "#format1:  df['colname']\n",
    "#format2:  df.colname\n",
    "df['Status']  #try df.Status"
   ]
  },
  {
   "cell_type": "code",
   "execution_count": 87,
   "metadata": {},
   "outputs": [
    {
     "data": {
      "text/plain": [
       "array(['Developing', 'Developed'], dtype=object)"
      ]
     },
     "execution_count": 87,
     "metadata": {},
     "output_type": "execute_result"
    }
   ],
   "source": [
    "df['Status'].unique()"
   ]
  },
  {
   "cell_type": "code",
   "execution_count": 88,
   "metadata": {},
   "outputs": [],
   "source": [
    "developing_cond = df['Status'] == 'Developing'\n",
    "developed_cond  = df['Status'] == 'Developed'"
   ]
  },
  {
   "cell_type": "code",
   "execution_count": 89,
   "metadata": {},
   "outputs": [
    {
     "name": "stdout",
     "output_type": "stream",
     "text": [
      "Number of developing countries:  2426\n",
      "Number of developed countries:  512\n"
     ]
    }
   ],
   "source": [
    "print(\"Number of developing countries: \", \n",
    "      len(df.Status[developing_cond]))\n",
    "\n",
    "print (\"Number of developed countries: \", \n",
    "       df.Status[developed_cond].count())"
   ]
  },
  {
   "cell_type": "code",
   "execution_count": 90,
   "metadata": {},
   "outputs": [
    {
     "data": {
      "text/plain": [
       "512"
      ]
     },
     "execution_count": 90,
     "metadata": {},
     "output_type": "execute_result"
    }
   ],
   "source": [
    "df.Status[developed_cond].shape[0]"
   ]
  },
  {
   "cell_type": "code",
   "execution_count": 91,
   "metadata": {},
   "outputs": [
    {
     "data": {
      "text/plain": [
       "17.87"
      ]
     },
     "execution_count": 91,
     "metadata": {},
     "output_type": "execute_result"
    }
   ],
   "source": [
    "df['Alcohol'].max()  #try min(), mean(), median()"
   ]
  },
  {
   "cell_type": "code",
   "execution_count": 92,
   "metadata": {},
   "outputs": [
    {
     "data": {
      "text/plain": [
       "(0.01, 4.602860787172012, 3.755)"
      ]
     },
     "execution_count": 92,
     "metadata": {},
     "output_type": "execute_result"
    }
   ],
   "source": [
    "df.Alcohol.min(), df.Alcohol.mean(), df.Alcohol.median()"
   ]
  },
  {
   "cell_type": "code",
   "execution_count": 93,
   "metadata": {},
   "outputs": [],
   "source": [
    "#exercise: get the rows with alcohol more than the median\n",
    "#and count\n",
    "#challenge: list these unique countries\n",
    "\n",
    "#Answer:\n",
    "#fancy_indexes = df.Alcohol > df.Alcohol.median()\n",
    "#df.Country[fancy_indexes].unique()"
   ]
  },
  {
   "cell_type": "code",
   "execution_count": 94,
   "metadata": {},
   "outputs": [
    {
     "data": {
      "text/plain": [
       "numpy.ndarray"
      ]
     },
     "execution_count": 94,
     "metadata": {},
     "output_type": "execute_result"
    }
   ],
   "source": [
    "#exercise2: get the list of country\n",
    "#with Schooling more than the median\n",
    "#and GDP more than the median\n",
    "\n",
    "cond1 = df.Schooling > df.Schooling.median()\n",
    "cond2 = df.GDP > df.GDP.median()\n",
    "\n",
    "countries = df.Country[cond1 & cond2].unique()\n",
    "#use | for or\n",
    "\n",
    "type(countries)"
   ]
  },
  {
   "cell_type": "code",
   "execution_count": 95,
   "metadata": {},
   "outputs": [
    {
     "data": {
      "text/html": [
       "<div>\n",
       "<style scoped>\n",
       "    .dataframe tbody tr th:only-of-type {\n",
       "        vertical-align: middle;\n",
       "    }\n",
       "\n",
       "    .dataframe tbody tr th {\n",
       "        vertical-align: top;\n",
       "    }\n",
       "\n",
       "    .dataframe thead th {\n",
       "        text-align: right;\n",
       "    }\n",
       "</style>\n",
       "<table border=\"1\" class=\"dataframe\">\n",
       "  <thead>\n",
       "    <tr style=\"text-align: right;\">\n",
       "      <th></th>\n",
       "      <th>Year</th>\n",
       "      <th>Life expectancy</th>\n",
       "      <th>Adult Mortality</th>\n",
       "      <th>infant deaths</th>\n",
       "      <th>Alcohol</th>\n",
       "      <th>percentage expenditure</th>\n",
       "      <th>Hepatitis B</th>\n",
       "      <th>Measles</th>\n",
       "      <th>BMI</th>\n",
       "      <th>under-five deaths</th>\n",
       "      <th>Polio</th>\n",
       "      <th>Total expenditure</th>\n",
       "      <th>Diphtheria</th>\n",
       "      <th>HIV/AIDS</th>\n",
       "      <th>GDP</th>\n",
       "      <th>Population</th>\n",
       "      <th>thinness  1-19 years</th>\n",
       "      <th>thinness 5-9 years</th>\n",
       "      <th>Income composition of resources</th>\n",
       "      <th>Schooling</th>\n",
       "    </tr>\n",
       "  </thead>\n",
       "  <tbody>\n",
       "    <tr>\n",
       "      <th>count</th>\n",
       "      <td>2938.000000</td>\n",
       "      <td>2928.000000</td>\n",
       "      <td>2928.000000</td>\n",
       "      <td>2938.000000</td>\n",
       "      <td>2744.000000</td>\n",
       "      <td>2938.000000</td>\n",
       "      <td>2385.000000</td>\n",
       "      <td>2938.000000</td>\n",
       "      <td>2904.000000</td>\n",
       "      <td>2938.000000</td>\n",
       "      <td>2919.000000</td>\n",
       "      <td>2712.00000</td>\n",
       "      <td>2919.000000</td>\n",
       "      <td>2938.000000</td>\n",
       "      <td>2490.000000</td>\n",
       "      <td>2.286000e+03</td>\n",
       "      <td>2904.000000</td>\n",
       "      <td>2904.000000</td>\n",
       "      <td>2771.000000</td>\n",
       "      <td>2775.000000</td>\n",
       "    </tr>\n",
       "    <tr>\n",
       "      <th>mean</th>\n",
       "      <td>2007.518720</td>\n",
       "      <td>69.224932</td>\n",
       "      <td>164.796448</td>\n",
       "      <td>30.303948</td>\n",
       "      <td>4.602861</td>\n",
       "      <td>738.251295</td>\n",
       "      <td>80.940461</td>\n",
       "      <td>2419.592240</td>\n",
       "      <td>38.321247</td>\n",
       "      <td>42.035739</td>\n",
       "      <td>82.550188</td>\n",
       "      <td>5.93819</td>\n",
       "      <td>82.324084</td>\n",
       "      <td>1.742103</td>\n",
       "      <td>7483.158469</td>\n",
       "      <td>1.275338e+07</td>\n",
       "      <td>4.839704</td>\n",
       "      <td>4.870317</td>\n",
       "      <td>0.627551</td>\n",
       "      <td>11.992793</td>\n",
       "    </tr>\n",
       "    <tr>\n",
       "      <th>std</th>\n",
       "      <td>4.613841</td>\n",
       "      <td>9.523867</td>\n",
       "      <td>124.292079</td>\n",
       "      <td>117.926501</td>\n",
       "      <td>4.052413</td>\n",
       "      <td>1987.914858</td>\n",
       "      <td>25.070016</td>\n",
       "      <td>11467.272489</td>\n",
       "      <td>20.044034</td>\n",
       "      <td>160.445548</td>\n",
       "      <td>23.428046</td>\n",
       "      <td>2.49832</td>\n",
       "      <td>23.716912</td>\n",
       "      <td>5.077785</td>\n",
       "      <td>14270.169342</td>\n",
       "      <td>6.101210e+07</td>\n",
       "      <td>4.420195</td>\n",
       "      <td>4.508882</td>\n",
       "      <td>0.210904</td>\n",
       "      <td>3.358920</td>\n",
       "    </tr>\n",
       "    <tr>\n",
       "      <th>min</th>\n",
       "      <td>2000.000000</td>\n",
       "      <td>36.300000</td>\n",
       "      <td>1.000000</td>\n",
       "      <td>0.000000</td>\n",
       "      <td>0.010000</td>\n",
       "      <td>0.000000</td>\n",
       "      <td>1.000000</td>\n",
       "      <td>0.000000</td>\n",
       "      <td>1.000000</td>\n",
       "      <td>0.000000</td>\n",
       "      <td>3.000000</td>\n",
       "      <td>0.37000</td>\n",
       "      <td>2.000000</td>\n",
       "      <td>0.100000</td>\n",
       "      <td>1.681350</td>\n",
       "      <td>3.400000e+01</td>\n",
       "      <td>0.100000</td>\n",
       "      <td>0.100000</td>\n",
       "      <td>0.000000</td>\n",
       "      <td>0.000000</td>\n",
       "    </tr>\n",
       "    <tr>\n",
       "      <th>25%</th>\n",
       "      <td>2004.000000</td>\n",
       "      <td>63.100000</td>\n",
       "      <td>74.000000</td>\n",
       "      <td>0.000000</td>\n",
       "      <td>0.877500</td>\n",
       "      <td>4.685343</td>\n",
       "      <td>77.000000</td>\n",
       "      <td>0.000000</td>\n",
       "      <td>19.300000</td>\n",
       "      <td>0.000000</td>\n",
       "      <td>78.000000</td>\n",
       "      <td>4.26000</td>\n",
       "      <td>78.000000</td>\n",
       "      <td>0.100000</td>\n",
       "      <td>463.935626</td>\n",
       "      <td>1.957932e+05</td>\n",
       "      <td>1.600000</td>\n",
       "      <td>1.500000</td>\n",
       "      <td>0.493000</td>\n",
       "      <td>10.100000</td>\n",
       "    </tr>\n",
       "    <tr>\n",
       "      <th>50%</th>\n",
       "      <td>2008.000000</td>\n",
       "      <td>72.100000</td>\n",
       "      <td>144.000000</td>\n",
       "      <td>3.000000</td>\n",
       "      <td>3.755000</td>\n",
       "      <td>64.912906</td>\n",
       "      <td>92.000000</td>\n",
       "      <td>17.000000</td>\n",
       "      <td>43.500000</td>\n",
       "      <td>4.000000</td>\n",
       "      <td>93.000000</td>\n",
       "      <td>5.75500</td>\n",
       "      <td>93.000000</td>\n",
       "      <td>0.100000</td>\n",
       "      <td>1766.947595</td>\n",
       "      <td>1.386542e+06</td>\n",
       "      <td>3.300000</td>\n",
       "      <td>3.300000</td>\n",
       "      <td>0.677000</td>\n",
       "      <td>12.300000</td>\n",
       "    </tr>\n",
       "    <tr>\n",
       "      <th>75%</th>\n",
       "      <td>2012.000000</td>\n",
       "      <td>75.700000</td>\n",
       "      <td>228.000000</td>\n",
       "      <td>22.000000</td>\n",
       "      <td>7.702500</td>\n",
       "      <td>441.534144</td>\n",
       "      <td>97.000000</td>\n",
       "      <td>360.250000</td>\n",
       "      <td>56.200000</td>\n",
       "      <td>28.000000</td>\n",
       "      <td>97.000000</td>\n",
       "      <td>7.49250</td>\n",
       "      <td>97.000000</td>\n",
       "      <td>0.800000</td>\n",
       "      <td>5910.806335</td>\n",
       "      <td>7.420359e+06</td>\n",
       "      <td>7.200000</td>\n",
       "      <td>7.200000</td>\n",
       "      <td>0.779000</td>\n",
       "      <td>14.300000</td>\n",
       "    </tr>\n",
       "    <tr>\n",
       "      <th>max</th>\n",
       "      <td>2015.000000</td>\n",
       "      <td>89.000000</td>\n",
       "      <td>723.000000</td>\n",
       "      <td>1800.000000</td>\n",
       "      <td>17.870000</td>\n",
       "      <td>19479.911610</td>\n",
       "      <td>99.000000</td>\n",
       "      <td>212183.000000</td>\n",
       "      <td>87.300000</td>\n",
       "      <td>2500.000000</td>\n",
       "      <td>99.000000</td>\n",
       "      <td>17.60000</td>\n",
       "      <td>99.000000</td>\n",
       "      <td>50.600000</td>\n",
       "      <td>119172.741800</td>\n",
       "      <td>1.293859e+09</td>\n",
       "      <td>27.700000</td>\n",
       "      <td>28.600000</td>\n",
       "      <td>0.948000</td>\n",
       "      <td>20.700000</td>\n",
       "    </tr>\n",
       "  </tbody>\n",
       "</table>\n",
       "</div>"
      ],
      "text/plain": [
       "              Year  Life expectancy   Adult Mortality  infant deaths  \\\n",
       "count  2938.000000       2928.000000      2928.000000    2938.000000   \n",
       "mean   2007.518720         69.224932       164.796448      30.303948   \n",
       "std       4.613841          9.523867       124.292079     117.926501   \n",
       "min    2000.000000         36.300000         1.000000       0.000000   \n",
       "25%    2004.000000         63.100000        74.000000       0.000000   \n",
       "50%    2008.000000         72.100000       144.000000       3.000000   \n",
       "75%    2012.000000         75.700000       228.000000      22.000000   \n",
       "max    2015.000000         89.000000       723.000000    1800.000000   \n",
       "\n",
       "           Alcohol  percentage expenditure  Hepatitis B       Measles   \\\n",
       "count  2744.000000             2938.000000  2385.000000    2938.000000   \n",
       "mean      4.602861              738.251295    80.940461    2419.592240   \n",
       "std       4.052413             1987.914858    25.070016   11467.272489   \n",
       "min       0.010000                0.000000     1.000000       0.000000   \n",
       "25%       0.877500                4.685343    77.000000       0.000000   \n",
       "50%       3.755000               64.912906    92.000000      17.000000   \n",
       "75%       7.702500              441.534144    97.000000     360.250000   \n",
       "max      17.870000            19479.911610    99.000000  212183.000000   \n",
       "\n",
       "              BMI   under-five deaths         Polio  Total expenditure  \\\n",
       "count  2904.000000         2938.000000  2919.000000         2712.00000   \n",
       "mean     38.321247           42.035739    82.550188            5.93819   \n",
       "std      20.044034          160.445548    23.428046            2.49832   \n",
       "min       1.000000            0.000000     3.000000            0.37000   \n",
       "25%      19.300000            0.000000    78.000000            4.26000   \n",
       "50%      43.500000            4.000000    93.000000            5.75500   \n",
       "75%      56.200000           28.000000    97.000000            7.49250   \n",
       "max      87.300000         2500.000000    99.000000           17.60000   \n",
       "\n",
       "       Diphtheria      HIV/AIDS            GDP    Population  \\\n",
       "count  2919.000000  2938.000000    2490.000000  2.286000e+03   \n",
       "mean     82.324084     1.742103    7483.158469  1.275338e+07   \n",
       "std      23.716912     5.077785   14270.169342  6.101210e+07   \n",
       "min       2.000000     0.100000       1.681350  3.400000e+01   \n",
       "25%      78.000000     0.100000     463.935626  1.957932e+05   \n",
       "50%      93.000000     0.100000    1766.947595  1.386542e+06   \n",
       "75%      97.000000     0.800000    5910.806335  7.420359e+06   \n",
       "max      99.000000    50.600000  119172.741800  1.293859e+09   \n",
       "\n",
       "        thinness  1-19 years   thinness 5-9 years  \\\n",
       "count            2904.000000          2904.000000   \n",
       "mean                4.839704             4.870317   \n",
       "std                 4.420195             4.508882   \n",
       "min                 0.100000             0.100000   \n",
       "25%                 1.600000             1.500000   \n",
       "50%                 3.300000             3.300000   \n",
       "75%                 7.200000             7.200000   \n",
       "max                27.700000            28.600000   \n",
       "\n",
       "       Income composition of resources    Schooling  \n",
       "count                      2771.000000  2775.000000  \n",
       "mean                          0.627551    11.992793  \n",
       "std                           0.210904     3.358920  \n",
       "min                           0.000000     0.000000  \n",
       "25%                           0.493000    10.100000  \n",
       "50%                           0.677000    12.300000  \n",
       "75%                           0.779000    14.300000  \n",
       "max                           0.948000    20.700000  "
      ]
     },
     "execution_count": 95,
     "metadata": {},
     "output_type": "execute_result"
    }
   ],
   "source": [
    "#for any columns of continuous value, \n",
    "# it gives you count, mean, std, min, etc.\n",
    "df.describe()"
   ]
  },
  {
   "cell_type": "code",
   "execution_count": 96,
   "metadata": {},
   "outputs": [],
   "source": [
    "#use some easy library for visualization\n",
    "#it accepts input as dataframe\n",
    "import seaborn as sns\n",
    "#seaborn: super easy library for visualization\n",
    "#it's built on top of matplotlib \n",
    "#matplotlib is the classic python library for visualization\n",
    "\n",
    "#if i want to predict egg price, using gold and oil prices\n",
    "#we called gold and oil prices MANY names\n",
    "#   features, factors, independent variables, predictors, X\n",
    "#   here, gold is called x_1, oil is called x_2\n",
    "#we called egg price MANY names\n",
    "#   labels, targets, outcomes, dependent variables, y"
   ]
  },
  {
   "cell_type": "code",
   "execution_count": 97,
   "metadata": {},
   "outputs": [
    {
     "data": {
      "text/plain": [
       "<AxesSubplot:xlabel='Status', ylabel='count'>"
      ]
     },
     "execution_count": 97,
     "metadata": {},
     "output_type": "execute_result"
    },
    {
     "data": {
      "image/png": "[encoded data removed]",
      "text/plain": [
       "<Figure size 432x288 with 1 Axes>"
      ]
     },
     "metadata": {
      "needs_background": "light"
     },
     "output_type": "display_data"
    }
   ],
   "source": [
    "#1. countplot is to plot the discrete x_1 or y\n",
    "sns.countplot(data = df, x=\"Status\")"
   ]
  },
  {
   "cell_type": "code",
   "execution_count": 98,
   "metadata": {},
   "outputs": [
    {
     "data": {
      "text/plain": [
       "'0.11.2'"
      ]
     },
     "execution_count": 98,
     "metadata": {},
     "output_type": "execute_result"
    }
   ],
   "source": [
    "sns.__version__"
   ]
  },
  {
   "cell_type": "code",
   "execution_count": 99,
   "metadata": {},
   "outputs": [
    {
     "data": {
      "text/plain": [
       "<seaborn.axisgrid.FacetGrid at 0x12d299c10>"
      ]
     },
     "execution_count": 99,
     "metadata": {},
     "output_type": "execute_result"
    },
    {
     "data": {
      "image/png": "[encoded data removed]",
      "text/plain": [
       "<Figure size 360x360 with 1 Axes>"
      ]
     },
     "metadata": {
      "needs_background": "light"
     },
     "output_type": "display_data"
    }
   ],
   "source": [
    "#2. distplot or displt is to plot the continuous x_1 or y\n",
    "sns.displot(df.Alcohol)  #==> you get error, this is because your version is not >0.10\n",
    "#displot = distribution plot\n",
    "\n",
    "#exercise: try displot for another continuous variable"
   ]
  },
  {
   "cell_type": "code",
   "execution_count": 100,
   "metadata": {},
   "outputs": [
    {
     "data": {
      "text/plain": [
       "Index(['Country', 'Year', 'Status', 'Life expectancy ', 'Adult Mortality',\n",
       "       'infant deaths', 'Alcohol', 'percentage expenditure', 'Hepatitis B',\n",
       "       'Measles ', ' BMI ', 'under-five deaths ', 'Polio', 'Total expenditure',\n",
       "       'Diphtheria ', ' HIV/AIDS', 'GDP', 'Population',\n",
       "       ' thinness  1-19 years', ' thinness 5-9 years',\n",
       "       'Income composition of resources', 'Schooling'],\n",
       "      dtype='object')"
      ]
     },
     "execution_count": 100,
     "metadata": {},
     "output_type": "execute_result"
    }
   ],
   "source": [
    "df.columns"
   ]
  },
  {
   "cell_type": "code",
   "execution_count": 101,
   "metadata": {},
   "outputs": [],
   "source": [
    "'''\n",
    "format: .rename(\n",
    "    columns =\n",
    "    {oldname: newname,\n",
    "     oldname2: newname2,\n",
    "     oldname3: newname3}\n",
    ")\n",
    "'''\n",
    "df = df.rename(\n",
    "    columns = {'Life expectancy ': 'life-exp',\n",
    "               'Income composition of resources' : 'income',\n",
    "               'Schooling' : 'schooling'}\n",
    ")\n",
    "\n",
    "# df.head()\n",
    "\n",
    "#tips:  if you don't want to do df=, just put a argument inplace=True\n",
    "#exercise: can you change \n",
    "#   Income composition of resources to income, \n",
    "#   Schooling to schooling and \n",
    "#   Status to status"
   ]
  },
  {
   "cell_type": "code",
   "execution_count": 102,
   "metadata": {},
   "outputs": [
    {
     "data": {
      "text/plain": [
       "Index(['Country', 'Year', 'Status', 'life-exp', 'Adult Mortality',\n",
       "       'infant deaths', 'Alcohol', 'percentage expenditure', 'Hepatitis B',\n",
       "       'Measles', 'BMI', 'under-five deaths', 'Polio', 'Total expenditure',\n",
       "       'Diphtheria', 'HIV/AIDS', 'GDP', 'Population', 'thinness  1-19 years',\n",
       "       'thinness 5-9 years', 'income', 'schooling'],\n",
       "      dtype='object')"
      ]
     },
     "execution_count": 102,
     "metadata": {},
     "output_type": "execute_result"
    }
   ],
   "source": [
    "#challenge: help clear all the spaces in the columns\n",
    "import numpy as np\n",
    "df.columns = df.columns.str.strip()\n",
    "\n",
    "df.columns"
   ]
  },
  {
   "cell_type": "code",
   "execution_count": 103,
   "metadata": {},
   "outputs": [
    {
     "data": {
      "text/plain": [
       "<AxesSubplot:xlabel='Status', ylabel='life-exp'>"
      ]
     },
     "execution_count": 103,
     "metadata": {},
     "output_type": "execute_result"
    },
    {
     "data": {
      "image/png": "[encoded data removed]",
      "text/plain": [
       "<Figure size 432x288 with 1 Axes>"
      ]
     },
     "metadata": {
      "needs_background": "light"
     },
     "output_type": "display_data"
    }
   ],
   "source": [
    "#3. boxplot is to plot discrete x_1 vs. continuous x_2/y\n",
    "sns.boxplot(x = df['Status'], y = df['life-exp'])"
   ]
  },
  {
   "cell_type": "code",
   "execution_count": 104,
   "metadata": {},
   "outputs": [
    {
     "data": {
      "text/plain": [
       "<AxesSubplot:xlabel='Alcohol', ylabel='life-exp'>"
      ]
     },
     "execution_count": 104,
     "metadata": {},
     "output_type": "execute_result"
    },
    {
     "data": {
      "image/png": "[encoded data removed]",
      "text/plain": [
       "<Figure size 432x288 with 1 Axes>"
      ]
     },
     "metadata": {
      "needs_background": "light"
     },
     "output_type": "display_data"
    }
   ],
   "source": [
    "#4. scatterplot is to plot continuous x_1 vs. continuous x_2/y\n",
    "#hue MUST be a discrete variable\n",
    "sns.scatterplot(x = df['Alcohol'], y = df['life-exp'], hue = df['Status'])"
   ]
  },
  {
   "cell_type": "code",
   "execution_count": 105,
   "metadata": {},
   "outputs": [
    {
     "data": {
      "text/plain": [
       "Index(['Country', 'Year', 'Status', 'life-exp', 'Adult Mortality',\n",
       "       'infant deaths', 'Alcohol', 'percentage expenditure', 'Hepatitis B',\n",
       "       'Measles', 'BMI', 'under-five deaths', 'Polio', 'Total expenditure',\n",
       "       'Diphtheria', 'HIV/AIDS', 'GDP', 'Population', 'thinness  1-19 years',\n",
       "       'thinness 5-9 years', 'income', 'schooling'],\n",
       "      dtype='object')"
      ]
     },
     "execution_count": 105,
     "metadata": {},
     "output_type": "execute_result"
    }
   ],
   "source": [
    "df.columns"
   ]
  },
  {
   "cell_type": "code",
   "execution_count": 106,
   "metadata": {},
   "outputs": [
    {
     "data": {
      "text/plain": [
       "numpy.ndarray"
      ]
     },
     "execution_count": 106,
     "metadata": {},
     "output_type": "execute_result"
    }
   ],
   "source": [
    "cols = df.columns\n",
    "cols = np.array(cols)\n",
    "\n",
    "type(cols)"
   ]
  },
  {
   "cell_type": "code",
   "execution_count": 107,
   "metadata": {},
   "outputs": [
    {
     "data": {
      "text/plain": [
       "array(['Adult Mortality', 'infant deaths', 'Alcohol',\n",
       "       'percentage expenditure', 'Hepatitis B', 'Measles', 'BMI',\n",
       "       'under-five deaths', 'Polio', 'Total expenditure', 'Diphtheria',\n",
       "       'HIV/AIDS', 'GDP', 'Population', 'thinness  1-19 years',\n",
       "       'thinness 5-9 years', 'income', 'schooling'], dtype=object)"
      ]
     },
     "execution_count": 107,
     "metadata": {},
     "output_type": "execute_result"
    }
   ],
   "source": [
    "#then i have to check how to remove\n",
    "cols = np.delete(cols, np.where(cols=='Status'))\n",
    "cols = np.delete(cols, np.where(cols=='Country'))\n",
    "cols = np.delete(cols, np.where(cols=='life-exp'))\n",
    "cols = np.delete(cols, np.where(cols=='Year'))\n",
    "\n",
    "cols\n"
   ]
  },
  {
   "cell_type": "code",
   "execution_count": 108,
   "metadata": {},
   "outputs": [],
   "source": [
    "#exercise, find me the features that have very strong correlation with life-exp\n",
    "#exercise, which features have almost NO relationship with life exp\n",
    "\n",
    "#get some columns, but I also have to drop some columns - drop Status, drop Country, drop life-exp\n",
    "# import matplotlib.pyplot as plt\n",
    "# for each_col in cols: \n",
    "#     sns.scatterplot(x = df[each_col], y = df['life-exp'], hue = df['Status'])\n",
    "#     plt.show()"
   ]
  },
  {
   "cell_type": "code",
   "execution_count": 109,
   "metadata": {},
   "outputs": [
    {
     "data": {
      "text/plain": [
       "<AxesSubplot:>"
      ]
     },
     "execution_count": 109,
     "metadata": {},
     "output_type": "execute_result"
    },
    {
     "data": {
      "image/png": "[encoded data removed]",
      "text/plain": [
       "<Figure size 1080x360 with 2 Axes>"
      ]
     },
     "metadata": {
      "needs_background": "light"
     },
     "output_type": "display_data"
    }
   ],
   "source": [
    "#exercise:  try sns.heatmap(df.corr(), annot=True)\n",
    "#df.corr() calculates the correlation between continuous features\n",
    "\n",
    "#exercise:  try to figure out how to increase the size of the figure \n",
    "# (hint: you have to change using matplotlib figure size)\n",
    "\n",
    "#1st way: use sns.set \n",
    "#2nd way: set the figure size via the plt variable of matplotlib\n",
    "import matplotlib.pyplot as plt\n",
    "\n",
    "plt.figure(figsize=(15, 5))\n",
    "sns.heatmap(df.corr(), annot=True)"
   ]
  },
  {
   "cell_type": "markdown",
   "metadata": {},
   "source": [
    "# 3. Preprocessing / Cleaning\n",
    "\n",
    "### 3.1 dealing with missing values\n",
    "  - Case 1: **Continuous values**\n",
    "    - Replace with:\n",
    "      - 1. **mean/median** if the distribution is normal\n",
    "      - 2. **median** if the distribution is NOT normal\n",
    "      - 3. **0** if 0 is a very common occurrence in the real-world\n",
    "      - 4. **regression** if your data fits nicely with regression, especially linear regression\n",
    "    - Do we ever drop?\n",
    "      - Almost never.  Drop columns lose a lot of values, dropping rows also lost other features....\n",
    "      - If you are super sure this is human mistake, you can drop\n",
    "  - Case 2: **Discrete values**\n",
    "    - Replace with: \n",
    "      - 1. **Majority** - when majority is like 90%\n",
    "      - 2. **No category** - when we are not so sure\n",
    "      - 3. **Ratio** - preserve the shape of distribution"
   ]
  },
  {
   "cell_type": "code",
   "execution_count": 110,
   "metadata": {},
   "outputs": [
    {
     "data": {
      "text/plain": [
       "Country                     0\n",
       "Year                        0\n",
       "Status                      0\n",
       "life-exp                   10\n",
       "Adult Mortality            10\n",
       "infant deaths               0\n",
       "Alcohol                   194\n",
       "percentage expenditure      0\n",
       "Hepatitis B               553\n",
       "Measles                     0\n",
       "BMI                        34\n",
       "under-five deaths           0\n",
       "Polio                      19\n",
       "Total expenditure         226\n",
       "Diphtheria                 19\n",
       "HIV/AIDS                    0\n",
       "GDP                       448\n",
       "Population                652\n",
       "thinness  1-19 years       34\n",
       "thinness 5-9 years         34\n",
       "income                    167\n",
       "schooling                 163\n",
       "dtype: int64"
      ]
     },
     "execution_count": 110,
     "metadata": {},
     "output_type": "execute_result"
    }
   ],
   "source": [
    "#function to quickly check missing values\n",
    "df.isna().sum()\n",
    "\n",
    "# df['life-exp'].isna().sum()\n",
    "\n",
    "#this is my plan:\n",
    "\n",
    "#features: income, schooling, status\n",
    "#label   : life-exp"
   ]
  },
  {
   "cell_type": "code",
   "execution_count": 111,
   "metadata": {},
   "outputs": [
    {
     "data": {
      "text/plain": [
       "(0.6275510645976182, 0.677)"
      ]
     },
     "execution_count": 111,
     "metadata": {},
     "output_type": "execute_result"
    },
    {
     "data": {
      "image/png": "[encoded data removed]",
      "text/plain": [
       "<Figure size 360x360 with 1 Axes>"
      ]
     },
     "metadata": {
      "needs_background": "light"
     },
     "output_type": "display_data"
    }
   ],
   "source": [
    "#typical steps to fill in missing value (continuous values)\n",
    "\n",
    "#1. Ex1: plot the distribution (income, schooling, life-exp)\n",
    "#if your data is discrete, use countplot\n",
    "sns.displot(df['income'])\n",
    "\n",
    "#2. Ex2: print mean and median\n",
    "df['income'].mean(), df['income'].median()\n",
    "\n",
    "#3. judge by yourself mean or median better, then fillna\n",
    "##########I COMMENT DUE TO POSSIBLE DATA LEAKAGE\n",
    "# df['income'] = df['income'].fillna(df['income'].median())\n",
    "#df['income'].fillna(df['income'].median(), inplace=True)  ==> you don't have assign a variable to take the value\n",
    "\n",
    "#exercise: please fillna for schooling and life-exp\n",
    "\n",
    "#1. plot the distribution\n",
    "# let's assume i plot already, and i found that median is a good representation\n",
    "# good representation - high probability\n",
    "# ##########I COMMENT DUE TO POSSIBLE DATA LEAKAGE\n",
    "# df['life-exp'] = df['life-exp'].fillna(df['life-exp'].median())\n",
    "# df['schooling'] = df['schooling'].fillna(df['schooling'].median())\n",
    "\n",
    "#make sure schooling.isna().sum() and life-exp.isna().sum() is 0\n",
    "\n",
    "#1, 2, 3, 3, 100\n",
    "\n",
    "#assert df['schooling'].isna().sum() == 0  #unit test\n",
    "\n",
    "#mean = 22\n",
    "#median = 3"
   ]
  },
  {
   "cell_type": "code",
   "execution_count": 112,
   "metadata": {},
   "outputs": [],
   "source": [
    "#press B to quickly get new cell\n",
    "#press D D to quickly delete cell\n",
    "#press M to change to markdown"
   ]
  },
  {
   "cell_type": "code",
   "execution_count": 113,
   "metadata": {},
   "outputs": [],
   "source": [
    "# df.isna().sum()"
   ]
  },
  {
   "cell_type": "code",
   "execution_count": 114,
   "metadata": {},
   "outputs": [],
   "source": [
    "# cols = ['life-exp', 'income', 'schooling']\n",
    "\n",
    "# for col in cols:\n",
    "#     df[col].fillna(df[col].median(), inplace=True)\n",
    "\n",
    "# assert df['life-exp'].isna().sum() == 0\n",
    "# assert df['income'].isna().sum() == 0\n",
    "# assert df['schooling'].isna().sum() == 0\n",
    "\n",
    "#one thing very important\n",
    "#if YOU HAVE MISSING VALUES, when you run ML models\n",
    "#   you will get error:  Infinity NaN values.....\n",
    "#if you want to drop the rows, use df[colname].dropna()"
   ]
  },
  {
   "cell_type": "markdown",
   "metadata": {},
   "source": [
    "### 3.2 Convert strings to numbers (float/int)\n",
    "\n",
    "- because ALL ML and DL models don't take strings\n",
    "  - data type error:  Expected int/float but got strings\n",
    "- to quickly scan use info(), note the \"objects\""
   ]
  },
  {
   "cell_type": "code",
   "execution_count": 115,
   "metadata": {},
   "outputs": [],
   "source": [
    "#df.info() \n",
    "#scan for dtype = objects"
   ]
  },
  {
   "cell_type": "code",
   "execution_count": 116,
   "metadata": {},
   "outputs": [
    {
     "data": {
      "text/plain": [
       "array(['Developing', 'Developed'], dtype=object)"
      ]
     },
     "execution_count": 116,
     "metadata": {},
     "output_type": "execute_result"
    }
   ],
   "source": [
    "df.Status.unique()"
   ]
  },
  {
   "cell_type": "markdown",
   "metadata": {},
   "source": [
    "#### Theory/principle how to convert string to integer/float\n",
    "\n",
    "Three ways:\n",
    "\n",
    "1. **Label encoding**: Just change to number:\n",
    "   1. Example: change developing to 0, developed to 1\n",
    "   2. Pros: super simple\n",
    "   3. Cons: imagine you got encoded 0, 1, 2, 3, 4, 5\n",
    "      1. You create a unwanted knowledge of order within this, e.g., 5 > 1\n",
    "      2. NEVER USE label encoding if you have more than two categories\n",
    "2. **One-hot encoding**: Pivot the values and make it become the columns\n",
    "   1. Delete the column \"Status\"\n",
    "   2. Put Developing as one column; Developed as another column\n",
    "      1. if Developing is true, put 1, and then Developed will be 0\n",
    "      2. if Developing is false, put 0, and then in the Developed col, will be 1\n",
    "3. **Sparse one-hot encoding**: if you have n columns of pivot, you can always delete 1 to save space."
   ]
  },
  {
   "cell_type": "code",
   "execution_count": 117,
   "metadata": {},
   "outputs": [
    {
     "name": "stdout",
     "output_type": "stream",
     "text": [
      "[1 0 0 1]\n"
     ]
    },
    {
     "data": {
      "text/plain": [
       "'\\nle.fit_transform(some_make_up_data) \\n\\n=== \\n\\nle.fit(some_make_up_data)  #learn the mapping\\nresult = le.transform(some_make_up_data)  #transform the data\\n\\n'"
      ]
     },
     "execution_count": 117,
     "metadata": {},
     "output_type": "execute_result"
    }
   ],
   "source": [
    "#we want to convert Status to 0 and 1\n",
    "#easiest way is to use sklearn.preprocessing import LabelEncoder\n",
    "\n",
    "#1. import the library\n",
    "from sklearn.preprocessing import LabelEncoder\n",
    "\n",
    "#2. create the object\n",
    "le = LabelEncoder()\n",
    "\n",
    "#3. fit and transform\n",
    "some_make_up_data = np.array([\"Male\", \"Female\", \"Female\", \"Male\"]) #===one column of df\n",
    "result = le.fit_transform(some_make_up_data)\n",
    "\n",
    "print(result)\n",
    "\n",
    "#if you want to know which map to which, use le.inverse_transform(np.array([0, 1]))\n",
    "\n",
    "'''\n",
    "le.fit_transform(some_make_up_data) \n",
    "\n",
    "=== \n",
    "\n",
    "le.fit(some_make_up_data)  #learn the mapping\n",
    "result = le.transform(some_make_up_data)  #transform the data\n",
    "\n",
    "'''\n",
    "\n",
    "#i want to tell the difference between fit and transform\n",
    "#fit means learn the pattern\n",
    "#transform means transform the data"
   ]
  },
  {
   "cell_type": "code",
   "execution_count": 118,
   "metadata": {},
   "outputs": [
    {
     "data": {
      "text/plain": [
       "array([1, 0])"
      ]
     },
     "execution_count": 118,
     "metadata": {},
     "output_type": "execute_result"
    }
   ],
   "source": [
    "#Exercise: please tranform Status using LabelEncoder\n",
    "df['status_en'] = le.fit_transform(df['Status'])\n",
    "df['status_en'].unique()"
   ]
  },
  {
   "cell_type": "code",
   "execution_count": 119,
   "metadata": {},
   "outputs": [
    {
     "data": {
      "text/plain": [
       "array(['Developed', 'Developing'], dtype=object)"
      ]
     },
     "execution_count": 119,
     "metadata": {},
     "output_type": "execute_result"
    }
   ],
   "source": [
    "#to know that what maps to what \n",
    "le.inverse_transform(np.array([0, 1]))"
   ]
  },
  {
   "cell_type": "code",
   "execution_count": 120,
   "metadata": {},
   "outputs": [],
   "source": [
    "#test that my transformation is correct\n",
    "assert len(df['status_en'].unique()) == 2"
   ]
  },
  {
   "cell_type": "markdown",
   "metadata": {},
   "source": [
    "Break: 16:50 - 17:00"
   ]
  },
  {
   "cell_type": "markdown",
   "metadata": {},
   "source": [
    "### 3.3 Standardization / Normalization\n",
    "\n",
    "-i.e., we usually do splitting before any preprocessing\n",
    "\n",
    "- splitting - test train split before any preprocessing\n",
    "  - if you standardize\n",
    "  - if you fill missing value with some global statistics, you should split\n",
    "  - (it's ok to label encode)\n",
    "\n",
    "- when some knowledge of the testing set flows to the training set, we called \"data leakage\"  --> this is one of MOST COMMON MISTAKES of all beginners...like 99%\n"
   ]
  },
  {
   "cell_type": "code",
   "execution_count": 121,
   "metadata": {},
   "outputs": [],
   "source": [
    "data = np.array([[1, 5], [2, 6], [3, 7], [4, 8]])"
   ]
  },
  {
   "cell_type": "code",
   "execution_count": 122,
   "metadata": {},
   "outputs": [
    {
     "data": {
      "text/plain": [
       "1.118033988749895"
      ]
     },
     "execution_count": 122,
     "metadata": {},
     "output_type": "execute_result"
    }
   ],
   "source": [
    "np.array([1, 2, 3, 4]).std()"
   ]
  },
  {
   "cell_type": "code",
   "execution_count": 123,
   "metadata": {},
   "outputs": [
    {
     "data": {
      "text/plain": [
       "-0.4504504504504504"
      ]
     },
     "execution_count": 123,
     "metadata": {},
     "output_type": "execute_result"
    }
   ],
   "source": [
    "(2 - 2.5) / 1.11"
   ]
  },
  {
   "cell_type": "code",
   "execution_count": 124,
   "metadata": {},
   "outputs": [
    {
     "name": "stdout",
     "output_type": "stream",
     "text": [
      "[[-1.34164079 -1.34164079]\n",
      " [-0.4472136  -0.4472136 ]\n",
      " [ 0.4472136   0.4472136 ]\n",
      " [ 1.34164079  1.34164079]]\n"
     ]
    }
   ],
   "source": [
    "#for each feature, do (x - mean) / std\n",
    "\n",
    "#for the first feature, mean = (1 + 2 + 3 + 4) / 4 = 2.5\n",
    "# for the first data, do (1 - 2.5) / 1.11 = -1.35\n",
    "# for the second data, do (2 - 2.5) / 1.11 = -0.45\n",
    "\n",
    "#after standardization, all features will have same scale\n",
    "#all features mean = 0, std = 1\n",
    "\n",
    "#1. import the library\n",
    "from sklearn.preprocessing import StandardScaler\n",
    "\n",
    "#2. create the object\n",
    "sc = StandardScaler()\n",
    "\n",
    "#3. fit and transform\n",
    "standardized_data = sc.fit_transform(data)\n",
    "\n",
    "print(standardized_data)\n",
    "\n",
    "#when do you want to standardize your data:\n",
    "#1. when you use regression, definitely yes - feature importance\n",
    "#2. in most classification algorithms (not distance-based algorithms), you benefit a bit\n",
    "#   from standardization\n",
    "#3. your training will be more stable\n",
    "\n",
    "#when you should NOT standardize your data:\n",
    "#1. when the mean does not represent well your data\n",
    "#   signal\n",
    "#   we can either do nothing or do min-max normalization\n",
    "#from sklearn.preprocessing import MinMaxScaler #try this at your home\n",
    "# (x - xmax) / (xmax - xmin) ==> (0, 1)"
   ]
  },
  {
   "cell_type": "markdown",
   "metadata": {},
   "source": [
    "# 4. Feature Extracton / Selection\n",
    "\n",
    "- Seriously consider which X and y to use for training"
   ]
  },
  {
   "cell_type": "code",
   "execution_count": 125,
   "metadata": {},
   "outputs": [
    {
     "data": {
      "text/plain": [
       "Index(['Country', 'Year', 'Status', 'life-exp', 'Adult Mortality',\n",
       "       'infant deaths', 'Alcohol', 'percentage expenditure', 'Hepatitis B',\n",
       "       'Measles', 'BMI', 'under-five deaths', 'Polio', 'Total expenditure',\n",
       "       'Diphtheria', 'HIV/AIDS', 'GDP', 'Population', 'thinness  1-19 years',\n",
       "       'thinness 5-9 years', 'income', 'schooling', 'status_en'],\n",
       "      dtype='object')"
      ]
     },
     "execution_count": 125,
     "metadata": {},
     "output_type": "execute_result"
    }
   ],
   "source": [
    "df.columns"
   ]
  },
  {
   "cell_type": "markdown",
   "metadata": {},
   "source": [
    "#### Define X and y"
   ]
  },
  {
   "cell_type": "code",
   "execution_count": 126,
   "metadata": {},
   "outputs": [],
   "source": [
    "X = df[['income', 'schooling', 'status_en']]\n",
    "X.shape\n",
    "\n",
    "#for X to be used with sklearn, it must be in the shape of (m, n)\n",
    "#where m is number of samples, and n is number of features\n",
    "#if you have only one feature, n = 1 (e.g., it cannot be (m, ); MUST be (m, 1))\n",
    "\n",
    "assert X.shape[0] > 0\n",
    "assert X.shape[1] > 0"
   ]
  },
  {
   "cell_type": "code",
   "execution_count": 127,
   "metadata": {},
   "outputs": [],
   "source": [
    "y = df['life-exp']\n",
    "#for y to be used with sklearn, if you only have one label,\n",
    "#the shape is (m, ), where m is number of samples\n",
    "\n",
    "#another possible is (m, k), k is the number of classes\n",
    "#for sample 1, it belongs to class 2 out of four classes\n",
    "#y will look like this [0, 1, 0, 0]\n",
    "#predicted y will look like this [0.2, 0.3, 0.3, 0.2]\n",
    "#for sample 2, it belongs to class 3 out of four classes\n",
    "#y will look like this [0, 0, 1, 0]"
   ]
  },
  {
   "cell_type": "markdown",
   "metadata": {},
   "source": [
    "#### Test-train-split"
   ]
  },
  {
   "cell_type": "code",
   "execution_count": 128,
   "metadata": {},
   "outputs": [],
   "source": [
    "from sklearn.model_selection import train_test_split\n",
    "\n",
    "X_train, X_test, y_train, y_test = train_test_split(X, y, test_size=0.3, random_state=999)"
   ]
  },
  {
   "cell_type": "code",
   "execution_count": 129,
   "metadata": {},
   "outputs": [
    {
     "data": {
      "text/plain": [
       "((2056, 3), (882, 3), (2056,), (882,))"
      ]
     },
     "execution_count": 129,
     "metadata": {},
     "output_type": "execute_result"
    }
   ],
   "source": [
    "X_train.shape, X_test.shape, y_train.shape, y_test.shape"
   ]
  },
  {
   "cell_type": "code",
   "execution_count": 130,
   "metadata": {},
   "outputs": [],
   "source": [
    "import math\n",
    "assert int(X.shape[0] * 0.7) == X_train.shape[0]\n",
    "assert int(X.shape[0] * 0.7) == y_train.shape[0]\n",
    "assert int(math.ceil(X.shape[0] * 0.3)) == X_test.shape[0]\n",
    "assert int(math.ceil(X.shape[0] * 0.3)) == y_test.shape[0]"
   ]
  },
  {
   "cell_type": "markdown",
   "metadata": {},
   "source": [
    "#### Fillna\n",
    "\n",
    "- I assume you already deleted fillna on top!"
   ]
  },
  {
   "cell_type": "code",
   "execution_count": 131,
   "metadata": {},
   "outputs": [],
   "source": [
    "#to avoid warning\n",
    "X_train = X_train.copy()\n",
    "X_test  = X_test.copy()\n",
    "\n",
    "#fillna for training set\n",
    "X_train['income'].fillna(X_train['income'].median(), inplace=True)\n",
    "X_train['schooling'].fillna(X_train['schooling'].median(), inplace=True)\n",
    "y_train.fillna(y_train.median(), inplace=True)\n",
    "\n",
    "#use median of training set to fillna for testing set\n",
    "X_test['income'].fillna(X_train['income'].median(), inplace=True)\n",
    "X_test['schooling'].fillna(X_train['schooling'].median(), inplace=True)\n",
    "y_test.fillna(y_train.median(), inplace=True)"
   ]
  },
  {
   "cell_type": "code",
   "execution_count": 132,
   "metadata": {},
   "outputs": [],
   "source": [
    "assert X_train['income'].isna().sum() == 0\n",
    "assert X_train['schooling'].isna().sum() == 0\n",
    "assert y_train.isna().sum() == 0\n",
    "\n",
    "assert X_test['income'].isna().sum() == 0\n",
    "assert X_test['schooling'].isna().sum() == 0\n",
    "assert y_test.isna().sum() == 0"
   ]
  },
  {
   "cell_type": "markdown",
   "metadata": {},
   "source": [
    "#### Scaling"
   ]
  },
  {
   "cell_type": "code",
   "execution_count": 133,
   "metadata": {},
   "outputs": [],
   "source": [
    "#now i want to show, let's say standardization, how to do\n",
    "\n",
    "#please assume the same for any other preprocessing\n",
    "\n",
    "from sklearn.preprocessing import StandardScaler\n",
    "\n",
    "sc = StandardScaler()\n",
    "X_train = sc.fit_transform(X_train)\n",
    "X_test  = sc.transform(X_test)"
   ]
  },
  {
   "cell_type": "code",
   "execution_count": 134,
   "metadata": {},
   "outputs": [],
   "source": [
    "#please assume the same for fillna\n",
    "\n",
    "#Exercise: \n",
    "# i want you to restart this notebook, but now, fillna with median() \n",
    "# from the training set...."
   ]
  },
  {
   "cell_type": "code",
   "execution_count": 135,
   "metadata": {},
   "outputs": [],
   "source": [
    "# income_median    = np.median(X_train[: , 0])\n",
    "# schooling_median = np.median(X_train[:,  1])\n",
    "\n",
    "# income_median, schooling_median\n",
    "\n",
    "#hint: get the median first, before it got standardized, \n",
    "# if not, the value you replaced is not valid"
   ]
  },
  {
   "cell_type": "code",
   "execution_count": 136,
   "metadata": {},
   "outputs": [
    {
     "data": {
      "text/plain": [
       "((2056, 3), (882, 3), (2056,), (882,))"
      ]
     },
     "execution_count": 136,
     "metadata": {},
     "output_type": "execute_result"
    }
   ],
   "source": [
    "X_train.shape, X_test.shape, y_train.shape, y_test.shape"
   ]
  },
  {
   "cell_type": "code",
   "execution_count": 137,
   "metadata": {},
   "outputs": [
    {
     "data": {
      "text/plain": [
       "(0.9999999999999999, 1.0)"
      ]
     },
     "execution_count": 137,
     "metadata": {},
     "output_type": "execute_result"
    }
   ],
   "source": [
    "X_train[:, 0].mean(), X_train[:, 1].mean()\n",
    "X_train[:, 0].std(), X_train[:, 1].std()"
   ]
  },
  {
   "cell_type": "markdown",
   "metadata": {},
   "source": [
    "# 4. Modeling\n",
    "\n",
    "- prequisities - X: (m, n), y: (m, )"
   ]
  },
  {
   "cell_type": "code",
   "execution_count": 138,
   "metadata": {},
   "outputs": [
    {
     "data": {
      "text/plain": [
       "((2056, 3), (882, 3), (2056,), (882,))"
      ]
     },
     "execution_count": 138,
     "metadata": {},
     "output_type": "execute_result"
    }
   ],
   "source": [
    "X_train.shape, X_test.shape, y_train.shape, y_test.shape\n",
    "\n",
    "#m = number of samples\n",
    "#n = number of features"
   ]
  },
  {
   "cell_type": "code",
   "execution_count": 139,
   "metadata": {},
   "outputs": [
    {
     "data": {
      "text/plain": [
       "array([-0.59830618, -0.51245325,  0.45138351])"
      ]
     },
     "execution_count": 139,
     "metadata": {},
     "output_type": "execute_result"
    }
   ],
   "source": [
    "X_train[1] #first sample of income, schooling, status_en"
   ]
  },
  {
   "cell_type": "code",
   "execution_count": 140,
   "metadata": {},
   "outputs": [
    {
     "data": {
      "text/plain": [
       "59.9"
      ]
     },
     "execution_count": 140,
     "metadata": {},
     "output_type": "execute_result"
    }
   ],
   "source": [
    "y_train[1] #label is life expectancy"
   ]
  },
  {
   "cell_type": "markdown",
   "metadata": {},
   "source": [
    "Algorithms can be into supervised and unsupervised.\n",
    "\n",
    "Supervised has input and label\n",
    "Unsupervised has only input\n",
    "\n",
    "Here, in our case, \n",
    "- input is income, schooling, and status_en (X)\n",
    "- label is life expectancy (y)\n",
    "\n",
    "Now in supervised learning, there are two types:\n",
    "- if the label is continuous: Regression\n",
    "- if the label is discrete:   Classification\n",
    "\n",
    "Because life expectancy is a continuous value, we are doing a regression problem"
   ]
  },
  {
   "cell_type": "markdown",
   "metadata": {},
   "source": [
    "For regression, \n",
    "- The most typical is Linear Regression"
   ]
  },
  {
   "cell_type": "code",
   "execution_count": 141,
   "metadata": {},
   "outputs": [
    {
     "name": "stdout",
     "output_type": "stream",
     "text": [
      "0: [0 1 2 3] : [4]\n",
      "1: [0 1 3 4] : [2]\n",
      "2: [0 1 2 4] : [3]\n",
      "3: [1 2 3 4] : [0]\n",
      "4: [0 2 3 4] : [1]\n"
     ]
    }
   ],
   "source": [
    "from sklearn.model_selection import KFold\n",
    "\n",
    "kf = KFold(n_splits = 5, shuffle=True)\n",
    "\n",
    "#here note that i have 5 samples!\n",
    "X = np.array([[1, 2], [3, 4], [5, 6], [7, 8], [9, 10]])\n",
    "\n",
    "for ix, (train_index, test_index) in enumerate(kf.split(X)):\n",
    "    print(f\"{ix}: {train_index} : {test_index}\")"
   ]
  },
  {
   "cell_type": "markdown",
   "metadata": {},
   "source": [
    "### 4.1 Cross validation"
   ]
  },
  {
   "cell_type": "code",
   "execution_count": 142,
   "metadata": {},
   "outputs": [
    {
     "name": "stdout",
     "output_type": "stream",
     "text": [
      "[array([-42.35989618, -39.23415305, -41.76639236, -36.47269065,\n",
      "       -41.46062361]), array([-22.06535574, -25.87868691, -18.00586171, -25.79208681,\n",
      "       -20.34019365])]\n"
     ]
    }
   ],
   "source": [
    "#modeling - to train a model to understand the pattern\n",
    "#many possible algorithms to train a model\n",
    "#sklearn DON'T USE GPU - although there is a way - they use CPU....\n",
    "\n",
    "#1. import the algorithm\n",
    "from sklearn.linear_model import LinearRegression\n",
    "from sklearn.ensemble import RandomForestRegressor \n",
    "\n",
    "#data -> algorithm -> model\n",
    "\n",
    "#Exercise: print out the r2 and RMSE for me\n",
    "#put the RMSE and r2 for RandomForestRegressor in the chat....\n",
    "#16:30 - 16:45\n",
    "\n",
    "#2. create the object of the algorithm\n",
    "rf = RandomForestRegressor(n_jobs=-1)  #n_jobs=-1 means i gonna use the full power of my PC\n",
    "lr = LinearRegression()\n",
    "\n",
    "#3. call .fit(X_train, y_train) to learn the patterns\n",
    "# model.fit(X_train, y_train)\n",
    "\n",
    "#import the cross validation function\n",
    "from sklearn.model_selection import cross_val_score\n",
    "from sklearn.model_selection import KFold\n",
    "\n",
    "kf = KFold(n_splits = 5, shuffle=True)\n",
    "\n",
    "#many ways for cv, go check at sklearn.model_selection, e.g., StratifiedFold\n",
    "#run that function, finish!\n",
    "#format: cross_val_score(model, xtrain, ytrain, cv=kfold(5), scoring='accuracy')\n",
    "\n",
    "models = [lr, rf]\n",
    "scores = []\n",
    "\n",
    "for model in models:\n",
    "    scores.append(\n",
    "        cross_val_score(model, X_train, y_train, cv=kf, \n",
    "                         scoring='neg_mean_squared_error')\n",
    "                  ) #try scoring='r2'\n",
    "\n",
    "print(scores)\n",
    "#Exercise: compare the cross-validation score between LinearRegression and \n",
    "#RandomForestRegressor (put on the chat the mean scores of the two...)"
   ]
  },
  {
   "cell_type": "markdown",
   "metadata": {},
   "source": [
    "#### 4.2 Grid Search\n",
    "\n",
    "We got that RandomForestRegressor is the best between LinearRegression and RandomForestRegressor.\n",
    "\n",
    "Now, the question is, even RandomForestRegressor is the best between these two algorithms, can we find the **best version** of RandomForestRegressor?\n",
    "\n",
    "Well, you can use cross-validation again!!!\n",
    "\n",
    "Example:\n",
    "\n",
    "rf1 = RandomForestRegressor(n_estimators=5, max_depth=5)\n",
    "rf2 = RandomForestRegressor(n_estimators=6, max_depth=5)\n",
    "rf3 = RandomForestRegressor(n_estimators=7, max_depth=5)\n",
    "\n",
    "rf4 = RandomForestRegressor(n_estimators=5, max_depth=6)\n",
    "rf5 = RandomForestRegressor(n_estimators=6, max_depth=6)\n",
    "rf6 = RandomForestRegressor(n_estimators=7, max_depth=6)\n",
    "\n",
    "....go on....\n",
    "\n",
    "models = [rf1, rf2, ..., rf6]\n",
    "\n",
    "for model in models:\n",
    "    do cross_validation on model\n",
    "\n",
    "DO YOU GUYS FEEL PAINFUL?\n",
    "\n",
    "So the sklearn people help you create a nice function for you do loop all the parameters and is called `GridSearch`\n",
    "\n",
    "GridSearch == Cross validation, but Gridsearch is for within one algorithm.\n",
    "\n",
    "Normal steps:\n",
    "- do `cross_val_score` to first compare different algorithms, --> best is RandomForestRegressor\n",
    "- then do `gridsearch` to find the best version of that one best algoirthm  --> best is RandomForestRegressor(n_estimators = X, max_depth = Y, etc.)"
   ]
  },
  {
   "cell_type": "code",
   "execution_count": 143,
   "metadata": {},
   "outputs": [
    {
     "data": {
      "text/plain": [
       "GridSearchCV(cv=5, estimator=RandomForestRegressor(random_state=999), n_jobs=-1,\n",
       "             param_grid={'max_depth': [5, 10], 'max_features': ['auto', 'log2'],\n",
       "                         'n_estimators': [5, 6, 7, 8, 9, 10]},\n",
       "             return_train_score=True, scoring='neg_mean_squared_error')"
      ]
     },
     "execution_count": 143,
     "metadata": {},
     "output_type": "execute_result"
    }
   ],
   "source": [
    "#1. import the library\n",
    "from sklearn.model_selection import GridSearchCV\n",
    "#RandomSearchCV is a faster version\n",
    "\n",
    "#2. define the search space\n",
    "#is a dictionary: key(param): value(value)\n",
    "#go to google and search sklearn RandomForestRegressor, see how many parameters\n",
    "#what is the idea: no idea - just loop everything\n",
    "param_grid = {\n",
    "    'max_depth' : [5, 10],\n",
    "    'n_estimators' : [5, 6, 7, 8, 9, 10],\n",
    "    'max_features' : ['auto', 'log2'],\n",
    "}\n",
    "#how many combinations? --> 24 combinations\n",
    "\n",
    "#3. define the model you want to search with\n",
    "estimator = RandomForestRegressor(random_state=999)\n",
    "\n",
    "#4. define the gridsearch object with the search space\n",
    "grid = GridSearchCV(estimator  = estimator,\n",
    "                    param_grid = param_grid,\n",
    "                    cv = 5,  #by default, it uses kfold anyway; 5 here means 5 fold\n",
    "                    n_jobs  = -1,\n",
    "                    refit   = True, #refits means, after 24 loops, it will fit the best version again!, so grid = best model\n",
    "                    scoring = 'neg_mean_squared_error',\n",
    "                    return_train_score=True)\n",
    "\n",
    "#5. run the search\n",
    "grid.fit(X_train, y_train)  #why training set???\n"
   ]
  },
  {
   "cell_type": "code",
   "execution_count": 144,
   "metadata": {},
   "outputs": [
    {
     "name": "stdout",
     "output_type": "stream",
     "text": [
      "Best params: {'max_depth': 10, 'max_features': 'log2', 'n_estimators': 10}\n",
      "Best mse: -21.14410166721787\n",
      "Best estimator: RandomForestRegressor(max_depth=10, max_features='log2', n_estimators=10,\n",
      "                      random_state=999)\n"
     ]
    }
   ],
   "source": [
    "#after you run, you can check many things:\n",
    "\n",
    "#best parameters\n",
    "print(f\"Best params: {grid.best_params_}\")\n",
    "\n",
    "#best mse (score)\n",
    "print(f\"Best mse: {grid.best_score_}\")\n",
    "\n",
    "#you can retrieve the best model (basically the model trained the best_params_)\n",
    "print(f\"Best estimator: {grid.best_estimator_}\")  #but you DON'T NEED THIS, because the `grid` itself is already \n",
    "#the best model, because of refit=True"
   ]
  },
  {
   "cell_type": "code",
   "execution_count": 145,
   "metadata": {},
   "outputs": [],
   "source": [
    "#Exercise: find the best combination of parameters, \n",
    "# and put on the chat...."
   ]
  },
  {
   "cell_type": "code",
   "execution_count": 146,
   "metadata": {},
   "outputs": [],
   "source": [
    "#after you call fit, the model is created\n",
    "#where is the model???\n",
    "# lr.coef_"
   ]
  },
  {
   "cell_type": "code",
   "execution_count": 147,
   "metadata": {},
   "outputs": [],
   "source": [
    "# lr.intercept_"
   ]
  },
  {
   "cell_type": "code",
   "execution_count": 148,
   "metadata": {},
   "outputs": [
    {
     "data": {
      "text/plain": [
       "74.2484"
      ]
     },
     "execution_count": 148,
     "metadata": {},
     "output_type": "execute_result"
    }
   ],
   "source": [
    "#linear regression is this:\n",
    "#y = 2.978*income + 3.548*schooling - 1.508*status_en + 69.2304\n",
    "\n",
    "#if income = 1, schooling = 1, status_en = 1, what is life expectancy?\n",
    "#y = 2.978 * 1 + 3.548 * 1 - 1.508 * 1 + 69.2304\n",
    "\n",
    "2.978 * 1 + 3.548 * 1 - 1.508 * 1 + 69.2304"
   ]
  },
  {
   "cell_type": "code",
   "execution_count": 149,
   "metadata": {},
   "outputs": [
    {
     "data": {
      "text/plain": [
       "array([77.33571429, 74.70426852])"
      ]
     },
     "execution_count": 149,
     "metadata": {},
     "output_type": "execute_result"
    }
   ],
   "source": [
    "data = np.array([  [1, 1, 1], [0.5, 0.1, 0.3]]) #income = 1, schooling = 1, status_en = 1\n",
    "\n",
    "result = grid.predict(data)\n",
    "result"
   ]
  },
  {
   "cell_type": "code",
   "execution_count": 150,
   "metadata": {},
   "outputs": [],
   "source": [
    "# lr.coef_.shape"
   ]
  },
  {
   "cell_type": "code",
   "execution_count": 151,
   "metadata": {},
   "outputs": [
    {
     "data": {
      "text/plain": [
       "(2, 3)"
      ]
     },
     "execution_count": 151,
     "metadata": {},
     "output_type": "execute_result"
    }
   ],
   "source": [
    "data.shape"
   ]
  },
  {
   "cell_type": "code",
   "execution_count": 152,
   "metadata": {},
   "outputs": [],
   "source": [
    "#dot product\n",
    "# data @ lr.coef_ + lr.intercept_"
   ]
  },
  {
   "cell_type": "markdown",
   "metadata": {},
   "source": [
    "# 5. Inference / Testing\n",
    "\n",
    "- Well, now you got the model.  \n",
    "- But what really matters, is how good it is\n",
    "  - The measure of goodness:\n",
    "    - testing the model with **unseen** data\n",
    "    - the **unseen** data is basically our testing set"
   ]
  },
  {
   "cell_type": "markdown",
   "metadata": {},
   "source": [
    "So you should NEVER use testing set to compare models or to find best parameters\n",
    "\n",
    "Why?  Because you violate the \"unseen data\" law....\n",
    "\n",
    "Then how to fix:\n",
    "\n",
    "1. Easiest way: from the training set, further split it into training set and validation set\n",
    "    - 100:  training set: 50; validation set: 20: testing set: 30\n",
    "    - Train model on training set, test them first on validation set\n",
    "    - Train another model on training set, test them first on validation set\n",
    "    - Compare their validation score, and then adjust accordingly\n",
    "    - Last, choose the best model you can, and test with testing set...\n",
    "\n",
    "Bad things about this guy:\n",
    "1. you lose data for validation\n",
    "\n",
    "Answer: cross-validation"
   ]
  },
  {
   "cell_type": "markdown",
   "metadata": {},
   "source": [
    "$\\hat{y}$ = predicted y\n",
    "<br>\n",
    "\n",
    "$y$       = actual y"
   ]
  },
  {
   "cell_type": "code",
   "execution_count": 153,
   "metadata": {},
   "outputs": [],
   "source": [
    "#4. call .predict(X_test) to ask the model to predict the label given the features\n",
    "\n",
    "#now the best model is `grid` because of refit=True\n",
    "#Exercise: now, please run everything, and put the best r2 on the chat\n",
    "yhat = grid.predict(X_test)\n",
    "#yhat"
   ]
  },
  {
   "cell_type": "markdown",
   "metadata": {},
   "source": [
    "### 5.1 Evaluation\n",
    "\n",
    "- For regression, the common metric is two\n",
    "  - Root squared mean error (RMSE)\n",
    "  - $r^2$"
   ]
  },
  {
   "cell_type": "code",
   "execution_count": 154,
   "metadata": {},
   "outputs": [
    {
     "data": {
      "text/plain": [
       "(20.136228497221563, 4.487340916090682, 3.1403587571899894)"
      ]
     },
     "execution_count": 154,
     "metadata": {},
     "output_type": "execute_result"
    }
   ],
   "source": [
    "from sklearn.metrics import mean_squared_error\n",
    "from sklearn.metrics import mean_absolute_error\n",
    "\n",
    "MSE  = mean_squared_error(y_test, yhat)\n",
    "RMSE = math.sqrt(MSE)\n",
    "MAE  = mean_absolute_error(y_test, yhat)\n",
    "\n",
    "MSE, RMSE, MAE\n",
    "\n",
    "#if you compare two models\n",
    "#a slight difference in RMSE may equal to big difference in MSE"
   ]
  },
  {
   "cell_type": "code",
   "execution_count": 155,
   "metadata": {},
   "outputs": [],
   "source": [
    "#lower the error, better\n",
    "#d1 + d2 + d3 + ... + dn\n",
    "#if you only do like this, they will cancel - positive will cancel negatives\n",
    "\n",
    "#how to fix this: two ways\n",
    "#d1^2 + d2^2 + d3^2 + ... + dn^2   ===> mean_squared_error\n",
    "#sqrt (d1^2 + d2^2 + d3^2 + ... + dn^2)  ===> root_mean_squared_error\n",
    "\n",
    "#|d1| + |d2| + |d3| + ... + |dn|  ===> mean_absolute_error\n",
    "\n",
    "#which one to use? Just use all three? if one go up, another will go up\n"
   ]
  },
  {
   "cell_type": "code",
   "execution_count": 156,
   "metadata": {},
   "outputs": [],
   "source": [
    "#how do i know (38.01317129153252, 6.1654822432257905, 4.533491536620471) is low or high\n",
    "#lower better\n",
    "\n",
    "#what is the range of RMSE, MSE, MAE\n",
    "#(0, infinity)\n",
    "\n",
    "#how to interpret\n",
    "#2 ways: 1) compare with your friend....academic paper\n",
    "#        2) R^2 - this is NOT an alternative for RMSE, but a complement\n",
    "\n",
    "#R^2 is basically benchmarking your model against **the mean line**\n",
    "\n",
    "#R^2  = 1 - RSS / TSS  (RSS = MSE of the model, TSS is basically the MSE of mean line)\n",
    "# = 1 => you are so much better than mean\n",
    "# = 0 ==> no better than mean\n",
    "# < 0 ==> worse than mean\n",
    "\n",
    "#range: (-infinity , 1)"
   ]
  },
  {
   "cell_type": "markdown",
   "metadata": {},
   "source": [
    "Example how $r^2$ works"
   ]
  },
  {
   "cell_type": "code",
   "execution_count": 157,
   "metadata": {},
   "outputs": [
    {
     "name": "stdout",
     "output_type": "stream",
     "text": [
      "Good:  1.0\n",
      "No better than the mean:  0.0\n",
      "Worse than mean:  -6984292.464285715\n"
     ]
    }
   ],
   "source": [
    "real_y = np.array([1, 2, 3, 4, 5, 6, 7])\n",
    "\n",
    "good_yhat = np.array([1, 2, 3, 4, 5, 6, 7])\n",
    "mean_yhat = np.array([4, 4, 4, 4, 4, 4, 4])\n",
    "verybad_yhat = np.array([999, 999, 11000, 3333, 4444, 3333, 5555])\n",
    "\n",
    "from sklearn.metrics import r2_score\n",
    "\n",
    "#Exercise: help me calculate the r2 score of real_y vs good, real_y vs. mean, \n",
    "# real_y vs. very bad\n",
    "\n",
    "print(\"Good: \", r2_score(real_y, good_yhat))\n",
    "print(\"No better than the mean: \", r2_score(real_y, mean_yhat))\n",
    "print(\"Worse than mean: \", r2_score(real_y, verybad_yhat))"
   ]
  },
  {
   "cell_type": "code",
   "execution_count": 158,
   "metadata": {},
   "outputs": [
    {
     "data": {
      "text/plain": [
       "0.7797482531711045"
      ]
     },
     "execution_count": 158,
     "metadata": {},
     "output_type": "execute_result"
    }
   ],
   "source": [
    "#Exercise: calculate the r2 score of y_test and our yhat\n",
    "#try to interpret\n",
    "r2_score(y_test, yhat)"
   ]
  },
  {
   "cell_type": "markdown",
   "metadata": {},
   "source": [
    "# 6. Feature Importance\n",
    "\n",
    "- Refers to which features is important\n",
    "  - income, schooling, status_en ->which features are really important for prediction?\n",
    "\n",
    "- Three families of feature importance\n",
    "  1. **Algorithm** way - the algorithm provides a mean to understand feature importance\n",
    "     1. Linear regression - you can look at the weights (if you standardized your data)\n",
    "     2. RandomForest - you can go to `grid.feature_importances` which will tell you which feature is more important\n",
    "  2. **Permutation** way - randomly shuffle your feature, and monitor how your performance changes. Uses `from sklearn.inspection import permutation_importance`\n",
    "  3. **Shap** way - uses game theory to know which features are good. You have to `pip install shap`, and then `import shap`"
   ]
  },
  {
   "cell_type": "markdown",
   "metadata": {},
   "source": [
    "### 6.1 Algorithm way"
   ]
  },
  {
   "cell_type": "code",
   "execution_count": 164,
   "metadata": {},
   "outputs": [
    {
     "data": {
      "text/plain": [
       "array([0.59206049, 0.29457715, 0.11336236])"
      ]
     },
     "execution_count": 164,
     "metadata": {},
     "output_type": "execute_result"
    }
   ],
   "source": [
    "#grid.best_estimator_ will give you the random forest\n",
    "#and random forest algorithm provide an attribute called feature_importances\n",
    "#different algorithms in sklearn may or MAY NOT give you feature importance\n",
    "grid.best_estimator_.feature_importances_"
   ]
  },
  {
   "cell_type": "code",
   "execution_count": 170,
   "metadata": {},
   "outputs": [
    {
     "data": {
      "text/plain": [
       "<BarContainer object of 3 artists>"
      ]
     },
     "execution_count": 170,
     "metadata": {},
     "output_type": "execute_result"
    },
    {
     "data": {
      "image/png": "[encoded data removed]",
      "text/plain": [
       "<Figure size 432x288 with 1 Axes>"
      ]
     },
     "metadata": {
      "needs_background": "light"
     },
     "output_type": "display_data"
    }
   ],
   "source": [
    "plt.barh(['income', 'schooling', 'status_en'], \n",
    "         grid.best_estimator_.feature_importances_)"
   ]
  },
  {
   "cell_type": "markdown",
   "metadata": {},
   "source": [
    "### 6.2 Permutation way"
   ]
  },
  {
   "cell_type": "code",
   "execution_count": 172,
   "metadata": {},
   "outputs": [
    {
     "name": "stdout",
     "output_type": "stream",
     "text": [
      "{'importances_mean': array([71.77849704, 28.09158671,  9.10955226]), 'importances_std': array([3.86462904, 1.98685333, 1.3558588 ]), 'importances': array([[70.54726265, 71.89027451, 77.40616799, 73.48138879, 65.56739126],\n",
      "       [27.34855852, 31.22141839, 29.05140035, 27.61594842, 25.22060786],\n",
      "       [11.22256621,  8.15338466,  8.2325967 , 10.19526192,  7.74395183]])}\n"
     ]
    }
   ],
   "source": [
    "#1. import the library\n",
    "from sklearn.inspection import permutation_importance\n",
    "\n",
    "#2. just run the function\n",
    "#format: permutation_importance(model, X_test, y_test)\n",
    "importance = permutation_importance(grid, X_test, y_test)\n",
    "print(importance)\n",
    "\n",
    "#take 2-3 mins to understand this..."
   ]
  },
  {
   "cell_type": "code",
   "execution_count": 174,
   "metadata": {},
   "outputs": [
    {
     "data": {
      "text/plain": [
       "<BarContainer object of 3 artists>"
      ]
     },
     "execution_count": 174,
     "metadata": {},
     "output_type": "execute_result"
    },
    {
     "data": {
      "image/png": "[encoded data removed]",
      "text/plain": [
       "<Figure size 432x288 with 1 Axes>"
      ]
     },
     "metadata": {
      "needs_background": "light"
     },
     "output_type": "display_data"
    }
   ],
   "source": [
    "#3. optional: you can plot\n",
    "#exercise: plot the importances_mean with ['income', 'schooling', 'status_en']\n",
    "plt.barh(['income', 'schooling', 'status_en'], importance['importances_mean'])"
   ]
  },
  {
   "cell_type": "markdown",
   "metadata": {},
   "source": [
    "### 6.3 Shap way"
   ]
  },
  {
   "cell_type": "code",
   "execution_count": 178,
   "metadata": {},
   "outputs": [
    {
     "data": {
      "image/png": "[encoded data removed]",
      "text/plain": [
       "<Figure size 576x194.4 with 1 Axes>"
      ]
     },
     "metadata": {
      "needs_background": "light"
     },
     "output_type": "display_data"
    }
   ],
   "source": [
    "#1. import the library\n",
    "import shap\n",
    "\n",
    "#2. create the shap explainer\n",
    "explainer = shap.TreeExplainer(grid.best_estimator_)\n",
    "\n",
    "#3. run the shap! \n",
    "shap_values = explainer.shap_values(X_test)\n",
    "#print(shap_values)\n",
    "\n",
    "#4. plot!\n",
    "#format: shap.summary_plot(shap_values, X_test, plot_type, features_names)\n",
    "shap.summary_plot(shap_values, X_test, plot_type='bar', feature_names = ['income', \n",
    "                                                                          'schooling',\n",
    "                                                                          'status_en'])"
   ]
  },
  {
   "cell_type": "markdown",
   "metadata": {},
   "source": [
    "# 7. Saving model for deployment"
   ]
  },
  {
   "cell_type": "code",
   "execution_count": 179,
   "metadata": {},
   "outputs": [
    {
     "name": "stdout",
     "output_type": "stream",
     "text": [
      "[73.96742857 74.61742857]\n"
     ]
    }
   ],
   "source": [
    "#import pickle\n",
    "import pickle\n",
    "\n",
    "#set the filename\n",
    "filename = 'models/lifeexmp.pkl' #.pkl is optional but useful for reminder\n",
    "\n",
    "#dump the file \n",
    "#format: pickle.dump(model, open(filename, 'wb')) #wb stands writing\n",
    "pickle.dump(grid, open(filename, 'wb'))\n",
    "\n",
    "#i can show you how to load the model\n",
    "loaded_model = pickle.load(open(filename, 'rb'))\n",
    "\n",
    "#i can show you how you can instantly use the model to predict\n",
    "some_data = np.array([   [1, 2, 3], [4, 5, 6]  ])\n",
    "#Exercise:  can you help me predict the life expectancy\n",
    "#when income = 0.6, schooling = 0.5, status_en = 0.9\n",
    "#your model expects standardized values, so make sure you standardize first\n",
    "print(loaded_model.predict(sc.transform(some_data)))"
   ]
  }
 ],
 "metadata": {
  "kernelspec": {
   "display_name": "Python 3.8.10 ('.venv': pipenv)",
   "language": "python",
   "name": "python3"
  },
  "language_info": {
   "codemirror_mode": {
    "name": "ipython",
    "version": 3
   },
   "file_extension": ".py",
   "mimetype": "text/x-python",
   "name": "python",
   "nbconvert_exporter": "python",
   "pygments_lexer": "ipython3",
   "version": "3.8.10"
  },
  "vscode": {
   "interpreter": {
    "hash": "27768773b483d82a9b2b839e3fa80b1be5789db7fd78df4eedef2df266871616"
   }
  }
 },
 "nbformat": 4,
 "nbformat_minor": 4
}
