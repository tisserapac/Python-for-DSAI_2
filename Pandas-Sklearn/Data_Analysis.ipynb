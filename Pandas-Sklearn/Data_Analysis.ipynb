{
 "cells": [
  {
   "cell_type": "markdown",
   "metadata": {},
   "source": [
    "# 1. Extract-Transform-Load (ETL) "
   ]
  },
  {
   "cell_type": "code",
   "execution_count": null,
   "metadata": {},
   "outputs": [],
   "source": [
    "#Imports\n",
    "import pandas as pd\n",
    "import matplotlib.pyplot as plt\n",
    "import seaborn as sns\n",
    "import numpy as np\n",
    "from sklearn.model_selection import train_test_split\n",
    "from sklearn.preprocessing import StandardScaler\n",
    "\n",
    "#Load data\n",
    "df = pd.read_csv(\"howlongwelive.csv\")\n",
    "\n",
    "#Preview data\n",
    "df.head()\n",
    "df.shape\n",
    "df.columns"
   ]
  },
  {
   "cell_type": "markdown",
   "metadata": {},
   "source": [
    "# 2. Exploratory Data Analysis (EDA)\n",
    "- looking at the distribution of data\n",
    "- plot something useful\n",
    "- understand the data\n",
    "- know which features to use\n",
    "  \n",
    "Note: **this is the MOST important step in all data science**"
   ]
  },
  {
   "cell_type": "code",
   "execution_count": null,
   "metadata": {},
   "outputs": [],
   "source": [
    "df.info()\n",
    "df.describe()"
   ]
  },
  {
   "cell_type": "code",
   "execution_count": null,
   "metadata": {},
   "outputs": [],
   "source": [
    "#Unique\n",
    "df['Status'].unique()"
   ]
  },
  {
   "cell_type": "code",
   "execution_count": null,
   "metadata": {},
   "outputs": [],
   "source": [
    "# Selecting from a condition, count\n",
    "developing_cond = df['Status'] == 'Developing'\n",
    "developed_cond  = df['Status'] == 'Developed'\n",
    "\n",
    "print(\"Number of developing countries: \", \n",
    "      len(df.Status[developing_cond]))\n",
    "\n",
    "print (\"Number of developed countries: \", \n",
    "       df.Status[developed_cond].count())"
   ]
  },
  {
   "cell_type": "code",
   "execution_count": null,
   "metadata": {},
   "outputs": [],
   "source": [
    "#Max, min, mean, median\n",
    "df['Alcohol'].max(), df.Alcohol.min(), df.Alcohol.mean(), df.Alcohol.median()"
   ]
  },
  {
   "cell_type": "code",
   "execution_count": null,
   "metadata": {},
   "outputs": [],
   "source": [
    "#exercise2: get the list of country\n",
    "#with Schooling more than the median\n",
    "#and GDP more than the median\n",
    "\n",
    "cond1 = df.Schooling > df.Schooling.median()\n",
    "cond2 = df.GDP > df.GDP.median()\n",
    "\n",
    "countries = df.Country[cond1 & cond2].unique()\n",
    "#use | for or\n",
    "\n",
    "type(countries)"
   ]
  },
  {
   "cell_type": "code",
   "execution_count": null,
   "metadata": {},
   "outputs": [],
   "source": []
  }
 ],
 "metadata": {
  "kernelspec": {
   "display_name": "Python 3.8.10 ('.venv': pipenv)",
   "language": "python",
   "name": "python3"
  },
  "language_info": {
   "name": "python",
   "version": "3.8.10"
  },
  "orig_nbformat": 4,
  "vscode": {
   "interpreter": {
    "hash": "27768773b483d82a9b2b839e3fa80b1be5789db7fd78df4eedef2df266871616"
   }
  }
 },
 "nbformat": 4,
 "nbformat_minor": 2
}
