{
 "cells": [
  {
   "cell_type": "code",
   "execution_count": 1,
   "metadata": {},
   "outputs": [
    {
     "name": "stdout",
     "output_type": "stream",
     "text": [
      "25\n"
     ]
    }
   ],
   "source": [
    "#functions is a bunch of code that can be reused\n",
    "\n",
    "#you create function by starting the term \"def\"\n",
    "\n",
    "# def functionname(arguments):\n",
    "#     what you function do\n",
    "\n",
    "#let's try to create a function that will return a square of any input\n",
    "\n",
    "def square(x):\n",
    "    return x ** 2\n",
    "\n",
    "#result will be mapped to whatever return\n",
    "result = square(5)  #this 5 maps to x\n",
    "\n",
    "print(result)"
   ]
  },
  {
   "cell_type": "code",
   "execution_count": 2,
   "metadata": {},
   "outputs": [
    {
     "name": "stdout",
     "output_type": "stream",
     "text": [
      "Key1           Value1         \n",
      "Key2           Value2         \n",
      "5              25             \n"
     ]
    }
   ],
   "source": [
    "def print_msg(key, value):\n",
    "    print(f\"{key:<15}{value:<15}\")\n",
    "\n",
    "print_msg(\"Key1\", \"Value1\")\n",
    "print_msg(\"Key2\", \"Value2\")\n",
    "print_msg(5, 25)"
   ]
  },
  {
   "cell_type": "code",
   "execution_count": 3,
   "metadata": {},
   "outputs": [
    {
     "data": {
      "text/plain": [
       "64"
      ]
     },
     "execution_count": 3,
     "metadata": {},
     "output_type": "execute_result"
    }
   ],
   "source": [
    "#can you do a 5 minute exercise\n",
    "\n",
    "#create a function that accept x, y , and return x ** y\n",
    "\n",
    "def calc_power(x, y):\n",
    "    return x ** y\n",
    "\n",
    "calc_power(4, 3)    "
   ]
  },
  {
   "cell_type": "markdown",
   "metadata": {},
   "source": [
    "Difficult things about function is type of arguments you can accept"
   ]
  },
  {
   "cell_type": "code",
   "execution_count": 5,
   "metadata": {},
   "outputs": [
    {
     "name": "stdout",
     "output_type": "stream",
     "text": [
      "Hello\n"
     ]
    }
   ],
   "source": [
    "#1st type of argument: most basic\n",
    "def func1(x):\n",
    "    print(x)\n",
    "\n",
    "func1('Hello')    "
   ]
  },
  {
   "cell_type": "code",
   "execution_count": 7,
   "metadata": {},
   "outputs": [
    {
     "name": "stdout",
     "output_type": "stream",
     "text": [
      "Sam - 40\n"
     ]
    }
   ],
   "source": [
    "#2nd type of arguments: keywords\n",
    "def func2(name = 'Sam', age = '40'): #it's basically a default\n",
    "    print(name, age, sep=' - ')\n",
    "\n",
    "#1st behavior is that, if nothing is specify, the default will be used.\n",
    "func2() "
   ]
  },
  {
   "cell_type": "code",
   "execution_count": 8,
   "metadata": {},
   "outputs": [
    {
     "name": "stdout",
     "output_type": "stream",
     "text": [
      "Henry - 34\n"
     ]
    }
   ],
   "source": [
    "#of course, you can specify the argument, 2nd behaviors is that, it can be any order as long as the name matches\n",
    "func2(age=34, name='Henry')"
   ]
  },
  {
   "cell_type": "code",
   "execution_count": 9,
   "metadata": {},
   "outputs": [
    {
     "name": "stdout",
     "output_type": "stream",
     "text": [
      "Sam - 24\n"
     ]
    }
   ],
   "source": [
    "func2(age=24)\n"
   ]
  },
  {
   "cell_type": "code",
   "execution_count": 10,
   "metadata": {},
   "outputs": [
    {
     "ename": "TypeError",
     "evalue": "can only concatenate str (not \"int\") to str",
     "output_type": "error",
     "traceback": [
      "\u001b[0;31m---------------------------------------------------------------------------\u001b[0m",
      "\u001b[0;31mTypeError\u001b[0m                                 Traceback (most recent call last)",
      "\u001b[1;32m/root/projects/Day5/Functions.ipynb Cell 9\u001b[0m in \u001b[0;36m<cell line: 5>\u001b[0;34m()\u001b[0m\n\u001b[1;32m      <a href='vscode-notebook-cell://attached-container%2B7b22636f6e7461696e65724e616d65223a222f707974686f6e2d666f722d647361692d626f6f7463616d702d707974686f6e2d31227d/root/projects/Day5/Functions.ipynb#ch0000009vscode-remote?line=1'>2</a>\u001b[0m     x_int \u001b[39m=\u001b[39m x_int \u001b[39m+\u001b[39m \u001b[39m1\u001b[39m\n\u001b[1;32m      <a href='vscode-notebook-cell://attached-container%2B7b22636f6e7461696e65724e616d65223a222f707974686f6e2d666f722d647361692d626f6f7463616d702d707974686f6e2d31227d/root/projects/Day5/Functions.ipynb#ch0000009vscode-remote?line=2'>3</a>\u001b[0m     \u001b[39mprint\u001b[39m(y_str)\n\u001b[0;32m----> <a href='vscode-notebook-cell://attached-container%2B7b22636f6e7461696e65724e616d65223a222f707974686f6e2d666f722d647361692d626f6f7463616d702d707974686f6e2d31227d/root/projects/Day5/Functions.ipynb#ch0000009vscode-remote?line=4'>5</a>\u001b[0m some_func(\u001b[39m\"\u001b[39;49m\u001b[39mchaky\u001b[39;49m\u001b[39m\"\u001b[39;49m, \u001b[39m888\u001b[39;49m)\n",
      "\u001b[1;32m/root/projects/Day5/Functions.ipynb Cell 9\u001b[0m in \u001b[0;36msome_func\u001b[0;34m(x_int, y_str)\u001b[0m\n\u001b[1;32m      <a href='vscode-notebook-cell://attached-container%2B7b22636f6e7461696e65724e616d65223a222f707974686f6e2d666f722d647361692d626f6f7463616d702d707974686f6e2d31227d/root/projects/Day5/Functions.ipynb#ch0000009vscode-remote?line=0'>1</a>\u001b[0m \u001b[39mdef\u001b[39;00m \u001b[39msome_func\u001b[39m(x_int, y_str):\n\u001b[0;32m----> <a href='vscode-notebook-cell://attached-container%2B7b22636f6e7461696e65724e616d65223a222f707974686f6e2d666f722d647361692d626f6f7463616d702d707974686f6e2d31227d/root/projects/Day5/Functions.ipynb#ch0000009vscode-remote?line=1'>2</a>\u001b[0m     x_int \u001b[39m=\u001b[39m x_int \u001b[39m+\u001b[39;49m \u001b[39m1\u001b[39;49m\n\u001b[1;32m      <a href='vscode-notebook-cell://attached-container%2B7b22636f6e7461696e65724e616d65223a222f707974686f6e2d666f722d647361692d626f6f7463616d702d707974686f6e2d31227d/root/projects/Day5/Functions.ipynb#ch0000009vscode-remote?line=2'>3</a>\u001b[0m     \u001b[39mprint\u001b[39m(y_str)\n",
      "\u001b[0;31mTypeError\u001b[0m: can only concatenate str (not \"int\") to str"
     ]
    }
   ],
   "source": [
    "def some_func(x_int, y_str):\n",
    "    x_int = x_int + 1\n",
    "    print(y_str)\n",
    "    \n",
    "some_func(\"chaky\", 888)"
   ]
  },
  {
   "cell_type": "code",
   "execution_count": 11,
   "metadata": {},
   "outputs": [
    {
     "name": "stdout",
     "output_type": "stream",
     "text": [
      "chaky\n"
     ]
    }
   ],
   "source": [
    "some_func(y_str = \"chaky\", x_int = 888)  #what would happen?"
   ]
  },
  {
   "cell_type": "code",
   "execution_count": 12,
   "metadata": {},
   "outputs": [
    {
     "name": "stdout",
     "output_type": "stream",
     "text": [
      "(3, 4, 5)\n"
     ]
    }
   ],
   "source": [
    "#3rd type of argument is \"tuples\"\n",
    "def some_func(*x):\n",
    "    print(x)\n",
    "\n",
    "some_tuple = (3, 4, 5) \n",
    "\n",
    "some_func(*some_tuple)"
   ]
  },
  {
   "cell_type": "code",
   "execution_count": 13,
   "metadata": {},
   "outputs": [
    {
     "name": "stdout",
     "output_type": "stream",
     "text": [
      "{'name': 'Sam', 'age': 45}\n"
     ]
    }
   ],
   "source": [
    "#4th is \"dictionary\"\n",
    "def some_dict_func(**person):\n",
    "    print(person)\n",
    "\n",
    "some_dict = {}    \n",
    "some_dict['name'] = 'Sam'\n",
    "some_dict['age'] = 45\n",
    "\n",
    "some_dict_func(**some_dict)"
   ]
  },
  {
   "cell_type": "markdown",
   "metadata": {},
   "source": [
    "Putting them all together"
   ]
  },
  {
   "cell_type": "code",
   "execution_count": null,
   "metadata": {},
   "outputs": [],
   "source": [
    "#there is a rule that you need to follow\n",
    "\n",
    "#def some_func(basic_arg1, basic_arg2, *tuple1, name='chaky', gender='M', **my_dict)"
   ]
  },
  {
   "cell_type": "code",
   "execution_count": 14,
   "metadata": {},
   "outputs": [
    {
     "data": {
      "text/plain": [
       "{'name': 'Sam', 'age': 45}"
      ]
     },
     "execution_count": 14,
     "metadata": {},
     "output_type": "execute_result"
    }
   ],
   "source": [
    "some_dict"
   ]
  },
  {
   "cell_type": "code",
   "execution_count": null,
   "metadata": {},
   "outputs": [],
   "source": [
    "some_dict = {\n",
    "    'y': 11,\n",
    "    'price': 22\n",
    "}"
   ]
  },
  {
   "cell_type": "code",
   "execution_count": 18,
   "metadata": {},
   "outputs": [
    {
     "ename": "TypeError",
     "evalue": "my_func() got multiple values for keyword argument 'name'",
     "output_type": "error",
     "traceback": [
      "\u001b[0;31m---------------------------------------------------------------------------\u001b[0m",
      "\u001b[0;31mTypeError\u001b[0m                                 Traceback (most recent call last)",
      "\u001b[1;32m/root/projects/Day5/Functions.ipynb Cell 17\u001b[0m in \u001b[0;36m<cell line: 12>\u001b[0;34m()\u001b[0m\n\u001b[1;32m      <a href='vscode-notebook-cell://attached-container%2B7b22636f6e7461696e65724e616d65223a222f707974686f6e2d666f722d647361692d626f6f7463616d702d707974686f6e2d31227d/root/projects/Day5/Functions.ipynb#ch0000018vscode-remote?line=8'>9</a>\u001b[0m our_tuple \u001b[39m=\u001b[39m ((\u001b[39m1\u001b[39m, \u001b[39m2\u001b[39m, \u001b[39m3\u001b[39m), (\u001b[39m4\u001b[39m, \u001b[39m5\u001b[39m, \u001b[39m6\u001b[39m))\n\u001b[1;32m     <a href='vscode-notebook-cell://attached-container%2B7b22636f6e7461696e65724e616d65223a222f707974686f6e2d666f722d647361692d626f6f7463616d702d707974686f6e2d31227d/root/projects/Day5/Functions.ipynb#ch0000018vscode-remote?line=9'>10</a>\u001b[0m name \u001b[39m=\u001b[39m \u001b[39m\"\u001b[39m\u001b[39mJohn\u001b[39m\u001b[39m\"\u001b[39m\n\u001b[0;32m---> <a href='vscode-notebook-cell://attached-container%2B7b22636f6e7461696e65724e616d65223a222f707974686f6e2d666f722d647361692d626f6f7463616d702d707974686f6e2d31227d/root/projects/Day5/Functions.ipynb#ch0000018vscode-remote?line=11'>12</a>\u001b[0m my_func(\u001b[39m\"\u001b[39m\u001b[39mFirst\u001b[39m\u001b[39m\"\u001b[39m, \u001b[39m\"\u001b[39m\u001b[39mSecond\u001b[39m\u001b[39m\"\u001b[39m, \u001b[39m*\u001b[39mour_tuple, name\u001b[39m=\u001b[39mname, \u001b[39m*\u001b[39m\u001b[39m*\u001b[39msome_dict)\n",
      "\u001b[0;31mTypeError\u001b[0m: my_func() got multiple values for keyword argument 'name'"
     ]
    }
   ],
   "source": [
    "def my_func(x, y, *tuple1, name='chaky', gender='M', **some_dict):\n",
    "    print(x)\n",
    "    print(y)\n",
    "    print(tuple1)\n",
    "    print(name)\n",
    "    print(gender)\n",
    "    print(some_dict)\n",
    "\n",
    "our_tuple = ((1, 2, 3), (4, 5, 6))\n",
    "name = \"John\"\n",
    "\n",
    "my_func(\"First\", \"Second\", *our_tuple, name=name, **some_dict)"
   ]
  },
  {
   "cell_type": "markdown",
   "metadata": {},
   "source": [
    "So here we learn couple of things:\n",
    "\n",
    "1. The order must be correct, when you use multiple type of arguments\n",
    "2. There must be only one tuple, but which the tuple can be of tuple of tuples\n",
    "3. Dictionary cannot contain keys that overlap with any argument name\n"
   ]
  },
  {
   "cell_type": "code",
   "execution_count": 23,
   "metadata": {},
   "outputs": [
    {
     "name": "stdout",
     "output_type": "stream",
     "text": [
      "racecar\n",
      "True\n",
      "gnirts\n",
      "False\n"
     ]
    }
   ],
   "source": [
    "#First exercise!\n",
    "#create a function \n",
    "\n",
    "#input: string\n",
    "#output: True or false, whether the string is a palindrome\n",
    "#racecar  ==> racecar  ==> True\n",
    "#chaky    ==> ykahc    ==> False\n",
    "\n",
    "def is_palindrome(text):\n",
    "    print(text[::-1])\n",
    "    return text == text[::-1]\n",
    "\n",
    "print(is_palindrome(\"racecar\"))\n",
    "print(is_palindrome(\"string\"))"
   ]
  },
  {
   "cell_type": "code",
   "execution_count": 24,
   "metadata": {},
   "outputs": [
    {
     "data": {
      "text/plain": [
       "[1, 2, 3, 4]"
      ]
     },
     "execution_count": 24,
     "metadata": {},
     "output_type": "execute_result"
    }
   ],
   "source": [
    "#create a function\n",
    "\n",
    "#input: a list of numbers\n",
    "#output: remove duplicates from the list, and return that list\n",
    "\n",
    "def remove_dup(some_list):\n",
    "    return list(set(some_list))\n",
    "\n",
    "remove_dup([1,2,3,4,1,3,2])    "
   ]
  },
  {
   "cell_type": "code",
   "execution_count": 25,
   "metadata": {},
   "outputs": [
    {
     "data": {
      "text/plain": [
       "[1, 2, 3]"
      ]
     },
     "execution_count": 25,
     "metadata": {},
     "output_type": "execute_result"
    }
   ],
   "source": [
    "#another way\n",
    "\n",
    "def remove_dup2(some_list):\n",
    "    result_list = []\n",
    "    for num in some_list:\n",
    "        if num not in result_list:\n",
    "            result_list.append(num)\n",
    "    return result_list\n",
    "\n",
    "remove_dup2([1, 1, 2, 2, 3])"
   ]
  },
  {
   "cell_type": "code",
   "execution_count": 26,
   "metadata": {},
   "outputs": [
    {
     "name": "stdout",
     "output_type": "stream",
     "text": [
      "10....\n",
      "9....\n",
      "8....\n",
      "7....\n",
      "6....\n",
      "5....\n",
      "4....\n",
      "3....\n",
      "2....\n",
      "1....\n",
      "Done!\n"
     ]
    }
   ],
   "source": [
    "# create a function\n",
    "\n",
    "# create a countdown clock, specifying the seconds\n",
    "# Hint: use import time    time.sleep(1)\n",
    "\n",
    "import time\n",
    "\n",
    "def countdown(n=3):\n",
    "    for i in range(n, 0, -1):\n",
    "        print(f\"{i}....\")\n",
    "        time.sleep(1)\n",
    "\n",
    "    print(\"Done!\")    \n",
    "\n",
    "countdown(10)    "
   ]
  },
  {
   "cell_type": "code",
   "execution_count": 27,
   "metadata": {},
   "outputs": [
    {
     "data": {
      "text/plain": [
       "[2, 2, 4, 6]"
      ]
     },
     "execution_count": 27,
     "metadata": {},
     "output_type": "execute_result"
    }
   ],
   "source": [
    "# create a function\n",
    "# accept a list of unknown number of numbers, and output only the even numbers\n",
    "# 12 % 2  ==> modulus 2 is a nice way to get even number\n",
    "\n",
    "def even_num_list(some_list):\n",
    "    even_list = []\n",
    "    for num in some_list:\n",
    "        if num % 2 == 0:\n",
    "            even_list.append(num)\n",
    "\n",
    "    return even_list\n",
    "\n",
    "my_list =  [1, 1, 2, 2, 3, 3, 4, 5, 6]\n",
    "\n",
    "even_num_list(my_list)            \n"
   ]
  },
  {
   "cell_type": "code",
   "execution_count": 30,
   "metadata": {},
   "outputs": [
    {
     "data": {
      "text/plain": [
       "'localhost:3306'"
      ]
     },
     "execution_count": 30,
     "metadata": {},
     "output_type": "execute_result"
    }
   ],
   "source": [
    "# create a funtion\n",
    "# accept a dictionary of server:localhost, port:3306, user:root, password:anything, and print only localhost:3306 (with semicolons)\n",
    "# who want to type very fast:  monkeytype, - improve typing speed to 60\n",
    "\n",
    "# server = \"localhost\"\n",
    "# port   = 3306\n",
    "\n",
    "# server + \":\" + str(port)\n",
    "\n",
    "my_dict = {\"server\":\"localhost\", \"port\":3306, \"user\":\"root\", \"password\":\"anything\"}\n",
    "\n",
    "def server_url(**server_details_dict):\n",
    "    name = server_details_dict[\"server\"]\n",
    "    port = server_details_dict[\"port\"]\n",
    "\n",
    "    return name + \":\" + str(port)\n",
    "\n",
    "server_url(**my_dict)    "
   ]
  }
 ],
 "metadata": {
  "kernelspec": {
   "display_name": "Python 3.8.10 ('.venv': pipenv)",
   "language": "python",
   "name": "python3"
  },
  "language_info": {
   "codemirror_mode": {
    "name": "ipython",
    "version": 3
   },
   "file_extension": ".py",
   "mimetype": "text/x-python",
   "name": "python",
   "nbconvert_exporter": "python",
   "pygments_lexer": "ipython3",
   "version": "3.8.10"
  },
  "orig_nbformat": 4,
  "vscode": {
   "interpreter": {
    "hash": "27768773b483d82a9b2b839e3fa80b1be5789db7fd78df4eedef2df266871616"
   }
  }
 },
 "nbformat": 4,
 "nbformat_minor": 2
}
