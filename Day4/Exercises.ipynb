{
 "cells": [
  {
   "cell_type": "code",
   "execution_count": 3,
   "metadata": {},
   "outputs": [
    {
     "name": "stdout",
     "output_type": "stream",
     "text": [
      "Keys      Values    \n",
      "====================\n",
      "age       25        \n",
      "name      Amp       \n",
      "gender    F         \n",
      "hobby     Badminton \n",
      "====================\n",
      "age       30        \n",
      "name      Apple     \n",
      "gender    F         \n",
      "hobby     Soccer    \n",
      "====================\n"
     ]
    }
   ],
   "source": [
    "#create a dictionary \n",
    "#of age, name, gender, hobby x 3 persons\n",
    "# loop them, and print only the person that starts with \"A\"\n",
    "\n",
    "person1 = {'age': 25, 'name': 'Amp', 'gender': 'F', 'hobby': 'Badminton'}\n",
    "person2 = {'age': 40, 'name': 'John', 'gender': 'M', 'hobby': 'Golf'}\n",
    "person3 = {'age': 30, 'name': 'Apple', 'gender': 'F', 'hobby': 'Soccer'}\n",
    "\n",
    "list_of_person = [person1, person2, person3]\n",
    "\n",
    "print(f\"{'Keys':<10}{'Values':<10}\")\n",
    "print(\"=\"*20)\n",
    "for person_dict in list_of_person:\n",
    "    name = person_dict['name']\n",
    "    if name[0].lower() == 'a':\n",
    "        for key, value in person_dict.items():\n",
    "            print(f\"{key:<10}{value:<10}\")\n",
    "        print(\"=\"*20)    "
   ]
  },
  {
   "cell_type": "code",
   "execution_count": 10,
   "metadata": {},
   "outputs": [
    {
     "name": "stdout",
     "output_type": "stream",
     "text": [
      "Key       Value     \n",
      "--------------------\n",
      "age       30        \n",
      "name      Apple     \n",
      "gender    F         \n",
      "hobby     Soccer    \n",
      "--------------------\n"
     ]
    }
   ],
   "source": [
    "# I want you to print only the person with age greater than or equal to 30, and is female\n",
    "\n",
    "print(f\"{'Key':<10}{'Value':<10}\")\n",
    "print(\"-\"*20)\n",
    "\n",
    "for person_dict in list_of_person:\n",
    "    age = person_dict['age']\n",
    "    gender = person_dict['gender']\n",
    "    if age >= 30 and gender.lower() == 'f':\n",
    "        for key, value in person_dict.items():\n",
    "            print(f\"{key:<10}{value:<10}\")\n",
    "        print(\"-\"*20)\n"
   ]
  },
  {
   "cell_type": "code",
   "execution_count": 11,
   "metadata": {},
   "outputs": [
    {
     "name": "stdout",
     "output_type": "stream",
     "text": [
      "{'age': 40, 'name': 'John', 'gender': 'M', 'hobby': 'Golf'}\n"
     ]
    }
   ],
   "source": [
    "# I want you to find the oldest person, and print that person\n",
    "oldest_age = 0\n",
    "oldest_index = 0\n",
    "\n",
    "for index, person_dict in enumerate(list_of_person):\n",
    "    if person_dict['age'] > oldest_age:\n",
    "        oldest_age = person_dict['age']\n",
    "        oldest_index = index\n",
    "\n",
    "print(list_of_person[oldest_index])"
   ]
  },
  {
   "cell_type": "code",
   "execution_count": 12,
   "metadata": {},
   "outputs": [
    {
     "data": {
      "text/plain": [
       "{1: 1, 2: 4, 3: 9, 4: 16, 5: 25}"
      ]
     },
     "execution_count": 12,
     "metadata": {},
     "output_type": "execute_result"
    }
   ],
   "source": [
    "#can you create a dictionary\n",
    "#i.e., given 5; must be able to change to any number\n",
    "#create {1:1, 2:4, 3:9, 4:16, 5:25}  ==> key = 1, value = 1 x 1;  key = 5, value = 5 * 5\n",
    "\n",
    "number = 5\n",
    "my_dict = dict()\n",
    "\n",
    "for i in range(1, number+1):\n",
    "    my_dict[i] = i * i\n",
    "\n",
    "my_dict\n",
    "\n"
   ]
  }
 ],
 "metadata": {
  "kernelspec": {
   "display_name": "Python 3.8.10 ('.venv': pipenv)",
   "language": "python",
   "name": "python3"
  },
  "language_info": {
   "codemirror_mode": {
    "name": "ipython",
    "version": 3
   },
   "file_extension": ".py",
   "mimetype": "text/x-python",
   "name": "python",
   "nbconvert_exporter": "python",
   "pygments_lexer": "ipython3",
   "version": "3.8.10"
  },
  "orig_nbformat": 4,
  "vscode": {
   "interpreter": {
    "hash": "27768773b483d82a9b2b839e3fa80b1be5789db7fd78df4eedef2df266871616"
   }
  }
 },
 "nbformat": 4,
 "nbformat_minor": 2
}
