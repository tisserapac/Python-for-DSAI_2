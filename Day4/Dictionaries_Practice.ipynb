{
 "cells": [
  {
   "cell_type": "markdown",
   "metadata": {},
   "source": [
    "Creating"
   ]
  },
  {
   "cell_type": "code",
   "execution_count": 1,
   "metadata": {},
   "outputs": [
    {
     "name": "stdout",
     "output_type": "stream",
     "text": [
      "1:  <class 'dict'>\n",
      "2:  {'Pineapple': 12, 'Orange': 10, 'Apple': 15}\n"
     ]
    }
   ],
   "source": [
    "some_dict = {\"Pineapple\" : 12,\n",
    "          \"Orange\" : 10,\n",
    "          \"Apple\" : 15,}\n",
    "\n",
    "print(\"1: \", type(some_dict))\n",
    "print(\"2: \", some_dict)"
   ]
  },
  {
   "cell_type": "markdown",
   "metadata": {},
   "source": [
    "Accessing"
   ]
  },
  {
   "cell_type": "code",
   "execution_count": 2,
   "metadata": {},
   "outputs": [
    {
     "name": "stdout",
     "output_type": "stream",
     "text": [
      "1: Pineapple =  12\n"
     ]
    }
   ],
   "source": [
    "print(\"1: Pineapple = \",  some_dict[\"Pineapple\"])"
   ]
  },
  {
   "cell_type": "code",
   "execution_count": 3,
   "metadata": {},
   "outputs": [
    {
     "data": {
      "text/plain": [
       "{'Pineapple': 12, 'Orange': 10, 'Apple': 15, 'Durian': 50}"
      ]
     },
     "execution_count": 3,
     "metadata": {},
     "output_type": "execute_result"
    }
   ],
   "source": [
    "some_dict[\"Durian\"] = 50\n",
    "some_dict"
   ]
  },
  {
   "cell_type": "markdown",
   "metadata": {},
   "source": [
    "Looping in dictionary"
   ]
  },
  {
   "cell_type": "code",
   "execution_count": 4,
   "metadata": {},
   "outputs": [
    {
     "name": "stdout",
     "output_type": "stream",
     "text": [
      "1: Pineapple = 12\n",
      "1: Orange = 10\n",
      "1: Apple = 15\n",
      "1: Durian = 50\n"
     ]
    }
   ],
   "source": [
    "for key in some_dict:\n",
    "    print(f\"1: {key} = {some_dict[key]}\")"
   ]
  },
  {
   "cell_type": "code",
   "execution_count": 5,
   "metadata": {},
   "outputs": [
    {
     "name": "stdout",
     "output_type": "stream",
     "text": [
      "2: Pineapple = 12\n",
      "2: Orange = 10\n",
      "2: Apple = 15\n",
      "2: Durian = 50\n"
     ]
    }
   ],
   "source": [
    "for key, value in some_dict.items():\n",
    "    print(f\"2: {key} = {value}\")"
   ]
  },
  {
   "cell_type": "code",
   "execution_count": 6,
   "metadata": {},
   "outputs": [
    {
     "name": "stdout",
     "output_type": "stream",
     "text": [
      "3: Apple = 15\n",
      "3: Durian = 50\n",
      "3: Orange = 10\n",
      "3: Pineapple = 12\n"
     ]
    }
   ],
   "source": [
    "for key, value in sorted(some_dict.items()):\n",
    "    print(f\"3: {key} = {value}\")"
   ]
  },
  {
   "cell_type": "code",
   "execution_count": 8,
   "metadata": {},
   "outputs": [
    {
     "name": "stdout",
     "output_type": "stream",
     "text": [
      "0: Pineapple = 12\n",
      "1: Orange = 10\n",
      "2: Apple = 15\n",
      "3: Durian = 50\n"
     ]
    }
   ],
   "source": [
    "for index, (key,value) in enumerate(some_dict.items()):\n",
    "    print(f\"{index}: {key} = {value}\")"
   ]
  }
 ],
 "metadata": {
  "kernelspec": {
   "display_name": "Python 3.8.10 ('.venv': pipenv)",
   "language": "python",
   "name": "python3"
  },
  "language_info": {
   "codemirror_mode": {
    "name": "ipython",
    "version": 3
   },
   "file_extension": ".py",
   "mimetype": "text/x-python",
   "name": "python",
   "nbconvert_exporter": "python",
   "pygments_lexer": "ipython3",
   "version": "3.8.10"
  },
  "orig_nbformat": 4,
  "vscode": {
   "interpreter": {
    "hash": "27768773b483d82a9b2b839e3fa80b1be5789db7fd78df4eedef2df266871616"
   }
  }
 },
 "nbformat": 4,
 "nbformat_minor": 2
}
