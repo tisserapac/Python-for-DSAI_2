{
 "cells": [
  {
   "cell_type": "markdown",
   "metadata": {},
   "source": [
    "Dictionaries - Code along\n",
    "Dictionaries are also like lists, except that each element is a key-value pair. The syntax for dictionaries is {key1 : value1, ...}:\n",
    "\n",
    "Creating"
   ]
  },
  {
   "cell_type": "code",
   "execution_count": 4,
   "metadata": {},
   "outputs": [
    {
     "name": "stdout",
     "output_type": "stream",
     "text": [
      "100\n"
     ]
    }
   ],
   "source": [
    "#a dictionary has a pair of information\n",
    "\n",
    "#for example, name;gender\n",
    "#for example, term;definition\n",
    "#for example, productID;price\n",
    "\n",
    "#to create dict, you use {  } ==> curly braces\n",
    "#use : to separate key, and value\n",
    "#use , to separate between pairs\n",
    "#product-ID : price  | productID = category_ID-product_ID\n",
    "product_dict = {'0010-32' : 100, '0010-33' : 134, '0020-12' : 30}\n",
    "type(product_dict)\n",
    "\n",
    "#extract the price of product ID 0010-32\n",
    "#use the key\n",
    "\n",
    "price = product_dict['0010-32']\n",
    "print(price)"
   ]
  },
  {
   "cell_type": "code",
   "execution_count": 5,
   "metadata": {},
   "outputs": [
    {
     "data": {
      "text/plain": [
       "'Male'"
      ]
     },
     "execution_count": 5,
     "metadata": {},
     "output_type": "execute_result"
    }
   ],
   "source": [
    "#let's have a bit of trial\n",
    "\n",
    "#can you guys create 5 names+gender pair; and try to extract the gender of \"Tom\"\n",
    "\n",
    "names = {\"Tom\":\"Male\", \"May\":\"Female\", \"Sarah\":\"Female\"}\n",
    "names[\"Tom\"]\n"
   ]
  },
  {
   "cell_type": "markdown",
   "metadata": {},
   "source": [
    "What if I want to add/change/del dictionary on the fly"
   ]
  },
  {
   "cell_type": "code",
   "execution_count": 9,
   "metadata": {},
   "outputs": [],
   "source": [
    "#I mean I don't have dictionary at the beginning; I want an empty dictionary\n",
    "\n",
    "#1st way: use dict() to create an empty dictionary (for list, use a = [], for tuple a = ())\n",
    "\n",
    "empty_dict = dict()"
   ]
  },
  {
   "cell_type": "code",
   "execution_count": 8,
   "metadata": {},
   "outputs": [],
   "source": [
    "#another way is to use {}\n",
    "\n",
    "empty_dict = {}"
   ]
  },
  {
   "cell_type": "code",
   "execution_count": 10,
   "metadata": {},
   "outputs": [
    {
     "name": "stdout",
     "output_type": "stream",
     "text": [
      "{'Tom': 'Male'}\n"
     ]
    }
   ],
   "source": [
    "#now I want to add some pairs of information\n",
    "empty_dict[\"Tom\"] = 'Male'\n",
    "print(empty_dict)"
   ]
  },
  {
   "cell_type": "code",
   "execution_count": 11,
   "metadata": {},
   "outputs": [
    {
     "data": {
      "text/plain": [
       "{'Tom': 'Male', 'May': 'Female'}"
      ]
     },
     "execution_count": 11,
     "metadata": {},
     "output_type": "execute_result"
    }
   ],
   "source": [
    "empty_dict[\"May\"] = 'Female'\n",
    "empty_dict"
   ]
  },
  {
   "cell_type": "code",
   "execution_count": 14,
   "metadata": {},
   "outputs": [
    {
     "data": {
      "text/plain": [
       "{'Tom': 'Female', 'May': 'Female'}"
      ]
     },
     "execution_count": 14,
     "metadata": {},
     "output_type": "execute_result"
    }
   ],
   "source": [
    "#what will happen if i target the same existing key\n",
    "empty_dict['Tom'] = 'Female' #will this error, or will this change, or will this add one more entry\n",
    "\n",
    "#when you target \"existing\" key, it will change, NOT add.  This is because key MUST be unique\n",
    "empty_dict"
   ]
  },
  {
   "cell_type": "code",
   "execution_count": 15,
   "metadata": {},
   "outputs": [
    {
     "data": {
      "text/plain": [
       "{'Tom': '', 'May': 'Female'}"
      ]
     },
     "execution_count": 15,
     "metadata": {},
     "output_type": "execute_result"
    }
   ],
   "source": [
    "#how to delete??\n",
    "\n",
    "#maybe you can try\n",
    "empty_dict['Tom'] = '' #what happen?  Does this delete? --No\n",
    "empty_dict"
   ]
  },
  {
   "cell_type": "code",
   "execution_count": 16,
   "metadata": {},
   "outputs": [
    {
     "data": {
      "text/plain": [
       "{'May': 'Female'}"
      ]
     },
     "execution_count": 16,
     "metadata": {},
     "output_type": "execute_result"
    }
   ],
   "source": [
    "#1st: use pop()\n",
    "empty_dict.pop('Tom')\n",
    "\n",
    "empty_dict  #tom is gone!"
   ]
  },
  {
   "cell_type": "code",
   "execution_count": 18,
   "metadata": {},
   "outputs": [
    {
     "data": {
      "text/plain": [
       "{}"
      ]
     },
     "execution_count": 18,
     "metadata": {},
     "output_type": "execute_result"
    }
   ],
   "source": [
    "del empty_dict['May']\n",
    "empty_dict"
   ]
  },
  {
   "cell_type": "code",
   "execution_count": 22,
   "metadata": {},
   "outputs": [
    {
     "name": "stdout",
     "output_type": "stream",
     "text": [
      "{'Tom': 'Female', 'May': 'Female'}\n"
     ]
    },
    {
     "data": {
      "text/plain": [
       "{}"
      ]
     },
     "execution_count": 22,
     "metadata": {},
     "output_type": "execute_result"
    }
   ],
   "source": [
    "#what if I want to clear the whole dictionary??\n",
    "empty_dict = {'Tom': 'Female', 'May': 'Female'}\n",
    "#del empty_dict\n",
    "print(empty_dict)\n",
    "\n",
    "empty_dict = {}\n",
    "empty_dict"
   ]
  },
  {
   "cell_type": "code",
   "execution_count": 23,
   "metadata": {},
   "outputs": [
    {
     "data": {
      "text/plain": [
       "{}"
      ]
     },
     "execution_count": 23,
     "metadata": {},
     "output_type": "execute_result"
    }
   ],
   "source": [
    "empty_dict = {'Tom': 'Female', 'May': 'Female'}\n",
    "empty_dict = dict()   #use {}\n",
    "\n",
    "empty_dict"
   ]
  },
  {
   "cell_type": "markdown",
   "metadata": {},
   "source": [
    "Looping in dictionary"
   ]
  },
  {
   "cell_type": "code",
   "execution_count": 24,
   "metadata": {},
   "outputs": [
    {
     "data": {
      "text/plain": [
       "{'May': 'Female', 'Tom': 'Male'}"
      ]
     },
     "execution_count": 24,
     "metadata": {},
     "output_type": "execute_result"
    }
   ],
   "source": [
    "empty_dict['May'] = \"Female\"\n",
    "empty_dict['Tom'] = \"Male\"\n",
    "empty_dict"
   ]
  },
  {
   "cell_type": "code",
   "execution_count": 25,
   "metadata": {},
   "outputs": [
    {
     "name": "stdout",
     "output_type": "stream",
     "text": [
      "May\n",
      "Tom\n"
     ]
    }
   ],
   "source": [
    "#first way - print only the keys\n",
    "\n",
    "for item in empty_dict:\n",
    "    print(item)"
   ]
  },
  {
   "cell_type": "code",
   "execution_count": 26,
   "metadata": {},
   "outputs": [
    {
     "name": "stdout",
     "output_type": "stream",
     "text": [
      "May:Female\n",
      "Tom:Male\n"
     ]
    }
   ],
   "source": [
    "#second way - I also want the values!!!  ---> use items()\n",
    "for key, value in empty_dict.items():\n",
    "    print(key, value, sep=\":\")"
   ]
  },
  {
   "cell_type": "code",
   "execution_count": 28,
   "metadata": {},
   "outputs": [
    {
     "name": "stdout",
     "output_type": "stream",
     "text": [
      "0:May:Female\n",
      "1:Tom:Male\n"
     ]
    }
   ],
   "source": [
    "#of course, you can combine with enumerate\n",
    "for index, (key,value) in enumerate(empty_dict.items()):\n",
    "    print(index, key, value, sep=\":\")"
   ]
  },
  {
   "cell_type": "code",
   "execution_count": 29,
   "metadata": {},
   "outputs": [
    {
     "data": {
      "text/plain": [
       "{'May': 'Female', 'Tom': 'Male'}"
      ]
     },
     "execution_count": 29,
     "metadata": {},
     "output_type": "execute_result"
    }
   ],
   "source": [
    "#what if I want to sort the dictionary a bit\n",
    "\n",
    "empty_dict"
   ]
  },
  {
   "cell_type": "code",
   "execution_count": 30,
   "metadata": {},
   "outputs": [
    {
     "data": {
      "text/plain": [
       "{'May': 'Female', 'Tom': 'Male', 'Ash': 'Female'}"
      ]
     },
     "execution_count": 30,
     "metadata": {},
     "output_type": "execute_result"
    }
   ],
   "source": [
    "empty_dict['Ash'] = \"Female\"\n",
    "empty_dict"
   ]
  },
  {
   "cell_type": "code",
   "execution_count": 31,
   "metadata": {},
   "outputs": [
    {
     "name": "stdout",
     "output_type": "stream",
     "text": [
      "0:Ash:Female\n",
      "1:May:Female\n",
      "2:Tom:Male\n"
     ]
    }
   ],
   "source": [
    "for index, (key, value) in enumerate(sorted(empty_dict.items())):\n",
    "    print(index, key, value, sep=\":\")"
   ]
  }
 ],
 "metadata": {
  "kernelspec": {
   "display_name": "Python 3.8.10 ('.venv': pipenv)",
   "language": "python",
   "name": "python3"
  },
  "language_info": {
   "codemirror_mode": {
    "name": "ipython",
    "version": 3
   },
   "file_extension": ".py",
   "mimetype": "text/x-python",
   "name": "python",
   "nbconvert_exporter": "python",
   "pygments_lexer": "ipython3",
   "version": "3.8.10"
  },
  "orig_nbformat": 4,
  "vscode": {
   "interpreter": {
    "hash": "27768773b483d82a9b2b839e3fa80b1be5789db7fd78df4eedef2df266871616"
   }
  }
 },
 "nbformat": 4,
 "nbformat_minor": 2
}
