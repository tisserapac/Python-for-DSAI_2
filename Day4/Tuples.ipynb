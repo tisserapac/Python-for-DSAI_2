{
 "cells": [
  {
   "cell_type": "markdown",
   "metadata": {},
   "source": [
    "Creating Tuples"
   ]
  },
  {
   "cell_type": "code",
   "execution_count": 3,
   "metadata": {},
   "outputs": [
    {
     "name": "stdout",
     "output_type": "stream",
     "text": [
      "1:  (10, 20) <class 'tuple'>\n",
      "2:  (10, 20) <class 'tuple'>\n"
     ]
    }
   ],
   "source": [
    "point1 = (10,20)\n",
    "print(\"1: \", point1, type(point1))\n",
    "\n",
    "point2 = 10,20\n",
    "print(\"2: \", point2, type(point2))"
   ]
  },
  {
   "cell_type": "markdown",
   "metadata": {},
   "source": [
    "Unpacking tuples"
   ]
  },
  {
   "cell_type": "code",
   "execution_count": 4,
   "metadata": {},
   "outputs": [
    {
     "name": "stdout",
     "output_type": "stream",
     "text": [
      "1: x =  10\n",
      "2: y =  20\n"
     ]
    }
   ],
   "source": [
    "x, y = point1\n",
    "print(\"1: x = \", x)\n",
    "print(\"2: y = \", y)"
   ]
  },
  {
   "cell_type": "markdown",
   "metadata": {},
   "source": [
    "Cannot change"
   ]
  },
  {
   "cell_type": "code",
   "execution_count": 7,
   "metadata": {},
   "outputs": [],
   "source": [
    "#point1[0] = 20 #errors"
   ]
  },
  {
   "cell_type": "markdown",
   "metadata": {},
   "source": [
    "Code along"
   ]
  },
  {
   "cell_type": "code",
   "execution_count": 13,
   "metadata": {},
   "outputs": [
    {
     "name": "stdout",
     "output_type": "stream",
     "text": [
      "3\n"
     ]
    }
   ],
   "source": [
    "x = (1, 2, 3)\n",
    "type(x)\n",
    "print(x[2])"
   ]
  },
  {
   "cell_type": "markdown",
   "metadata": {},
   "source": [
    "What if I change values of tuple\n",
    "\n",
    "Tuple is indeed a disguise of \"multiple assignments\""
   ]
  },
  {
   "cell_type": "code",
   "execution_count": 16,
   "metadata": {},
   "outputs": [
    {
     "data": {
      "text/plain": [
       "3"
      ]
     },
     "execution_count": 16,
     "metadata": {},
     "output_type": "execute_result"
    }
   ],
   "source": [
    "x, y, z = 1, 2, 3\n",
    "z"
   ]
  },
  {
   "cell_type": "code",
   "execution_count": 17,
   "metadata": {},
   "outputs": [
    {
     "data": {
      "text/plain": [
       "tuple"
      ]
     },
     "execution_count": 17,
     "metadata": {},
     "output_type": "execute_result"
    }
   ],
   "source": [
    "a = 1, 2, 3\n",
    "type(a)"
   ]
  },
  {
   "cell_type": "code",
   "execution_count": 19,
   "metadata": {},
   "outputs": [
    {
     "data": {
      "text/plain": [
       "1"
      ]
     },
     "execution_count": 19,
     "metadata": {},
     "output_type": "execute_result"
    }
   ],
   "source": [
    "x, y, z = a\n",
    "\n",
    "x"
   ]
  },
  {
   "cell_type": "code",
   "execution_count": 22,
   "metadata": {},
   "outputs": [],
   "source": [
    "#what would happen if you put too many or too little values?\n",
    "\n",
    "#x, y = a\n",
    "\n",
    "#x, y, z, aa, = a"
   ]
  },
  {
   "cell_type": "markdown",
   "metadata": {},
   "source": [
    "What if I don't want some values, during unpacking"
   ]
  },
  {
   "cell_type": "code",
   "execution_count": 23,
   "metadata": {},
   "outputs": [
    {
     "name": "stdout",
     "output_type": "stream",
     "text": [
      "Chaky:100:Male\n"
     ]
    }
   ],
   "source": [
    "person = (\"Chaky\", 100, \"Male\")\n",
    "#I only want name and salary, not gender\n",
    "name, salary, gender = person\n",
    "\n",
    "print(name, salary, gender, sep=\":\")"
   ]
  },
  {
   "cell_type": "code",
   "execution_count": 25,
   "metadata": {},
   "outputs": [
    {
     "name": "stdout",
     "output_type": "stream",
     "text": [
      "Chaky:100\n",
      "Chaky\n"
     ]
    }
   ],
   "source": [
    "#what if I want to save memory, because I really don't need gender\n",
    "\n",
    "#use underscore _ to save memory\n",
    "\n",
    "#for example: if I don't want gender\n",
    "\n",
    "name, salary, _ = person\n",
    "print(name, salary, sep=\":\")\n",
    "\n",
    "#what if I also don't want the salary\n",
    "name, _ , _ = person\n",
    "\n",
    "print(name)"
   ]
  },
  {
   "cell_type": "code",
   "execution_count": 26,
   "metadata": {},
   "outputs": [
    {
     "name": "stdout",
     "output_type": "stream",
     "text": [
      "Name =  Chaky\n",
      "Name =  Aiman\n",
      "Name =  Saw\n"
     ]
    }
   ],
   "source": [
    "#let's put that into action\n",
    "\n",
    "list_of_names = ((\"Chaky\", 100, \"Male\"), (\"Aiman\", 200, \"Male\"), (\"Saw\", 300, \"Male\"))\n",
    "\n",
    "#can you write a loop, and print only the names for me?\n",
    "\n",
    "#Hint: Use for and in\n",
    "\n",
    "#1st way is to target index 0\n",
    "\n",
    "for item in list_of_names:\n",
    "    print(\"Name = \",item[0])"
   ]
  },
  {
   "cell_type": "code",
   "execution_count": 27,
   "metadata": {},
   "outputs": [
    {
     "name": "stdout",
     "output_type": "stream",
     "text": [
      "Name  Chaky\n",
      "Name  Aiman\n",
      "Name  Saw\n"
     ]
    }
   ],
   "source": [
    "#2nd way, is to unpack during the for loop\n",
    "\n",
    "for name, salary, gender in list_of_names:\n",
    "    print(\"Name \", name)"
   ]
  },
  {
   "cell_type": "code",
   "execution_count": 28,
   "metadata": {},
   "outputs": [
    {
     "name": "stdout",
     "output_type": "stream",
     "text": [
      "Name:  Chaky\n",
      "Name:  Aiman\n",
      "Name:  Saw\n"
     ]
    }
   ],
   "source": [
    "#even better, we know we not gonna use the salary and gender, so let's use underscore\n",
    "for name, _, _ in list_of_names:\n",
    "    print(\"Name: \", name)"
   ]
  }
 ],
 "metadata": {
  "kernelspec": {
   "display_name": "Python 3.8.10 ('.venv': pipenv)",
   "language": "python",
   "name": "python3"
  },
  "language_info": {
   "codemirror_mode": {
    "name": "ipython",
    "version": 3
   },
   "file_extension": ".py",
   "mimetype": "text/x-python",
   "name": "python",
   "nbconvert_exporter": "python",
   "pygments_lexer": "ipython3",
   "version": "3.8.10"
  },
  "orig_nbformat": 4,
  "vscode": {
   "interpreter": {
    "hash": "27768773b483d82a9b2b839e3fa80b1be5789db7fd78df4eedef2df266871616"
   }
  }
 },
 "nbformat": 4,
 "nbformat_minor": 2
}
