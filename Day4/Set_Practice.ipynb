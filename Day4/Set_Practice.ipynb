{
 "cells": [
  {
   "cell_type": "code",
   "execution_count": 1,
   "metadata": {},
   "outputs": [
    {
     "name": "stdout",
     "output_type": "stream",
     "text": [
      "{'e', 'b', 'c', 'd', 'a'}\n",
      "5\n"
     ]
    }
   ],
   "source": [
    "set_a = {'d','e','a','a','a','b','b','c','a'}\n",
    "print(set_a) # all the duplication members are removed\n",
    "print(len(set_a)) # counting a total unique member"
   ]
  },
  {
   "cell_type": "code",
   "execution_count": 2,
   "metadata": {},
   "outputs": [
    {
     "name": "stdout",
     "output_type": "stream",
     "text": [
      "set_a={'a', 'b', 'c', 'd'}\n",
      "set_b={'a', 'b', 'c', 'd'}\n"
     ]
    }
   ],
   "source": [
    "set_a = set({'a','b','c','d'}) # You can explicitly using `set` constructor to declare a set\n",
    "set_b = set(['a','b','c','c','d','d']) # A list is possible to convert in to a set\n",
    "\n",
    "print(f\"{set_a=}\")\n",
    "print(f\"{set_b=}\")"
   ]
  },
  {
   "cell_type": "code",
   "execution_count": 4,
   "metadata": {},
   "outputs": [
    {
     "name": "stdout",
     "output_type": "stream",
     "text": [
      "Is set_a is subset of set_b: True\n",
      "Is set_a is subset of set_b: True\n"
     ]
    }
   ],
   "source": [
    "# A two set are equal if and only if set_a is a subset of set_b and set_b is a subset of set_a. Remember?\n",
    "\n",
    "print(\"Is set_a is subset of set_b:\",set_a.issubset(set_b))\n",
    "print(\"Is set_a is subset of set_b:\",set_b.issubset(set_a))"
   ]
  },
  {
   "cell_type": "code",
   "execution_count": 5,
   "metadata": {},
   "outputs": [
    {
     "name": "stdout",
     "output_type": "stream",
     "text": [
      "Is set_a and set_b are the same: True\n"
     ]
    }
   ],
   "source": [
    "# Or just use comparison\n",
    "print(\"Is set_a and set_b are the same:\", set_a == set_b)"
   ]
  },
  {
   "cell_type": "code",
   "execution_count": 8,
   "metadata": {},
   "outputs": [
    {
     "data": {
      "text/plain": [
       "set()"
      ]
     },
     "execution_count": 8,
     "metadata": {},
     "output_type": "execute_result"
    }
   ],
   "source": [
    "set_a.intersection(set_b)\n",
    "set_a.union(set_b)\n",
    "set_a.difference(set_b)"
   ]
  },
  {
   "cell_type": "markdown",
   "metadata": {},
   "source": [
    "=== Task 4 ==="
   ]
  },
  {
   "cell_type": "code",
   "execution_count": 1,
   "metadata": {},
   "outputs": [
    {
     "name": "stdout",
     "output_type": "stream",
     "text": [
      "Female\n"
     ]
    }
   ],
   "source": [
    "#1. Create a tuple variable containing a person age, gender, and height, \n",
    "# and then attempt to print the gender of the tuple variable.\n",
    "\n",
    "person_data = (24, 'Female', 145)\n",
    "_, gender, _ = person_data\n",
    "print(gender)"
   ]
  },
  {
   "cell_type": "code",
   "execution_count": 3,
   "metadata": {},
   "outputs": [
    {
     "data": {
      "text/plain": [
       "'Female'"
      ]
     },
     "execution_count": 3,
     "metadata": {},
     "output_type": "execute_result"
    }
   ],
   "source": [
    "person_data[1]"
   ]
  },
  {
   "cell_type": "code",
   "execution_count": 15,
   "metadata": {},
   "outputs": [
    {
     "name": "stdout",
     "output_type": "stream",
     "text": [
      "ID: st1122 - Age: 34, Name: Sam, Gender: Male\n",
      "ID: st1123 - Age: 31, Name: Henry, Gender: Male\n",
      "ID: st1124 - Age: 38, Name: Jenny, Gender: Female\n"
     ]
    }
   ],
   "source": [
    "#2. Create a dictionary of your age, name, gender, ID number. \n",
    "# Loop the dictionary and print the key - value.\n",
    "\n",
    "person_data_dict = {'st1122' : (34,'Sam', 'Male'), \n",
    "                    'st1123' : (31,'Henry', 'Male'),\n",
    "                    'st1124' : (38,'Jenny', 'Female'),}\n",
    "\n",
    "for key, value in person_data_dict.items():\n",
    "    age, name, gender = value\n",
    "    print(f\"ID: {key} - Age: {age}, Name: {name}, Gender: {gender}\")                    "
   ]
  },
  {
   "cell_type": "code",
   "execution_count": 17,
   "metadata": {},
   "outputs": [
    {
     "name": "stdout",
     "output_type": "stream",
     "text": [
      "{1: 1, 2: 4, 3: 9, 4: 16}\n"
     ]
    }
   ],
   "source": [
    "#3. With a given integral number n, write a program to generate a \n",
    "# dictionary that contains (i, i*i) such that is an integral number \n",
    "# between 1 and n (both included). and then the program should print \n",
    "# the dictionary. Suppose the following input is supplied to the program:\n",
    "# 8\n",
    "# Then, the output should be: {1: 1, 2: 4, 3: 9, 4: 16, 5: 25, 6: 36, 7: 49, 8: 64}\n",
    "\n",
    "square_values_dict = dict()\n",
    "num = int(input(\"Enter an integer value\"))\n",
    "for i in range(num):\n",
    "    square_values_dict[i+1] = (i+1)*(i+1)\n",
    "print(square_values_dict)    \n"
   ]
  },
  {
   "cell_type": "markdown",
   "metadata": {},
   "source": [
    "You are required to write a program to sort the (name, age, height) tuples by ascending order where name is string, age and height are numbers. The sort criteria is:\n",
    "Sort based on name;\n",
    "Then sort based on age;\n",
    "Then sort by score.\n",
    "The priority is that name > age > score. If the following tuples are given as input to the program:\n",
    "\n",
    "    Tom,19,80\n",
    "    John,20,90\n",
    "    Jony,17,91\n",
    "    Jony,17,93\n",
    "    Json,21,85\n",
    "\n",
    "Then, the output of the program should be:\n",
    "\n",
    "    [('John', '20', '90'), ('Jony', '17', '91'), ('Jony', '17', '93'), ('Json', '21', '85'), ('Tom', '19', '80')]\n",
    "\n",
    "Hints: Use itemgetter to enable multiple sort keys. In addition, sorted takes a argument called key. Thus you can do sorted(the_tuple, key = itemgetter(0,1,2)), where 0, 1, 2 corresponds to name, age, height"
   ]
  },
  {
   "cell_type": "code",
   "execution_count": 19,
   "metadata": {},
   "outputs": [
    {
     "name": "stdout",
     "output_type": "stream",
     "text": [
      "[('John', 20, 90), ('Jony', 17, 91), ('Jony', 17, 93), ('Jony', 18, 90), ('Json', 21, 85), ('Tom', 19, 80)]\n"
     ]
    }
   ],
   "source": [
    "import operator\n",
    "data_list = [('Tom',19,80), ('John',20,90), ('Jony',17,91), ('Jony',17,93), ('Json',21,85), ('Jony',18,90)]\n",
    "sorted_list = []\n",
    "\n",
    "for key, value in enumerate(sorted(data_list, key = operator.itemgetter(0,1,2))):\n",
    "    sorted_list.append(value)\n",
    "\n",
    "print(sorted_list)\n",
    "    \n",
    "    \n",
    "    \n",
    "    "
   ]
  }
 ],
 "metadata": {
  "kernelspec": {
   "display_name": "Python 3.8.10 ('.venv': pipenv)",
   "language": "python",
   "name": "python3"
  },
  "language_info": {
   "codemirror_mode": {
    "name": "ipython",
    "version": 3
   },
   "file_extension": ".py",
   "mimetype": "text/x-python",
   "name": "python",
   "nbconvert_exporter": "python",
   "pygments_lexer": "ipython3",
   "version": "3.8.10"
  },
  "orig_nbformat": 4,
  "vscode": {
   "interpreter": {
    "hash": "27768773b483d82a9b2b839e3fa80b1be5789db7fd78df4eedef2df266871616"
   }
  }
 },
 "nbformat": 4,
 "nbformat_minor": 2
}
