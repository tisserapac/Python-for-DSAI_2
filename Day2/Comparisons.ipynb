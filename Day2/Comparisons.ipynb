{
 "cells": [
  {
   "cell_type": "code",
   "execution_count": 1,
   "metadata": {},
   "outputs": [
    {
     "name": "stdout",
     "output_type": "stream",
     "text": [
      "3: statement1 and statement2 are False\n",
      "4: Still inside the else block!!\n",
      "5: Now outside the if block!\n"
     ]
    }
   ],
   "source": [
    "statement1 = False\n",
    "statement2 = False\n",
    "statement3 = True\n",
    "\n",
    "#use indentation, this is one annoying aspect of python!\n",
    "if statement1:\n",
    "    if statement3:\n",
    "        print(\"1: statement1 is True\")\n",
    "elif statement2:\n",
    "    print(\"2: statement2 is True\")\n",
    "else:\n",
    "    print(\"3: statement1 and statement2 are False\")\n",
    "    print(\"4: Still inside the else block!!\")\n",
    "    \n",
    "print(\"5: Now outside the if block!\")"
   ]
  },
  {
   "cell_type": "code",
   "execution_count": 2,
   "metadata": {},
   "outputs": [
    {
     "name": "stdout",
     "output_type": "stream",
     "text": [
      "Inside while: 0\n",
      "Inside while: 1\n",
      "Inside while: 2\n",
      "Inside while: 3\n",
      "Inside while: 4\n",
      "2: done\n"
     ]
    }
   ],
   "source": [
    "i = 0\n",
    "while i < 5:\n",
    "    print(\"Inside while:\", i)\n",
    "    i = i + 1  #try i+=1\n",
    "print(\"2: done\")"
   ]
  },
  {
   "cell_type": "code",
   "execution_count": 1,
   "metadata": {},
   "outputs": [
    {
     "data": {
      "text/plain": [
       "(True, False, False, False, True, True, True, False)"
      ]
     },
     "execution_count": 1,
     "metadata": {},
     "output_type": "execute_result"
    }
   ],
   "source": [
    "2 > 1, 2 < 1, 2 > 2, 2 < 2, 2 >= 2, 2 <= 2, [1,2] == [1,2], not True"
   ]
  },
  {
   "cell_type": "code",
   "execution_count": 2,
   "metadata": {},
   "outputs": [
    {
     "name": "stdout",
     "output_type": "stream",
     "text": [
      "Input a number: \n",
      "\n",
      "The input number is greater than 5\n"
     ]
    }
   ],
   "source": [
    "print(\"Input a number: \\n\")\n",
    "x = input()\n",
    "if int(x)<5:\n",
    "    print(\"The input number is less than 5\")\n",
    "else:\n",
    "    print(\"The input number is greater than 5\")"
   ]
  },
  {
   "cell_type": "code",
   "execution_count": 3,
   "metadata": {},
   "outputs": [
    {
     "name": "stdout",
     "output_type": "stream",
     "text": [
      "Input student marks: \n",
      "Grade is B+\n",
      "Grade is B+\n"
     ]
    }
   ],
   "source": [
    "# > 90 is A, >80 is B+, >70 is B, >=60 is C+ otherwise Fail\n",
    "# Student A 95, B+ = 89, B = 71 ,C+ = 60, F = 21\n",
    "print(\"Input student marks: \")\n",
    "marks = input()\n",
    "\n",
    "if int(marks) > 90:\n",
    "    print(\"Grade is A\")\n",
    "elif int(marks) > 80:\n",
    "    print(\"Grade is B+\")\n",
    "elif int(marks) > 70:\n",
    "    print(\"Grade is B\")\n",
    "elif int(marks) >= 60:\n",
    "    print(\"Grade is C\")        \n",
    "else:\n",
    "    print(\"Grade is Fail\")\n",
    "\n",
    "bool_a = int(marks) > 90\n",
    "bool_bplus = int(marks) > 80\n",
    "bool_b = int(marks) > 70\n",
    "bool_cplus = int(marks) >= 60 # Alt + shift + down\n",
    "\n",
    "if bool_a:\n",
    "    print(\"Grade is A\")\n",
    "elif bool_bplus:\n",
    "    print(\"Grade is B+\")\n",
    "elif bool_b:\n",
    "    print(\"Grade is B\")\n",
    "elif bool_cplus:\n",
    "    print(\"Grade is C\")        \n",
    "else:\n",
    "    print(\"Grade is Fail\") "
   ]
  },
  {
   "cell_type": "code",
   "execution_count": 4,
   "metadata": {},
   "outputs": [
    {
     "name": "stdout",
     "output_type": "stream",
     "text": [
      "2\n",
      "Input a number: \n",
      "Your guess is correct!\n"
     ]
    }
   ],
   "source": [
    "import random\n",
    "n = random.randint(0,10) # Inclusive of the endpoints\n",
    "print(n)\n",
    "ans_correct = False\n",
    "while not(ans_correct):\n",
    "    print(\"Input a number: \")\n",
    "    x = int(input())\n",
    "    if x == n:\n",
    "        print(\"Your guess is correct!\")\n",
    "        ans_correct = True\n",
    "    elif x > n:\n",
    "        print(\"Your guess is higher!\")\n",
    "    else:\n",
    "        print(\"Your guess is lower!\")  "
   ]
  },
  {
   "cell_type": "code",
   "execution_count": 5,
   "metadata": {},
   "outputs": [
    {
     "name": "stdout",
     "output_type": "stream",
     "text": [
      "secret:  0\n",
      "too high\n",
      "too high\n",
      "too high\n",
      "too high\n",
      "Bingo!\n"
     ]
    }
   ],
   "source": [
    "import random\n",
    "\n",
    "secret = random.randint(0, 10)  #random integer  #inclusive of the endpoints\n",
    "print(\"secret: \", secret)\n",
    "\n",
    "#ask user input, and if they guess too high, print too high; if too low, print too low, otherwise, bingo, end the game!\n",
    "\n",
    "#1. ask user for input\n",
    "num = int(input())\n",
    "\n",
    "while num!= secret: #2. while the input is not the same as secret\n",
    "    if(num > secret): #2.1  if too high\n",
    "        print(\"too high\")\n",
    "    elif(num < secret): #2.2  if too low\n",
    "        print(\"too low\")\n",
    "    num = int(input()) #ask user again for input\n",
    "\n",
    "print(\"Bingo!\")\n"
   ]
  },
  {
   "cell_type": "code",
   "execution_count": null,
   "metadata": {},
   "outputs": [],
   "source": [
    "#please design a hangman game\n",
    "\n",
    "secret = \"Python\"\n",
    "\n",
    "#let user input a character\n",
    "\n",
    "#if it is not inside the secret, print (no!), and then increment the penalty by 1  (Hint: if (character in secret))\n",
    "#if it is inside the secret, print(yes!), then remove those characters from secret (Hint: use secret = secret.replace(character, \"\"))\n",
    "\n",
    "#if penalty is 5, game over\n",
    "#if secret is empty, you win!  (use if(!secret))\n",
    "\n",
    "penalty = 0\n",
    "user_input = input()\n",
    "\n",
    "\n"
   ]
  },
  {
   "cell_type": "code",
   "execution_count": null,
   "metadata": {},
   "outputs": [],
   "source": []
  }
 ],
 "metadata": {
  "kernelspec": {
   "display_name": "Python 3.8.10 ('.venv': pipenv)",
   "language": "python",
   "name": "python3"
  },
  "language_info": {
   "codemirror_mode": {
    "name": "ipython",
    "version": 3
   },
   "file_extension": ".py",
   "mimetype": "text/x-python",
   "name": "python",
   "nbconvert_exporter": "python",
   "pygments_lexer": "ipython3",
   "version": "3.8.10"
  },
  "orig_nbformat": 4,
  "vscode": {
   "interpreter": {
    "hash": "27768773b483d82a9b2b839e3fa80b1be5789db7fd78df4eedef2df266871616"
   }
  }
 },
 "nbformat": 4,
 "nbformat_minor": 2
}
