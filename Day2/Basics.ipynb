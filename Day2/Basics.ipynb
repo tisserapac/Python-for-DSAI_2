{
 "cells": [
  {
   "cell_type": "code",
   "execution_count": 1,
   "metadata": {},
   "outputs": [],
   "source": [
    "x = 3\n",
    "x = 3.0\n",
    "x = True\n",
    "x = 'hello'\n",
    "\n",
    "a, b = 1, 2\n",
    "PI = 3.14\n"
   ]
  },
  {
   "cell_type": "code",
   "execution_count": 2,
   "metadata": {},
   "outputs": [
    {
     "name": "stdout",
     "output_type": "stream",
     "text": [
      "1: x with newline: \n",
      " hello\n",
      "2: x with .format hello\n",
      "3: x using f-string with {x}\n",
      "4: User/Desktop/Home\n",
      "5: Hello6: World\n",
      "7: \\n is used for newline\n",
      "8: \"Hi\n",
      "9: C style printing = 1.000000\n",
      "10: Casting with c style: value1=3.14 value2 = 1\n",
      "Value of x and y: 3.144444, 1.122222\n",
      "Value of x for 3 decimal places: 3.144\n",
      "Value of y for 2 decimal places: 1.12\n",
      "key            value          \n",
      "3.144444       1.122222       \n",
      "3.144444       1.122222       \n",
      "3.144444       1.122222       \n",
      "=============== End of the Cell ===============\n"
     ]
    }
   ],
   "source": [
    "print(\"1: x with newline: \\n\", x)\n",
    "print(\"2: x with .format {}\".format(x))\n",
    "print(\"3: x using f-string with {x}\")\n",
    "print(\"4: User\", \"Desktop\", \"Home\", sep=\"/\")\n",
    "print(\"5: Hello\", end='')\n",
    "print(\"6: World\")\n",
    "print(r\"7: \\n is used for newline\")\n",
    "print(\"8: \\\"Hi\")\n",
    "print(\"9: C style printing = %f\" % 1.0)\n",
    "print(\"10: Casting with c style: value1=%.2f value2 = %d\" % (3.1415, 1.5) )\n",
    "\n",
    "x = 3.144444\n",
    "y = 1.122222\n",
    "print(f\"Value of x and y: {x}, {y}\")\n",
    "print(f\"Value of x for 3 decimal places: {x:.3f}\")\n",
    "print(f\"Value of y for 2 decimal places: {y:.2f}\")\n",
    "print(f\"{'key':15}{'value':15}\") #Left align\n",
    "print(f\"{x:<15}{y:<15}\") #Left align\n",
    "print(f\"{x:<15}{y:<15}\")\n",
    "print(f\"{x:<15}{y:<15}\")\n",
    "print(\"=\" * 15 + \" End of the Cell \" + \"=\" * 15)\n"
   ]
  },
  {
   "cell_type": "code",
   "execution_count": 3,
   "metadata": {},
   "outputs": [
    {
     "name": "stdout",
     "output_type": "stream",
     "text": [
      "<class 'bool'>\n",
      "<class 'int'>\n",
      "1: Ia 'a' boolean:  True\n",
      "2: Is 'a2' int:  True\n",
      "4: True and False:  False\n",
      "5: True or False:  True\n",
      "6 Not Fale:  True\n",
      "7: Not 0:  True\n",
      "x is less than 5 and y is greater than 5 and z is not equal to 10\n"
     ]
    }
   ],
   "source": [
    "a = True\n",
    "a2 = 10\n",
    "b = False\n",
    "b2 = 0\n",
    "print(type(b))\n",
    "print(type(b2))\n",
    "print(\"1: Ia 'a' boolean: \", type(a) is bool)\n",
    "print(\"2: Is 'a2' int: \", isinstance(a2, int))\n",
    "\n",
    "print(\"4: True and False: \", True and False)\n",
    "print(\"5: True or False: \", True or False)\n",
    "\n",
    "print(\"6 Not Fale: \", not False)\n",
    "print (\"7: Not 0: \", not 0)\n",
    "\n",
    "# Define x = 3, y = 4\n",
    "# Create two comparisons x < 5, y > 5\n",
    "# If true print (\"x is less than 5 and y is greater than 5\") \n",
    "# Add one more comparison, z is not equal to 10\n",
    "x, y, z = 3, 6, 10\n",
    "bool_x = x < 5\n",
    "bool_y = y > 5\n",
    "bool_z = z != 10\n",
    "\n",
    "\n",
    "if(bool_x and bool_y):\n",
    "    print(\"x is less than 5 and y is greater than 5 and z is not equal to 10\")"
   ]
  },
  {
   "cell_type": "code",
   "execution_count": 4,
   "metadata": {},
   "outputs": [
    {
     "name": "stdout",
     "output_type": "stream",
     "text": [
      "1: 3+3 --> 6\n",
      "2: 3/3 --> 1.0\n",
      "3: 3//3 --> 1\n",
      "4:  4  mod 3 --> 1\n",
      "5: 4 ^ 2 --> 16\n"
     ]
    }
   ],
   "source": [
    "print(\"1: 3+3 -->\", 3 + 3)\n",
    "print(\"2: 3/3 -->\", 3 / 3)\n",
    "print(\"3: 3//3 -->\", 3 // 3)\n",
    "print(\"4:  4  mod 3 -->\", 4 % 3)\n",
    "print(\"5: 4 ^ 2 -->\", 4 ** 2)\n"
   ]
  },
  {
   "cell_type": "code",
   "execution_count": 5,
   "metadata": {},
   "outputs": [
    {
     "data": {
      "text/plain": [
       "5.0"
      ]
     },
     "execution_count": 5,
     "metadata": {},
     "output_type": "execute_result"
    }
   ],
   "source": [
    "import math\n",
    "\n",
    "math.cos(2*math.pi)\n",
    "math.sqrt(25)"
   ]
  },
  {
   "cell_type": "code",
   "execution_count": 6,
   "metadata": {},
   "outputs": [
    {
     "name": "stdout",
     "output_type": "stream",
     "text": [
      "1: float + int  <class 'float'>\n",
      "2: int + int    <class 'int'>\n"
     ]
    }
   ],
   "source": [
    "print(\"1: float + int \", type(float(3) + int(3)))\n",
    "print(\"2: int + int   \", type(int(3) + int(3)))"
   ]
  },
  {
   "cell_type": "code",
   "execution_count": 7,
   "metadata": {},
   "outputs": [
    {
     "name": "stdout",
     "output_type": "stream",
     "text": [
      "Integer value of str1 + str 2:  7\n"
     ]
    }
   ],
   "source": [
    "str1 = \"3\"\n",
    "str2 = \"4\"\n",
    "int1 =  int(str1)\n",
    "int2 =  int(str2)\n",
    "print(\"Integer value of str1 + str 2: \", int1 + int2)\n",
    "\n"
   ]
  },
  {
   "cell_type": "code",
   "execution_count": 8,
   "metadata": {},
   "outputs": [
    {
     "name": "stdout",
     "output_type": "stream",
     "text": [
      "my variable x = 10\n"
     ]
    }
   ],
   "source": [
    "x = 10\n",
    "print(f\"my variable x = {x}\")\n"
   ]
  },
  {
   "cell_type": "code",
   "execution_count": 9,
   "metadata": {},
   "outputs": [
    {
     "name": "stdout",
     "output_type": "stream",
     "text": [
      "Value of (10 mod 4 / 2) = 0\n"
     ]
    }
   ],
   "source": [
    "val = 10 % 2 /2\n",
    "print (\"Value of (10 mod 4 / 2) = %d\" % (val))"
   ]
  },
  {
   "cell_type": "code",
   "execution_count": 10,
   "metadata": {},
   "outputs": [
    {
     "name": "stdout",
     "output_type": "stream",
     "text": [
      "The type of user_input is:  <class 'str'>\n"
     ]
    }
   ],
   "source": [
    "user_input = input(\"Type any input: \")\n",
    "print(\"The type of user_input is: \", type(user_input))"
   ]
  },
  {
   "cell_type": "code",
   "execution_count": 11,
   "metadata": {},
   "outputs": [
    {
     "name": "stdout",
     "output_type": "stream",
     "text": [
      "Concatenated string:  Chaky, John, Tom\n"
     ]
    }
   ],
   "source": [
    "str1 = \"Chaky\"\n",
    "str2 = \"John\"\n",
    "str3 = \"Tom\"\n",
    "str4 = \"%s, %s, %s\"%(str1,str2,str3)\n",
    "print(\"Concatenated string: \", str4)\n",
    "\n"
   ]
  },
  {
   "cell_type": "code",
   "execution_count": 12,
   "metadata": {},
   "outputs": [
    {
     "name": "stdout",
     "output_type": "stream",
     "text": [
      "Type of x is: <class 'float'>\n",
      "Type of x is: <class 'float'>\n",
      "Type of x is: <class 'int'>\n"
     ]
    }
   ],
   "source": [
    "# Add integer to float\n",
    "x = 3 + 3.\n",
    "print(f\"Type of x is: {type(x)}\")\n",
    "\n",
    "# Add boolean to float\n",
    "x = True + 3.\n",
    "print(f\"Type of x is: {type(x)}\")\n",
    "\n",
    "# Add boolean to int\n",
    "x = True + 3\n",
    "print(f\"Type of x is: {type(x)}\")\n",
    "\n",
    "# Add string to boolean\n",
    "# x = \"Hello\" + True --> Error\n",
    "# print(f\"Type of x is: {type(x)}\")"
   ]
  }
 ],
 "metadata": {
  "kernelspec": {
   "display_name": "Python 3.8.10 ('.venv': pipenv)",
   "language": "python",
   "name": "python3"
  },
  "language_info": {
   "codemirror_mode": {
    "name": "ipython",
    "version": 3
   },
   "file_extension": ".py",
   "mimetype": "text/x-python",
   "name": "python",
   "nbconvert_exporter": "python",
   "pygments_lexer": "ipython3",
   "version": "3.8.10"
  },
  "orig_nbformat": 4,
  "vscode": {
   "interpreter": {
    "hash": "27768773b483d82a9b2b839e3fa80b1be5789db7fd78df4eedef2df266871616"
   }
  }
 },
 "nbformat": 4,
 "nbformat_minor": 2
}
