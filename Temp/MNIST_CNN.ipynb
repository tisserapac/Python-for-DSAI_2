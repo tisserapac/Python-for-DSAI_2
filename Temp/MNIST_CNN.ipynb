{
 "cells": [
  {
   "cell_type": "code",
   "execution_count": 1,
   "metadata": {},
   "outputs": [],
   "source": [
    "import torch\n",
    "import torch.nn as nn\n",
    "import torch.nn.functional as F\n",
    "from torch.utils.data import DataLoader\n",
    "from torchvision import datasets, transforms\n",
    "from torchvision.utils import make_grid\n",
    "\n",
    "import numpy as np\n",
    "import pandas as pd\n",
    "from sklearn.metrics import confusion_matrix, ConfusionMatrixDisplay\n",
    "import matplotlib.pyplot as plt"
   ]
  },
  {
   "cell_type": "markdown",
   "metadata": {},
   "source": [
    "## 1. ELT"
   ]
  },
  {
   "cell_type": "code",
   "execution_count": 2,
   "metadata": {},
   "outputs": [],
   "source": [
    "transform = transforms.ToTensor()\n",
    "# After this value will be normalized to [0, 1] and also convert to tensor"
   ]
  },
  {
   "cell_type": "code",
   "execution_count": 5,
   "metadata": {},
   "outputs": [
    {
     "name": "stdout",
     "output_type": "stream",
     "text": [
      "60000\n",
      "50000 10000\n"
     ]
    }
   ],
   "source": [
    "train_data = datasets.MNIST(root=\"../data\", train=True, download=True, transform = transform)\n",
    "\n",
    "# Split the train into train and val\n",
    "print(len(train_data))\n",
    "\n",
    "train_set, val_set = torch.utils.data.random_split(train_data, [50000, 10000])\n",
    "print(len(train_set), len(val_set))"
   ]
  },
  {
   "cell_type": "code",
   "execution_count": 10,
   "metadata": {},
   "outputs": [],
   "source": [
    "test_set = datasets.MNIST(root=\"../data\", train=False, download=True, transform = transform)"
   ]
  },
  {
   "cell_type": "code",
   "execution_count": 11,
   "metadata": {},
   "outputs": [
    {
     "data": {
      "text/plain": [
       "<matplotlib.image.AxesImage at 0x7f9894e6aa40>"
      ]
     },
     "execution_count": 11,
     "metadata": {},
     "output_type": "execute_result"
    },
    {
     "data": {
      "image/png": "[encoded data removed]",
      "text/plain": [
       "<Figure size 640x480 with 1 Axes>"
      ]
     },
     "metadata": {},
     "output_type": "display_data"
    }
   ],
   "source": [
    "train_set[0][0].shape\n",
    "\n",
    "plt.imshow(train_data[0][0].reshape((28,28)), cmap=\"gray\")\n",
    "\n",
    "#The label train_set[0][1]\n"
   ]
  },
  {
   "cell_type": "markdown",
   "metadata": {},
   "source": [
    "## 2.Create the dataloaders"
   ]
  },
  {
   "cell_type": "code",
   "execution_count": 13,
   "metadata": {},
   "outputs": [],
   "source": [
    "#train_batch_size = 10\n",
    "#val_batch_size = everything\n",
    "#test_batch_size = everything\n",
    "#all shuffel = True\n",
    "\n",
    "#format: DataLoater(dataset, batch_size, shuffell)\n",
    "\n",
    "torch.manual_seed(999)\n",
    "\n",
    "train_loader = DataLoader(train_set, batch_size=10, shuffle=True)\n",
    "val_loader = DataLoader(val_set, batch_size=len(val_set), shuffle=True)\n",
    "test_loader = DataLoader(test_set, batch_size=len(test_set), shuffle=True)\n"
   ]
  },
  {
   "cell_type": "markdown",
   "metadata": {},
   "source": [
    "## 3. Test the dataloader"
   ]
  },
  {
   "cell_type": "code",
   "execution_count": 15,
   "metadata": {},
   "outputs": [
    {
     "name": "stdout",
     "output_type": "stream",
     "text": [
      "torch.Size([10, 1, 28, 28])\n",
      "torch.Size([10])\n"
     ]
    }
   ],
   "source": [
    "# Run the loop train_loader and break, and print out the sahpe of image label\n",
    "\n",
    "for images, label in train_loader:\n",
    "    print(images.shape) #(100, 1, 28, 28)\n",
    "    print(label.shape) #(100)\n",
    "    break\n",
    "\n",
    "\n",
    "# [10, 1, 28, 28] - [batch size, c, w, h]\n",
    "# [10] - [batch size] = target"
   ]
  },
  {
   "cell_type": "markdown",
   "metadata": {},
   "source": [
    "## 4. Learn about nn.Conv2d"
   ]
  },
  {
   "cell_type": "code",
   "execution_count": 16,
   "metadata": {},
   "outputs": [],
   "source": [
    "#format: nn.Conv2d(input_cahnnel, output_channel, kernel_size, stride=1, padding=0)\n",
    "\n",
    "# Image has one channel\n",
    "# Convert to channel 1-13\n",
    "# kernel_size 3 (13 differnt kernels)\n",
    "# stride = 3\n",
    "# padding = 0\n",
    "\n",
    "chaky_layer = nn.Conv2d(1, 13, 3, 1, 0)"
   ]
  },
  {
   "cell_type": "code",
   "execution_count": 17,
   "metadata": {},
   "outputs": [
    {
     "data": {
      "text/plain": [
       "Conv2d(1, 13, kernel_size=(3, 3), stride=(1, 1))"
      ]
     },
     "execution_count": 17,
     "metadata": {},
     "output_type": "execute_result"
    }
   ],
   "source": [
    "chaky_layer"
   ]
  },
  {
   "cell_type": "code",
   "execution_count": 18,
   "metadata": {},
   "outputs": [
    {
     "data": {
      "text/plain": [
       "torch.Size([13, 1, 3, 3])"
      ]
     },
     "execution_count": 18,
     "metadata": {},
     "output_type": "execute_result"
    }
   ],
   "source": [
    "chaky_layer.weight.shape"
   ]
  },
  {
   "cell_type": "code",
   "execution_count": 19,
   "metadata": {},
   "outputs": [
    {
     "data": {
      "text/plain": [
       "torch.Size([13])"
      ]
     },
     "execution_count": 19,
     "metadata": {},
     "output_type": "execute_result"
    }
   ],
   "source": [
    "chaky_layer.bias.shape"
   ]
  },
  {
   "cell_type": "code",
   "execution_count": 20,
   "metadata": {},
   "outputs": [
    {
     "data": {
      "text/plain": [
       "Parameter containing:\n",
       "tensor([[[[-0.1488,  0.3060, -0.3001],\n",
       "          [-0.2143, -0.0603,  0.0349],\n",
       "          [ 0.2818, -0.3011,  0.2003]]],\n",
       "\n",
       "\n",
       "        [[[-0.1129,  0.0217, -0.1953],\n",
       "          [-0.1819,  0.2315,  0.1760],\n",
       "          [ 0.1480,  0.1662, -0.0794]]],\n",
       "\n",
       "\n",
       "        [[[ 0.0662, -0.2149, -0.2833],\n",
       "          [ 0.1036,  0.0335, -0.3106],\n",
       "          [ 0.1787, -0.0230,  0.1474]]],\n",
       "\n",
       "\n",
       "        [[[-0.0896,  0.1143,  0.0705],\n",
       "          [-0.1452,  0.2097, -0.0666],\n",
       "          [ 0.3240, -0.1127,  0.1975]]],\n",
       "\n",
       "\n",
       "        [[[ 0.2367,  0.0543,  0.0424],\n",
       "          [-0.0604, -0.2670,  0.1890],\n",
       "          [ 0.2741,  0.2704, -0.3307]]],\n",
       "\n",
       "\n",
       "        [[[-0.2509,  0.1992,  0.1247],\n",
       "          [ 0.2203,  0.2944, -0.2208],\n",
       "          [-0.2652, -0.3040, -0.2432]]],\n",
       "\n",
       "\n",
       "        [[[-0.2288,  0.2622, -0.1422],\n",
       "          [-0.1832, -0.2574,  0.2397],\n",
       "          [ 0.2503, -0.1449, -0.1419]]],\n",
       "\n",
       "\n",
       "        [[[ 0.2987, -0.1667, -0.0288],\n",
       "          [ 0.3072,  0.1442, -0.0993],\n",
       "          [-0.2000, -0.0865,  0.2278]]],\n",
       "\n",
       "\n",
       "        [[[-0.2638, -0.2702,  0.3240],\n",
       "          [-0.0010, -0.1982,  0.1736],\n",
       "          [ 0.2329,  0.2396, -0.0861]]],\n",
       "\n",
       "\n",
       "        [[[-0.2554,  0.2981, -0.1680],\n",
       "          [ 0.2802, -0.0029, -0.1090],\n",
       "          [-0.2467,  0.1077, -0.2332]]],\n",
       "\n",
       "\n",
       "        [[[-0.3263, -0.1297,  0.1335],\n",
       "          [-0.0731,  0.1656,  0.1082],\n",
       "          [ 0.1794, -0.2637,  0.0357]]],\n",
       "\n",
       "\n",
       "        [[[-0.2079, -0.3122,  0.0891],\n",
       "          [ 0.0445, -0.0049,  0.2775],\n",
       "          [-0.2739, -0.1767, -0.2873]]],\n",
       "\n",
       "\n",
       "        [[[ 0.2112,  0.3118, -0.1504],\n",
       "          [-0.2240, -0.1468, -0.1420],\n",
       "          [ 0.3246, -0.0472, -0.1625]]]], requires_grad=True)"
      ]
     },
     "execution_count": 20,
     "metadata": {},
     "output_type": "execute_result"
    }
   ],
   "source": [
    "chaky_layer.weight"
   ]
  },
  {
   "cell_type": "code",
   "execution_count": 21,
   "metadata": {},
   "outputs": [
    {
     "data": {
      "text/plain": [
       "torch.Size([1, 28, 28])"
      ]
     },
     "execution_count": 21,
     "metadata": {},
     "output_type": "execute_result"
    }
   ],
   "source": [
    "#Take one image\n",
    "image = train_set[0][0]\n",
    "image.shape"
   ]
  },
  {
   "cell_type": "code",
   "execution_count": 24,
   "metadata": {},
   "outputs": [
    {
     "data": {
      "text/plain": [
       "torch.Size([13, 26, 26])"
      ]
     },
     "execution_count": 24,
     "metadata": {},
     "output_type": "execute_result"
    }
   ],
   "source": [
    "out = chaky_layer(image)\n",
    "out.shape"
   ]
  },
  {
   "cell_type": "code",
   "execution_count": 25,
   "metadata": {},
   "outputs": [
    {
     "data": {
      "text/plain": [
       "26.0"
      ]
     },
     "execution_count": 25,
     "metadata": {},
     "output_type": "execute_result"
    }
   ],
   "source": [
    "#(W - F +2* P)/S +1\n",
    "(28 -3 + 0) / 1 + 1"
   ]
  },
  {
   "cell_type": "code",
   "execution_count": 26,
   "metadata": {},
   "outputs": [
    {
     "name": "stdout",
     "output_type": "stream",
     "text": [
      "torch.Size([5, 24, 24])\n"
     ]
    }
   ],
   "source": [
    "# Create another convolution layer\n",
    "# Input [13, 26, 26]\n",
    "# kernel_size = 3, strinde = 1, padding =0, output_channel = 5, input_chanel = ??\n",
    "#format: nn.Conv2d(input_cahnnel, output_channel, kernel_size, stride=1, padding=0)\n",
    "\n",
    "chaky_layer2 = nn.Conv2d(13, 5, 3, 1, 0)\n",
    "out2 = chaky_layer2(out)\n",
    "print(out2.shape)"
   ]
  },
  {
   "cell_type": "code",
   "execution_count": 28,
   "metadata": {},
   "outputs": [
    {
     "name": "stdout",
     "output_type": "stream",
     "text": [
      "torch.Size([256, 24, 24])\n"
     ]
    }
   ],
   "source": [
    "# Create 2 Conv. layers\n",
    "# Output ch. 256, then 128\n",
    "# Kernel size = 5, stride = 1, padding = 0\n",
    "\n",
    "chaky_layer3 = nn.Conv2d(1, 256, 5, 1, 0)\n",
    "out1 = chaky_layer3(image)\n",
    "print(out1.shape)\n",
    "\n",
    "\n"
   ]
  },
  {
   "cell_type": "code",
   "execution_count": 30,
   "metadata": {},
   "outputs": [
    {
     "name": "stdout",
     "output_type": "stream",
     "text": [
      "torch.Size([128, 20, 20])\n"
     ]
    }
   ],
   "source": [
    "chaky_layer4 = nn.Conv2d(256, 128, 5, 1, 0)\n",
    "out2 = chaky_layer4(out1)\n",
    "print(out2.shape)"
   ]
  },
  {
   "cell_type": "code",
   "execution_count": 32,
   "metadata": {},
   "outputs": [
    {
     "data": {
      "text/plain": [
       "<matplotlib.image.AxesImage at 0x7f9891d6f1f0>"
      ]
     },
     "execution_count": 32,
     "metadata": {},
     "output_type": "execute_result"
    },
    {
     "data": {
      "image/png": "[encoded data removed]",
      "text/plain": [
       "<Figure size 640x480 with 1 Axes>"
      ]
     },
     "metadata": {},
     "output_type": "display_data"
    }
   ],
   "source": [
    "plt.imshow(out2[0].detach().numpy())"
   ]
  },
  {
   "cell_type": "code",
   "execution_count": null,
   "metadata": {},
   "outputs": [],
   "source": [
    "# chocksuper2 = nn.Sequential(nn.Conv2d(1,256,5,1,0),nn.Conv2d(256,128,5,1,0))\n",
    "# out3 = chocksuper2(image)\n",
    "# print(out3.shape)\n",
    "# print()\n",
    "# plt.imshow(out3[0].detach().numpy())\n"
   ]
  },
  {
   "cell_type": "markdown",
   "metadata": {},
   "source": [
    "## 5. Learn about maxpool2d and batchnorm and dropout"
   ]
  },
  {
   "cell_type": "code",
   "execution_count": 34,
   "metadata": {},
   "outputs": [],
   "source": [
    "pool = nn.MaxPool2d(2,2)"
   ]
  },
  {
   "cell_type": "code",
   "execution_count": 35,
   "metadata": {},
   "outputs": [
    {
     "data": {
      "text/plain": [
       "torch.Size([1, 28, 28])"
      ]
     },
     "execution_count": 35,
     "metadata": {},
     "output_type": "execute_result"
    }
   ],
   "source": [
    "image.shape"
   ]
  },
  {
   "cell_type": "code",
   "execution_count": 36,
   "metadata": {},
   "outputs": [
    {
     "data": {
      "text/plain": [
       "torch.Size([1, 14, 14])"
      ]
     },
     "execution_count": 36,
     "metadata": {},
     "output_type": "execute_result"
    }
   ],
   "source": [
    "out = pool(image)\n",
    "out.shape"
   ]
  },
  {
   "cell_type": "markdown",
   "metadata": {},
   "source": [
    "## 6. Create the model"
   ]
  },
  {
   "cell_type": "code",
   "execution_count": 48,
   "metadata": {},
   "outputs": [],
   "source": [
    "#convolutional neural network\n",
    "class ChakyCNN(nn.Module):\n",
    "    \n",
    "    def __init__(self):\n",
    "        super().__init__()\n",
    "        #create 2 convolutional layer (1 -> 6 -> 16)\n",
    "        #stride = 1, kernel_size = 3\n",
    "        self.conv1 = nn.Conv2d(1, 6, 3, 1)  #(input_size - k + 2P) / s +1\n",
    "        #input w/h = (28 - 3 + 0) / 1 + 1 = 26\n",
    "        self.conv2 = nn.Conv2d(6, 16, 3, 1)\n",
    "        #input w/h = (24 - 3 + 0) /1 + 1 = 24\n",
    "        #three linear layers here\n",
    "        #1st layer - from image (b, c, w, h) --> (b, c*w*h) in order to input to linear layer\n",
    "        #1st layer input_size -> 120  (input_size here is channel x w x h)\n",
    "        self.linear1 = nn.Linear(16*5*5, 120)\n",
    "        #2nd layer 120 -> 84\n",
    "        self.linear2 = nn.Linear(120, 84)\n",
    "        #3rd layer 84 -> 10  (10 is the output_size)\n",
    "        self.linear3 = nn.Linear(84, 10)\n",
    "        \n",
    "        self.maxpool = nn.MaxPool2d(2, 2)\n",
    "        self.relu = nn.ReLU()\n",
    "        \n",
    "    def forward(self, image):\n",
    "        #image.shape:  (B, C, W, H)\n",
    "        out = self.conv1(image)  #convolution1\n",
    "        #out.shape:    (B, 6, 26, 26)\n",
    "        out = self.relu(out) #relu\n",
    "        out = self.maxpool(out) #maxpool2d\n",
    "        #out.shape:    (B, 6, 13, 13)\n",
    "        \n",
    "        #(input_size - k + 2P) / s +1\n",
    "        # 13 - 3 / 1 + 1 = 11\n",
    "        out = self.conv2(out) #convolution2\n",
    "        #out.shape (B, 16, 11, 11)\n",
    "        out = self.relu(out) #relu\n",
    "        out = self.maxpool(out) #maxpool2d\n",
    "        #out.shape (B, 16, 5, 5)\n",
    "\n",
    "        out = out.reshape(-1, 16*5*5)\n",
    "        \n",
    "        #linear1 -> relu\n",
    "        #linear2 -> relu\n",
    "        #linear3\n",
    "        out = self.linear1(out)\n",
    "        out = self.relu(out)\n",
    "        #out.shape (B, 120)\n",
    "        #linear2 -> relu\n",
    "        out = self.linear2(out)\n",
    "        out = self.relu(out)\n",
    "        #out.shape (B, 84)\n",
    "        #linear3 -> relu\n",
    "        out = self.linear3(out)\n",
    "        #out.shape (B, 10)\n",
    "        return out"
   ]
  },
  {
   "cell_type": "markdown",
   "metadata": {},
   "source": [
    "## 7. Test the model"
   ]
  },
  {
   "cell_type": "code",
   "execution_count": 49,
   "metadata": {},
   "outputs": [
    {
     "data": {
      "text/plain": [
       "torch.Size([1, 10])"
      ]
     },
     "execution_count": 49,
     "metadata": {},
     "output_type": "execute_result"
    }
   ],
   "source": [
    "model = ChakyCNN()\n",
    "\n",
    "random_image = torch.rand((1, 1, 28, 28))\n",
    "\n",
    "out = model(random_image)\n",
    "\n",
    "out.shape\n",
    "\n",
    "#assert out.shape = ()"
   ]
  },
  {
   "cell_type": "code",
   "execution_count": 50,
   "metadata": {},
   "outputs": [],
   "source": [
    "def count_parameters(model):\n",
    "    params = [p.numel() for p in model.parameters() if p.requires_grad]\n",
    "    for item in params:\n",
    "        print(f'{item:>6}')\n",
    "    print(f'______\\n{sum(params):>6}')\n"
   ]
  },
  {
   "cell_type": "code",
   "execution_count": 51,
   "metadata": {},
   "outputs": [
    {
     "name": "stdout",
     "output_type": "stream",
     "text": [
      "    54\n",
      "     6\n",
      "   864\n",
      "    16\n",
      " 48000\n",
      "   120\n",
      " 10080\n",
      "    84\n",
      "   840\n",
      "    10\n",
      "______\n",
      " 60074\n"
     ]
    }
   ],
   "source": [
    "count_parameters(model)\n",
    "\n",
    "# Why 60074?\n"
   ]
  },
  {
   "cell_type": "code",
   "execution_count": null,
   "metadata": {},
   "outputs": [],
   "source": [
    "#epochs = 5\n",
    "#for epochs\n",
    "    #for train loader\n",
    "        #image\n",
    "        #label\n",
    "        \n",
    "        #1. model\n",
    "        #2. loss\n",
    "        \n",
    "        #collect the loss and acc\n",
    "        #with torch.no_grad(): evaluate the valid_loader acc and loss\n",
    "        \n",
    "        #3. zero_grad\n",
    "        #4. backward\n",
    "        #5. step\n",
    "        \n",
    "        #print the loss and acc if epoch / 1"
   ]
  },
  {
   "cell_type": "code",
   "execution_count": null,
   "metadata": {},
   "outputs": [],
   "source": []
  },
  {
   "cell_type": "code",
   "execution_count": null,
   "metadata": {},
   "outputs": [],
   "source": []
  },
  {
   "cell_type": "markdown",
   "metadata": {},
   "source": [
    "## 8. Training"
   ]
  },
  {
   "cell_type": "code",
   "execution_count": null,
   "metadata": {},
   "outputs": [],
   "source": [
    "J_fn = nn.CrossEntropyLoss()"
   ]
  },
  {
   "cell_type": "code",
   "execution_count": null,
   "metadata": {},
   "outputs": [],
   "source": [
    "optimizer = torch.optim.SGD(model.parameters(), lr=0.01)"
   ]
  },
  {
   "cell_type": "code",
   "execution_count": null,
   "metadata": {},
   "outputs": [],
   "source": [
    "epochs = 10 \n",
    "losses = []\n",
    "for e in range(epochs):\n",
    "    total_corr = 0\n",
    "    acc = 0\n",
    "    for b, (images, label) in enumerate(train_loader):  \n",
    "        #image reshape to (m,n)\n",
    "        #images = images.reshape(-1, 28*28).to(device) #(100, 784) - > 28*28 is 784 the rest is indacated by -1\n",
    "        #targets\n",
    "        #targets = label.to(device)\n",
    "\n",
    "        #1.Predict\n",
    "        yhat = model(images) #(100, 10)\n",
    "        #1.1 Calculate accuracy\n",
    "        predicted = torch.max(yhat, 1)[1] # If you use 0, it will return the probability, 1 is the index\n",
    "        #predicted.shape(100)\n",
    "        batch_corr = (predicted == label).sum()\n",
    "        total_corr += batch_corr\n",
    "\n",
    "        #collect the loss and acc\n",
    "        #with torch.no_grad(): evaluate the valid_loader acc and loss\n",
    "        with torch.no_grad():\n",
    "            val_corr = 0\n",
    "            for val_image, val_label in val_loader:\n",
    "                val_yhat = model(image)\n",
    "                val_loss = J_fn(val_yhat, val_label)\n",
    "                predicted = torch.max(val_yhat, 1)[1] \n",
    "                val_corr += val_corr\n",
    "            print()\n",
    "\n",
    "        #2.Loss\n",
    "        loss = J_fn(yhat, label)\n",
    "        losses.append(loss)\n",
    "        #3.clear gradients using zero_grad()\n",
    "        optimizer.zero_grad()\n",
    "        #4. backprop using backward()\n",
    "        loss.backward() # Backward is what we want to minimize - i.e. the loss\n",
    "        #5. update using step()\n",
    "        optimizer.step()  # Update the optimizer SGD\n",
    "\n",
    "        if b % 200 == 0:\n",
    "            acc = (total_corr * 100) / (10 * (b+1))\n",
    "            print(f\"Epoch: {e}; Batch: {b : >4}; Loss: {loss:.2f}; Acc: {acc:.2f}\")"
   ]
  },
  {
   "cell_type": "markdown",
   "metadata": {},
   "source": [
    "## 9. Testing"
   ]
  },
  {
   "cell_type": "code",
   "execution_count": null,
   "metadata": {},
   "outputs": [],
   "source": []
  },
  {
   "cell_type": "code",
   "execution_count": null,
   "metadata": {},
   "outputs": [],
   "source": []
  },
  {
   "cell_type": "code",
   "execution_count": null,
   "metadata": {},
   "outputs": [],
   "source": []
  }
 ],
 "metadata": {
  "kernelspec": {
   "display_name": "Python 3.10.6 ('.venv': pipenv)",
   "language": "python",
   "name": "python3"
  },
  "language_info": {
   "codemirror_mode": {
    "name": "ipython",
    "version": 3
   },
   "file_extension": ".py",
   "mimetype": "text/x-python",
   "name": "python",
   "nbconvert_exporter": "python",
   "pygments_lexer": "ipython3",
   "version": "3.10.6"
  },
  "orig_nbformat": 4,
  "vscode": {
   "interpreter": {
    "hash": "27768773b483d82a9b2b839e3fa80b1be5789db7fd78df4eedef2df266871616"
   }
  }
 },
 "nbformat": 4,
 "nbformat_minor": 2
}
