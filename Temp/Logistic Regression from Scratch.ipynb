{
 "cells": [
  {
   "cell_type": "markdown",
   "metadata": {},
   "source": [
    "# Logistic Regression from Scratch"
   ]
  },
  {
   "cell_type": "markdown",
   "metadata": {},
   "source": [
    "### Review: Linear Regression from Scratch\n",
    "\n",
    "Note: This is the fundamental of deep learning.  Almost all deep learning operations is based on this weight multiplication.\n",
    "\n",
    "Solving linear regression is an **optimization** problem. Optimization means finding the optimal - max, min.\n",
    "\n",
    "$$\\theta^* = \\argmin_\\theta J(\\theta)$$\n",
    "\n",
    "#### Four steps:\n",
    "\n",
    "1.  Predict - `X.shape = (m, n); y.shape = (m, )`\n",
    "    $$ h(\\theta) = y = f(x) = \\mathbf{X} \\cdot \\theta$$\n",
    "\n",
    "2.  Find the gradient\n",
    "   \n",
    "    2.1 We must first define the $J(\\theta)$\n",
    "        $$J(\\theta) = \\sum_{i=0}^m \\frac{(\\hat{\\mathbf{y}}^{(i)} - \\mathbf{y}^{(i)})^2}{2}$$\n",
    "\n",
    "    2.2 $$\\frac{\\partial J}{\\partial \\theta_j} = \\sum_{i=0}^m (\\hat{\\mathbf{y}}^{(i)} - \\mathbf{y}^{(i)})\\mathbf{x}_j$$\n",
    "\n",
    "3. Update the theta \n",
    "\n",
    "    $$\\theta = \\theta - \\alpha * \\frac{\\partial J}{\\partial \\theta_j}$$\n",
    "\n",
    "4. Repeat 1, 2, 3 until either (1) `num_epochs` reach limit, or (2) early stopping (which I asked you to implement in your assignment)\n",
    "    "
   ]
  },
  {
   "cell_type": "markdown",
   "metadata": {},
   "source": [
    "### Let's come back to Logistic Regression\n",
    "\n",
    "Note: this is also the fundamental of all deep learning, that involves classification.   In deep learning, all operations do something like this....\n",
    "\n",
    "Logistic Regression is a **classification** algorithm based on linear regression.\n",
    "\n",
    "Classification - supervised learning - where $y$ is discrete.\n",
    "\n",
    "Binary - class 0 and 1\n",
    "Multiclass - > 2 class\n",
    "\n",
    "Today we will be doing binary.....\n",
    "This Thurs we will be doing multiclass...."
   ]
  },
  {
   "cell_type": "markdown",
   "metadata": {},
   "source": [
    "#### Four steps:\n",
    "\n",
    "1.  Predict - `X.shape = (m, n); y.shape = (m, )`\n",
    "    $$ h(\\theta) = y = f(x) = \\mathbf{X} \\cdot \\theta$$\n",
    "\n",
    "    We know that $\\texttt{range}(\\mathbf{X} \\cdot \\theta) =  (-\\infty, \\infty)$\n",
    "\n",
    "    We need to find a function $g(x)$ such that it maps infinity to 0 and 1.\n",
    "\n",
    "    That $g(x) = \\displaystyle\\frac{1}{1 + e^{-x}}$\n",
    "\n",
    "    So if you combine $g(x)$ with $h(\\theta)$, then you will get\n",
    "    \n",
    "    $g(h(\\theta)) = \\displaystyle\\frac{1}{1 + e^{-(X \\cdot \\theta)}}$\n",
    "\n",
    "2.  Find the gradient\n",
    "   \n",
    "    2.1 We must first define the $J(\\theta)$\n",
    "        \n",
    "        Note: \n",
    "        - the behavior of J is that when y, yhat= (1,1) | (0, 0) , then J = 0\n",
    "        - the behavior of J is that when y, yhat= (0,1) | (1, 0) , then J = very high\n",
    "\n",
    "\n",
    "    $$J(\\theta) = \\sum_{i=0}^m -( \\mathbf{y}^{(i)} * \\log{\\mathbf{h}}^{(i)} + (1 - \\mathbf{y}^{(i)})\\log(1 - {\\mathbf{h}}^{(i)}))$$\n",
    "             \n",
    "\n",
    "    2.2 $$\\frac{\\partial J}{\\partial \\theta_j} = \\mathbf{X}^\\top (\\hat{\\mathbf{y}} - \\mathbf{y})$$\n",
    "\n",
    "3. Update the theta \n",
    "\n",
    "    $$\\theta = \\theta - \\alpha * \\frac{\\partial J}{\\partial \\theta_j}$$\n",
    "\n",
    "4. Repeat 1, 2, 3 until either (1) `num_epochs` reach limit, or (2) early stopping (which I asked you to implement in your assignment)"
   ]
  },
  {
   "cell_type": "markdown",
   "metadata": {},
   "source": [
    "### Let's code"
   ]
  },
  {
   "cell_type": "code",
   "execution_count": 1,
   "metadata": {},
   "outputs": [],
   "source": [
    "import numpy as np\n",
    "import matplotlib.pyplot as plt"
   ]
  },
  {
   "cell_type": "code",
   "execution_count": 2,
   "metadata": {},
   "outputs": [
    {
     "data": {
      "text/plain": [
       "<matplotlib.collections.PathCollection at 0x125625d00>"
      ]
     },
     "execution_count": 2,
     "metadata": {},
     "output_type": "execute_result"
    },
    {
     "data": {
      "image/png": "[encoded data removed]",
      "text/plain": [
       "<Figure size 432x288 with 1 Axes>"
      ]
     },
     "metadata": {
      "needs_background": "light"
     },
     "output_type": "display_data"
    }
   ],
   "source": [
    "#1. I want you to define this function g(x)\n",
    "def sigmoid(x):  #logit function, or sigmoid function\n",
    "    return (1 + np.exp(-x)) ** -1\n",
    "\n",
    "#2. I want you to simulate x from -5 to 5\n",
    "x = np.linspace(-5, 5, 1000)  #np.arange(-5, 5, 0.01)\n",
    "y = sigmoid(x)\n",
    "\n",
    "#3. Try to plot it\n",
    "plt.scatter(x, y)\n"
   ]
  },
  {
   "cell_type": "code",
   "execution_count": 3,
   "metadata": {},
   "outputs": [
    {
     "name": "stdout",
     "output_type": "stream",
     "text": [
      "[1. 1. 1.]\n"
     ]
    }
   ],
   "source": [
    "#1. define X with two samples.  \n",
    "# Sample 1 has egg price = 5, oil price = 10; Sample 2 has egg price = 3, oil price = 4\n",
    "X = np.array([[5, 10], [3, 4], [9, 1]])\n",
    "X.shape\n",
    "\n",
    "#2. define any theta you like\n",
    "theta = np.random.random((2, ))  #np.ones((X.shape[1], ))\n",
    "theta.shape\n",
    "\n",
    "#3. perform X dot theta  #(3, 2) @ (2, ) = (3, )\n",
    "    #print it\n",
    "yhat = X.dot(theta)\n",
    "yhat.shape\n",
    "    \n",
    "#4. perform sigmoid on top and see whether the value is really 0 or 1\n",
    "yhat_sig = sigmoid(yhat)\n",
    "\n",
    "#5. perform a round to nearest\n",
    "print(np.round(yhat_sig))"
   ]
  },
  {
   "cell_type": "markdown",
   "metadata": {},
   "source": [
    "$$\\mathbf{J}(\\theta) = \\sum_{i=0}^m -( \\mathbf{y}^{(i)} * \\log{\\mathbf{h}}^{(i)} + (1 - \\mathbf{y}^{(i)})\\log(1 - {\\mathbf{h}}^{(i)}))$$"
   ]
  },
  {
   "cell_type": "code",
   "execution_count": 4,
   "metadata": {},
   "outputs": [
    {
     "name": "stdout",
     "output_type": "stream",
     "text": [
      "Good 19.84779709959251\n",
      "Bad 0.31844724673955827\n"
     ]
    },
    {
     "data": {
      "image/png": "[encoded data removed]",
      "text/plain": [
       "<Figure size 432x288 with 1 Axes>"
      ]
     },
     "metadata": {
      "needs_background": "light"
     },
     "output_type": "display_data"
    }
   ],
   "source": [
    "#1. Please code this loss function above.\n",
    "#h = f(x) = yhat\n",
    "def binary_cross_entropy(y, yhat):\n",
    "    return -np.sum(y * np.log(yhat) + (1 - y)*np.log(1 - yhat))\n",
    "\n",
    "#1.1 Please plot -np.log(h) and -np.log(1 - h), \n",
    "# where h is a value between 0.01 to 0.99\n",
    "h = np.linspace(0.01, 0.99, 1000)\n",
    "plt.plot(h, -np.log(h),     label=\"-log(h) when y=1\")\n",
    "plt.plot(h, -np.log(1 - h), label=\"-log(1 - h) when y=0\")\n",
    "plt.xlabel('h')\n",
    "plt.ylabel('J')\n",
    "plt.legend()\n",
    "\n",
    "#2.1 simulate the actual y\n",
    "y = np.array([0, 1, 1, 0, 1])\n",
    "\n",
    "#2.2 simulate a very bad yhat - no good predictions\n",
    "bad_yhat = np.array([0.88, 0.01, 0.02, 0.99, 0.01])\n",
    "\n",
    "#2.3 simulate a very good yhat - very good predictions\n",
    "good_yhat = np.array([0.01, 0.98, 0.92, 0.03, 0.84])\n",
    "\n",
    "#3. try to get J(\\theta) of actual y vs. (1)very bad, (2)very good\n",
    "print(\"Good\", binary_cross_entropy(y, bad_yhat))\n",
    "print(\"Bad\", binary_cross_entropy(y, good_yhat))\n"
   ]
  },
  {
   "cell_type": "code",
   "execution_count": 5,
   "metadata": {},
   "outputs": [
    {
     "data": {
      "image/png": "[encoded data removed]",
      "text/plain": [
       "<Figure size 432x288 with 1 Axes>"
      ]
     },
     "metadata": {
      "needs_background": "light"
     },
     "output_type": "display_data"
    }
   ],
   "source": [
    "#1. Load breast cancer from sklearn\n",
    "from sklearn.datasets import load_breast_cancer\n",
    "from sklearn.model_selection import train_test_split\n",
    "from sklearn.preprocessing import StandardScaler\n",
    "\n",
    "#2. Set the X and y, split properly, standardize properly\n",
    "X, y = load_breast_cancer(return_X_y=True)\n",
    "X_train, X_test, y_train, y_test = train_test_split(X, y, test_size=0.3, random_state=999)\n",
    "\n",
    "sc = StandardScaler()\n",
    "X_train = sc.fit_transform(X_train)\n",
    "X_test  = sc.transform(X_test)\n",
    "\n",
    "#2.1 plot....\n",
    "plt.scatter(X_train[:, 0], X_train[:, 1], c=y_train)\n",
    "\n",
    "#format:np.insert(array, position, number, axis=1)\n",
    "X_train = np.insert(X_train, 0, 1, axis=1)\n",
    "X_test  = np.insert(X_test, 0, 1, axis=1)\n",
    "\n",
    "#3. Create a class of Logistic Regression (no need mini-batch, sto, or cross validation)\n",
    "class LogisticRegression(object):\n",
    "    \n",
    "    def __init__(self, num_epochs=5, alpha=0.01):\n",
    "        self.num_epochs = num_epochs\n",
    "        self.alpha      = alpha\n",
    "    \n",
    "    def binary_cross_entropy(self, y, yhat):\n",
    "        return -np.sum(y * np.log(yhat) + (1 - y)*np.log(1 - yhat))\n",
    "    \n",
    "    def sigmoid(self, h):  #logit function, or sigmoid function\n",
    "        return (1 + np.exp(-h)) ** -1\n",
    "    \n",
    "    def fit(self, X_train, y_train): \n",
    "        #create theta\n",
    "        self.theta = np.ones((X_train.shape[1], ))  #<----this is NOT good\n",
    "        #loop epochs\n",
    "        for _ in range(self.num_epochs):\n",
    "        \n",
    "            #randomize our X_train\n",
    "            perm = np.random.permutation(X_train.shape[0])\n",
    "            X_train = X_train[perm]\n",
    "            y_train = y_train[perm]\n",
    "            \n",
    "            #predict\n",
    "            yhat = self._predict(X_train)\n",
    "            \n",
    "            #grad\n",
    "            grad = X_train.T @ (yhat - y_train)\n",
    "            \n",
    "            #update\n",
    "            self.theta = self.theta - self.alpha * grad\n",
    "    \n",
    "    def _predict(self, X):  #fx, h_theta,\n",
    "        return self.sigmoid(X @ self.theta)\n",
    "    \n",
    "    def predict(self, X):  #return either 0 or 1\n",
    "        return np.round(self.sigmoid(X @ self.theta))\n",
    "\n",
    "#4. fit, and predict\n",
    "\n",
    "\n",
    "#Later....5. I will teach recall, precision, accuracy"
   ]
  },
  {
   "cell_type": "code",
   "execution_count": 6,
   "metadata": {},
   "outputs": [
    {
     "data": {
      "text/plain": [
       "0.9532163742690059"
      ]
     },
     "execution_count": 6,
     "metadata": {},
     "output_type": "execute_result"
    }
   ],
   "source": [
    "from sklearn.metrics import classification_report, accuracy_score\n",
    "\n",
    "lr = LogisticRegression()\n",
    "lr.fit(X_train, y_train)\n",
    "\n",
    "yhat = lr.predict(X_test)\n",
    "\n",
    "accuracy_score(y_test, yhat)"
   ]
  },
  {
   "cell_type": "code",
   "execution_count": 7,
   "metadata": {},
   "outputs": [
    {
     "name": "stdout",
     "output_type": "stream",
     "text": [
      "              precision    recall  f1-score   support\n",
      "\n",
      "           0       0.96      0.93      0.94        73\n",
      "           1       0.95      0.97      0.96        98\n",
      "\n",
      "    accuracy                           0.95       171\n",
      "   macro avg       0.95      0.95      0.95       171\n",
      "weighted avg       0.95      0.95      0.95       171\n",
      "\n"
     ]
    }
   ],
   "source": [
    "print(classification_report(y_test, yhat))"
   ]
  },
  {
   "cell_type": "markdown",
   "metadata": {},
   "source": [
    "Midterm:\n",
    "    1. Python\n",
    "    2. Data Science\n",
    "    3. Coding from scratch (we will give one equation...)"
   ]
  },
  {
   "cell_type": "code",
   "execution_count": 8,
   "metadata": {},
   "outputs": [
    {
     "data": {
      "text/plain": [
       "'\\nConfusion matrix\\n                          Actual\\n                    1               0\\n            1    #True pos       #False pos\\nPredict     \\n\\n            0    #False neg      #True neg\\n'"
      ]
     },
     "execution_count": 8,
     "metadata": {},
     "output_type": "execute_result"
    }
   ],
   "source": [
    "'''\n",
    "Confusion matrix\n",
    "                          Actual\n",
    "                    1               0\n",
    "            1    #True pos       #False pos\n",
    "Predict     \n",
    "\n",
    "            0    #False neg      #True neg\n",
    "'''\n",
    "\n",
    "#Accuracy = TP + FP / (TP + FP + FN + TN)\n",
    "\n",
    "#but accuracy sucks, when class is imbalanced\n",
    "#remember the imbalance case we got!\n",
    "#if we have 10 positives, and 1 negatives\n",
    "#the model will always get 10 / 11 accuracy\n",
    "\n",
    "#recall = TP / TP + FN  #penalize FN, it does not like FN, ex. Cancer, Terrorist, Zombie\n",
    "\n",
    "#precision = TP / TP + FP #penalize FP, it does not like FP, ex. search engine\n",
    "\n",
    "#f1 = 2 * recall * precision / (precision + recall)  #balance between recall and precision\n",
    "\n",
    "#btw, recall, precision, f1 are quite robust with imbalanced data...\n"
   ]
  },
  {
   "cell_type": "code",
   "execution_count": 40,
   "metadata": {},
   "outputs": [],
   "source": [
    "#please code the following FROM SCRATCH\n",
    "\n",
    "def cm(yhat, y):\n",
    "    \n",
    "    TP, TN, FP, FN = 0, 0, 0, 0\n",
    "    \n",
    "    for i in range(yhat.shape[0]):\n",
    "        if   (yhat[i] == 1) & (y[i] == 1):\n",
    "            TP += 1\n",
    "        elif (yhat[i] == 0) & (y[i] == 0):\n",
    "            TN += 1\n",
    "        elif (yhat[i] == 1) & (y[i] == 0):\n",
    "            FP += 1\n",
    "        elif (yhat[i] == 0) & (y[i] == 1):\n",
    "            FN += 1\n",
    "    \n",
    "    print(\"Added everything: \", TP + TN + FP + FN)\n",
    "    print(\"yhat samples: \", yhat.shape[0])\n",
    "    \n",
    "    assert (TP + TN + FP + FN) == yhat.shape[0]\n",
    "    \n",
    "    return TP, TN, FP, FN\n",
    "\n"
   ]
  },
  {
   "cell_type": "code",
   "execution_count": 41,
   "metadata": {},
   "outputs": [
    {
     "data": {
      "text/plain": [
       "((171,), (171,))"
      ]
     },
     "execution_count": 41,
     "metadata": {},
     "output_type": "execute_result"
    }
   ],
   "source": [
    "yhat.shape, y_test.shape"
   ]
  },
  {
   "cell_type": "code",
   "execution_count": 44,
   "metadata": {},
   "outputs": [
    {
     "name": "stdout",
     "output_type": "stream",
     "text": [
      "Added everything:  171\n",
      "yhat samples:  171\n"
     ]
    }
   ],
   "source": [
    "TP, TN, FP, FN = cm(yhat, y_test)"
   ]
  },
  {
   "cell_type": "code",
   "execution_count": 48,
   "metadata": {},
   "outputs": [
    {
     "name": "stdout",
     "output_type": "stream",
     "text": [
      "0.9532163742690059 0.9693877551020408 0.95\n",
      "0.9532163742690059 0.9693877551020408 0.95\n"
     ]
    }
   ],
   "source": [
    "from sklearn.metrics import accuracy_score, precision_score, recall_score\n",
    "\n",
    "#ACCURACY\n",
    "accuracy = (TP + TN) / (TP + TN + FP + FN)\n",
    "\n",
    "#RECALL\n",
    "recall  = TP / (TP + FN)\n",
    "\n",
    "#PRECISION\n",
    "precision = TP / (TP + FP)\n",
    "\n",
    "print(accuracy, recall, precision)\n",
    "print(accuracy_score(y_test, yhat), recall_score(y_test, yhat), precision_score(y_test, yhat))"
   ]
  },
  {
   "cell_type": "markdown",
   "metadata": {},
   "source": []
  }
 ],
 "metadata": {
  "kernelspec": {
   "display_name": "Python 3.8.10 ('.venv': pipenv)",
   "language": "python",
   "name": "python3"
  },
  "language_info": {
   "codemirror_mode": {
    "name": "ipython",
    "version": 3
   },
   "file_extension": ".py",
   "mimetype": "text/x-python",
   "name": "python",
   "nbconvert_exporter": "python",
   "pygments_lexer": "ipython3",
   "version": "3.8.10"
  },
  "orig_nbformat": 4,
  "vscode": {
   "interpreter": {
    "hash": "27768773b483d82a9b2b839e3fa80b1be5789db7fd78df4eedef2df266871616"
   }
  }
 },
 "nbformat": 4,
 "nbformat_minor": 2
}
