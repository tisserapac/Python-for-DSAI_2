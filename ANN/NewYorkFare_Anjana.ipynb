{
 "cells": [
  {
   "cell_type": "markdown",
   "metadata": {},
   "source": [
    "# New York Fare Classification\n",
    "\n",
    "Download New York Fare dataset at Google Classroom\n",
    "\n",
    "Objectives \n",
    "- learn embeddings (done!)\n",
    "- learn dropout (done! yay!)\n",
    "- serve as another case study\n",
    "\n",
    "Embedding\n",
    "- a very powerful concept\n",
    "- replaces label-encoding and one-hot encoding\n",
    "  - label-encoding:  turns category into numbers\n",
    "  - one-hot encodings: turns category into cols\n",
    "- In neural network, we don't have to....\n",
    "  - we instead assign a vector of numbers for each category\n",
    "  - Let's say I have 1000 samples, one col with two categories (morning, afternoon)\n",
    "    - SHAPE: (1000, 1)\n",
    "  - But for neural network, we can first create random vectors representing each category\n",
    "    - morning:   [1, 5, 0.3, 2, 5]\n",
    "    - afternoon: [4, 3, 0.2, 1, 0.9]\n",
    "    - SHAPE: (1000, 2, 5)"
   ]
  },
  {
   "cell_type": "markdown",
   "metadata": {},
   "source": [
    "## 1. ETL"
   ]
  },
  {
   "cell_type": "code",
   "execution_count": 1,
   "metadata": {},
   "outputs": [],
   "source": [
    "#import stuffs\n",
    "import torch\n",
    "import torch.nn as nn\n",
    "\n",
    "import numpy as np\n",
    "import pandas as pd\n",
    "import matplotlib.pyplot as plt"
   ]
  },
  {
   "cell_type": "code",
   "execution_count": 2,
   "metadata": {},
   "outputs": [],
   "source": [
    "df = pd.read_csv(\"../data/NYCTaxiFares.csv\")"
   ]
  },
  {
   "cell_type": "code",
   "execution_count": 3,
   "metadata": {},
   "outputs": [
    {
     "data": {
      "text/html": [
       "<div>\n",
       "<style scoped>\n",
       "    .dataframe tbody tr th:only-of-type {\n",
       "        vertical-align: middle;\n",
       "    }\n",
       "\n",
       "    .dataframe tbody tr th {\n",
       "        vertical-align: top;\n",
       "    }\n",
       "\n",
       "    .dataframe thead th {\n",
       "        text-align: right;\n",
       "    }\n",
       "</style>\n",
       "<table border=\"1\" class=\"dataframe\">\n",
       "  <thead>\n",
       "    <tr style=\"text-align: right;\">\n",
       "      <th></th>\n",
       "      <th>pickup_datetime</th>\n",
       "      <th>fare_amount</th>\n",
       "      <th>fare_class</th>\n",
       "      <th>pickup_longitude</th>\n",
       "      <th>pickup_latitude</th>\n",
       "      <th>dropoff_longitude</th>\n",
       "      <th>dropoff_latitude</th>\n",
       "      <th>passenger_count</th>\n",
       "    </tr>\n",
       "  </thead>\n",
       "  <tbody>\n",
       "    <tr>\n",
       "      <th>0</th>\n",
       "      <td>2010-04-19 08:17:56 UTC</td>\n",
       "      <td>6.5</td>\n",
       "      <td>0</td>\n",
       "      <td>-73.992365</td>\n",
       "      <td>40.730521</td>\n",
       "      <td>-73.975499</td>\n",
       "      <td>40.744746</td>\n",
       "      <td>1</td>\n",
       "    </tr>\n",
       "    <tr>\n",
       "      <th>1</th>\n",
       "      <td>2010-04-17 15:43:53 UTC</td>\n",
       "      <td>6.9</td>\n",
       "      <td>0</td>\n",
       "      <td>-73.990078</td>\n",
       "      <td>40.740558</td>\n",
       "      <td>-73.974232</td>\n",
       "      <td>40.744114</td>\n",
       "      <td>1</td>\n",
       "    </tr>\n",
       "    <tr>\n",
       "      <th>2</th>\n",
       "      <td>2010-04-17 11:23:26 UTC</td>\n",
       "      <td>10.1</td>\n",
       "      <td>1</td>\n",
       "      <td>-73.994149</td>\n",
       "      <td>40.751118</td>\n",
       "      <td>-73.960064</td>\n",
       "      <td>40.766235</td>\n",
       "      <td>2</td>\n",
       "    </tr>\n",
       "    <tr>\n",
       "      <th>3</th>\n",
       "      <td>2010-04-11 21:25:03 UTC</td>\n",
       "      <td>8.9</td>\n",
       "      <td>0</td>\n",
       "      <td>-73.990485</td>\n",
       "      <td>40.756422</td>\n",
       "      <td>-73.971205</td>\n",
       "      <td>40.748192</td>\n",
       "      <td>1</td>\n",
       "    </tr>\n",
       "    <tr>\n",
       "      <th>4</th>\n",
       "      <td>2010-04-17 02:19:01 UTC</td>\n",
       "      <td>19.7</td>\n",
       "      <td>1</td>\n",
       "      <td>-73.990976</td>\n",
       "      <td>40.734202</td>\n",
       "      <td>-73.905956</td>\n",
       "      <td>40.743115</td>\n",
       "      <td>1</td>\n",
       "    </tr>\n",
       "  </tbody>\n",
       "</table>\n",
       "</div>"
      ],
      "text/plain": [
       "           pickup_datetime  fare_amount  fare_class  pickup_longitude  \\\n",
       "0  2010-04-19 08:17:56 UTC          6.5           0        -73.992365   \n",
       "1  2010-04-17 15:43:53 UTC          6.9           0        -73.990078   \n",
       "2  2010-04-17 11:23:26 UTC         10.1           1        -73.994149   \n",
       "3  2010-04-11 21:25:03 UTC          8.9           0        -73.990485   \n",
       "4  2010-04-17 02:19:01 UTC         19.7           1        -73.990976   \n",
       "\n",
       "   pickup_latitude  dropoff_longitude  dropoff_latitude  passenger_count  \n",
       "0        40.730521         -73.975499         40.744746                1  \n",
       "1        40.740558         -73.974232         40.744114                1  \n",
       "2        40.751118         -73.960064         40.766235                2  \n",
       "3        40.756422         -73.971205         40.748192                1  \n",
       "4        40.734202         -73.905956         40.743115                1  "
      ]
     },
     "execution_count": 3,
     "metadata": {},
     "output_type": "execute_result"
    }
   ],
   "source": [
    "df.head()\n",
    "#1. convert UTC to New York time....\n",
    "#2. extract hours, am/pm, day as features\n",
    "#3. fare_class is our y/target/label\n",
    "#4. engineer some distance features"
   ]
  },
  {
   "cell_type": "code",
   "execution_count": 4,
   "metadata": {},
   "outputs": [
    {
     "data": {
      "text/plain": [
       "0    0.666667\n",
       "1    0.333333\n",
       "Name: fare_class, dtype: float64"
      ]
     },
     "execution_count": 4,
     "metadata": {},
     "output_type": "execute_result"
    }
   ],
   "source": [
    "#let's check class imbalance of data\n",
    "#the first thing you must do in any dataset\n",
    "df['fare_class'].value_counts(normalize=True)\n",
    "#0 means less than 10 dollars\n",
    "#1 means greater than equal to 10 dollars\n",
    "#upsampling - SMOTE\n",
    "#downsampling - I don't remember\n",
    "#I think there is a library imblearn - take a look\n",
    "#remember, if you use cross-validation, do it during cross-validation\n",
    "#basically, no data leakage........"
   ]
  },
  {
   "cell_type": "markdown",
   "metadata": {},
   "source": [
    "## 2. EDA\n",
    "\n",
    "We are lazy today....so skip..."
   ]
  },
  {
   "cell_type": "markdown",
   "metadata": {},
   "source": [
    "## 3. Feature Engineering\n",
    "\n",
    "- create the distance column for us\n",
    "\n",
    "### Calculate the distance traveled\n",
    "The <a href='https://en.wikipedia.org/wiki/Haversine_formula'>haversine formula</a> calculates the distance on a sphere between two sets of GPS coordinates.<br>\n",
    "Here we assign latitude values with $\\varphi$ (phi) and longitude with $\\lambda$ (lambda).\n",
    "\n",
    "The distance formula works out to\n",
    "\n",
    "${\\displaystyle d=2r\\arcsin \\left({\\sqrt {\\sin ^{2}\\left({\\frac {\\varphi _{2}-\\varphi _{1}}{2}}\\right)+\\cos(\\varphi _{1})\\:\\cos(\\varphi _{2})\\:\\sin ^{2}\\left({\\frac {\\lambda _{2}-\\lambda _{1}}{2}}\\right)}}\\right)}$\n",
    "\n",
    "where\n",
    "\n",
    "$\\begin{align} r&: \\textrm {radius of the sphere (Earth's radius averages 6371 km)}\\\\\n",
    "\\varphi_1, \\varphi_2&: \\textrm {latitudes of point 1 and point 2}\\\\\n",
    "\\lambda_1, \\lambda_2&: \\textrm {longitudes of point 1 and point 2}\\end{align}$"
   ]
  },
  {
   "cell_type": "code",
   "execution_count": 5,
   "metadata": {},
   "outputs": [],
   "source": [
    "def haversine_distance(df, lat1, long1, lat2, long2):\n",
    "    \"\"\"\n",
    "    Calculates the haversine distance between 2 sets of GPS coordinates in df\n",
    "    \"\"\"\n",
    "    r = 6371  # average radius of Earth in kilometers\n",
    "       \n",
    "    phi1 = np.radians(df[lat1])\n",
    "    phi2 = np.radians(df[lat2])\n",
    "    \n",
    "    delta_phi    = np.radians(df[lat2]-df[lat1])\n",
    "    delta_lambda = np.radians(df[long2]-df[long1])\n",
    "     \n",
    "    a = np.sin(delta_phi/2)**2 + np.cos(phi1) * np.cos(phi2) * np.sin(delta_lambda/2)**2\n",
    "    c = 2 * np.arctan2(np.sqrt(a), np.sqrt(1-a))\n",
    "    d = (r * c) # in kilometers\n",
    "\n",
    "    return d"
   ]
  },
  {
   "cell_type": "code",
   "execution_count": 6,
   "metadata": {},
   "outputs": [
    {
     "data": {
      "text/plain": [
       "Index(['pickup_datetime', 'fare_amount', 'fare_class', 'pickup_longitude',\n",
       "       'pickup_latitude', 'dropoff_longitude', 'dropoff_latitude',\n",
       "       'passenger_count'],\n",
       "      dtype='object')"
      ]
     },
     "execution_count": 6,
     "metadata": {},
     "output_type": "execute_result"
    }
   ],
   "source": [
    "df.columns"
   ]
  },
  {
   "cell_type": "code",
   "execution_count": 7,
   "metadata": {},
   "outputs": [],
   "source": [
    "#create a column called hav_dis inside df using this function\n",
    "df['hav_dis'] = haversine_distance(df, 'pickup_latitude', \n",
    "                                       'pickup_longitude',\n",
    "                                       'dropoff_latitude', \n",
    "                                       'dropoff_longitude',)"
   ]
  },
  {
   "cell_type": "code",
   "execution_count": 8,
   "metadata": {},
   "outputs": [
    {
     "data": {
      "text/plain": [
       "count    120000.000000\n",
       "mean          3.322160\n",
       "std           3.337004\n",
       "min           0.010208\n",
       "25%           1.316428\n",
       "50%           2.237084\n",
       "75%           4.034564\n",
       "max          28.846365\n",
       "Name: hav_dis, dtype: float64"
      ]
     },
     "execution_count": 8,
     "metadata": {},
     "output_type": "execute_result"
    }
   ],
   "source": [
    "df['hav_dis'].describe()"
   ]
  },
  {
   "cell_type": "code",
   "execution_count": 9,
   "metadata": {},
   "outputs": [
    {
     "data": {
      "text/plain": [
       "<AxesSubplot:xlabel='fare_class', ylabel='hav_dis'>"
      ]
     },
     "execution_count": 9,
     "metadata": {},
     "output_type": "execute_result"
    },
    {
     "data": {
      "image/png": "[encoded data removed]",
      "text/plain": [
       "<Figure size 432x288 with 1 Axes>"
      ]
     },
     "metadata": {
      "needs_background": "light"
     },
     "output_type": "display_data"
    }
   ],
   "source": [
    "#a little bit\n",
    "#bivariate analysis between hav_dis and fare_class\n",
    "import seaborn as sns\n",
    "sns.boxplot(x = df.fare_class, y = df.hav_dis)"
   ]
  },
  {
   "cell_type": "markdown",
   "metadata": {},
   "source": [
    "## 4. Feature Extraction\n",
    "\n",
    "1. convert UTC to New York time....\n",
    "2. extract hours, am/pm, day as features"
   ]
  },
  {
   "cell_type": "code",
   "execution_count": 10,
   "metadata": {},
   "outputs": [
    {
     "data": {
      "text/plain": [
       "'2010-04-19 08:17:56 UTC'"
      ]
     },
     "execution_count": 10,
     "metadata": {},
     "output_type": "execute_result"
    }
   ],
   "source": [
    "df['pickup_datetime'].iloc[0]"
   ]
  },
  {
   "cell_type": "code",
   "execution_count": 11,
   "metadata": {},
   "outputs": [],
   "source": [
    "#what is the time difference between UTC and New York....\n",
    "df['new_york_time'] = pd.to_datetime(df['pickup_datetime'].str[:19]) - pd.Timedelta(hours=4)"
   ]
  },
  {
   "cell_type": "code",
   "execution_count": 12,
   "metadata": {},
   "outputs": [],
   "source": [
    "#hour  - df['new_york_time'].dt.hour\n",
    "#day   - df['new_york_time'].dt.strftime(\"%a\")\n",
    "#am/pm - np.where(hour < 12, 'am', 'pm')\n",
    "#np.where(condition, if true, if false)\n",
    "df['hour'] = df['new_york_time'].dt.hour\n",
    "df['day']  = df['new_york_time'].dt.strftime(\"%a\")\n",
    "df['ampm'] = np.where(df['hour'] < 12, 'am', 'pm')"
   ]
  },
  {
   "cell_type": "code",
   "execution_count": 13,
   "metadata": {},
   "outputs": [
    {
     "data": {
      "text/html": [
       "<div>\n",
       "<style scoped>\n",
       "    .dataframe tbody tr th:only-of-type {\n",
       "        vertical-align: middle;\n",
       "    }\n",
       "\n",
       "    .dataframe tbody tr th {\n",
       "        vertical-align: top;\n",
       "    }\n",
       "\n",
       "    .dataframe thead th {\n",
       "        text-align: right;\n",
       "    }\n",
       "</style>\n",
       "<table border=\"1\" class=\"dataframe\">\n",
       "  <thead>\n",
       "    <tr style=\"text-align: right;\">\n",
       "      <th></th>\n",
       "      <th>pickup_datetime</th>\n",
       "      <th>fare_amount</th>\n",
       "      <th>fare_class</th>\n",
       "      <th>pickup_longitude</th>\n",
       "      <th>pickup_latitude</th>\n",
       "      <th>dropoff_longitude</th>\n",
       "      <th>dropoff_latitude</th>\n",
       "      <th>passenger_count</th>\n",
       "      <th>hav_dis</th>\n",
       "      <th>new_york_time</th>\n",
       "      <th>hour</th>\n",
       "      <th>day</th>\n",
       "      <th>ampm</th>\n",
       "    </tr>\n",
       "  </thead>\n",
       "  <tbody>\n",
       "    <tr>\n",
       "      <th>0</th>\n",
       "      <td>2010-04-19 08:17:56 UTC</td>\n",
       "      <td>6.5</td>\n",
       "      <td>0</td>\n",
       "      <td>-73.992365</td>\n",
       "      <td>40.730521</td>\n",
       "      <td>-73.975499</td>\n",
       "      <td>40.744746</td>\n",
       "      <td>1</td>\n",
       "      <td>2.126312</td>\n",
       "      <td>2010-04-19 04:17:56</td>\n",
       "      <td>4</td>\n",
       "      <td>Mon</td>\n",
       "      <td>am</td>\n",
       "    </tr>\n",
       "    <tr>\n",
       "      <th>1</th>\n",
       "      <td>2010-04-17 15:43:53 UTC</td>\n",
       "      <td>6.9</td>\n",
       "      <td>0</td>\n",
       "      <td>-73.990078</td>\n",
       "      <td>40.740558</td>\n",
       "      <td>-73.974232</td>\n",
       "      <td>40.744114</td>\n",
       "      <td>1</td>\n",
       "      <td>1.392307</td>\n",
       "      <td>2010-04-17 11:43:53</td>\n",
       "      <td>11</td>\n",
       "      <td>Sat</td>\n",
       "      <td>am</td>\n",
       "    </tr>\n",
       "    <tr>\n",
       "      <th>2</th>\n",
       "      <td>2010-04-17 11:23:26 UTC</td>\n",
       "      <td>10.1</td>\n",
       "      <td>1</td>\n",
       "      <td>-73.994149</td>\n",
       "      <td>40.751118</td>\n",
       "      <td>-73.960064</td>\n",
       "      <td>40.766235</td>\n",
       "      <td>2</td>\n",
       "      <td>3.326763</td>\n",
       "      <td>2010-04-17 07:23:26</td>\n",
       "      <td>7</td>\n",
       "      <td>Sat</td>\n",
       "      <td>am</td>\n",
       "    </tr>\n",
       "    <tr>\n",
       "      <th>3</th>\n",
       "      <td>2010-04-11 21:25:03 UTC</td>\n",
       "      <td>8.9</td>\n",
       "      <td>0</td>\n",
       "      <td>-73.990485</td>\n",
       "      <td>40.756422</td>\n",
       "      <td>-73.971205</td>\n",
       "      <td>40.748192</td>\n",
       "      <td>1</td>\n",
       "      <td>1.864129</td>\n",
       "      <td>2010-04-11 17:25:03</td>\n",
       "      <td>17</td>\n",
       "      <td>Sun</td>\n",
       "      <td>pm</td>\n",
       "    </tr>\n",
       "    <tr>\n",
       "      <th>4</th>\n",
       "      <td>2010-04-17 02:19:01 UTC</td>\n",
       "      <td>19.7</td>\n",
       "      <td>1</td>\n",
       "      <td>-73.990976</td>\n",
       "      <td>40.734202</td>\n",
       "      <td>-73.905956</td>\n",
       "      <td>40.743115</td>\n",
       "      <td>1</td>\n",
       "      <td>7.231321</td>\n",
       "      <td>2010-04-16 22:19:01</td>\n",
       "      <td>22</td>\n",
       "      <td>Fri</td>\n",
       "      <td>pm</td>\n",
       "    </tr>\n",
       "  </tbody>\n",
       "</table>\n",
       "</div>"
      ],
      "text/plain": [
       "           pickup_datetime  fare_amount  fare_class  pickup_longitude  \\\n",
       "0  2010-04-19 08:17:56 UTC          6.5           0        -73.992365   \n",
       "1  2010-04-17 15:43:53 UTC          6.9           0        -73.990078   \n",
       "2  2010-04-17 11:23:26 UTC         10.1           1        -73.994149   \n",
       "3  2010-04-11 21:25:03 UTC          8.9           0        -73.990485   \n",
       "4  2010-04-17 02:19:01 UTC         19.7           1        -73.990976   \n",
       "\n",
       "   pickup_latitude  dropoff_longitude  dropoff_latitude  passenger_count  \\\n",
       "0        40.730521         -73.975499         40.744746                1   \n",
       "1        40.740558         -73.974232         40.744114                1   \n",
       "2        40.751118         -73.960064         40.766235                2   \n",
       "3        40.756422         -73.971205         40.748192                1   \n",
       "4        40.734202         -73.905956         40.743115                1   \n",
       "\n",
       "    hav_dis       new_york_time  hour  day ampm  \n",
       "0  2.126312 2010-04-19 04:17:56     4  Mon   am  \n",
       "1  1.392307 2010-04-17 11:43:53    11  Sat   am  \n",
       "2  3.326763 2010-04-17 07:23:26     7  Sat   am  \n",
       "3  1.864129 2010-04-11 17:25:03    17  Sun   pm  \n",
       "4  7.231321 2010-04-16 22:19:01    22  Fri   pm  "
      ]
     },
     "execution_count": 13,
     "metadata": {},
     "output_type": "execute_result"
    }
   ],
   "source": [
    "df.head()"
   ]
  },
  {
   "cell_type": "code",
   "execution_count": 14,
   "metadata": {},
   "outputs": [
    {
     "data": {
      "text/plain": [
       "array(['am', 'pm'], dtype=object)"
      ]
     },
     "execution_count": 14,
     "metadata": {},
     "output_type": "execute_result"
    }
   ],
   "source": [
    "df['ampm'].unique()"
   ]
  },
  {
   "cell_type": "code",
   "execution_count": 15,
   "metadata": {},
   "outputs": [],
   "source": [
    "#help me write a simple assert function\n",
    "#there should be no more than 24 hours\n",
    "assert len(df['hour'].unique()) <= 24, \"More than 24 hours\"\n",
    "assert df['hour'].min() == 0, \"Some negative hours!\"\n",
    "assert df['hour'].max() == 23, \"Not a normal time system~\"\n",
    "\n",
    "#there should be no more than 7 days\n",
    "assert len(df['day'].unique()) == 7, \"Something not Mon-Sun\"\n",
    "\n",
    "#there should be only am and pm\n",
    "assert (df['ampm'].unique() == np.array(['am', 'pm'])).all()"
   ]
  },
  {
   "cell_type": "code",
   "execution_count": 16,
   "metadata": {},
   "outputs": [],
   "source": [
    "#columns name\n",
    "cat_cols  = ['hour', 'ampm', 'day']\n",
    "cont_cols = ['pickup_latitude', 'pickup_longitude', \n",
    "             'dropoff_latitude', 'dropoff_longitude',\n",
    "             'passenger_count', 'hav_dis'] \n",
    "y         = ['fare_class']"
   ]
  },
  {
   "cell_type": "code",
   "execution_count": 17,
   "metadata": {},
   "outputs": [],
   "source": [
    "#there is a dtype called category\n",
    "#which gonna neatly turns our data into integers....\n",
    "#basically it's like label encoding, but much more\n",
    "#why we need to turn it into category first\n",
    "#because, the embedding is like for 0, 1, 2\n",
    "for col in cat_cols:\n",
    "    df[col] = df[col].astype('category')"
   ]
  },
  {
   "cell_type": "code",
   "execution_count": 18,
   "metadata": {},
   "outputs": [
    {
     "data": {
      "text/plain": [
       "Index(['am', 'pm'], dtype='object')"
      ]
     },
     "execution_count": 18,
     "metadata": {},
     "output_type": "execute_result"
    }
   ],
   "source": [
    "df['ampm'].cat.categories"
   ]
  },
  {
   "cell_type": "code",
   "execution_count": 19,
   "metadata": {},
   "outputs": [
    {
     "data": {
      "text/plain": [
       "0         0\n",
       "1         0\n",
       "2         0\n",
       "3         1\n",
       "4         1\n",
       "         ..\n",
       "119995    0\n",
       "119996    0\n",
       "119997    1\n",
       "119998    0\n",
       "119999    1\n",
       "Length: 120000, dtype: int8"
      ]
     },
     "execution_count": 19,
     "metadata": {},
     "output_type": "execute_result"
    }
   ],
   "source": [
    "df['ampm'].cat.codes"
   ]
  },
  {
   "cell_type": "code",
   "execution_count": 20,
   "metadata": {},
   "outputs": [
    {
     "data": {
      "text/plain": [
       "array([0, 0, 0, ..., 1, 0, 1], dtype=int8)"
      ]
     },
     "execution_count": 20,
     "metadata": {},
     "output_type": "execute_result"
    }
   ],
   "source": [
    "df['ampm'].cat.codes.values"
   ]
  },
  {
   "cell_type": "markdown",
   "metadata": {},
   "source": [
    "## 6. Cleaning"
   ]
  },
  {
   "cell_type": "code",
   "execution_count": 22,
   "metadata": {},
   "outputs": [
    {
     "data": {
      "text/plain": [
       "pickup_datetime      0\n",
       "fare_amount          0\n",
       "fare_class           0\n",
       "pickup_longitude     0\n",
       "pickup_latitude      0\n",
       "dropoff_longitude    0\n",
       "dropoff_latitude     0\n",
       "passenger_count      0\n",
       "hav_dis              0\n",
       "new_york_time        0\n",
       "hour                 0\n",
       "day                  0\n",
       "ampm                 0\n",
       "dtype: int64"
      ]
     },
     "execution_count": 22,
     "metadata": {},
     "output_type": "execute_result"
    }
   ],
   "source": [
    "df.isna().sum() #let me guess, no missing values"
   ]
  },
  {
   "cell_type": "markdown",
   "metadata": {},
   "source": [
    "## 7. Define X and y"
   ]
  },
  {
   "cell_type": "code",
   "execution_count": 23,
   "metadata": {},
   "outputs": [
    {
     "data": {
      "text/plain": [
       "array([[ 4,  0,  1],\n",
       "       [11,  0,  2],\n",
       "       [ 7,  0,  2],\n",
       "       [17,  1,  3],\n",
       "       [22,  1,  0]], dtype=int8)"
      ]
     },
     "execution_count": 23,
     "metadata": {},
     "output_type": "execute_result"
    }
   ],
   "source": [
    "#stack the hours, ampm, and day as one vector\n",
    "\n",
    "hr   = df['hour'].cat.codes.values #[vectors of hours, e.g., 0, 4, 2]\n",
    "ampm = df['ampm'].cat.codes.values\n",
    "day  = df['day'].cat.codes.values\n",
    "\n",
    "time = np.stack([hr, ampm, day], axis=1)\n",
    "\n",
    "time[:5]"
   ]
  },
  {
   "cell_type": "code",
   "execution_count": 24,
   "metadata": {},
   "outputs": [
    {
     "data": {
      "text/plain": [
       "(120000, 3)"
      ]
     },
     "execution_count": 24,
     "metadata": {},
     "output_type": "execute_result"
    }
   ],
   "source": [
    "time.shape  #(120000 samples, 3 features)"
   ]
  },
  {
   "cell_type": "code",
   "execution_count": 25,
   "metadata": {},
   "outputs": [
    {
     "data": {
      "text/plain": [
       "tensor([[ 4,  0,  1],\n",
       "        [11,  0,  2],\n",
       "        [ 7,  0,  2]])"
      ]
     },
     "execution_count": 25,
     "metadata": {},
     "output_type": "execute_result"
    }
   ],
   "source": [
    "#convert this numpy into tensor\n",
    "time = torch.tensor(time, dtype=torch.int64)\n",
    "time[:3]"
   ]
  },
  {
   "cell_type": "code",
   "execution_count": 27,
   "metadata": {},
   "outputs": [
    {
     "data": {
      "text/plain": [
       "tensor([[ 40.7305,  40.7447, -73.9924, -73.9755,   1.0000,   2.1263],\n",
       "        [ 40.7406,  40.7441, -73.9901, -73.9742,   1.0000,   1.3923],\n",
       "        [ 40.7511,  40.7662, -73.9941, -73.9601,   2.0000,   3.3268],\n",
       "        [ 40.7564,  40.7482, -73.9905, -73.9712,   1.0000,   1.8641]])"
      ]
     },
     "execution_count": 27,
     "metadata": {},
     "output_type": "execute_result"
    }
   ],
   "source": [
    "#similarly, we want to stack them into a vector of size 6\n",
    "lat1  = df['pickup_latitude'].values  #.values give you the numpy vector\n",
    "lat2  = df['dropoff_latitude'].values\n",
    "long1 = df['pickup_longitude'].values\n",
    "long2 = df['dropoff_longitude'].values\n",
    "ps_count = df['passenger_count'].values\n",
    "hav_dis  = df['hav_dis'].values\n",
    "#use list comprehension\n",
    "#[df[col].values for col in cont_cols]\n",
    "\n",
    "conts = np.stack([lat1, lat2, long1, long2, ps_count, hav_dis], axis=1)\n",
    "\n",
    "#turn this into tensor...\n",
    "conts = torch.tensor(conts, dtype=torch.float32)\n",
    "\n",
    "conts[:4]\n"
   ]
  },
  {
   "cell_type": "code",
   "execution_count": 28,
   "metadata": {},
   "outputs": [
    {
     "data": {
      "text/plain": [
       "torch.Size([120000, 6])"
      ]
     },
     "execution_count": 28,
     "metadata": {},
     "output_type": "execute_result"
    }
   ],
   "source": [
    "conts.shape  #(120000, 6)"
   ]
  },
  {
   "cell_type": "code",
   "execution_count": 29,
   "metadata": {},
   "outputs": [
    {
     "data": {
      "text/plain": [
       "torch.Size([120000])"
      ]
     },
     "execution_count": 29,
     "metadata": {},
     "output_type": "execute_result"
    }
   ],
   "source": [
    "#finally, we need the y, to be in tensor\n",
    "y = torch.tensor(df[y].values).flatten()  #reshape(-1)\n",
    "y.shape"
   ]
  },
  {
   "cell_type": "markdown",
   "metadata": {},
   "source": [
    "## 8. Determine the embedding size\n",
    "\n",
    "- Before we create the embedding, we need to specify the embedding size....\n",
    "- Two ways:  \n",
    "  - randomly pick a size\n",
    "    - min(50, unique/2)\n",
    "  - specify a size"
   ]
  },
  {
   "cell_type": "code",
   "execution_count": 30,
   "metadata": {},
   "outputs": [
    {
     "data": {
      "text/plain": [
       "[24, 2, 7]"
      ]
     },
     "execution_count": 30,
     "metadata": {},
     "output_type": "execute_result"
    }
   ],
   "source": [
    "#get the size of all my categorical cols\n",
    "cat_size = [len(df[col].cat.categories) for col in cat_cols]\n",
    "cat_size\n",
    "#[24, 2, 7]  #[24, 7, 2]"
   ]
  },
  {
   "cell_type": "code",
   "execution_count": 31,
   "metadata": {},
   "outputs": [
    {
     "data": {
      "text/plain": [
       "[(24, 12), (2, 1), (7, 3)]"
      ]
     },
     "execution_count": 31,
     "metadata": {},
     "output_type": "execute_result"
    }
   ],
   "source": [
    "emb_size = [(size, min(50, size//2)) for size in cat_size]\n",
    "emb_size"
   ]
  },
  {
   "cell_type": "markdown",
   "metadata": {},
   "source": [
    "## 9. Try to illustrate how Embedding layer works"
   ]
  },
  {
   "cell_type": "code",
   "execution_count": 36,
   "metadata": {},
   "outputs": [
    {
     "data": {
      "text/plain": [
       "tensor([[4, 0, 1]])"
      ]
     },
     "execution_count": 36,
     "metadata": {},
     "output_type": "execute_result"
    }
   ],
   "source": [
    "sample = time[:1]\n",
    "sample\n"
   ]
  },
  {
   "cell_type": "code",
   "execution_count": 37,
   "metadata": {},
   "outputs": [
    {
     "data": {
      "text/plain": [
       "tensor([[ 4,  0,  1],\n",
       "        [11,  0,  2]])"
      ]
     },
     "execution_count": 37,
     "metadata": {},
     "output_type": "execute_result"
    }
   ],
   "source": [
    "twosamples = time[:2]\n",
    "twosamples"
   ]
  },
  {
   "cell_type": "code",
   "execution_count": 38,
   "metadata": {},
   "outputs": [],
   "source": [
    "#expected output after embedding of sample\n",
    "#[  [[12 numbers]], [[1 number]], [[3 numbers]]]\n",
    "\n",
    "#expected output after embedding of sample\n",
    "#[  [[12 numbers], [12 numbers]],   [[1 number], [1 number]], \n",
    "#   [[3 numbers], [3 numbers]]    ]"
   ]
  },
  {
   "cell_type": "code",
   "execution_count": 39,
   "metadata": {},
   "outputs": [],
   "source": [
    "#emb_size: [(24, 12), (2, 1), (7, 3)]\n",
    "#but pyTorch does not have a list of nn.Embedding\n",
    "#if you want pyTorch to have a list of layers, use nn.ModuleList\n",
    "embed_layer = nn.ModuleList([nn.Embedding(unique, emb_s) for unique, emb_s in emb_size])"
   ]
  },
  {
   "cell_type": "code",
   "execution_count": 40,
   "metadata": {},
   "outputs": [
    {
     "data": {
      "text/plain": [
       "ModuleList(\n",
       "  (0): Embedding(24, 12)\n",
       "  (1): Embedding(2, 1)\n",
       "  (2): Embedding(7, 3)\n",
       ")"
      ]
     },
     "execution_count": 40,
     "metadata": {},
     "output_type": "execute_result"
    }
   ],
   "source": [
    "embed_layer"
   ]
  },
  {
   "cell_type": "code",
   "execution_count": 41,
   "metadata": {},
   "outputs": [],
   "source": [
    "#empty embedding\n",
    "sample_embedding = []\n",
    "\n",
    "for i, e in enumerate(embed_layer):\n",
    "    sample_embedding.append(e(twosamples[:, i])) #apply embedding layer to column i\n",
    "                                                 #apply embedding layer 0 to column 0"
   ]
  },
  {
   "cell_type": "code",
   "execution_count": 42,
   "metadata": {},
   "outputs": [
    {
     "data": {
      "text/plain": [
       "[tensor([[ 0.7660, -0.9331, -1.6040,  0.8839, -0.1780,  0.9149,  1.4179, -0.7277,\n",
       "          -1.1239,  1.0298,  0.0264, -0.6373],\n",
       "         [-0.7624, -1.5945,  0.3104, -0.4983,  1.3355, -0.1131, -0.0539, -0.8171,\n",
       "           0.0861, -0.7153, -0.8865,  0.6776]], grad_fn=<EmbeddingBackward0>),\n",
       " tensor([[-0.4246],\n",
       "         [-0.4246]], grad_fn=<EmbeddingBackward0>),\n",
       " tensor([[ 1.5708,  0.0035,  0.8065],\n",
       "         [-0.2147, -0.8733, -0.8268]], grad_fn=<EmbeddingBackward0>)]"
      ]
     },
     "execution_count": 42,
     "metadata": {},
     "output_type": "execute_result"
    }
   ],
   "source": [
    "sample_embedding"
   ]
  },
  {
   "cell_type": "code",
   "execution_count": 43,
   "metadata": {},
   "outputs": [
    {
     "data": {
      "text/plain": [
       "tensor([[ 0.7660, -0.9331, -1.6040,  0.8839, -0.1780,  0.9149,  1.4179, -0.7277,\n",
       "         -1.1239,  1.0298,  0.0264, -0.6373, -0.4246,  1.5708,  0.0035,  0.8065],\n",
       "        [-0.7624, -1.5945,  0.3104, -0.4983,  1.3355, -0.1131, -0.0539, -0.8171,\n",
       "          0.0861, -0.7153, -0.8865,  0.6776, -0.4246, -0.2147, -0.8733, -0.8268]],\n",
       "       grad_fn=<CatBackward0>)"
      ]
     },
     "execution_count": 43,
     "metadata": {},
     "output_type": "execute_result"
    }
   ],
   "source": [
    "# in coding, we want to concat all these embeddings, into one vector\n",
    "final_embedding = torch.cat(sample_embedding, axis=1)\n",
    "\n",
    "final_embedding"
   ]
  },
  {
   "cell_type": "code",
   "execution_count": 44,
   "metadata": {},
   "outputs": [
    {
     "data": {
      "text/plain": [
       "torch.Size([2, 16])"
      ]
     },
     "execution_count": 44,
     "metadata": {},
     "output_type": "execute_result"
    }
   ],
   "source": [
    "final_embedding.shape"
   ]
  },
  {
   "cell_type": "code",
   "execution_count": 45,
   "metadata": {},
   "outputs": [],
   "source": [
    "#gonna teach you very briefly about nn.Dropout\n",
    "#define a dropout layer\n",
    "dl = nn.Dropout(0.5)"
   ]
  },
  {
   "cell_type": "code",
   "execution_count": 46,
   "metadata": {},
   "outputs": [
    {
     "data": {
      "text/plain": [
       "tensor([[ 0.0000, -1.8662, -0.0000,  0.0000, -0.3561,  1.8298,  2.8358, -1.4553,\n",
       "         -0.0000,  2.0596,  0.0528, -1.2747, -0.0000,  0.0000,  0.0000,  1.6130],\n",
       "        [-1.5248, -3.1889,  0.0000, -0.9966,  2.6711, -0.0000, -0.1078, -1.6342,\n",
       "          0.1722, -0.0000, -1.7729,  0.0000, -0.0000, -0.0000, -0.0000, -1.6535]],\n",
       "       grad_fn=<MulBackward0>)"
      ]
     },
     "execution_count": 46,
     "metadata": {},
     "output_type": "execute_result"
    }
   ],
   "source": [
    "final_embedding = dl(final_embedding)\n",
    "final_embedding"
   ]
  },
  {
   "cell_type": "code",
   "execution_count": 47,
   "metadata": {},
   "outputs": [
    {
     "data": {
      "text/plain": [
       "torch.Size([2, 16])"
      ]
     },
     "execution_count": 47,
     "metadata": {},
     "output_type": "execute_result"
    }
   ],
   "source": [
    "final_embedding.shape"
   ]
  },
  {
   "cell_type": "markdown",
   "metadata": {},
   "source": [
    "## 10. Define the model"
   ]
  },
  {
   "cell_type": "code",
   "execution_count": 48,
   "metadata": {},
   "outputs": [
    {
     "data": {
      "text/plain": [
       "tensor([[ 40.7305,  40.7447, -73.9924, -73.9755,   1.0000,   2.1263],\n",
       "        [ 40.7406,  40.7441, -73.9901, -73.9742,   1.0000,   1.3923]])"
      ]
     },
     "execution_count": 48,
     "metadata": {},
     "output_type": "execute_result"
    }
   ],
   "source": [
    "sample_cont = conts[:2]\n",
    "sample_cont"
   ]
  },
  {
   "cell_type": "code",
   "execution_count": 49,
   "metadata": {},
   "outputs": [],
   "source": [
    "#format: nn.BatchNorm1d(features)\n",
    "batch_norm1d = nn.BatchNorm1d(6)"
   ]
  },
  {
   "cell_type": "code",
   "execution_count": 50,
   "metadata": {},
   "outputs": [
    {
     "data": {
      "text/plain": [
       "tensor([[-0.8464,  0.0995, -0.3372, -0.1966,  0.0000,  1.0000],\n",
       "        [ 0.8456, -0.0997,  0.3414,  0.1961,  0.0000, -1.0000]],\n",
       "       grad_fn=<NativeBatchNormBackward0>)"
      ]
     },
     "execution_count": 50,
     "metadata": {},
     "output_type": "execute_result"
    }
   ],
   "source": [
    "output = batch_norm1d(sample_cont)\n",
    "output"
   ]
  },
  {
   "cell_type": "code",
   "execution_count": 51,
   "metadata": {},
   "outputs": [
    {
     "data": {
      "text/plain": [
       "torch.Size([120000, 6])"
      ]
     },
     "execution_count": 51,
     "metadata": {},
     "output_type": "execute_result"
    }
   ],
   "source": [
    "conts.shape"
   ]
  },
  {
   "cell_type": "code",
   "execution_count": 52,
   "metadata": {},
   "outputs": [],
   "source": [
    "#cat_embedding (120000, 16)\n",
    "#cont          (120000, 6)"
   ]
  },
  {
   "cell_type": "code",
   "execution_count": 53,
   "metadata": {},
   "outputs": [],
   "source": [
    "class someNN(nn.Module):\n",
    "    \n",
    "    def __init__(self, emb_size, cont_size, out_size, layer_size = [200, 100], p=0.5):\n",
    "        super().__init__()\n",
    "        self.embed_layer = nn.ModuleList([nn.Embedding(unique, emb_s) for unique, emb_s in emb_size])\n",
    "        self.dropout     = nn.Dropout(p)\n",
    "        self.batchnorm1d = nn.BatchNorm1d(cont_size)\n",
    "        \n",
    "        #calculate input_size\n",
    "        cat_size = sum(emb_s for _, emb_s in emb_size)\n",
    "        input_size = cat_size + cont_size\n",
    "        \n",
    "        #linear(input_size, 200) -> relu -> batchnorm -> dropout\n",
    "        #linear(200, 100) -> relu -> batchnorm -> dropout\n",
    "        #linear(100, out_size)\n",
    "        layerlist = []\n",
    "        for i in layer_size:\n",
    "            layerlist.append(nn.Linear(input_size, i))  #(input_size, 200)\n",
    "            layerlist.append(nn.ReLU(inplace=True))\n",
    "            layerlist.append(nn.BatchNorm1d(i))\n",
    "            layerlist.append(nn.Dropout(p))\n",
    "            input_size = i\n",
    "        layerlist.append(nn.Linear(layer_size[-1], out_size))\n",
    "        \n",
    "        self.layers = nn.Sequential(*layerlist)\n",
    "            \n",
    "    def forward(self, x_cat, x_cont):\n",
    "        #x_cat:  (120000, 3)\n",
    "        #x_cont: (120000, 6)\n",
    "        embeddings = []\n",
    "        for i, e in enumerate(self.embed_layer):\n",
    "            embeddings.append(e(x_cat[:, i]))\n",
    "        x = torch.cat(embeddings, 1)  \n",
    "        #x: (120000, 16)\n",
    "        x = self.dropout(x)\n",
    "        \n",
    "        x_cont = self.batchnorm1d(x_cont)  \n",
    "        #x_cont: (120000, 6)\n",
    "        \n",
    "        x = torch.cat([x, x_cont], 1)\n",
    "        #x: (120000, 24)\n",
    "        \n",
    "        x = self.layers(x)\n",
    "        \n",
    "        return x"
   ]
  },
  {
   "cell_type": "code",
   "execution_count": 54,
   "metadata": {},
   "outputs": [],
   "source": [
    "model = someNN(emb_size, conts.shape[1], len(y.unique()))"
   ]
  },
  {
   "cell_type": "markdown",
   "metadata": {},
   "source": [
    "### Debugging"
   ]
  },
  {
   "cell_type": "code",
   "execution_count": 55,
   "metadata": {},
   "outputs": [],
   "source": [
    "#let's test\n",
    "#random dataset\n",
    "sample_size = 3\n",
    "cat_size    = 3\n",
    "cont_size   = 6\n",
    "\n",
    "p = 0.5\n",
    "x_cat_hour  = torch.randint(0, 24,(sample_size, 1))\n",
    "x_cat_ampm  = torch.randint(0, 2, (sample_size, 1))\n",
    "x_cat_day   = torch.randint(0, 7, (sample_size, 1))\n",
    "x_cat_example      = torch.cat([x_cat_hour, x_cat_ampm, x_cat_day], 1)\n",
    "x_cont_example     = torch.randn(sample_size, cont_size)"
   ]
  },
  {
   "cell_type": "code",
   "execution_count": 56,
   "metadata": {},
   "outputs": [
    {
     "data": {
      "text/plain": [
       "tensor([[21,  0,  4],\n",
       "        [ 5,  1,  1],\n",
       "        [18,  1,  0]])"
      ]
     },
     "execution_count": 56,
     "metadata": {},
     "output_type": "execute_result"
    }
   ],
   "source": [
    "x_cat_example"
   ]
  },
  {
   "cell_type": "code",
   "execution_count": 57,
   "metadata": {},
   "outputs": [
    {
     "data": {
      "text/plain": [
       "tensor([[ 0.3645, -0.2743,  0.3079,  0.0089, -0.6804,  0.5761],\n",
       "        [ 1.9157, -0.5505, -0.2487, -0.0490,  0.1130, -0.3351],\n",
       "        [-1.5442, -0.7426, -1.5445,  0.3638, -0.8550, -0.1221]])"
      ]
     },
     "execution_count": 57,
     "metadata": {},
     "output_type": "execute_result"
    }
   ],
   "source": [
    "x_cont_example"
   ]
  },
  {
   "cell_type": "code",
   "execution_count": 58,
   "metadata": {},
   "outputs": [],
   "source": [
    "output = model(x_cat_example, x_cont_example)"
   ]
  },
  {
   "cell_type": "code",
   "execution_count": 59,
   "metadata": {},
   "outputs": [
    {
     "data": {
      "text/plain": [
       "tensor([[-0.8154, -0.4577],\n",
       "        [-0.3672,  1.1497],\n",
       "        [ 0.5056, -1.5812]], grad_fn=<AddmmBackward0>)"
      ]
     },
     "execution_count": 59,
     "metadata": {},
     "output_type": "execute_result"
    }
   ],
   "source": [
    "output"
   ]
  },
  {
   "cell_type": "markdown",
   "metadata": {},
   "source": [
    "## 11. Training!!!"
   ]
  },
  {
   "cell_type": "code",
   "execution_count": 60,
   "metadata": {},
   "outputs": [],
   "source": [
    "#define loss function \n",
    "J_fn = nn.CrossEntropyLoss()"
   ]
  },
  {
   "cell_type": "code",
   "execution_count": 61,
   "metadata": {},
   "outputs": [],
   "source": [
    "#define optimizer (you can try use Adam)\n",
    "optimizer = torch.optim.Adam(model.parameters(), lr = 0.01)\n",
    "#Adam have dynamic learning schedules....\n",
    "#but it is NOT proven that Adam is better than SGD...."
   ]
  },
  {
   "cell_type": "code",
   "execution_count": 62,
   "metadata": {},
   "outputs": [
    {
     "data": {
      "text/plain": [
       "torch.Size([120000])"
      ]
     },
     "execution_count": 62,
     "metadata": {},
     "output_type": "execute_result"
    }
   ],
   "source": [
    "y.shape"
   ]
  },
  {
   "cell_type": "code",
   "execution_count": 63,
   "metadata": {},
   "outputs": [],
   "source": [
    "#why you not use 120000, too lazy to wait\n",
    "#why you don't use dataloader, because our data is small, only 9 features....\n",
    "\n",
    "#train test split\n",
    "train_size = 60000\n",
    "test_size  = 12000\n",
    "\n",
    "#use your numpy indexing technique\n",
    "cat_train = time[:train_size]\n",
    "cat_test  = time[train_size:test_size+train_size]\n",
    "con_train = conts[:train_size]\n",
    "con_test  = conts[train_size:test_size+train_size]\n",
    "y_train   = y[:train_size]\n",
    "y_test    = y[train_size:test_size+train_size]"
   ]
  },
  {
   "cell_type": "code",
   "execution_count": 64,
   "metadata": {},
   "outputs": [
    {
     "name": "stdout",
     "output_type": "stream",
     "text": [
      "Epoch: 1; Loss: 0.57\n",
      "Epoch: 26; Loss: 0.29\n",
      "Epoch: 51; Loss: 0.27\n",
      "Epoch: 76; Loss: 0.26\n"
     ]
    }
   ],
   "source": [
    "epochs = 100\n",
    "\n",
    "losses = []\n",
    "\n",
    "for i in range(epochs):\n",
    "    yhat = model(cat_train, con_train)\n",
    "    loss = J_fn(yhat, y_train)\n",
    "    losses.append(loss)\n",
    "    \n",
    "    optimizer.zero_grad()\n",
    "    loss.backward()\n",
    "    optimizer.step()\n",
    "    \n",
    "    if i % 25 == 1:\n",
    "        print(f\"Epoch: {i}; Loss: {loss:.2f}\")"
   ]
  },
  {
   "cell_type": "code",
   "execution_count": 65,
   "metadata": {},
   "outputs": [],
   "source": [
    "train_loss = [loss.item() for loss in losses]\n",
    "# train_loss"
   ]
  },
  {
   "cell_type": "code",
   "execution_count": 66,
   "metadata": {},
   "outputs": [
    {
     "data": {
      "text/plain": [
       "[<matplotlib.lines.Line2D at 0x7fef4d66a1c0>]"
      ]
     },
     "execution_count": 66,
     "metadata": {},
     "output_type": "execute_result"
    },
    {
     "data": {
      "image/png": "[encoded data removed]",
      "text/plain": [
       "<Figure size 432x288 with 1 Axes>"
      ]
     },
     "metadata": {
      "needs_background": "light"
     },
     "output_type": "display_data"
    }
   ],
   "source": [
    "plt.plot(range(epochs), train_loss)"
   ]
  },
  {
   "cell_type": "markdown",
   "metadata": {},
   "source": [
    "# 12. Testing/Inference"
   ]
  },
  {
   "cell_type": "code",
   "execution_count": 67,
   "metadata": {},
   "outputs": [
    {
     "name": "stdout",
     "output_type": "stream",
     "text": [
      "0.9073333333333333\n"
     ]
    }
   ],
   "source": [
    "from sklearn.metrics import accuracy_score\n",
    "\n",
    "with torch.no_grad():\n",
    "    yhat = model(cat_test, con_test)\n",
    "    loss = J_fn(yhat, y_test)\n",
    "    predicted = torch.max(yhat, 1)[1]\n",
    "    acc  = accuracy_score(predicted, y_test)\n",
    "    \n",
    "print(acc)"
   ]
  },
  {
   "cell_type": "code",
   "execution_count": null,
   "metadata": {},
   "outputs": [],
   "source": []
  }
 ],
 "metadata": {
  "kernelspec": {
   "display_name": "Python 3 (ipykernel)",
   "language": "python",
   "name": "python3"
  },
  "language_info": {
   "codemirror_mode": {
    "name": "ipython",
    "version": 3
   },
   "file_extension": ".py",
   "mimetype": "text/x-python",
   "name": "python",
   "nbconvert_exporter": "python",
   "pygments_lexer": "ipython3",
   "version": "3.9.12"
  },
  "vscode": {
   "interpreter": {
    "hash": "27768773b483d82a9b2b839e3fa80b1be5789db7fd78df4eedef2df266871616"
   }
  }
 },
 "nbformat": 4,
 "nbformat_minor": 2
}
