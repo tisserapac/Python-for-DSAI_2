{
 "cells": [
  {
   "cell_type": "code",
   "execution_count": 1,
   "metadata": {},
   "outputs": [
    {
     "name": "stdout",
     "output_type": "stream",
     "text": [
      "123\n"
     ]
    }
   ],
   "source": [
    "print(\"123\")"
   ]
  },
  {
   "cell_type": "markdown",
   "metadata": {},
   "source": [
    "Review Python"
   ]
  },
  {
   "cell_type": "code",
   "execution_count": 2,
   "metadata": {},
   "outputs": [
    {
     "data": {
      "text/plain": [
       "int"
      ]
     },
     "execution_count": 2,
     "metadata": {},
     "output_type": "execute_result"
    }
   ],
   "source": [
    "# We learn that python supports dynamic typing\n",
    "\n",
    "x = 3\n",
    "type(x)"
   ]
  },
  {
   "cell_type": "code",
   "execution_count": 3,
   "metadata": {},
   "outputs": [
    {
     "data": {
      "text/plain": [
       "float"
      ]
     },
     "execution_count": 3,
     "metadata": {},
     "output_type": "execute_result"
    }
   ],
   "source": [
    "y = 3.34\n",
    "type(y)"
   ]
  },
  {
   "cell_type": "code",
   "execution_count": 4,
   "metadata": {},
   "outputs": [
    {
     "data": {
      "text/plain": [
       "str"
      ]
     },
     "execution_count": 4,
     "metadata": {},
     "output_type": "execute_result"
    }
   ],
   "source": [
    "z = \"Test\"\n",
    "type(z)"
   ]
  },
  {
   "cell_type": "code",
   "execution_count": 5,
   "metadata": {},
   "outputs": [
    {
     "name": "stdout",
     "output_type": "stream",
     "text": [
      "Anything\n",
      "The value of x is 3\n"
     ]
    }
   ],
   "source": [
    "# How to print\n",
    "print(\"Anything\")\n",
    "x = 3\n",
    "print(f\"The value of x is {3}\")"
   ]
  },
  {
   "cell_type": "code",
   "execution_count": 7,
   "metadata": {},
   "outputs": [
    {
     "name": "stdout",
     "output_type": "stream",
     "text": [
      "x is greater than y\n"
     ]
    }
   ],
   "source": [
    "#if elif else\n",
    "\n",
    "x = 9\n",
    "y = 5\n",
    "z = 10\n",
    "\n",
    "if (x > y):\n",
    "    print(\"x is greater than y\")\n",
    "elif (x > z):\n",
    "    print(\"x is greater than z\")\n",
    "else:\n",
    "    print(\"x is smaller than y\")    "
   ]
  },
  {
   "cell_type": "code",
   "execution_count": 8,
   "metadata": {},
   "outputs": [
    {
     "name": "stdout",
     "output_type": "stream",
     "text": [
      "5\n",
      "6\n",
      "7\n",
      "8\n",
      "9\n"
     ]
    }
   ],
   "source": [
    "# While loop\n",
    "x = 5\n",
    "while(x < 10):\n",
    "    print(x)\n",
    "    x = x + 1"
   ]
  },
  {
   "cell_type": "code",
   "execution_count": 11,
   "metadata": {},
   "outputs": [
    {
     "name": "stdout",
     "output_type": "stream",
     "text": [
      "123\n",
      "24\n"
     ]
    }
   ],
   "source": [
    "#Input string and int\n",
    "\n",
    "something = input(\"Please input a number\") # This input always recevives anything as a string\n",
    "print(something)\n",
    "\n",
    "something = int(input(\"Please input a number\"))\n",
    "print(something + 1)"
   ]
  },
  {
   "cell_type": "code",
   "execution_count": 12,
   "metadata": {},
   "outputs": [
    {
     "data": {
      "text/plain": [
       "9"
      ]
     },
     "execution_count": 12,
     "metadata": {},
     "output_type": "execute_result"
    }
   ],
   "source": [
    "# List\n",
    "x = [1,3,5,9,10]\n",
    "\n",
    "#We can access elements - index starts at 0\n",
    "\n",
    "x[3] # Value 9"
   ]
  },
  {
   "cell_type": "code",
   "execution_count": 14,
   "metadata": {},
   "outputs": [
    {
     "name": "stdout",
     "output_type": "stream",
     "text": [
      "1\n",
      "3\n",
      "5\n",
      "9\n",
      "10\n"
     ]
    }
   ],
   "source": [
    "# Loop a list\n",
    "for each_num in x:\n",
    "    print(each_num)"
   ]
  },
  {
   "cell_type": "code",
   "execution_count": 15,
   "metadata": {},
   "outputs": [
    {
     "data": {
      "text/plain": [
       "7"
      ]
     },
     "execution_count": 15,
     "metadata": {},
     "output_type": "execute_result"
    }
   ],
   "source": [
    "# Tuples - lists bu cannot be changed\n",
    "#We use ()  to create\n",
    "\n",
    "x = (1,3,5,7,9)\n",
    "x[3] # Value 7"
   ]
  },
  {
   "cell_type": "code",
   "execution_count": 16,
   "metadata": {},
   "outputs": [
    {
     "name": "stdout",
     "output_type": "stream",
     "text": [
      "1\n",
      "3\n",
      "5\n",
      "7\n",
      "9\n"
     ]
    }
   ],
   "source": [
    "for num in x:\n",
    "    print(num)"
   ]
  },
  {
   "cell_type": "code",
   "execution_count": 17,
   "metadata": {},
   "outputs": [
    {
     "ename": "TypeError",
     "evalue": "'tuple' object does not support item assignment",
     "output_type": "error",
     "traceback": [
      "\u001b[0;31m---------------------------------------------------------------------------\u001b[0m",
      "\u001b[0;31mTypeError\u001b[0m                                 Traceback (most recent call last)",
      "\u001b[1;32m/root/projects/Lec-1/Review.ipynb Cell 14\u001b[0m in \u001b[0;36m<cell line: 2>\u001b[0;34m()\u001b[0m\n\u001b[1;32m      <a href='vscode-notebook-cell://attached-container%2B7b22636f6e7461696e65724e616d65223a222f707974686f6e2d666f722d647361692d626f6f7463616d702d707974686f6e2d31227d/root/projects/Lec-1/Review.ipynb#X16sdnNjb2RlLXJlbW90ZQ%3D%3D?line=0'>1</a>\u001b[0m \u001b[39m#Tuples cannot be changed\u001b[39;00m\n\u001b[0;32m----> <a href='vscode-notebook-cell://attached-container%2B7b22636f6e7461696e65724e616d65223a222f707974686f6e2d666f722d647361692d626f6f7463616d702d707974686f6e2d31227d/root/projects/Lec-1/Review.ipynb#X16sdnNjb2RlLXJlbW90ZQ%3D%3D?line=1'>2</a>\u001b[0m x[\u001b[39m0\u001b[39;49m] \u001b[39m=\u001b[39m \u001b[39m99\u001b[39m\n",
      "\u001b[0;31mTypeError\u001b[0m: 'tuple' object does not support item assignment"
     ]
    }
   ],
   "source": [
    "#Tuples cannot be changed\n",
    "x[0] = 99"
   ]
  },
  {
   "cell_type": "code",
   "execution_count": 20,
   "metadata": {},
   "outputs": [
    {
     "data": {
      "text/plain": [
       "1"
      ]
     },
     "execution_count": 20,
     "metadata": {},
     "output_type": "execute_result"
    }
   ],
   "source": [
    "# Tuples is a disguise for multiple assignments\n",
    "\n",
    "x = 1, 2, 3\n",
    "type(x)\n",
    "\n",
    "# Unpack\n",
    "\n",
    "first, second, third = x\n",
    "first"
   ]
  },
  {
   "cell_type": "code",
   "execution_count": 22,
   "metadata": {},
   "outputs": [
    {
     "data": {
      "text/plain": [
       "'Sam'"
      ]
     },
     "execution_count": 22,
     "metadata": {},
     "output_type": "execute_result"
    }
   ],
   "source": [
    "# Dictionary\n",
    "# Key value pair\n",
    "# Use {} to create\n",
    "\n",
    "some_dict = {\"name\": 'Sam', \"age\": 40}\n",
    "\n",
    "some_dict['name']\n"
   ]
  },
  {
   "cell_type": "code",
   "execution_count": 23,
   "metadata": {},
   "outputs": [
    {
     "data": {
      "text/plain": [
       "9"
      ]
     },
     "execution_count": 23,
     "metadata": {},
     "output_type": "execute_result"
    }
   ],
   "source": [
    "# Functions - reusable block of code\n",
    "# starts with def\n",
    "\n",
    "def squre(num):\n",
    "    return num ** 2\n",
    "\n",
    "squre(3)    "
   ]
  },
  {
   "cell_type": "code",
   "execution_count": 28,
   "metadata": {},
   "outputs": [
    {
     "data": {
      "text/plain": [
       "35"
      ]
     },
     "execution_count": 28,
     "metadata": {},
     "output_type": "execute_result"
    }
   ],
   "source": [
    "# Class - A collection of functions and data that are tightly related\n",
    "\n",
    "class Square(object):\n",
    "\n",
    "    #Used whenever we create an object, __init__ is called\n",
    "    def __init__(self, width = 1, height = 1): #Cannot miss __init__, self refers to itself\n",
    "        self.width = width\n",
    "        self.height = height\n",
    "\n",
    "    def getArea(self):\n",
    "        return self.width * self.height\n",
    "\n",
    "\n",
    "sq1 = Square(width=5, height=7)\n",
    "\n",
    "type(sq1)\n",
    "sq1.width\n",
    "sq1.getArea()\n",
    "\n",
    "# There is a difference betwn. attributes and functions\n",
    "# sq1.width - attribute\n",
    "# sq1.getArea() - function\n",
    "\n"
   ]
  },
  {
   "cell_type": "code",
   "execution_count": 30,
   "metadata": {},
   "outputs": [
    {
     "name": "stdout",
     "output_type": "stream",
     "text": [
      "Some of even numbers =  10\n"
     ]
    }
   ],
   "source": [
    "# Create a list of 10 numbers\n",
    "# Add only the even number and assign the result to some variable\n",
    "'''\n",
    "Input : [1,3,4,5,6,7]\n",
    "Output 10\n",
    "'''\n",
    "\n",
    "num_list = [1, 3, 4, 5, 6, 7]\n",
    "sum_even_num = 0\n",
    "\n",
    "for val in num_list:\n",
    "    if val % 2 == 0:\n",
    "        sum_even_num = sum_even_num + val\n",
    "\n",
    "print(f\"Some of even numbers = \", sum_even_num)        \n"
   ]
  },
  {
   "cell_type": "code",
   "execution_count": 36,
   "metadata": {},
   "outputs": [
    {
     "name": "stdout",
     "output_type": "stream",
     "text": [
      "[0, 1, 0, 3]\n"
     ]
    }
   ],
   "source": [
    "x= [\n",
    "    [1,0,0,0],\n",
    "    [0,1,0,0],\n",
    "    [1,0,0,0],\n",
    "    [0,0,0,1],\n",
    "]\n",
    "\n",
    "# Print the index that has 1\n",
    "'''\n",
    "Input :x\n",
    "Output []\n",
    "'''\n",
    "positions = []\n",
    "\n",
    "for each_list in x:\n",
    "    for index, item in enumerate(each_list):\n",
    "        if item == 1:\n",
    "            positions.append(index)\n",
    "            break\n",
    "\n",
    "print(positions)            \n"
   ]
  },
  {
   "cell_type": "code",
   "execution_count": 39,
   "metadata": {},
   "outputs": [
    {
     "name": "stdout",
     "output_type": "stream",
     "text": [
      "[0, 1, 0, 3]\n"
     ]
    }
   ],
   "source": [
    "# Second version\n",
    "#Use built-in function index\n",
    "z = [1,2,3]\n",
    "z.index(2)\n",
    "\n",
    "result = []\n",
    "\n",
    "for each_list in x:\n",
    "    index = each_list.index(1)\n",
    "    result.append(index)\n",
    "\n",
    "print(result)     \n",
    "\n",
    "#Uncomment cmd+win+/"
   ]
  },
  {
   "cell_type": "code",
   "execution_count": 41,
   "metadata": {},
   "outputs": [
    {
     "name": "stdout",
     "output_type": "stream",
     "text": [
      "[0, 1, 0, 3]\n"
     ]
    }
   ],
   "source": [
    "# Third version\n",
    "#List comprehension\n",
    "\n",
    "result = [each_list.index(1) for each_list in x]\n",
    "print(result)     "
   ]
  }
 ],
 "metadata": {
  "kernelspec": {
   "display_name": "Python 3.8.10 ('.venv': pipenv)",
   "language": "python",
   "name": "python3"
  },
  "language_info": {
   "codemirror_mode": {
    "name": "ipython",
    "version": 3
   },
   "file_extension": ".py",
   "mimetype": "text/x-python",
   "name": "python",
   "nbconvert_exporter": "python",
   "pygments_lexer": "ipython3",
   "version": "3.8.10"
  },
  "orig_nbformat": 4,
  "vscode": {
   "interpreter": {
    "hash": "27768773b483d82a9b2b839e3fa80b1be5789db7fd78df4eedef2df266871616"
   }
  }
 },
 "nbformat": 4,
 "nbformat_minor": 2
}
