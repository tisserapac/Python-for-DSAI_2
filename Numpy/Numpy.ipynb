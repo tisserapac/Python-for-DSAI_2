{
 "cells": [
  {
   "cell_type": "markdown",
   "metadata": {},
   "source": [
    "# Programming for Data Science and Artificial Intelligence\n",
    "\n",
    "## Numpy"
   ]
  },
  {
   "cell_type": "code",
   "execution_count": 1,
   "metadata": {},
   "outputs": [],
   "source": [
    "#numpy is list\n",
    "#because \n",
    "#   1. numpy is faster\n",
    "#   2. numpy has more built-in functions that facilitate data science\n",
    "\n",
    "#to start using numpy\n",
    "\n",
    "#conda install numpy\n",
    "#pip install numpy\n",
    "\n",
    "import numpy as np"
   ]
  },
  {
   "cell_type": "code",
   "execution_count": 3,
   "metadata": {},
   "outputs": [
    {
     "data": {
      "text/plain": [
       "numpy.ndarray"
      ]
     },
     "execution_count": 3,
     "metadata": {},
     "output_type": "execute_result"
    }
   ],
   "source": [
    "#create your first list\n",
    "python_list = [1, 2, 3]\n",
    "\n",
    "#convert this list to numpy list\n",
    "numpy_list = np.array(python_list)\n",
    "\n",
    "type(numpy_list)"
   ]
  },
  {
   "cell_type": "code",
   "execution_count": 4,
   "metadata": {},
   "outputs": [],
   "source": [
    "#one theory: one numpy array can only support one type of data\n",
    "\n",
    "#but python list can support many types of data in one list\n",
    "my_list = [1, \"Hello\", True, 1.0]"
   ]
  },
  {
   "cell_type": "code",
   "execution_count": 5,
   "metadata": {},
   "outputs": [
    {
     "data": {
      "text/plain": [
       "array([1. , 2. , 3. , 4.5])"
      ]
     },
     "execution_count": 5,
     "metadata": {},
     "output_type": "execute_result"
    }
   ],
   "source": [
    "my_list = [1, 2, 3, 4.5]\n",
    "\n",
    "np_list = np.array(my_list)\n",
    "\n",
    "np_list"
   ]
  },
  {
   "cell_type": "code",
   "execution_count": 72,
   "metadata": {},
   "outputs": [
    {
     "data": {
      "text/plain": [
       "array([1, 2, 3, 4])"
      ]
     },
     "execution_count": 72,
     "metadata": {},
     "output_type": "execute_result"
    }
   ],
   "source": [
    "#i can of course convert the type using numpyarray.astype()\n",
    "\n",
    "np_list_int = np_list.astype(int)\n",
    "\n",
    "np_list_int"
   ]
  },
  {
   "cell_type": "markdown",
   "metadata": {},
   "source": [
    "Accessing and indexing"
   ]
  },
  {
   "cell_type": "code",
   "execution_count": 73,
   "metadata": {},
   "outputs": [],
   "source": [
    "x = np.array([1, 2, 3, 4, 5, 6, 7, 8])  #x = np.array(range(1, 9))"
   ]
  },
  {
   "cell_type": "code",
   "execution_count": 74,
   "metadata": {},
   "outputs": [
    {
     "data": {
      "text/plain": [
       "3"
      ]
     },
     "execution_count": 74,
     "metadata": {},
     "output_type": "execute_result"
    }
   ],
   "source": [
    "#1st way: using index      so how do get 3\n",
    "x[2]"
   ]
  },
  {
   "cell_type": "code",
   "execution_count": 75,
   "metadata": {},
   "outputs": [
    {
     "data": {
      "text/plain": [
       "array([1, 2, 3])"
      ]
     },
     "execution_count": 75,
     "metadata": {},
     "output_type": "execute_result"
    }
   ],
   "source": [
    "#2nd way - slicing - get more than one members\n",
    "#format array[start:end:step] --> end is exclusive\n",
    "\n",
    "x[0:3]"
   ]
  },
  {
   "cell_type": "code",
   "execution_count": 76,
   "metadata": {},
   "outputs": [
    {
     "data": {
      "text/plain": [
       "array([1, 2, 3, 4, 5, 6, 7, 8])"
      ]
     },
     "execution_count": 76,
     "metadata": {},
     "output_type": "execute_result"
    }
   ],
   "source": [
    "x"
   ]
  },
  {
   "cell_type": "code",
   "execution_count": 77,
   "metadata": {},
   "outputs": [
    {
     "data": {
      "text/plain": [
       "array([3, 4, 5, 6, 7, 8])"
      ]
     },
     "execution_count": 77,
     "metadata": {},
     "output_type": "execute_result"
    }
   ],
   "source": [
    "#get 3 - 8\n",
    "\n",
    "#3 ways\n",
    "\n",
    "##1st way\n",
    "x[2:8]"
   ]
  },
  {
   "cell_type": "code",
   "execution_count": 78,
   "metadata": {},
   "outputs": [
    {
     "data": {
      "text/plain": [
       "array([3, 4, 5, 6, 7, 8])"
      ]
     },
     "execution_count": 78,
     "metadata": {},
     "output_type": "execute_result"
    }
   ],
   "source": [
    "##2nd way\n",
    "x[2:]"
   ]
  },
  {
   "cell_type": "code",
   "execution_count": 79,
   "metadata": {},
   "outputs": [
    {
     "data": {
      "text/plain": [
       "array([3, 4, 5, 6, 7])"
      ]
     },
     "execution_count": 79,
     "metadata": {},
     "output_type": "execute_result"
    }
   ],
   "source": [
    "##3rd way - so no\n",
    "x[2:-1]"
   ]
  },
  {
   "cell_type": "code",
   "execution_count": 80,
   "metadata": {},
   "outputs": [
    {
     "data": {
      "text/plain": [
       "array([1, 2, 3, 4, 5, 6, 7, 8])"
      ]
     },
     "execution_count": 80,
     "metadata": {},
     "output_type": "execute_result"
    }
   ],
   "source": [
    "x"
   ]
  },
  {
   "cell_type": "code",
   "execution_count": 81,
   "metadata": {},
   "outputs": [
    {
     "data": {
      "text/plain": [
       "array([7, 8])"
      ]
     },
     "execution_count": 81,
     "metadata": {},
     "output_type": "execute_result"
    }
   ],
   "source": [
    "#get 7, 8 using minus\n",
    "x[-2:]"
   ]
  },
  {
   "cell_type": "code",
   "execution_count": 82,
   "metadata": {},
   "outputs": [
    {
     "data": {
      "text/plain": [
       "array([1, 2, 3, 4, 5, 6, 7, 8])"
      ]
     },
     "execution_count": 82,
     "metadata": {},
     "output_type": "execute_result"
    }
   ],
   "source": [
    "#3rd way - fancy indexing\n",
    "x"
   ]
  },
  {
   "cell_type": "code",
   "execution_count": 83,
   "metadata": {},
   "outputs": [
    {
     "data": {
      "text/plain": [
       "(3, 5)"
      ]
     },
     "execution_count": 83,
     "metadata": {},
     "output_type": "execute_result"
    }
   ],
   "source": [
    "#sometimes, i want element index 2 and 4\n",
    "x[2], x[4]"
   ]
  },
  {
   "cell_type": "code",
   "execution_count": 84,
   "metadata": {},
   "outputs": [
    {
     "data": {
      "text/plain": [
       "array([3, 5])"
      ]
     },
     "execution_count": 84,
     "metadata": {},
     "output_type": "execute_result"
    }
   ],
   "source": [
    "#put a list of index you wanna access\n",
    "x[  [2, 4]  ]"
   ]
  },
  {
   "cell_type": "markdown",
   "metadata": {},
   "source": [
    "2D arrays\n",
    "\n",
    "<center><img src=\"../figures/02.03-numpy-matrix-indexing.png\" width=500/></center>"
   ]
  },
  {
   "cell_type": "code",
   "execution_count": 85,
   "metadata": {},
   "outputs": [
    {
     "data": {
      "text/plain": [
       "array([[1, 2],\n",
       "       [3, 4],\n",
       "       [5, 6]])"
      ]
     },
     "execution_count": 85,
     "metadata": {},
     "output_type": "execute_result"
    }
   ],
   "source": [
    "data = [[1, 2], [3, 4], [5, 6]]\n",
    "\n",
    "np_list = np.array(data)\n",
    "\n",
    "np_list"
   ]
  },
  {
   "cell_type": "code",
   "execution_count": 86,
   "metadata": {},
   "outputs": [
    {
     "data": {
      "text/plain": [
       "[[1, 2], [3, 4], [5, 6]]"
      ]
     },
     "execution_count": 86,
     "metadata": {},
     "output_type": "execute_result"
    }
   ],
   "source": [
    "#format when you are dealing with multi-dimensional array\n",
    "#array[dim1, dim2, so on.......]\n",
    "\n",
    "data"
   ]
  },
  {
   "cell_type": "code",
   "execution_count": 87,
   "metadata": {},
   "outputs": [
    {
     "data": {
      "text/plain": [
       "2"
      ]
     },
     "execution_count": 87,
     "metadata": {},
     "output_type": "execute_result"
    }
   ],
   "source": [
    "np_list[0, 1]"
   ]
  },
  {
   "cell_type": "code",
   "execution_count": 88,
   "metadata": {},
   "outputs": [
    {
     "data": {
      "text/plain": [
       "6"
      ]
     },
     "execution_count": 88,
     "metadata": {},
     "output_type": "execute_result"
    }
   ],
   "source": [
    "#can you guys retrieve 6 for me\n",
    "\n",
    "np_list[2, 1]"
   ]
  },
  {
   "cell_type": "code",
   "execution_count": 89,
   "metadata": {},
   "outputs": [
    {
     "data": {
      "text/plain": [
       "array([[3, 4],\n",
       "       [5, 6]])"
      ]
     },
     "execution_count": 89,
     "metadata": {},
     "output_type": "execute_result"
    }
   ],
   "source": [
    "#can you guys get [3, 4], [5, 6]\n",
    "\n",
    "# np_list[firstdim, secondim]\n",
    "\n",
    "#1st way: slicing\n",
    "np_list[ 1: , :]  #if you put [1:3, :]"
   ]
  },
  {
   "cell_type": "code",
   "execution_count": 90,
   "metadata": {},
   "outputs": [
    {
     "data": {
      "text/plain": [
       "[[1, 2], [3, 4], [5, 6]]"
      ]
     },
     "execution_count": 90,
     "metadata": {},
     "output_type": "execute_result"
    }
   ],
   "source": [
    "data"
   ]
  },
  {
   "cell_type": "code",
   "execution_count": 91,
   "metadata": {},
   "outputs": [
    {
     "data": {
      "text/plain": [
       "array([[3, 4],\n",
       "       [5, 6]])"
      ]
     },
     "execution_count": 91,
     "metadata": {},
     "output_type": "execute_result"
    }
   ],
   "source": [
    "#2nd way: fancy indexing\n",
    "np_list[ [1, 2] , : ]"
   ]
  },
  {
   "cell_type": "code",
   "execution_count": 92,
   "metadata": {},
   "outputs": [
    {
     "data": {
      "text/plain": [
       "array([[3, 4],\n",
       "       [5, 6]])"
      ]
     },
     "execution_count": 92,
     "metadata": {},
     "output_type": "execute_result"
    }
   ],
   "source": [
    "#3rd way: the last two\n",
    "\n",
    "np_list[-2: , :]"
   ]
  },
  {
   "cell_type": "code",
   "execution_count": 93,
   "metadata": {},
   "outputs": [
    {
     "data": {
      "text/plain": [
       "[[1, 2], [3, 4], [5, 6]]"
      ]
     },
     "execution_count": 93,
     "metadata": {},
     "output_type": "execute_result"
    }
   ],
   "source": [
    "data"
   ]
  },
  {
   "cell_type": "code",
   "execution_count": 94,
   "metadata": {},
   "outputs": [
    {
     "data": {
      "text/plain": [
       "array([1, 2])"
      ]
     },
     "execution_count": 94,
     "metadata": {},
     "output_type": "execute_result"
    }
   ],
   "source": [
    "#chaky, how do i know which dimension is which\n",
    "np_list[0, ]"
   ]
  },
  {
   "cell_type": "code",
   "execution_count": 95,
   "metadata": {},
   "outputs": [
    {
     "data": {
      "text/plain": [
       "array([1, 3, 5])"
      ]
     },
     "execution_count": 95,
     "metadata": {},
     "output_type": "execute_result"
    }
   ],
   "source": [
    "np_list[: , 0]"
   ]
  },
  {
   "cell_type": "code",
   "execution_count": 96,
   "metadata": {},
   "outputs": [
    {
     "data": {
      "text/plain": [
       "[[1, 2], [3, 4], [5, 6]]"
      ]
     },
     "execution_count": 96,
     "metadata": {},
     "output_type": "execute_result"
    }
   ],
   "source": [
    "data"
   ]
  },
  {
   "cell_type": "code",
   "execution_count": 97,
   "metadata": {},
   "outputs": [
    {
     "data": {
      "text/plain": [
       "array([1, 5])"
      ]
     },
     "execution_count": 97,
     "metadata": {},
     "output_type": "execute_result"
    }
   ],
   "source": [
    "#get 1, 3\n",
    "np_list[0:2, 0]\n",
    "\n",
    "#get 1, 5\n",
    "\n",
    "#1st way: fancy indexing\n",
    "np_list[   [0, 2] , 0    ]"
   ]
  },
  {
   "cell_type": "code",
   "execution_count": 99,
   "metadata": {},
   "outputs": [
    {
     "data": {
      "text/plain": [
       "array([1, 5])"
      ]
     },
     "execution_count": 99,
     "metadata": {},
     "output_type": "execute_result"
    }
   ],
   "source": [
    "#2nd way: recall the format start:end:step\n",
    "\n",
    "np_list[           0::2  , 0       ]"
   ]
  },
  {
   "cell_type": "markdown",
   "metadata": {},
   "source": [
    "17:50 - 18:00"
   ]
  },
  {
   "cell_type": "code",
   "execution_count": 100,
   "metadata": {},
   "outputs": [
    {
     "data": {
      "text/plain": [
       "array([16, 15, 14, 13])"
      ]
     },
     "execution_count": 100,
     "metadata": {},
     "output_type": "execute_result"
    }
   ],
   "source": [
    "x = [\n",
    "    \n",
    "    [1, 2, 3, 4],\n",
    "    [5, 6, 7, 8],\n",
    "    [9, 10, 11, 12],\n",
    "    [13, 14, 15, 16]\n",
    "    \n",
    "]\n",
    "\n",
    "np_list = np.array(x)\n",
    "\n",
    "#1:  get 2, 6, 10, 14\n",
    "np_list[:, 1]\n",
    "\n",
    "#2:  get 7, 11\n",
    "np_list[1:3, 2]\n",
    "\n",
    "#3:  get 4, 7, 10   - hint: use fancy indexing on both dimensions\n",
    "np_list[ [0, 1, 2] , [3, 2, 1]]\n",
    "\n",
    "#4:  get 16, 15, 14, 13  - hint: use step -1\n",
    "\n",
    "np_list[-1, -1::-1]"
   ]
  },
  {
   "cell_type": "code",
   "execution_count": 33,
   "metadata": {},
   "outputs": [],
   "source": [
    "#fun exercise you can do at home :-):\n",
    "\n",
    "#given a matrix = [ [99, 99, 99], \n",
    "#                   [99, 99, 99], \n",
    "#                   [99, 99, 99]]\n",
    "\n",
    "#imagine 99 is empty\n",
    "#assume 1 is X\n",
    "#assume 0 is O\n",
    "\n",
    "#get the input from the X side and O side alternatively\n",
    "#give you a tupe of index\n",
    "\n",
    "#if X side input (0, 0)\n",
    "#then the matrix becomes \n",
    "\n",
    "#                 [ [X, 99, 99], \n",
    "#                   [99, 99, 99], \n",
    "#                   [99, 99, 99]]\n",
    "\n",
    "#if O side input also (0, 0)\n",
    "#alert them to input again\n",
    "#otherwise, fill the matrix\n",
    "\n",
    "#challenge (optional): if the first one to get three in row, stop the game"
   ]
  },
  {
   "cell_type": "markdown",
   "metadata": {},
   "source": [
    "Afternoon exercise"
   ]
  },
  {
   "cell_type": "code",
   "execution_count": 34,
   "metadata": {},
   "outputs": [],
   "source": [
    "y = [\n",
    "    \n",
    "    [1, 2, 3],\n",
    "    [4, 5, 6],\n",
    "    [7, 8, 9],\n",
    "    \n",
    "]\n",
    "\n",
    "np_y = np.array(y)\n",
    "\n",
    "#try to get\n",
    "\n",
    "#1. 4, 5, 6\n",
    "#2. 2, 5\n",
    "#3. 3, 4\n",
    "#4. 9, 6, 3"
   ]
  },
  {
   "cell_type": "code",
   "execution_count": 35,
   "metadata": {},
   "outputs": [
    {
     "data": {
      "text/plain": [
       "array([4, 5, 6])"
      ]
     },
     "execution_count": 35,
     "metadata": {},
     "output_type": "execute_result"
    }
   ],
   "source": [
    "#1\n",
    "\n",
    "#format:  y[row, col]  or  y[dim1, dim2]\n",
    "\n",
    "np_y[1, :]\n"
   ]
  },
  {
   "cell_type": "code",
   "execution_count": 36,
   "metadata": {},
   "outputs": [
    {
     "data": {
      "text/plain": [
       "array([[1, 2, 3],\n",
       "       [4, 5, 6],\n",
       "       [7, 8, 9]])"
      ]
     },
     "execution_count": 36,
     "metadata": {},
     "output_type": "execute_result"
    }
   ],
   "source": [
    "np_y"
   ]
  },
  {
   "cell_type": "code",
   "execution_count": 37,
   "metadata": {},
   "outputs": [
    {
     "data": {
      "text/plain": [
       "array([2, 5])"
      ]
     },
     "execution_count": 37,
     "metadata": {},
     "output_type": "execute_result"
    }
   ],
   "source": [
    "#2. I want 2, 5\n",
    "\n",
    "#4, 5 ==> row 0 and 1,  col 1\n",
    "\n",
    "#format: np_y[row, col]\n",
    "\n",
    "np_y[   [0, 1]  ,  1 ]  #1st way\n",
    "\n",
    "np_y[   0:2     ,  1 ]  #2nd way - use slicing"
   ]
  },
  {
   "cell_type": "code",
   "execution_count": 38,
   "metadata": {},
   "outputs": [
    {
     "data": {
      "text/plain": [
       "array([3, 4])"
      ]
     },
     "execution_count": 38,
     "metadata": {},
     "output_type": "execute_result"
    }
   ],
   "source": [
    "#3. 3, 4\n",
    "\n",
    "#row ==> 0 and 1\n",
    "#col ==> 2 and 0\n",
    "\n",
    "row = [0, 1]\n",
    "col = [2, 0]\n",
    "\n",
    "np_y[row, col]"
   ]
  },
  {
   "cell_type": "code",
   "execution_count": 39,
   "metadata": {},
   "outputs": [
    {
     "data": {
      "text/plain": [
       "array([[1, 2, 3],\n",
       "       [4, 5, 6],\n",
       "       [7, 8, 9]])"
      ]
     },
     "execution_count": 39,
     "metadata": {},
     "output_type": "execute_result"
    }
   ],
   "source": [
    "np_y"
   ]
  },
  {
   "cell_type": "code",
   "execution_count": 40,
   "metadata": {},
   "outputs": [
    {
     "data": {
      "text/plain": [
       "array([9, 6])"
      ]
     },
     "execution_count": 40,
     "metadata": {},
     "output_type": "execute_result"
    }
   ],
   "source": [
    "#4. 9, 6, 3\n",
    "\n",
    "#row 2, 1, 0\n",
    "#col 2\n",
    "\n",
    "#1st fancy indexing\n",
    "row = [2, 1, 0]\n",
    "col = [2]\n",
    "\n",
    "np_y[row, col]\n",
    "\n",
    "#2nd slicing\n",
    "\n",
    "np_y[    2:0:-1    ,     2   ]\n"
   ]
  },
  {
   "cell_type": "markdown",
   "metadata": {},
   "source": [
    "Masking"
   ]
  },
  {
   "cell_type": "code",
   "execution_count": 41,
   "metadata": {},
   "outputs": [
    {
     "data": {
      "text/plain": [
       "[2, 4, 6, 8, 10]"
      ]
     },
     "execution_count": 41,
     "metadata": {},
     "output_type": "execute_result"
    }
   ],
   "source": [
    "x = [1, 2, 3, 4, 5, 6, 7, 8, 9, 10]\n",
    "\n",
    "#i want only even number\n",
    "\n",
    "#1st way: if\n",
    "\n",
    "even = []\n",
    "\n",
    "for num in x:\n",
    "    if num % 2 == 0:\n",
    "        even.append(num)\n",
    "        \n",
    "#2nd way: list comprehension\n",
    "\n",
    "even = [ num for num in x if num % 2 == 0]\n",
    "\n",
    "even"
   ]
  },
  {
   "cell_type": "code",
   "execution_count": 42,
   "metadata": {},
   "outputs": [
    {
     "data": {
      "text/plain": [
       "array([0, 1, 2, 3, 4, 5, 6, 7, 8, 9])"
      ]
     },
     "execution_count": 42,
     "metadata": {},
     "output_type": "execute_result"
    }
   ],
   "source": [
    "#do you guys feel painful to write such code!?\n",
    "\n",
    "np_x = np.arange(10)  #this is basically range(10) but for numpy\n",
    "\n",
    "np_x"
   ]
  },
  {
   "cell_type": "code",
   "execution_count": 43,
   "metadata": {},
   "outputs": [
    {
     "data": {
      "text/plain": [
       "array([0, 2, 4, 6, 8])"
      ]
     },
     "execution_count": 43,
     "metadata": {},
     "output_type": "execute_result"
    }
   ],
   "source": [
    "np_x[  np_x % 2 == 0   ]\n",
    "\n",
    "#actually this guy np_x % 2 == 0 is fancy indexing"
   ]
  },
  {
   "cell_type": "code",
   "execution_count": 44,
   "metadata": {},
   "outputs": [
    {
     "data": {
      "text/plain": [
       "array([ True, False,  True, False,  True, False,  True, False,  True,\n",
       "       False])"
      ]
     },
     "execution_count": 44,
     "metadata": {},
     "output_type": "execute_result"
    }
   ],
   "source": [
    "np_x % 2 == 0"
   ]
  },
  {
   "cell_type": "code",
   "execution_count": 45,
   "metadata": {},
   "outputs": [
    {
     "data": {
      "text/plain": [
       "array([0, 1, 2, 3, 4, 5, 6, 7, 8, 9])"
      ]
     },
     "execution_count": 45,
     "metadata": {},
     "output_type": "execute_result"
    }
   ],
   "source": [
    "np_x"
   ]
  },
  {
   "cell_type": "code",
   "execution_count": 46,
   "metadata": {},
   "outputs": [
    {
     "data": {
      "text/plain": [
       "array([0, 1, 4, 5, 6, 9])"
      ]
     },
     "execution_count": 46,
     "metadata": {},
     "output_type": "execute_result"
    }
   ],
   "source": [
    "ix = [True, True, False, False, True, True, True, False, False, True]\n",
    "\n",
    "np_x[ix]"
   ]
  },
  {
   "cell_type": "code",
   "execution_count": 47,
   "metadata": {},
   "outputs": [
    {
     "data": {
      "text/plain": [
       "array([0, 1, 2, 3, 4, 5, 6, 7, 8, 9])"
      ]
     },
     "execution_count": 47,
     "metadata": {},
     "output_type": "execute_result"
    }
   ],
   "source": [
    "#choose odd number\n",
    "\n",
    "np_x"
   ]
  },
  {
   "cell_type": "code",
   "execution_count": 48,
   "metadata": {},
   "outputs": [
    {
     "data": {
      "text/plain": [
       "array([1, 2, 3, 4, 5, 6, 7, 8, 9])"
      ]
     },
     "execution_count": 48,
     "metadata": {},
     "output_type": "execute_result"
    }
   ],
   "source": [
    "cond1 = np_x % 2 != 0\n",
    "cond2 = np_x < 5\n",
    "cond3 = np_x > 0\n",
    "\n",
    "np_x[       cond1  & cond2  | cond3       ]  #if you want \"or\", use |"
   ]
  },
  {
   "cell_type": "markdown",
   "metadata": {},
   "source": [
    "Broadcasting"
   ]
  },
  {
   "cell_type": "code",
   "execution_count": 49,
   "metadata": {},
   "outputs": [
    {
     "data": {
      "text/plain": [
       "'\\n[1,            [5\\n 2,  x   5   =  10\\n 3]             15]\\n'"
      ]
     },
     "execution_count": 49,
     "metadata": {},
     "output_type": "execute_result"
    }
   ],
   "source": [
    "'''\n",
    "- slicing, fancy indexing\n",
    "- masking\n",
    "- broadcasting\n",
    "'''\n",
    "\n",
    "#basically, numpy behaves like vectors\n",
    "\n",
    "'''\n",
    "[1,            [5\n",
    " 2,  x   5   =  10\n",
    " 3]             15]\n",
    "'''"
   ]
  },
  {
   "cell_type": "code",
   "execution_count": 50,
   "metadata": {},
   "outputs": [
    {
     "data": {
      "text/plain": [
       "array([4, 9, 2, 6, 9, 5, 2, 9, 0, 0])"
      ]
     },
     "execution_count": 50,
     "metadata": {},
     "output_type": "execute_result"
    }
   ],
   "source": [
    "np_x = np.random.randint(10, size = 10)  #10 is exclusive\n",
    "\n",
    "np_x"
   ]
  },
  {
   "cell_type": "code",
   "execution_count": 51,
   "metadata": {},
   "outputs": [
    {
     "data": {
      "text/plain": [
       "array([12, 27,  6, 18, 27, 15,  6, 27,  0,  0])"
      ]
     },
     "execution_count": 51,
     "metadata": {},
     "output_type": "execute_result"
    }
   ],
   "source": [
    "np_x * 3"
   ]
  },
  {
   "cell_type": "code",
   "execution_count": 52,
   "metadata": {},
   "outputs": [
    {
     "data": {
      "text/plain": [
       "array([[1., 1., 1.],\n",
       "       [1., 1., 1.],\n",
       "       [1., 1., 1.]])"
      ]
     },
     "execution_count": 52,
     "metadata": {},
     "output_type": "execute_result"
    }
   ],
   "source": [
    "#create a np array\n",
    "\n",
    "np.ones((3, 3))  #np.ones is to create a matrix of ones, with the specified size"
   ]
  },
  {
   "cell_type": "code",
   "execution_count": 53,
   "metadata": {},
   "outputs": [
    {
     "data": {
      "text/plain": [
       "array([0, 1, 2])"
      ]
     },
     "execution_count": 53,
     "metadata": {},
     "output_type": "execute_result"
    }
   ],
   "source": [
    "np.arange(3)"
   ]
  },
  {
   "cell_type": "code",
   "execution_count": 54,
   "metadata": {},
   "outputs": [
    {
     "data": {
      "text/plain": [
       "array([[1., 2., 3.],\n",
       "       [1., 2., 3.],\n",
       "       [1., 2., 3.]])"
      ]
     },
     "execution_count": 54,
     "metadata": {},
     "output_type": "execute_result"
    }
   ],
   "source": [
    "#what would happen if I do\n",
    "\n",
    "np.ones((3, 3)) + np.arange(3)"
   ]
  },
  {
   "cell_type": "code",
   "execution_count": 55,
   "metadata": {},
   "outputs": [
    {
     "data": {
      "text/plain": [
       "array([0, 1, 2])"
      ]
     },
     "execution_count": 55,
     "metadata": {},
     "output_type": "execute_result"
    }
   ],
   "source": [
    "x = np.arange(3)\n",
    "x"
   ]
  },
  {
   "cell_type": "code",
   "execution_count": 56,
   "metadata": {},
   "outputs": [
    {
     "data": {
      "text/plain": [
       "(3,)"
      ]
     },
     "execution_count": 56,
     "metadata": {},
     "output_type": "execute_result"
    }
   ],
   "source": [
    "x.shape"
   ]
  },
  {
   "cell_type": "code",
   "execution_count": 57,
   "metadata": {},
   "outputs": [
    {
     "data": {
      "text/plain": [
       "array([[0],\n",
       "       [1],\n",
       "       [2]])"
      ]
     },
     "execution_count": 57,
     "metadata": {},
     "output_type": "execute_result"
    }
   ],
   "source": [
    "#i gonna make this as a column vector\n",
    "\n",
    "#btw, why do i called this column vector?\n",
    "\n",
    "#because at the column dimension, is 1\n",
    "\n",
    "x = x.reshape(     (3, 1)     )\n",
    "\n",
    "x"
   ]
  },
  {
   "cell_type": "code",
   "execution_count": 58,
   "metadata": {},
   "outputs": [
    {
     "data": {
      "text/plain": [
       "array([[0],\n",
       "       [1],\n",
       "       [2]])"
      ]
     },
     "execution_count": 58,
     "metadata": {},
     "output_type": "execute_result"
    }
   ],
   "source": [
    "x"
   ]
  },
  {
   "cell_type": "code",
   "execution_count": 59,
   "metadata": {},
   "outputs": [
    {
     "data": {
      "text/plain": [
       "array([0, 1, 2])"
      ]
     },
     "execution_count": 59,
     "metadata": {},
     "output_type": "execute_result"
    }
   ],
   "source": [
    "y = np.arange(3)\n",
    "y"
   ]
  },
  {
   "cell_type": "code",
   "execution_count": 60,
   "metadata": {},
   "outputs": [
    {
     "data": {
      "text/plain": [
       "array([[0, 1, 2],\n",
       "       [1, 2, 3],\n",
       "       [2, 3, 4]])"
      ]
     },
     "execution_count": 60,
     "metadata": {},
     "output_type": "execute_result"
    }
   ],
   "source": [
    "x + y"
   ]
  },
  {
   "cell_type": "code",
   "execution_count": 61,
   "metadata": {},
   "outputs": [
    {
     "name": "stdout",
     "output_type": "stream",
     "text": [
      "Before: (2, 3)\n",
      "After: (3, 2)\n"
     ]
    },
    {
     "data": {
      "text/plain": [
       "array([[2., 3.],\n",
       "       [2., 3.],\n",
       "       [2., 3.]])"
      ]
     },
     "execution_count": 61,
     "metadata": {},
     "output_type": "execute_result"
    }
   ],
   "source": [
    "#first, create a numpy matrix of ones of size 2, 3\n",
    "\n",
    "my_mat = np.ones(       (2, 3)     )   #np.zeros, np.empty, np.diagonal\n",
    "\n",
    "'''\n",
    "[\n",
    "[1, 1, 1],\n",
    "[1, 1, 1]\n",
    "]\n",
    "'''\n",
    "\n",
    "#second, verify the shape using .shape\n",
    "print(f\"Before: {my_mat.shape}\")\n",
    "\n",
    "#third, i want you to reshape to 3, 2, and verify the shape\n",
    "my_mat = my_mat.reshape(    (3, 2)   )\n",
    "print(f\"After: {my_mat.shape}\")\n",
    "\n",
    "#fourth, i want you to add [1, 2] to each row\n",
    "add = [1, 2]\n",
    "my_mat = my_mat + add\n",
    "\n",
    "my_mat"
   ]
  },
  {
   "cell_type": "code",
   "execution_count": 62,
   "metadata": {},
   "outputs": [
    {
     "data": {
      "text/plain": [
       "array([[2., 2., 2.],\n",
       "       [2., 2., 2.]])"
      ]
     },
     "execution_count": 62,
     "metadata": {},
     "output_type": "execute_result"
    }
   ],
   "source": [
    "#Create two numpy array\n",
    "\n",
    "#first one is size (3, 2) - any number\n",
    "x = np.ones(     (3, 2)   )\n",
    "\n",
    "x = x.reshape(   (2, 3)  )\n",
    "\n",
    "#second one is size (3, ) - any number\n",
    "y = np.ones(     (3,  )   )  #==> (1, 3)\n",
    "\n",
    "# y = y.reshape(   (3, 1)       )\n",
    "\n",
    "#try to add them but you will find error\n",
    "x + y  #final shape will be (3, 2)\n",
    "\n",
    "#hint: fix it using reshape so they can be added"
   ]
  },
  {
   "cell_type": "markdown",
   "metadata": {},
   "source": [
    "Break: 14:27 - 14:37"
   ]
  },
  {
   "cell_type": "markdown",
   "metadata": {},
   "source": [
    "Task\n",
    "\n",
    "1. Create a numpy array of size 150 by 5.  Imagine this array holds 150 samples of students height, weight, age, salary, GPA\n",
    "\n",
    "2. Split the array of the first four columns into a variable called X , and the last column to y\n",
    "\n",
    "3. Split the X into X_train and X_test, where X_train contains 70% of the data, and split the y into y_train and y_test, where y_train contains 70% of the data\n",
    "   \n",
    "4. Create 10 non-overlapping dataset of X_train "
   ]
  },
  {
   "cell_type": "code",
   "execution_count": 63,
   "metadata": {},
   "outputs": [
    {
     "data": {
      "text/plain": [
       "(150, 5)"
      ]
     },
     "execution_count": 63,
     "metadata": {},
     "output_type": "execute_result"
    }
   ],
   "source": [
    "data = np.random.uniform(0, 10, (150, 5))\n",
    "data.shape"
   ]
  },
  {
   "cell_type": "code",
   "execution_count": 64,
   "metadata": {},
   "outputs": [
    {
     "data": {
      "text/plain": [
       "((150, 4), (150,))"
      ]
     },
     "execution_count": 64,
     "metadata": {},
     "output_type": "execute_result"
    }
   ],
   "source": [
    "X = data[:, :-1]\n",
    "y = data[:, -1]\n",
    "\n",
    "X.shape, y.shape"
   ]
  },
  {
   "cell_type": "code",
   "execution_count": 65,
   "metadata": {},
   "outputs": [
    {
     "name": "stdout",
     "output_type": "stream",
     "text": [
      "whole dataset size:  150\n",
      "train size:  105\n"
     ]
    },
    {
     "data": {
      "text/plain": [
       "((105, 4), (45, 4))"
      ]
     },
     "execution_count": 65,
     "metadata": {},
     "output_type": "execute_result"
    }
   ],
   "source": [
    "#1st easy way\n",
    "\n",
    "dataset_size = X.shape[0]\n",
    "print(f\"whole dataset size:  {dataset_size}\")\n",
    "\n",
    "train_size  = int(dataset_size * 0.7)\n",
    "print(f\"train size:  {train_size}\")\n",
    "\n",
    "X_train = X[:train_size]\n",
    "X_test  = X[train_size:]\n",
    "\n",
    "X_train.shape, X_test.shape\n"
   ]
  },
  {
   "cell_type": "code",
   "execution_count": 66,
   "metadata": {},
   "outputs": [
    {
     "ename": "NameError",
     "evalue": "name 'random' is not defined",
     "output_type": "error",
     "traceback": [
      "\u001b[0;31m---------------------------------------------------------------------------\u001b[0m",
      "\u001b[0;31mNameError\u001b[0m                                 Traceback (most recent call last)",
      "Cell \u001b[0;32mIn [66], line 9\u001b[0m\n\u001b[1;32m      1\u001b[0m \u001b[38;5;66;03m#2nd way\u001b[39;00m\n\u001b[1;32m      2\u001b[0m \n\u001b[1;32m      3\u001b[0m \u001b[38;5;66;03m#randomized way\u001b[39;00m\n\u001b[1;32m      4\u001b[0m \n\u001b[1;32m      5\u001b[0m \u001b[38;5;66;03m#randomly pick 105 numbers from 0 to 150\u001b[39;00m\n\u001b[1;32m      7\u001b[0m my_list \u001b[38;5;241m=\u001b[39m \u001b[38;5;28mrange\u001b[39m(\u001b[38;5;241m0\u001b[39m, \u001b[38;5;241m150\u001b[39m) \u001b[38;5;66;03m#create a list of 0 to 149\u001b[39;00m\n\u001b[0;32m----> 9\u001b[0m random_train_idx \u001b[38;5;241m=\u001b[39m \u001b[43mrandom\u001b[49m\u001b[38;5;241m.\u001b[39msample(my_list, train_size)\n\u001b[1;32m     11\u001b[0m \u001b[38;5;28mlen\u001b[39m(random_train_idx)\n\u001b[1;32m     13\u001b[0m X_train \u001b[38;5;241m=\u001b[39m X[random_train_idx]\n",
      "\u001b[0;31mNameError\u001b[0m: name 'random' is not defined"
     ]
    }
   ],
   "source": [
    "#2nd way\n",
    "\n",
    "#randomized way\n",
    "\n",
    "#randomly pick 105 numbers from 0 to 150\n",
    "\n",
    "my_list = range(0, 150) #create a list of 0 to 149\n",
    "\n",
    "random_train_idx = random.sample(my_list, train_size)\n",
    "\n",
    "len(random_train_idx)\n",
    "\n",
    "X_train = X[random_train_idx]\n",
    "\n",
    "aside_train_idx = [num for num in range(150) if num not in random_train_idx]\n",
    "\n",
    "X_test  = X[aside_train_idx]\n",
    "\n",
    "X_train.shape, X_test.shape\n",
    "\n",
    "#which will be useful when you learn \"stochastic gradient descent\" and \"minibatch gradient descent\"\n"
   ]
  },
  {
   "cell_type": "code",
   "execution_count": null,
   "metadata": {},
   "outputs": [
    {
     "data": {
      "text/plain": [
       "(105, 4)"
      ]
     },
     "execution_count": 197,
     "metadata": {},
     "output_type": "execute_result"
    }
   ],
   "source": [
    "X_train.shape"
   ]
  },
  {
   "cell_type": "code",
   "execution_count": null,
   "metadata": {},
   "outputs": [
    {
     "data": {
      "text/plain": [
       "10"
      ]
     },
     "execution_count": 200,
     "metadata": {},
     "output_type": "execute_result"
    }
   ],
   "source": [
    "split = X_train.shape[0] // 10\n",
    "\n",
    "split"
   ]
  },
  {
   "cell_type": "code",
   "execution_count": null,
   "metadata": {},
   "outputs": [
    {
     "name": "stdout",
     "output_type": "stream",
     "text": [
      "(10, 4)\n",
      "(10, 4)\n",
      "(10, 4)\n",
      "(10, 4)\n",
      "(10, 4)\n",
      "(10, 4)\n",
      "(10, 4)\n",
      "(10, 4)\n",
      "(10, 4)\n",
      "(10, 4)\n",
      "(5, 4)\n"
     ]
    }
   ],
   "source": [
    "for counter in range(0, X_train.shape[0], split):\n",
    "    print(X_train[counter:counter+split].shape)"
   ]
  },
  {
   "cell_type": "code",
   "execution_count": null,
   "metadata": {},
   "outputs": [],
   "source": []
  },
  {
   "cell_type": "code",
   "execution_count": null,
   "metadata": {},
   "outputs": [],
   "source": []
  },
  {
   "cell_type": "code",
   "execution_count": null,
   "metadata": {},
   "outputs": [],
   "source": []
  },
  {
   "cell_type": "code",
   "execution_count": null,
   "metadata": {},
   "outputs": [],
   "source": []
  },
  {
   "cell_type": "code",
   "execution_count": null,
   "metadata": {},
   "outputs": [],
   "source": [
    "#1. to create, many ways \n",
    "\n",
    "#np.ones(  (200, 4)  )\n",
    "#np.zeros( (200, 4)  )\n",
    "#np.random.randint(0, 10,    (200, 4)  )  #create a numpy array of shape (200, 4) with numbers between 0 and 9\n",
    "#np.random.uniform(1, 10,    (200, 4)  )\n",
    "\n",
    "data = np.random.uniform(1, 10,    (200, 4)  )\n",
    "\n",
    "data.shape\n",
    "data.max()\n",
    "data.min()\n",
    "\n",
    "#2. first three columns = X, and the last = y\n",
    "#format: np_array[row, col]\n",
    "X = data[:, 0:3]  #or [:, :3] or [:, :-1]\n",
    "y = data[:, -1]\n",
    "\n",
    "X.shape, y.shape\n",
    "\n",
    "#3. X_train contains 70% rows of X\n",
    "\n",
    "dataset_size = X.shape[0]\n",
    "dataset_size\n",
    "\n",
    "train_size = int(dataset_size * 0.7)  #==>this train_size will become type \"float\"\n",
    "\n",
    "train_size\n",
    "\n",
    "X_train = X[  :train_size   ,      :       ]\n",
    "X_test  = X[  train_size:   ,      :       ]\n",
    "\n",
    "\n",
    "#this is not the right way\n",
    "\n",
    "# X_train = X[   [1, 5, 100, 170, 4, 22, ......]                        ]\n",
    "\n"
   ]
  },
  {
   "cell_type": "code",
   "execution_count": null,
   "metadata": {},
   "outputs": [
    {
     "data": {
      "text/plain": [
       "140"
      ]
     },
     "execution_count": 183,
     "metadata": {},
     "output_type": "execute_result"
    }
   ],
   "source": [
    "import random\n",
    "\n",
    "my_list = range(200)\n",
    "\n",
    "random_140_indexes = random.sample(my_list, train_size)\n",
    "\n",
    "len(random_140_indexes)"
   ]
  },
  {
   "cell_type": "code",
   "execution_count": null,
   "metadata": {},
   "outputs": [
    {
     "data": {
      "text/plain": [
       "(140, 3)"
      ]
     },
     "execution_count": 184,
     "metadata": {},
     "output_type": "execute_result"
    }
   ],
   "source": [
    "X_train = X[   random_140_indexes   ,  :   ]\n",
    "X_train.shape"
   ]
  },
  {
   "cell_type": "code",
   "execution_count": null,
   "metadata": {},
   "outputs": [
    {
     "data": {
      "text/plain": [
       "(60, 3)"
      ]
     },
     "execution_count": 185,
     "metadata": {},
     "output_type": "execute_result"
    }
   ],
   "source": [
    "next_60_indexes_not_in_this_140 = [  i  for i in range(200)  if i not in random_140_indexes    ]\n",
    "\n",
    "len(next_60_indexes_not_in_this_140)\n",
    "\n",
    "X_test = X[   next_60_indexes_not_in_this_140   ,  :   ]\n",
    "\n",
    "X_test.shape"
   ]
  },
  {
   "cell_type": "code",
   "execution_count": null,
   "metadata": {},
   "outputs": [
    {
     "name": "stdout",
     "output_type": "stream",
     "text": [
      "[[1.11764591 5.28759748 2.46244232]\n",
      " [1.39432325 1.44040313 1.99463061]\n",
      " [8.70886322 1.1563082  9.61024842]\n",
      " [8.67898306 8.37858285 7.43819246]\n",
      " [2.22224377 1.88614691 8.27207334]\n",
      " [5.67782144 6.45034473 7.78157194]\n",
      " [1.43676154 2.35983378 8.90354576]\n",
      " [4.80548677 6.94825814 2.66256311]\n",
      " [4.89204887 1.40395816 8.14856486]\n",
      " [6.58820384 3.05420692 1.52230588]\n",
      " [9.46878041 4.68438776 7.73106235]\n",
      " [9.45661017 5.51554142 7.65988619]\n",
      " [6.12100613 2.53095928 8.79401162]\n",
      " [1.48419902 4.00904441 7.31576843]]\n",
      "[[9.6500925  5.46479003 4.2069474 ]\n",
      " [2.08407802 9.89196359 9.62286259]\n",
      " [4.36557619 8.5321495  7.06624637]\n",
      " [5.68279659 1.05307732 7.69641619]\n",
      " [3.5236216  4.57135683 5.52115378]\n",
      " [9.70483696 7.73022284 9.41279443]\n",
      " [2.70042929 4.20931048 5.72425917]\n",
      " [1.22690886 3.68001597 7.62071497]\n",
      " [2.3264321  9.01394884 4.09294945]\n",
      " [2.46731289 3.95528375 6.06690707]\n",
      " [6.18419775 1.75212325 5.16110062]\n",
      " [2.65209158 9.44965044 8.66341734]\n",
      " [8.86516329 8.98873549 7.90594564]\n",
      " [4.83068665 3.1769952  5.30209611]]\n",
      "[[1.17538752 5.76926294 1.05783563]\n",
      " [9.5778233  6.81884154 8.89316944]\n",
      " [4.80680377 7.15265197 9.71139133]\n",
      " [3.48286181 9.86206974 6.83696731]\n",
      " [9.59512931 1.49426485 5.75065658]\n",
      " [5.94432865 1.78716709 8.96936267]\n",
      " [9.66009342 1.91271008 3.07566739]\n",
      " [4.78472668 8.89470248 2.97885846]\n",
      " [8.52100766 4.41693674 2.01564945]\n",
      " [6.26894901 2.11351897 7.30876827]\n",
      " [9.71124259 9.4215617  3.29349067]\n",
      " [1.80189949 8.74251828 7.12292152]\n",
      " [8.71003015 6.57778195 8.90622161]\n",
      " [5.21127081 6.73501884 5.09159041]]\n",
      "[[8.56164297 4.77719459 4.53971913]\n",
      " [6.95823532 9.94701915 7.3142077 ]\n",
      " [4.20072825 6.60789254 1.93993188]\n",
      " [7.16209722 8.60875962 6.3569376 ]\n",
      " [7.07677495 4.64208151 3.66601972]\n",
      " [2.90556291 1.37198792 9.09710802]\n",
      " [9.91829713 6.05984639 9.92022546]\n",
      " [7.97629587 9.98076508 4.04388143]\n",
      " [9.94819188 1.44699768 1.56827275]\n",
      " [7.22840811 2.38718267 6.41672913]\n",
      " [7.59219637 3.28796779 3.75371261]\n",
      " [3.88318617 9.16436785 6.32913822]\n",
      " [5.54552464 7.60107066 2.50205767]\n",
      " [8.01860561 2.7510957  4.0822356 ]]\n",
      "[[3.28291768 3.75218608 4.10964588]\n",
      " [2.23164086 7.67480152 6.01309843]\n",
      " [7.82005108 4.46573901 4.72806144]\n",
      " [2.91484904 7.70904317 1.88561164]\n",
      " [8.78616267 6.89233089 6.26341738]\n",
      " [8.19460266 6.45824898 1.07259317]\n",
      " [2.85415022 6.95488728 7.84829155]\n",
      " [9.59697681 5.64808961 6.95991297]\n",
      " [9.8311148  1.08463239 6.72047685]\n",
      " [8.52098474 5.02095304 8.13169766]\n",
      " [2.42874861 3.50228148 4.76687615]\n",
      " [2.59907457 6.44847828 4.34790388]\n",
      " [4.58072417 5.62877547 3.18340693]\n",
      " [3.5528837  6.81321504 8.58719717]]\n",
      "[[5.70166465 1.50018492 4.65288725]\n",
      " [2.11303223 8.42390607 9.37186884]\n",
      " [5.55061432 4.64882513 6.1973089 ]\n",
      " [2.91794797 2.50143672 2.63307674]\n",
      " [5.86627521 4.91099892 6.89089272]\n",
      " [1.24841029 3.51200669 7.12326594]\n",
      " [4.59038017 8.04515154 6.26077865]\n",
      " [8.95506187 6.01334342 4.05100053]\n",
      " [9.11897485 7.54901174 8.71524142]\n",
      " [6.78268786 9.09839044 2.00052342]\n",
      " [5.65550254 7.47182373 6.47923588]\n",
      " [6.85896894 4.90268929 2.84049215]\n",
      " [8.30912066 1.66740309 7.39897593]\n",
      " [5.80092123 8.67876435 6.71448787]]\n",
      "[[2.76348748 9.02934706 8.06244194]\n",
      " [6.4498579  4.0647133  9.59513235]\n",
      " [1.81204118 1.39413575 6.42497371]\n",
      " [5.55610811 1.79775733 7.06907258]\n",
      " [9.76670758 2.89877835 1.11927194]\n",
      " [6.31891516 4.87601431 2.35384535]\n",
      " [9.3760648  8.34563592 3.06131031]\n",
      " [4.45815992 2.71749888 7.8699153 ]\n",
      " [5.41587649 4.75926768 6.34513853]\n",
      " [2.70897002 8.1246718  5.25840887]\n",
      " [8.55431503 7.78142104 9.28648408]\n",
      " [4.49514188 7.28248174 9.62228311]\n",
      " [7.86312101 9.25843872 9.79599978]\n",
      " [6.25276036 1.61920969 7.19643359]]\n",
      "[[9.01535675 6.03262645 3.369598  ]\n",
      " [9.25772568 1.87728245 2.13527241]\n",
      " [9.83267225 7.35197453 6.45065131]\n",
      " [9.13942183 7.64773497 2.8160104 ]\n",
      " [2.49740148 2.58917738 5.41059709]\n",
      " [9.67875803 5.26342486 6.19697593]\n",
      " [3.04638042 5.20773236 3.79387442]\n",
      " [9.3269519  7.03065019 6.20441511]\n",
      " [4.09251033 6.49411102 4.62927233]\n",
      " [6.3600802  2.88611138 6.20371184]\n",
      " [8.60913771 4.92157682 7.04208198]\n",
      " [7.18186244 7.13936145 6.90241394]\n",
      " [3.103991   5.24626142 2.21575043]\n",
      " [6.52764075 1.24459188 2.90303154]]\n",
      "[[7.5850819  7.5147404  7.13723939]\n",
      " [9.81777589 6.38018924 3.27331503]\n",
      " [9.38259083 9.22777462 4.72845638]\n",
      " [8.2629143  3.88815047 6.00129469]\n",
      " [2.45605847 5.20448403 7.68830928]\n",
      " [6.53329225 8.91090838 4.04105702]\n",
      " [6.61108798 5.75161385 3.75124901]\n",
      " [8.83701855 5.66395601 8.1400342 ]\n",
      " [1.07847862 6.9561107  8.72857738]\n",
      " [2.80518749 6.36463279 5.58162119]\n",
      " [6.03904423 4.19804004 4.54890703]\n",
      " [9.38022069 4.63212885 8.33503581]\n",
      " [7.81049051 4.43434481 1.78254786]\n",
      " [7.81811692 3.14232564 6.83430806]]\n",
      "[[3.47809495 7.68852834 3.77637083]\n",
      " [3.2144407  2.90124179 8.26480678]\n",
      " [6.03743354 6.80529183 3.8656662 ]\n",
      " [5.66187484 9.01509695 7.57791274]\n",
      " [4.81457846 8.98069414 9.37254807]\n",
      " [5.79363112 9.21511788 1.86446164]\n",
      " [4.1203445  2.24670796 7.62217913]\n",
      " [5.96238963 9.27992669 9.98858176]\n",
      " [6.93361225 1.99870103 1.83531314]\n",
      " [1.7790758  6.21833239 5.54846813]\n",
      " [3.46588563 4.16973558 6.75602971]\n",
      " [5.23678704 2.53830801 1.57880656]\n",
      " [6.2919713  2.10855442 1.18630182]\n",
      " [6.15325118 4.91689562 2.03782617]]\n"
     ]
    }
   ],
   "source": [
    "'''\n",
    "first  = X[0:14]\n",
    "second = X[14:28]\n",
    "...\n",
    "...\n",
    "last   = X[126:]\n",
    "'''\n",
    "\n",
    "#how do get 0, 14, 28, 42.....140\n",
    "\n",
    "# for i in range(10):\n",
    "#     my_list.append(i * 14)\n",
    "\n",
    "for i in range(0, 140, 14):\n",
    "    print(X[i:i+14])  #do whatever append you want"
   ]
  },
  {
   "cell_type": "code",
   "execution_count": null,
   "metadata": {},
   "outputs": [
    {
     "data": {
      "text/plain": [
       "(140, 3)"
      ]
     },
     "execution_count": 187,
     "metadata": {},
     "output_type": "execute_result"
    }
   ],
   "source": [
    "X_train.shape"
   ]
  },
  {
   "cell_type": "code",
   "execution_count": null,
   "metadata": {},
   "outputs": [
    {
     "data": {
      "text/plain": [
       "(50, 3)"
      ]
     },
     "execution_count": 188,
     "metadata": {},
     "output_type": "execute_result"
    }
   ],
   "source": [
    "#2. Please create a subset of X_train of size 50, which the starting point is randomized.  \n",
    "\n",
    "random_num = random.choice(  range(200) )\n",
    "\n",
    "some_subset = X_train[  random_num:random_num+50  ]\n",
    "\n",
    "some_subset.shape\n"
   ]
  },
  {
   "cell_type": "code",
   "execution_count": null,
   "metadata": {},
   "outputs": [],
   "source": [
    "#1. Now my X_train is (140, 3), please create ten non-overlapping data of shape (14, 3) --> use for loop\n",
    "#2. Please create a subset of X_train of size 50, which the starting point is randomized.  \n",
    "#   If the number exceeds, take only what you have\n",
    "\n",
    "#  this is part of something called mini-batch gradient descent, and it's essential to every deep learning"
   ]
  }
 ],
 "metadata": {
  "kernelspec": {
   "display_name": "Python 3.8.10 ('.venv': pipenv)",
   "language": "python",
   "name": "python3"
  },
  "language_info": {
   "codemirror_mode": {
    "name": "ipython",
    "version": 3
   },
   "file_extension": ".py",
   "mimetype": "text/x-python",
   "name": "python",
   "nbconvert_exporter": "python",
   "pygments_lexer": "ipython3",
   "version": "3.8.10"
  },
  "vscode": {
   "interpreter": {
    "hash": "27768773b483d82a9b2b839e3fa80b1be5789db7fd78df4eedef2df266871616"
   }
  }
 },
 "nbformat": 4,
 "nbformat_minor": 4
}
