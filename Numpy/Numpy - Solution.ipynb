{
 "cells": [
  {
   "cell_type": "markdown",
   "metadata": {},
   "source": [
    "### === Task 1 ===\n",
    "\n",
    "1. Declare a list of 1 to 4 using range()\n",
    "\n",
    "2. Continuing, create numpy array from this list, with dtype='float32'\n",
    "\n",
    "3. Create an numpy array of size 3 by 5 using np.zeros\n",
    "\n",
    "4. Create an numpy array of size 2 by 3 with filled value 1 / 3\n",
    "\n",
    "5. Create a list of 5 numbers for 0 to 10\n",
    "\n",
    "6. Create a list of number for 0.001, 0.01, 0.1, 1 using np.logspace\n",
    "\n",
    "7. Create a diagonal matrix of list [1, 2, 3, 4]\n",
    "\n",
    "8. Create a random array of size 4 by 5 all filled with random values between 0 and 1\n",
    "\n",
    "9.  Create a random array of size 4 by 5 all filled with integer random values between 2 and 5\n",
    "\n",
    "10.  Create a random array of size 4 by 5 all filled with float random values between 2 and 5\n",
    "\n",
    "11. Create a random array of size 4 by 5 with mean = 5, and std = 1 following a gaussian (normal) distribution\n",
    "\n",
    "12. Create an identity matrix of size 5 by 5"
   ]
  },
  {
   "cell_type": "code",
   "execution_count": 1,
   "metadata": {},
   "outputs": [
    {
     "data": {
      "text/plain": [
       "[1, 2, 3, 4]"
      ]
     },
     "execution_count": 1,
     "metadata": {},
     "output_type": "execute_result"
    }
   ],
   "source": [
    "# 1. Declare a list of 1 to 4 using range()\n",
    "list(range(1, 5))"
   ]
  },
  {
   "cell_type": "code",
   "execution_count": 2,
   "metadata": {},
   "outputs": [
    {
     "data": {
      "text/plain": [
       "array([1., 2., 3., 4.], dtype=float32)"
      ]
     },
     "execution_count": 2,
     "metadata": {},
     "output_type": "execute_result"
    }
   ],
   "source": [
    "# 2. Continuing, create numpy array from this list, with dtype='float32'\n",
    "import numpy as np\n",
    "some_numpy = np.array(list(range(1, 5)), dtype='float32')\n",
    "some_numpy"
   ]
  },
  {
   "cell_type": "code",
   "execution_count": 3,
   "metadata": {},
   "outputs": [
    {
     "data": {
      "text/plain": [
       "array([[0., 0., 0., 0., 0.],\n",
       "       [0., 0., 0., 0., 0.],\n",
       "       [0., 0., 0., 0., 0.]])"
      ]
     },
     "execution_count": 3,
     "metadata": {},
     "output_type": "execute_result"
    }
   ],
   "source": [
    "# 3. Create an numpy array of size 3 by 5 using np.zeros\n",
    "np.zeros((3, 5))"
   ]
  },
  {
   "cell_type": "code",
   "execution_count": 4,
   "metadata": {},
   "outputs": [
    {
     "data": {
      "text/plain": [
       "array([[0.33333333, 0.33333333, 0.33333333],\n",
       "       [0.33333333, 0.33333333, 0.33333333]])"
      ]
     },
     "execution_count": 4,
     "metadata": {},
     "output_type": "execute_result"
    }
   ],
   "source": [
    "# 4. Create an numpy array of size 2 by 3 with filled value 1 / 3\n",
    "np.full((2, 3), 1/3)"
   ]
  },
  {
   "cell_type": "code",
   "execution_count": 5,
   "metadata": {},
   "outputs": [
    {
     "data": {
      "text/plain": [
       "array([ 0. ,  2.5,  5. ,  7.5, 10. ])"
      ]
     },
     "execution_count": 5,
     "metadata": {},
     "output_type": "execute_result"
    }
   ],
   "source": [
    "# 5. Create a list of 5 numbers for 0 to 10\n",
    "np.linspace(0, 10, 5)   #<---i keep as 5 to keep answer short; you can change 5 to 500"
   ]
  },
  {
   "cell_type": "code",
   "execution_count": 6,
   "metadata": {},
   "outputs": [
    {
     "data": {
      "text/plain": [
       "array([0.001, 0.01 , 0.1  , 1.   ])"
      ]
     },
     "execution_count": 6,
     "metadata": {},
     "output_type": "execute_result"
    }
   ],
   "source": [
    "# 6. Create a list of number for 0.001, 0.01, 0.1, 1 using np.logspace\n",
    "np.logspace(-3, 0, 4)"
   ]
  },
  {
   "cell_type": "code",
   "execution_count": 7,
   "metadata": {},
   "outputs": [
    {
     "data": {
      "text/plain": [
       "array([[1, 0, 0, 0],\n",
       "       [0, 2, 0, 0],\n",
       "       [0, 0, 3, 0],\n",
       "       [0, 0, 0, 4]])"
      ]
     },
     "execution_count": 7,
     "metadata": {},
     "output_type": "execute_result"
    }
   ],
   "source": [
    "# 7. Create a diagonal matrix of list [1, 2, 3, 4]\n",
    "np.diag(np.arange(1, 5))"
   ]
  },
  {
   "cell_type": "code",
   "execution_count": 8,
   "metadata": {},
   "outputs": [
    {
     "data": {
      "text/plain": [
       "array([[0.60551604, 0.45475097, 0.41386533, 0.79196644, 0.81554505],\n",
       "       [0.23913011, 0.5433503 , 0.69872384, 0.53139624, 0.6798039 ],\n",
       "       [0.26870681, 0.88601067, 0.69475738, 0.14268511, 0.36334933],\n",
       "       [0.47963225, 0.88696358, 0.98347546, 0.73489696, 0.41133622]])"
      ]
     },
     "execution_count": 8,
     "metadata": {},
     "output_type": "execute_result"
    }
   ],
   "source": [
    "# 8. Create a random array of size 4 by 5 all filled with random values between 0 and 1\n",
    "np.random.random((4, 5))"
   ]
  },
  {
   "cell_type": "code",
   "execution_count": 9,
   "metadata": {},
   "outputs": [
    {
     "data": {
      "text/plain": [
       "array([[3, 3, 2, 4, 2],\n",
       "       [4, 3, 3, 4, 2],\n",
       "       [3, 2, 4, 2, 3],\n",
       "       [2, 2, 2, 4, 4]])"
      ]
     },
     "execution_count": 9,
     "metadata": {},
     "output_type": "execute_result"
    }
   ],
   "source": [
    "# 9.  Create a random array of size 4 by 5 all filled with integer random values between 2 and 5\n",
    "np.random.randint(2, 5, (4, 5))"
   ]
  },
  {
   "cell_type": "code",
   "execution_count": 10,
   "metadata": {},
   "outputs": [
    {
     "data": {
      "text/plain": [
       "array([[2.9401159 , 2.77813718, 2.76466585, 3.87559998, 3.37903217],\n",
       "       [2.72652606, 3.00139326, 2.72287969, 4.49237669, 2.63759126],\n",
       "       [3.08856712, 2.10158294, 4.41870589, 3.25620344, 2.893651  ],\n",
       "       [3.735789  , 4.74674814, 4.27413259, 3.55354056, 4.95169744]])"
      ]
     },
     "execution_count": 10,
     "metadata": {},
     "output_type": "execute_result"
    }
   ],
   "source": [
    "# 10.  Create a random array of size 4 by 5 all filled with float random values between 2 and 5\n",
    "np.random.uniform(low=2, high=5, size=(4, 5))"
   ]
  },
  {
   "cell_type": "code",
   "execution_count": 11,
   "metadata": {},
   "outputs": [
    {
     "data": {
      "text/plain": [
       "array([[3.32576786, 4.62546138, 4.16731813, 5.53174712, 5.2716294 ],\n",
       "       [3.65668734, 6.08016332, 5.58964952, 5.21623878, 5.73316718],\n",
       "       [5.20125187, 5.61724956, 6.24357715, 4.73264344, 5.07906427],\n",
       "       [5.50345423, 5.39808918, 4.84881801, 3.27200607, 4.60031968]])"
      ]
     },
     "execution_count": 11,
     "metadata": {},
     "output_type": "execute_result"
    }
   ],
   "source": [
    "# 11. Create a random array of size 4 by 5 with mean = 5, and std = 1 following a gaussian (normal) distribution\n",
    "np.random.normal(5, 1, (4, 5))"
   ]
  },
  {
   "cell_type": "code",
   "execution_count": 12,
   "metadata": {},
   "outputs": [
    {
     "data": {
      "text/plain": [
       "array([[1., 0., 0., 0., 0.],\n",
       "       [0., 1., 0., 0., 0.],\n",
       "       [0., 0., 1., 0., 0.],\n",
       "       [0., 0., 0., 1., 0.],\n",
       "       [0., 0., 0., 0., 1.]])"
      ]
     },
     "execution_count": 12,
     "metadata": {},
     "output_type": "execute_result"
    }
   ],
   "source": [
    "# 12. Create an identity matrix of size 5 by 5\n",
    "np.eye(5)\n",
    "#np.identity(5) -> equivalent"
   ]
  },
  {
   "cell_type": "markdown",
   "metadata": {},
   "source": [
    "### === Task 2 ===\n",
    "\n",
    "1. Create a numpy array of size 3 by 4 with random float values between 1 to 5\n",
    "\n",
    "2. Continuing, print the shape of this array\n",
    "\n",
    "3. Continuing, access the first row of the array\n",
    "\n",
    "4. Continuing, access the first column of the array\n",
    "\n",
    "5. Continuing, access the second row, and third column element\n",
    "\n",
    "6. Continuing, access the first two columns\n",
    "\n",
    "7. Continuing, access the  first and third columns using step\n",
    "\n",
    "8. Continuing, print the whole matrix in reverse columns but not rows\n",
    "\n",
    "9. Change the third row, fourth column element (i.e., the last element) to 999"
   ]
  },
  {
   "cell_type": "code",
   "execution_count": 27,
   "metadata": {},
   "outputs": [
    {
     "data": {
      "text/plain": [
       "array([[3.02437847, 1.45119725, 2.37633654, 2.51028751],\n",
       "       [3.38507121, 1.82138563, 2.92293982, 0.38880035],\n",
       "       [1.85533898, 2.13873813, 4.08223766, 1.55169357]])"
      ]
     },
     "execution_count": 27,
     "metadata": {},
     "output_type": "execute_result"
    }
   ],
   "source": [
    "# 1. Create a numpy array of size 3 by 4 with random float values between 0 to 5\n",
    "a = np.random.random((3, 4)) * 5"
   ]
  },
  {
   "cell_type": "code",
   "execution_count": 14,
   "metadata": {},
   "outputs": [
    {
     "data": {
      "text/plain": [
       "(3, 4)"
      ]
     },
     "execution_count": 14,
     "metadata": {},
     "output_type": "execute_result"
    }
   ],
   "source": [
    "# 2. Continuing, print the shape of this array\n",
    "a.shape"
   ]
  },
  {
   "cell_type": "code",
   "execution_count": 15,
   "metadata": {},
   "outputs": [
    {
     "data": {
      "text/plain": [
       "array([[2.60088738, 2.03144109, 3.64735114, 2.37424414]])"
      ]
     },
     "execution_count": 15,
     "metadata": {},
     "output_type": "execute_result"
    }
   ],
   "source": [
    "# 3. Continuing, access the first row of the array\n",
    "a[:1]"
   ]
  },
  {
   "cell_type": "code",
   "execution_count": 16,
   "metadata": {},
   "outputs": [
    {
     "data": {
      "text/plain": [
       "array([[2.60088738],\n",
       "       [3.98571097],\n",
       "       [4.51080579]])"
      ]
     },
     "execution_count": 16,
     "metadata": {},
     "output_type": "execute_result"
    }
   ],
   "source": [
    "# 4. Continuing, access the first column of the array\n",
    "a[:, :1]"
   ]
  },
  {
   "cell_type": "code",
   "execution_count": 17,
   "metadata": {},
   "outputs": [
    {
     "data": {
      "text/plain": [
       "1.333067757325943"
      ]
     },
     "execution_count": 17,
     "metadata": {},
     "output_type": "execute_result"
    }
   ],
   "source": [
    "# 5. Continuing, access the second row, and third column element\n",
    "a[1, 2]"
   ]
  },
  {
   "cell_type": "code",
   "execution_count": 18,
   "metadata": {},
   "outputs": [
    {
     "data": {
      "text/plain": [
       "array([[2.60088738, 2.03144109],\n",
       "       [3.98571097, 4.88237116],\n",
       "       [4.51080579, 1.02266738]])"
      ]
     },
     "execution_count": 18,
     "metadata": {},
     "output_type": "execute_result"
    }
   ],
   "source": [
    "# 6. Continuing, access the first two columns\n",
    "a[:, :2]"
   ]
  },
  {
   "cell_type": "code",
   "execution_count": 19,
   "metadata": {},
   "outputs": [
    {
     "data": {
      "text/plain": [
       "array([[2.60088738, 3.64735114],\n",
       "       [3.98571097, 1.33306776],\n",
       "       [4.51080579, 3.42679858]])"
      ]
     },
     "execution_count": 19,
     "metadata": {},
     "output_type": "execute_result"
    }
   ],
   "source": [
    "# 7. Continuing, access the  first and third columns using step\n",
    "a[:, ::2]"
   ]
  },
  {
   "cell_type": "code",
   "execution_count": 20,
   "metadata": {},
   "outputs": [
    {
     "data": {
      "text/plain": [
       "array([[2.37424414, 3.64735114, 2.03144109, 2.60088738],\n",
       "       [2.40008414, 1.33306776, 4.88237116, 3.98571097],\n",
       "       [1.18149414, 3.42679858, 1.02266738, 4.51080579]])"
      ]
     },
     "execution_count": 20,
     "metadata": {},
     "output_type": "execute_result"
    }
   ],
   "source": [
    "# 8. Continuing, print the whole matrix in reverse columns but not rows\n",
    "a[:, ::-1]"
   ]
  },
  {
   "cell_type": "code",
   "execution_count": 21,
   "metadata": {},
   "outputs": [
    {
     "data": {
      "text/plain": [
       "array([[  2.60088738,   2.03144109,   3.64735114,   2.37424414],\n",
       "       [  3.98571097,   4.88237116,   1.33306776,   2.40008414],\n",
       "       [  4.51080579,   1.02266738,   3.42679858, 999.        ]])"
      ]
     },
     "execution_count": 21,
     "metadata": {},
     "output_type": "execute_result"
    }
   ],
   "source": [
    "# 9. Change the third row, fourth column element (i.e., the last element) to 999\n",
    "a[2, 3] = 999\n",
    "a"
   ]
  },
  {
   "cell_type": "markdown",
   "metadata": {},
   "source": [
    "### === Task 3 ===\n",
    "\n",
    "1. Create a numpy array of size 200 by 4 with random float values between 1 to 5\n",
    "\n",
    "2. Split the array into two numpy arrays, X and y, where the X contains the first 3 columns and y contains the last column.\n",
    "\n",
    "3. Continuing, split the first 70% of the 200 rows of X and y and call them <code>X_train</code> and <code>y_train</code>. Similarly, populate <code>X_test</code> and <code>y_test</code> using same corresponding columns but 30\\% rest of the data.\n",
    "\n",
    "4. Print the shape of the <code>X_train</code> and <code>y_train</code>.  The first array should have shape (0.7 * 200, 3); the second array is (0.7 * 200, 1)\n",
    "\n",
    "5. Assign m = <code>X_train.shape[0]</code>, and n = <code>X_train.shape[1]</code>, where $m$ is number of samples, and $n$ is number of features\n",
    "\n",
    "6. Randomly select one row of <code>X_train</code> by using <code>np.random.randint</code> to select the random row and called it <code>X_i</code>.  Reshape it so that it has shape of <code>(1, n)</code>\n",
    "\n",
    "\n",
    "7. Randomly select 50 contiguous rows from <code>X_train</code> and called it <code>mini_batch_X</code>.  If the index exceeds, simply grab whatever left.\n",
    "\n",
    "8. Write a for loop that breaks the <code>X_train</code> into 10 equal pieces without overlap, each containing 10\\% of row data but all columns, and simply print their shape\n",
    "\n",
    "9. Create an np.zero array called <code>theta</code> with shape of <code>(n, )</code>\n",
    "\n",
    "10. Perform a dot product between <code>X_train</code> and <code>theta</code> and assign this value to a variable called <code>yhat</code>\n",
    "\n",
    "11. Create another variable called <code>y</code> with the same shape as <code>yhat</code>, and populate it with random values from 0 to 1.\n",
    "\n",
    "12. Calculate the following \n",
    "    $$ \\frac{\\sum\\limits_{i=1}^{m} (y_i - \\hat{y_i})^2}{m} $$\n",
    "    \n",
    "    For example, if yhat = [1, 2, 3] and y = [2, 3, 4], then the calculation is\n",
    "    \n",
    "    $$ \\frac{sum((1-2)^2 + (2-3)^2 + (3-4)^2)}{m} $$"
   ]
  },
  {
   "cell_type": "code",
   "execution_count": 16,
   "metadata": {},
   "outputs": [
    {
     "data": {
      "text/plain": [
       "(200, 4)"
      ]
     },
     "execution_count": 16,
     "metadata": {},
     "output_type": "execute_result"
    }
   ],
   "source": [
    "# 1. Create a numpy array of size 200 by 4 with random float values between 1 to 5\n",
    "a = np.random.uniform(1, 5, (200, 4))\n",
    "a.shape"
   ]
  },
  {
   "cell_type": "code",
   "execution_count": 17,
   "metadata": {},
   "outputs": [
    {
     "name": "stdout",
     "output_type": "stream",
     "text": [
      "(200, 3)\n",
      "(200,)\n"
     ]
    }
   ],
   "source": [
    "#2. Split the array into two numpy arrays, X and y, where the X contains the first 3 columns and y contains the last column\n",
    "X = a[:,:3]\n",
    "print(X.shape)\n",
    "y = a[:,3]\n",
    "print(y.shape)"
   ]
  },
  {
   "cell_type": "code",
   "execution_count": 20,
   "metadata": {},
   "outputs": [],
   "source": [
    "# 3. Continuing, split the first 70% of the 200 rows of X and y and call them <code>X_train</code> and <code>y_train</code>. Similarly, populate <code>X_test</code> and <code>y_test</code> using same corresponding columns but 30\\% rest of the data.\n",
    "total_size = 200\n",
    "train_size = int(0.7 * total_size)\n",
    "test_size = total_size - train_size\n",
    "X_train = X[:train_size, :]\n",
    "y_train = y[:train_size]\n",
    "X_test = X[train_size:,:]\n",
    "y_test = y[train_size:]"
   ]
  },
  {
   "cell_type": "code",
   "execution_count": 21,
   "metadata": {},
   "outputs": [
    {
     "data": {
      "text/plain": [
       "((140, 3), (140,))"
      ]
     },
     "execution_count": 21,
     "metadata": {},
     "output_type": "execute_result"
    }
   ],
   "source": [
    "#4. Print the shape of the <code>X_train</code> and <code>y_train</code>.  The first array should have shape (0.7 * 200, 3); the second array is (0.7 * 200, 1)\n",
    "X_train.shape, y_train.shape"
   ]
  },
  {
   "cell_type": "code",
   "execution_count": 22,
   "metadata": {},
   "outputs": [
    {
     "name": "stdout",
     "output_type": "stream",
     "text": [
      "X_train has 140 samples and 3 features\n"
     ]
    }
   ],
   "source": [
    "# 5. Assign m = <code>X_train.shape[0]</code>, and n = <code>X_train.shape[1]</code>, where $m$ is number of samples, and $n$ is number of features\n",
    "m = X_train.shape[0] #number of samples\n",
    "n = X_train.shape[1] #number of features\n",
    "print(f\"X_train has {m} samples and {n} features\")"
   ]
  },
  {
   "cell_type": "code",
   "execution_count": 26,
   "metadata": {},
   "outputs": [
    {
     "name": "stdout",
     "output_type": "stream",
     "text": [
      "82\n",
      "(1, 3)\n"
     ]
    }
   ],
   "source": [
    "# 6. Randomly select one row of <code>X_train</code> by using <code>np.random.randint</code> to select the random row and called it <code>X_i</code>.  Reshape it so that it has shape of <code>(1, n)</code>\n",
    "random_index = np.random.randint(train_size)\n",
    "print(random_index)\n",
    "X_i = X_train[random_index]\n",
    "X_i = X_i.reshape(1, -1)\n",
    "print(X_i.shape)"
   ]
  },
  {
   "cell_type": "code",
   "execution_count": 27,
   "metadata": {},
   "outputs": [
    {
     "name": "stdout",
     "output_type": "stream",
     "text": [
      "58\n",
      "(50, 3)\n"
     ]
    }
   ],
   "source": [
    "# 7. Randomly select 50 contiguous rows from <code>X_train</code> and called it <code>mini_batch_X</code>.  If the index exceeds, simply grab whatever left.\n",
    "random_index = np.random.randint(train_size)\n",
    "print(random_index)\n",
    "mini_batch_X = X_train[random_index:random_index+50]\n",
    "print(mini_batch_X.shape)"
   ]
  },
  {
   "cell_type": "code",
   "execution_count": 28,
   "metadata": {},
   "outputs": [
    {
     "name": "stdout",
     "output_type": "stream",
     "text": [
      "(14, 3)\n",
      "(14, 3)\n",
      "(14, 3)\n",
      "(14, 3)\n",
      "(14, 3)\n",
      "(14, 3)\n",
      "(14, 3)\n",
      "(14, 3)\n",
      "(14, 3)\n",
      "(14, 3)\n"
     ]
    }
   ],
   "source": [
    "# 8. Write a for loop that breaks the <code>X_train</code> into 10 equal pieces without overlap, each containing 10\\% of row data but all columns, and simply print their shape\n",
    "batch_size = int(X_train.shape[0] / 10)\n",
    "for index in range(0, X_train.shape[0], batch_size):\n",
    "    batch = X_train[index:index + batch_size]\n",
    "    print(batch.shape)"
   ]
  },
  {
   "cell_type": "code",
   "execution_count": 29,
   "metadata": {},
   "outputs": [
    {
     "data": {
      "text/plain": [
       "(3,)"
      ]
     },
     "execution_count": 29,
     "metadata": {},
     "output_type": "execute_result"
    }
   ],
   "source": [
    "# 9. Create an np.zero array called <code>theta</code> with shape of <code>(n, )</code>\n",
    "theta = np.zeros(n, )\n",
    "theta.shape"
   ]
  },
  {
   "cell_type": "code",
   "execution_count": 30,
   "metadata": {},
   "outputs": [
    {
     "data": {
      "text/plain": [
       "(140,)"
      ]
     },
     "execution_count": 30,
     "metadata": {},
     "output_type": "execute_result"
    }
   ],
   "source": [
    "# 10. Perform a dot product between <code>X_train</code> and <code>theta</code> and assign this value to a variable called <code>yhat</code>\n",
    "yhat = X_train @ theta  #(140, 3) @ (3, )\n",
    "yhat.shape"
   ]
  },
  {
   "cell_type": "code",
   "execution_count": 31,
   "metadata": {},
   "outputs": [
    {
     "data": {
      "text/plain": [
       "(140,)"
      ]
     },
     "execution_count": 31,
     "metadata": {},
     "output_type": "execute_result"
    }
   ],
   "source": [
    "# 11. Create another variable called <code>y</code> with the same shape as <code>yhat</code>, and populate it with random values from 0 to 1.\n",
    "y = np.random.uniform(0, 1, yhat.shape)\n",
    "y.shape"
   ]
  },
  {
   "cell_type": "code",
   "execution_count": 32,
   "metadata": {},
   "outputs": [
    {
     "data": {
      "text/plain": [
       "0.2967378033488936"
      ]
     },
     "execution_count": 32,
     "metadata": {},
     "output_type": "execute_result"
    }
   ],
   "source": [
    "# 12. Calculate the following \n",
    "#     $$ \\frac{\\sum\\limits_{i=1}^{m} (y_i - \\hat{y_i})^2}{m} $$\n",
    "    \n",
    "#     For example, if yhat = [1, 2, 3] and y = [2, 3, 4], then the calculation is\n",
    "    \n",
    "#     $$ \\frac{sum((1-2)^2 + (2-3)^2 + (3-4)^2)}{m} $$\n",
    "\n",
    "m = yhat.shape[0]\n",
    "(((y - yhat)**2).sum())/m"
   ]
  },
  {
   "cell_type": "markdown",
   "metadata": {},
   "source": [
    "### === Task 4 ===\n",
    "\n",
    "1. From the above <code>X_train</code> from previous task, using concatenation, add a column of 1s along axis=1 and call it intercept\n",
    "\n",
    "2. Create a <code>theta</code> of shape (n + 1, 4), with random values between 0 and 1\n",
    "\n",
    "3. Perform a dot product between X_train and theta, and assign this value to a variable called <code>hot_encoded_yhat</code>\n",
    "\n",
    "4. Continuing, using broadcasting and vectorization, for each value (here I use example as value1) in <code>hot_encoded_yhat</code>, perform the following calculations.\n",
    "\n",
    "$$ \\frac{\\exp(value1)}{\\exp(value1)+\\exp(value2)+\\exp(value3)+\\exp(value4)} $$\n",
    "\n",
    "For example, if my first row is [0.3, 0.5, 1.2, 3.1], then the first value 0.3 will change to\n",
    "\n",
    "exp(0.3) / (exp(0.3) + exp(0.5) + exp(1.2) + exp(3.1))\n",
    "\n",
    "The second value 0.5 will become\n",
    "\n",
    "exp(0.5) / (exp(0.3) + exp(0.5) + exp(1.2) + exp(3.1))\n",
    "\n",
    "5. Create a variable called <code>yhat</code> which is equal to the <code>np.argmax</code> of <code>hot_encoded_yhat</code> along axis=1.  That is, <code>yhat</code> has the shape of <code>(X.shape[0], )</code>.  For example, if the first row of <code>hot_encoded_yhat</code> is [0.1, 0.2, 0.3, 0.4], since the fourth value is the biggest, the value will be its index which is 3.\n",
    "\n",
    "6. Create a variable called <code>y</code>, containing shape of <code>(X_train.shape[0], )</code> but with random int values from [0, 1, 2, 3]\n",
    "\n",
    "7. Assign a variable <code>n_classses</code> equal to the number of unique values in <code>y</code>\n"
   ]
  },
  {
   "cell_type": "code",
   "execution_count": 33,
   "metadata": {},
   "outputs": [
    {
     "data": {
      "text/plain": [
       "(140, 4)"
      ]
     },
     "execution_count": 33,
     "metadata": {},
     "output_type": "execute_result"
    }
   ],
   "source": [
    "# 1. From the above <code>X_train</code> from previous task, using concatenation, add a column of 1s along axis=1\n",
    "intercept = np.ones((X_train.shape[0], 1))\n",
    "\n",
    "#concatenate the intercept based on axis=1\n",
    "X_train = np.concatenate((intercept, X_train), axis=1)\n",
    "\n",
    "X_train.shape"
   ]
  },
  {
   "cell_type": "code",
   "execution_count": 34,
   "metadata": {},
   "outputs": [
    {
     "data": {
      "text/plain": [
       "(4, 4)"
      ]
     },
     "execution_count": 34,
     "metadata": {},
     "output_type": "execute_result"
    }
   ],
   "source": [
    "# 2. Create a <code>theta</code> of shape (n + 1, 4)\n",
    "theta = np.random.uniform(0, 1, (n+1, 4))\n",
    "theta.shape"
   ]
  },
  {
   "cell_type": "code",
   "execution_count": 35,
   "metadata": {},
   "outputs": [
    {
     "name": "stdout",
     "output_type": "stream",
     "text": [
      "(140, 4)\n",
      "[3.69401822 9.28249212 7.16671242 5.15273068]\n"
     ]
    }
   ],
   "source": [
    "# 3. Perform a dot product between X_train and theta, and assign this value to a variable called <code>hot_encoded_yhat</code>\n",
    "hot_encoded_yhat = X_train @ theta\n",
    "print(hot_encoded_yhat.shape)\n",
    "\n",
    "print(hot_encoded_yhat[1])"
   ]
  },
  {
   "cell_type": "code",
   "execution_count": 36,
   "metadata": {},
   "outputs": [
    {
     "name": "stdout",
     "output_type": "stream",
     "text": [
      "[0.00328029 0.8769109  0.1057022  0.01410662]\n"
     ]
    }
   ],
   "source": [
    "# 4. Continuing, using broadcasting and vectorization, for each value (here I use example as value1) in <code>hot_encoded_yhat</code>, perform the following calculations.\n",
    "\n",
    "# $$ \\frac{\\exp(value1)}{\\exp(value1)+\\exp(value2)+\\exp(value3)+\\exp(value4)} $$\n",
    "\n",
    "# For example, if my first row is [0.3, 0.5, 1.2, 3.1], then the first value 0.3 will change to\n",
    "\n",
    "# exp(0.3) / (exp(0.3) + exp(0.5) + exp(1.2) + exp(3.1))\n",
    "\n",
    "# The second value 0.5 will become\n",
    "\n",
    "# exp(0.5) / (exp(0.3) + exp(0.5) + exp(1.2) + exp(3.1))\n",
    "\n",
    "hot_encoded_yhat = np.exp(hot_encoded_yhat) / np.sum(np.exp(hot_encoded_yhat), axis = 1, keepdims=True)\n",
    "\n",
    "print(hot_encoded_yhat[1])"
   ]
  },
  {
   "cell_type": "code",
   "execution_count": 37,
   "metadata": {},
   "outputs": [
    {
     "name": "stdout",
     "output_type": "stream",
     "text": [
      "(140,)\n"
     ]
    },
    {
     "data": {
      "text/plain": [
       "array([1, 1, 1, 1, 1, 1, 1, 1, 1, 1, 1, 1, 1, 1, 1, 1, 1, 1, 1, 1, 1, 1,\n",
       "       1, 1, 1, 1, 1, 1, 1, 1, 1, 1, 1, 1, 1, 1, 1, 1, 1, 1, 1, 1, 1, 1,\n",
       "       1, 1, 1, 1, 1, 1, 1, 1, 1, 1, 1, 1, 1, 1, 1, 1, 1, 1, 1, 1, 1, 1,\n",
       "       1, 1, 1, 1, 1, 1, 1, 1, 1, 1, 1, 1, 1, 1, 1, 1, 1, 1, 1, 1, 1, 1,\n",
       "       1, 1, 1, 1, 1, 1, 1, 1, 1, 1, 1, 1, 1, 1, 1, 1, 1, 1, 1, 1, 1, 1,\n",
       "       1, 1, 1, 1, 1, 1, 1, 1, 1, 1, 1, 1, 1, 1, 1, 1, 1, 1, 1, 1, 1, 1,\n",
       "       1, 1, 1, 1, 1, 1, 1, 1])"
      ]
     },
     "execution_count": 37,
     "metadata": {},
     "output_type": "execute_result"
    }
   ],
   "source": [
    "# 5. Create a variable called <code>yhat</code> which is equal to the <code>np.argmax</code> of <code>hot_encoded_yhat</code> along axis=1.  That is, <code>yhat</code> has the shape of <code>(X.shape[0], )</code>.  For example, if the first row of <code>hot_encoded_yhat</code> is [0.1, 0.2, 0.3, 0.4], since the fourth value is the biggest, the value will be its index which is 3.\n",
    "\n",
    "yhat = np.argmax(hot_encoded_yhat, axis=1)\n",
    "print(yhat.shape)\n",
    "yhat"
   ]
  },
  {
   "cell_type": "code",
   "execution_count": 38,
   "metadata": {
    "scrolled": true
   },
   "outputs": [
    {
     "name": "stdout",
     "output_type": "stream",
     "text": [
      "(140,)\n"
     ]
    },
    {
     "data": {
      "text/plain": [
       "array([3, 3, 1, 0, 0, 3, 0, 0, 2, 0, 3, 3, 2, 0, 3, 2, 1, 3, 1, 1, 1, 3,\n",
       "       3, 1, 0, 0, 0, 1, 3, 1, 0, 2, 2, 0, 1, 2, 1, 2, 0, 0, 1, 0, 3, 0,\n",
       "       3, 0, 3, 1, 1, 2, 2, 3, 1, 0, 1, 3, 0, 3, 3, 2, 3, 1, 1, 1, 3, 1,\n",
       "       0, 2, 0, 1, 2, 2, 3, 0, 1, 2, 0, 3, 3, 0, 1, 0, 2, 2, 0, 0, 2, 3,\n",
       "       0, 1, 3, 2, 3, 2, 0, 1, 2, 2, 0, 2, 3, 0, 0, 3, 2, 2, 3, 1, 0, 3,\n",
       "       3, 2, 2, 0, 2, 2, 1, 3, 0, 1, 0, 3, 2, 3, 0, 1, 0, 3, 0, 2, 2, 0,\n",
       "       2, 1, 3, 2, 3, 0, 0, 1])"
      ]
     },
     "execution_count": 38,
     "metadata": {},
     "output_type": "execute_result"
    }
   ],
   "source": [
    "# 6. Create a variable called <code>y</code>, containing shape of <code>(X.shape[0], )</code> but with random int values from [0, 1, 2, 3]\n",
    "y = np.random.randint(4, size = (X_train.shape[0], ))\n",
    "print(y.shape)\n",
    "y"
   ]
  },
  {
   "cell_type": "code",
   "execution_count": 39,
   "metadata": {},
   "outputs": [
    {
     "name": "stdout",
     "output_type": "stream",
     "text": [
      "4\n"
     ]
    }
   ],
   "source": [
    "# 7. Assign a variable <code>n_classses</code> equal to the number of unique values in <code>y</code>\n",
    "n_classes = len(np.unique(y))\n",
    "print(n_classes)"
   ]
  },
  {
   "cell_type": "markdown",
   "metadata": {},
   "source": [
    "### === Task 5 ===\n",
    "\n",
    "1. Take the above variables <code>yhat</code> and <code>y</code>, sum up the counts when their corresponding value are the same.  Then divide this sum by $m$.  Called this variable <code>accuracy</code>\n",
    "\n",
    "2. Let's practice masking.  Convert <code>y</code> into <code>hot_encoded_y</code> matrix of shape <code>(X_train.shape[0], 4)</code>, where the column will be one according to its value, and other columns will be zero.  For example, if the first row is 1, then it will become 0 1 0 0.  If the second row is 2, then it will become 0 0 1 0\n",
    "\n",
    "3. Grab the data from <code>data = np.genfromtxt('../data/perceptron.csv', delimiter=',', skip_header=1)</code>\n",
    "    - set X to be all columns except last\n",
    "    - set y to be the last column\n",
    "    - select X where its corresponding y is 0\n",
    "    - select X where its corresponding y is 1\n",
    "    \n",
    "4. Grab the data from <code>iris = np.genfromtxt('../data/iris.csv', delimiter=',', encoding=\"utf-8\", dtype=None)</code>\n",
    "    - set iris_without_headers to all rows except the first row\n",
    "    - set sepal_length to second column of iris_without_headers\n",
    "    - set petal_length to fourth column of iris_without_headers\n",
    "    - print the shape of iris_without_headers where sepal_length is less than 5, and petal_length is greater than 1.5"
   ]
  },
  {
   "cell_type": "code",
   "execution_count": 40,
   "metadata": {},
   "outputs": [
    {
     "name": "stdout",
     "output_type": "stream",
     "text": [
      "[False False  True False False False False False False False False False\n",
      " False False False False  True False  True  True  True False False  True\n",
      " False False False  True False  True False False False False  True False\n",
      "  True False False False  True False False False False False False  True\n",
      "  True False False False  True False  True False False False False False\n",
      " False  True  True  True False  True False False False  True False False\n",
      " False False  True False False False False False  True False False False\n",
      " False False False False False  True False False False False False  True\n",
      " False False False False False False False False False False False  True\n",
      " False False False False False False False False  True False False  True\n",
      " False False False False False  True False False False False False False\n",
      " False  True False False False False False  True]\n",
      "0.21428571428571427\n"
     ]
    }
   ],
   "source": [
    "#1. Take the above variables <code>yhat</code> and <code>y</code>, sum up the counts when their corresponding value are the same.  Then divide this sum by $m$.  Called this variable <code>accuracy</code>\n",
    "print(yhat == y)\n",
    "accuracy = ((yhat == y).sum())/m\n",
    "print(accuracy)"
   ]
  },
  {
   "cell_type": "code",
   "execution_count": 64,
   "metadata": {},
   "outputs": [
    {
     "name": "stdout",
     "output_type": "stream",
     "text": [
      "(20, 1)\n",
      "(20, 1)\n",
      "(20, 1)\n",
      "(20, 1)\n"
     ]
    },
    {
     "data": {
      "text/plain": [
       "array([1., 1., 0., 0.])"
      ]
     },
     "execution_count": 64,
     "metadata": {},
     "output_type": "execute_result"
    }
   ],
   "source": [
    "# 2. Let's practice masking.  Convert <code>y</code> into <code>hot_encoded_y</code> matrix of shape <code>(X_train.shape[0], 4)</code>, where the column will be one according to its value, and other columns will be zero.  For example, if the first row is 1, then it will become 0 1 0 0.  If the second row is 2, then it will become 0 0 1 0\n",
    "m = X_train.shape[0]  #no.of samples\n",
    "k = 4 #no. of classes\n",
    "hot_encoded_y = np.zeros((m, k))\n",
    "for each_class in range(k):\n",
    "    cond = y == each_class\n",
    "    hot_encoded_y[np.where(cond), each_class] = 1\n",
    "    \n",
    "hot_encoded_y[0]"
   ]
  },
  {
   "cell_type": "code",
   "execution_count": 77,
   "metadata": {},
   "outputs": [
    {
     "name": "stdout",
     "output_type": "stream",
     "text": [
      "(20, 3)\n",
      "X when y is 0:  [[0.4946 5.7661]\n",
      " [1.2888 5.3433]\n",
      " [1.4293 4.5592]\n",
      " [1.1921 5.8563]\n",
      " [1.063  5.7357]\n",
      " [1.5079 5.8622]\n",
      " [0.2678 6.9931]\n",
      " [0.9726 3.6268]\n",
      " [2.5389 3.3884]\n",
      " [2.473  5.6404]]\n",
      "X when y is 1:  [[4.7206 5.7661]\n",
      " [4.2898 5.3433]\n",
      " [4.2286 4.5592]\n",
      " [3.1454 5.8563]\n",
      " [5.1043 5.7357]\n",
      " [3.9799 5.8622]\n",
      " [4.5288 6.9931]\n",
      " [4.106  3.6268]\n",
      " [4.7555 3.3884]\n",
      " [4.7977 5.6404]]\n"
     ]
    }
   ],
   "source": [
    "# 3. Grab the data from <code>data = np.genfromtxt('data/perceptron.csv', delimiter=',', skip_header=1)</code>\n",
    "#     - set X to be all columns except last\n",
    "#     - set y to be the last column\n",
    "#     - select X where its corresponding y is 0\n",
    "#     - select X where its corresponding y is 1\n",
    "    \n",
    "data = np.genfromtxt('../data/perceptron.csv', delimiter=',', skip_header=1)\n",
    "print(data.shape)\n",
    "\n",
    "X = data[:, :-1]\n",
    "y = data[:, -1]\n",
    "\n",
    "cond0 = y == 0\n",
    "cond1 = y == 1\n",
    "print(\"X when y is 0: \", X[cond0, :])\n",
    "print(\"X when y is 1: \", X[cond1, :])"
   ]
  },
  {
   "cell_type": "code",
   "execution_count": 72,
   "metadata": {},
   "outputs": [],
   "source": [
    "# 4. Grab the data from <code>iris = np.genfromtxt('../data/iris.csv', delimiter=',', encoding=\"utf-8\", dtype=None)</code>\n",
    "#     - set iris_without_headers to all rows except the first row\n",
    "#     - set sepal_length to second column of iris_without_headers\n",
    "#     - set petal_length to fourth column of iris_without_headers\n",
    "#     - print the shape of iris_without_headers where sepal_length is less than 5, and petal_length is greater than 1.5"
   ]
  },
  {
   "cell_type": "code",
   "execution_count": 82,
   "metadata": {},
   "outputs": [
    {
     "name": "stdout",
     "output_type": "stream",
     "text": [
      "Filtered iris:  (5, 6)\n"
     ]
    }
   ],
   "source": [
    "iris = np.genfromtxt('../data/iris.csv', delimiter=',', encoding=\"utf-8\", dtype=None)\n",
    "iris_without_headers = np.array(iris[1:])  #remove first row\n",
    "sepal_length = iris_without_headers[:, 1].astype(float)\n",
    "petal_length = iris_without_headers[:, 3].astype(float)\n",
    "cond1 = petal_length > 1.5\n",
    "cond2 = sepal_length < 5\n",
    "filtered_iris = iris_without_headers[cond1 & cond2]\n",
    "print(\"Filtered iris: \", filtered_iris.shape)"
   ]
  }
 ],
 "metadata": {
  "kernelspec": {
   "display_name": "Python 3",
   "language": "python",
   "name": "python3"
  },
  "language_info": {
   "codemirror_mode": {
    "name": "ipython",
    "version": 3
   },
   "file_extension": ".py",
   "mimetype": "text/x-python",
   "name": "python",
   "nbconvert_exporter": "python",
   "pygments_lexer": "ipython3",
   "version": "3.8.6"
  }
 },
 "nbformat": 4,
 "nbformat_minor": 4
}
