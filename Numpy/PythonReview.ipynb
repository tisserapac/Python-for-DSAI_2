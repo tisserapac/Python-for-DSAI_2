{
 "cells": [
  {
   "cell_type": "markdown",
   "metadata": {},
   "source": [
    "# Programming for Data Science and Artificial Intelligence\n",
    "\n",
    "## Review Python"
   ]
  },
  {
   "cell_type": "code",
   "execution_count": 1,
   "metadata": {},
   "outputs": [
    {
     "data": {
      "text/plain": [
       "int"
      ]
     },
     "execution_count": 1,
     "metadata": {},
     "output_type": "execute_result"
    }
   ],
   "source": [
    "#1. we learn that python supports dynamic typing\n",
    "x = 3\n",
    "type(x)"
   ]
  },
  {
   "cell_type": "code",
   "execution_count": 2,
   "metadata": {},
   "outputs": [
    {
     "data": {
      "text/plain": [
       "float"
      ]
     },
     "execution_count": 2,
     "metadata": {},
     "output_type": "execute_result"
    }
   ],
   "source": [
    "x = 3.\n",
    "type(x)"
   ]
  },
  {
   "cell_type": "code",
   "execution_count": 3,
   "metadata": {},
   "outputs": [
    {
     "data": {
      "text/plain": [
       "str"
      ]
     },
     "execution_count": 3,
     "metadata": {},
     "output_type": "execute_result"
    }
   ],
   "source": [
    "x = \"string\"\n",
    "type(x)"
   ]
  },
  {
   "cell_type": "code",
   "execution_count": 4,
   "metadata": {},
   "outputs": [
    {
     "name": "stdout",
     "output_type": "stream",
     "text": [
      "Any thing you wanna print\n"
     ]
    }
   ],
   "source": [
    "#2. how to print\n",
    "\n",
    "print(\"Any thing you wanna print\")"
   ]
  },
  {
   "cell_type": "code",
   "execution_count": 5,
   "metadata": {},
   "outputs": [
    {
     "name": "stdout",
     "output_type": "stream",
     "text": [
      "I got 3 money\n"
     ]
    }
   ],
   "source": [
    "#2.1 how to print variable along with text\n",
    "x = \"3\"\n",
    "print(f\"I got {x} money\")"
   ]
  },
  {
   "cell_type": "code",
   "execution_count": null,
   "metadata": {},
   "outputs": [],
   "source": [
    "#3. if elif else\n",
    "\n",
    "x = 9\n",
    "y = 5\n",
    "z = 10\n",
    "\n",
    "if ( x > y ):\n",
    "    print(\"x is greater than y\")\n",
    "elif ( x < z ):\n",
    "    print(\"x is less than z\")\n",
    "else:\n",
    "    print(\"x is not greater than y\")"
   ]
  },
  {
   "cell_type": "code",
   "execution_count": 6,
   "metadata": {},
   "outputs": [
    {
     "name": "stdout",
     "output_type": "stream",
     "text": [
      "5\n",
      "6\n",
      "7\n",
      "8\n",
      "9\n"
     ]
    }
   ],
   "source": [
    "#4. while\n",
    "x = 5\n",
    "\n",
    "while (x < 10):  #as long as x is less than 10, do below\n",
    "    print(x)\n",
    "    x = x + 1"
   ]
  },
  {
   "cell_type": "code",
   "execution_count": 9,
   "metadata": {},
   "outputs": [
    {
     "name": "stdout",
     "output_type": "stream",
     "text": [
      "9\n",
      "10\n"
     ]
    }
   ],
   "source": [
    "#5. input(), str(), int()\n",
    "\n",
    "#how to ask input from users\n",
    "\n",
    "something = input(\"Please input a number\")  #input always receive anything as string\n",
    "\n",
    "#first, convert the input to int\n",
    "something = int(str(int(something)))\n",
    "\n",
    "print(something)\n",
    "\n",
    "print(something + 1)"
   ]
  },
  {
   "cell_type": "code",
   "execution_count": 11,
   "metadata": {},
   "outputs": [],
   "source": [
    "#6. list\n",
    "\n",
    "#define list using a square bracket, separated by commas\n",
    "x = [1, 3, 5, 9, 10]"
   ]
  },
  {
   "cell_type": "code",
   "execution_count": 12,
   "metadata": {},
   "outputs": [
    {
     "data": {
      "text/plain": [
       "9"
      ]
     },
     "execution_count": 12,
     "metadata": {},
     "output_type": "execute_result"
    }
   ],
   "source": [
    "#we can access the element, in which the index starts at 0\n",
    "\n",
    "#if i want 9, how?\n",
    "x[3]"
   ]
  },
  {
   "cell_type": "code",
   "execution_count": 13,
   "metadata": {},
   "outputs": [
    {
     "name": "stdout",
     "output_type": "stream",
     "text": [
      "1\n",
      "3\n",
      "5\n",
      "9\n",
      "10\n"
     ]
    }
   ],
   "source": [
    "#also learn how to loop the list\n",
    "\n",
    "#how to print 1, 3, 5, 9, 10\n",
    "\n",
    "for each_num in x:\n",
    "    print(each_num)"
   ]
  },
  {
   "cell_type": "code",
   "execution_count": 14,
   "metadata": {},
   "outputs": [],
   "source": [
    "#7. tuples - nothing but list that cannot be changed\n",
    "\n",
    "#let's create tuples\n",
    "\n",
    "#we use () brackets\n",
    "\n",
    "x = (1, 3, 5, 7, 9)"
   ]
  },
  {
   "cell_type": "code",
   "execution_count": 15,
   "metadata": {},
   "outputs": [
    {
     "data": {
      "text/plain": [
       "7"
      ]
     },
     "execution_count": 15,
     "metadata": {},
     "output_type": "execute_result"
    }
   ],
   "source": [
    "#how to access number 7\n",
    "\n",
    "x[3]"
   ]
  },
  {
   "cell_type": "code",
   "execution_count": 16,
   "metadata": {},
   "outputs": [
    {
     "name": "stdout",
     "output_type": "stream",
     "text": [
      "1\n",
      "3\n",
      "5\n",
      "7\n",
      "9\n"
     ]
    }
   ],
   "source": [
    "#of course, you can loop\n",
    "\n",
    "for num in x:\n",
    "    print(num)"
   ]
  },
  {
   "cell_type": "code",
   "execution_count": 17,
   "metadata": {},
   "outputs": [
    {
     "data": {
      "text/plain": [
       "(1, 3, 5, 7, 9)"
      ]
     },
     "execution_count": 17,
     "metadata": {},
     "output_type": "execute_result"
    }
   ],
   "source": [
    "#but one thing is different, is that tuples CANNOT change\n",
    "\n",
    "x"
   ]
  },
  {
   "cell_type": "code",
   "execution_count": 18,
   "metadata": {},
   "outputs": [
    {
     "ename": "TypeError",
     "evalue": "'tuple' object does not support item assignment",
     "output_type": "error",
     "traceback": [
      "\u001b[0;31m---------------------------------------------------------------------------\u001b[0m",
      "\u001b[0;31mTypeError\u001b[0m                                 Traceback (most recent call last)",
      "\u001b[0;32m<ipython-input-18-9dfb73fa0997>\u001b[0m in \u001b[0;36m<module>\u001b[0;34m\u001b[0m\n\u001b[1;32m      1\u001b[0m \u001b[0;31m#let's change 1 to 99\u001b[0m\u001b[0;34m\u001b[0m\u001b[0;34m\u001b[0m\u001b[0;34m\u001b[0m\u001b[0m\n\u001b[1;32m      2\u001b[0m \u001b[0;34m\u001b[0m\u001b[0m\n\u001b[0;32m----> 3\u001b[0;31m \u001b[0mx\u001b[0m\u001b[0;34m[\u001b[0m\u001b[0;36m0\u001b[0m\u001b[0;34m]\u001b[0m \u001b[0;34m=\u001b[0m \u001b[0;36m99\u001b[0m\u001b[0;34m\u001b[0m\u001b[0;34m\u001b[0m\u001b[0m\n\u001b[0m",
      "\u001b[0;31mTypeError\u001b[0m: 'tuple' object does not support item assignment"
     ]
    }
   ],
   "source": [
    "#let's change 1 to 99\n",
    "\n",
    "x[0] = 99"
   ]
  },
  {
   "cell_type": "code",
   "execution_count": 19,
   "metadata": {},
   "outputs": [
    {
     "data": {
      "text/plain": [
       "tuple"
      ]
     },
     "execution_count": 19,
     "metadata": {},
     "output_type": "execute_result"
    }
   ],
   "source": [
    "#tuple is a disguise of multiple assignments\n",
    "\n",
    "x = 1, 2, 3\n",
    "\n",
    "type(x)"
   ]
  },
  {
   "cell_type": "code",
   "execution_count": 20,
   "metadata": {},
   "outputs": [],
   "source": [
    "#you can unpack this tuple\n",
    "\n",
    "first, second, third = x"
   ]
  },
  {
   "cell_type": "code",
   "execution_count": 21,
   "metadata": {},
   "outputs": [
    {
     "data": {
      "text/plain": [
       "1"
      ]
     },
     "execution_count": 21,
     "metadata": {},
     "output_type": "execute_result"
    }
   ],
   "source": [
    "first"
   ]
  },
  {
   "cell_type": "code",
   "execution_count": 22,
   "metadata": {},
   "outputs": [],
   "source": [
    "#8 dictionary\n",
    "\n",
    "#dictionary supports a pair of information\n",
    "\n",
    "#you create dictionary using curly bracis {}\n",
    "\n",
    "some_dict = {\n",
    "    \"name\"  : \"Chaky\",\n",
    "    \"age\"   : \"I won't tell you\",\n",
    "    \"gender\": 'M',\n",
    "    \"ID\"    : '101-13332'    \n",
    "}"
   ]
  },
  {
   "cell_type": "code",
   "execution_count": 23,
   "metadata": {},
   "outputs": [
    {
     "data": {
      "text/plain": [
       "'Chaky'"
      ]
     },
     "execution_count": 23,
     "metadata": {},
     "output_type": "execute_result"
    }
   ],
   "source": [
    "#how to use this dictionary\n",
    "\n",
    "#format:  dictionary_name[key]\n",
    "\n",
    "some_dict['name']"
   ]
  },
  {
   "cell_type": "code",
   "execution_count": 24,
   "metadata": {},
   "outputs": [],
   "source": [
    "#9\n",
    "\n",
    "#what is a function:  a bunch of code that is reusable\n",
    "\n",
    "#to create a function, use 'def'\n",
    "\n",
    "#i want to create a function that can square any number\n",
    "\n",
    "def square(number):\n",
    "    return number ** 2"
   ]
  },
  {
   "cell_type": "code",
   "execution_count": 25,
   "metadata": {},
   "outputs": [
    {
     "data": {
      "text/plain": [
       "25"
      ]
     },
     "execution_count": 25,
     "metadata": {},
     "output_type": "execute_result"
    }
   ],
   "source": [
    "#so what do i mean by resuable\n",
    "\n",
    "square(5)"
   ]
  },
  {
   "cell_type": "code",
   "execution_count": 26,
   "metadata": {},
   "outputs": [
    {
     "data": {
      "text/plain": [
       "100"
      ]
     },
     "execution_count": 26,
     "metadata": {},
     "output_type": "execute_result"
    }
   ],
   "source": [
    "square(10)"
   ]
  },
  {
   "cell_type": "code",
   "execution_count": null,
   "metadata": {},
   "outputs": [],
   "source": [
    "#10 class\n",
    "\n",
    "#what is a class:  a collection of functions and data that are tightly related"
   ]
  },
  {
   "cell_type": "code",
   "execution_count": 31,
   "metadata": {},
   "outputs": [],
   "source": [
    "class Square(object):   #we create a class named \"Anyname\", and inherit another class called object\n",
    "    \n",
    "    #the one function that you cannot miss is called __init__\n",
    "    #what is self? self is referring to itself\n",
    "    #if you don't understand here, it's ok for now\n",
    "    #but please remember that for every function, the first variable is self\n",
    "    \n",
    "    #it means whenever we create a class called Square, how it gonna create it\n",
    "    def __init__(self, width = 1, height = 1):\n",
    "        self.width  = width\n",
    "        self.height = height\n",
    "        \n",
    "    #put any function that is related to Square\n",
    "    def getArea(self):\n",
    "        return self.width * self.height\n",
    "    \n",
    "    def getPerimeter(self):\n",
    "        return self.width * 2 + self.height * 2"
   ]
  },
  {
   "cell_type": "code",
   "execution_count": 32,
   "metadata": {},
   "outputs": [],
   "source": [
    "#create this object\n",
    "\n",
    "anyname = Square(width = 5, height = 7)"
   ]
  },
  {
   "cell_type": "code",
   "execution_count": null,
   "metadata": {},
   "outputs": [],
   "source": [
    "#there is a difference between attribute and function\n",
    "\n",
    "#attribute - use dot (.) - e.g., anyname.width\n",
    "#function  - use dot (.) but follow by parenthesis () e.g., anyname.getArea()\n",
    "\n",
    "anyname.getArea()"
   ]
  },
  {
   "cell_type": "code",
   "execution_count": 29,
   "metadata": {},
   "outputs": [
    {
     "data": {
      "text/plain": [
       "__main__.Square"
      ]
     },
     "execution_count": 29,
     "metadata": {},
     "output_type": "execute_result"
    }
   ],
   "source": [
    "type(anyname)"
   ]
  },
  {
   "cell_type": "code",
   "execution_count": 30,
   "metadata": {},
   "outputs": [
    {
     "data": {
      "text/plain": [
       "5"
      ]
     },
     "execution_count": 30,
     "metadata": {},
     "output_type": "execute_result"
    }
   ],
   "source": [
    "#this is the way to access the attributes using dot (.)\n",
    "anyname.width"
   ]
  },
  {
   "cell_type": "markdown",
   "metadata": {},
   "source": [
    "16:10 - 16:20"
   ]
  },
  {
   "cell_type": "code",
   "execution_count": 33,
   "metadata": {},
   "outputs": [
    {
     "name": "stdout",
     "output_type": "stream",
     "text": [
      "Sum of even numbers: 30\n"
     ]
    },
    {
     "data": {
      "text/plain": [
       "'\\nExample:\\n\\nInput : [1, 3, 4, 5, 6, 7]\\nOutput: 10\\n\\n'"
      ]
     },
     "execution_count": 33,
     "metadata": {},
     "output_type": "execute_result"
    }
   ],
   "source": [
    "#create a list of 10 numbers\n",
    "x = [1, 2, 3, 4, 5, 6, 7, 8, 9, 10]\n",
    "\n",
    "#x = list(range(1, 11))\n",
    "\n",
    "#add only the even number and assign the result to some variable\n",
    "\n",
    "result = 0\n",
    "\n",
    "#you have to loop the list\n",
    "for num in x:\n",
    "\n",
    "    #for each member, if it is even, add them up\n",
    "    if (num % 2 == 0):\n",
    "        result = result + num\n",
    "    \n",
    "#print the result\n",
    "print(f\"Sum of even numbers: {result}\")\n",
    "\n",
    "'''\n",
    "Example:\n",
    "\n",
    "Input : [1, 3, 4, 5, 6, 7]\n",
    "Output: 10\n",
    "\n",
    "''' \n",
    "\n"
   ]
  },
  {
   "cell_type": "code",
   "execution_count": 34,
   "metadata": {},
   "outputs": [
    {
     "name": "stdout",
     "output_type": "stream",
     "text": [
      "Sum of even numbers: 30\n"
     ]
    }
   ],
   "source": [
    "x = [1, 2, 3, 4, 5, 6, 7, 8, 9, 10]\n",
    "#x = list(range(1, 11))\n",
    "\n",
    "result = 0\n",
    "\n",
    "for num in x:\n",
    "    if (num % 2 == 0):\n",
    "        result = result + num\n",
    "\n",
    "print(f\"Sum of even numbers: {result}\")"
   ]
  },
  {
   "cell_type": "markdown",
   "metadata": {},
   "source": [
    "16:20 - 16:30"
   ]
  },
  {
   "cell_type": "code",
   "execution_count": 35,
   "metadata": {},
   "outputs": [
    {
     "data": {
      "text/plain": [
       "'\\nInput: x\\nOutput: [0, 1, 0, 3]\\n'"
      ]
     },
     "execution_count": 35,
     "metadata": {},
     "output_type": "execute_result"
    }
   ],
   "source": [
    "#challenge\n",
    "\n",
    "x = [\n",
    "    [1, 0, 0, 0],\n",
    "    [0, 1, 0, 0],\n",
    "    [1, 0, 0, 0],\n",
    "    [0, 0, 0, 1]\n",
    "    ]\n",
    "\n",
    "#please print the index that has 1\n",
    "\n",
    "'''\n",
    "Input: x\n",
    "Output: [0, 1, 0, 3]\n",
    "'''\n",
    "\n",
    "#challenge this in one line"
   ]
  },
  {
   "cell_type": "code",
   "execution_count": 41,
   "metadata": {},
   "outputs": [
    {
     "name": "stdout",
     "output_type": "stream",
     "text": [
      "[0, 1, 0, 3]\n"
     ]
    }
   ],
   "source": [
    "#first version\n",
    "\n",
    "result = []  #empty list\n",
    "\n",
    "for each_list in x:\n",
    "    for index, num in enumerate(each_list):\n",
    "        # print(f\"index: {index}, num: {num}\")\n",
    "        \n",
    "        #if number is 1, \n",
    "        if num == 1:\n",
    "            \n",
    "            #i somehow need to add this \"index\" to a list\n",
    "            result.append(index)\n",
    "            \n",
    "            #once i found, skip this inner for loop\n",
    "            break  #this break will stop the innermost loop\n",
    "\n",
    "print(result)"
   ]
  },
  {
   "cell_type": "code",
   "execution_count": 42,
   "metadata": {},
   "outputs": [
    {
     "data": {
      "text/plain": [
       "1"
      ]
     },
     "execution_count": 42,
     "metadata": {},
     "output_type": "execute_result"
    }
   ],
   "source": [
    "#second version\n",
    "\n",
    "#let's use a built-in function called index()\n",
    "\n",
    "x = [1, 2, 3]\n",
    "\n",
    "x.index(2)"
   ]
  },
  {
   "cell_type": "code",
   "execution_count": 45,
   "metadata": {},
   "outputs": [],
   "source": [
    "x = [\n",
    "    [1, 0, 0, 0],\n",
    "    [0, 1, 0, 0],\n",
    "    [1, 0, 0, 0],\n",
    "    [0, 0, 0, 1]\n",
    "    ]"
   ]
  },
  {
   "cell_type": "code",
   "execution_count": 47,
   "metadata": {},
   "outputs": [
    {
     "name": "stdout",
     "output_type": "stream",
     "text": [
      "[0, 1, 0, 3]\n"
     ]
    }
   ],
   "source": [
    "#second version\n",
    "\n",
    "result = []  #empty list\n",
    "\n",
    "# if you want to uncomment quickly, do Cmd/Win + /\n",
    "\n",
    "for each_list in x:\n",
    "    index = each_list.index(1)\n",
    "    result.append(index)\n",
    "\n",
    "print(result)"
   ]
  },
  {
   "cell_type": "code",
   "execution_count": 48,
   "metadata": {},
   "outputs": [
    {
     "name": "stdout",
     "output_type": "stream",
     "text": [
      "[0, 1, 0, 3]\n"
     ]
    }
   ],
   "source": [
    "#third version\n",
    "\n",
    "#use list comprehension\n",
    "\n",
    "result = [each_list.index(1) for each_list in x]\n",
    "\n",
    "print(result)\n"
   ]
  },
  {
   "cell_type": "markdown",
   "metadata": {},
   "source": [
    "<center><img src=\"../figures/02.01-numpy-dimension.png\" width=500 /></center>"
   ]
  },
  {
   "cell_type": "markdown",
   "metadata": {},
   "source": [
    "<center><img src=\"../figures/02.02-numpy-array-slice.png\" width=500 /></center>"
   ]
  },
  {
   "cell_type": "markdown",
   "metadata": {},
   "source": [
    "<center><img src=\"../figures/02.03-numpy-matrix-indexing.png\" width=500/></center>"
   ]
  },
  {
   "cell_type": "markdown",
   "metadata": {},
   "source": [
    "<center><img src=\"../figures/02.04-np_reshape.png\" width=500/></center>"
   ]
  },
  {
   "cell_type": "markdown",
   "metadata": {},
   "source": [
    "<img src=\"../figures/02.07-numpy-Task.png\" width=1000 />\n",
    "\n",
    "\n",
    "<center><img src=\"../figures/02.07-numpy-Task-dot-explained.png\" width=500 height=500 /></center>"
   ]
  },
  {
   "cell_type": "markdown",
   "metadata": {},
   "source": [
    "<center><img src=\"../figures/numpy-axis.jpg\" width=500/></center>"
   ]
  },
  {
   "cell_type": "markdown",
   "metadata": {},
   "source": [
    "<center><img src=\"../figures/02.06-numpy-concatenate.png\" width=500 height=500 /></center>"
   ]
  },
  {
   "cell_type": "markdown",
   "metadata": {},
   "source": [
    "<center><img src=\"../figures/numpy-hstack.png\" width=200 height=200 /><img src=\"../figures/numpy-vstack.png\" width=120 height=200 /></center>"
   ]
  },
  {
   "cell_type": "markdown",
   "metadata": {},
   "source": [
    "<center><img src=\"../figures/numpy-vectorization.png\" width=300 height=300 /></center>"
   ]
  },
  {
   "cell_type": "markdown",
   "metadata": {},
   "source": [
    "<center><img src=\"../figures/02.05-broadcasting.png\" width=400 height=400 /></center>"
   ]
  }
 ],
 "metadata": {
  "kernelspec": {
   "display_name": "Python 3.8.10 ('.venv': pipenv)",
   "language": "python",
   "name": "python3"
  },
  "language_info": {
   "codemirror_mode": {
    "name": "ipython",
    "version": 3
   },
   "file_extension": ".py",
   "mimetype": "text/x-python",
   "name": "python",
   "nbconvert_exporter": "python",
   "pygments_lexer": "ipython3",
   "version": "3.8.10"
  },
  "vscode": {
   "interpreter": {
    "hash": "27768773b483d82a9b2b839e3fa80b1be5789db7fd78df4eedef2df266871616"
   }
  }
 },
 "nbformat": 4,
 "nbformat_minor": 4
}
