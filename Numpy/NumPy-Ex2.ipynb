{
 "cells": [
  {
   "cell_type": "code",
   "execution_count": 1,
   "metadata": {},
   "outputs": [
    {
     "name": "stdout",
     "output_type": "stream",
     "text": [
      "[4 5 6]\n",
      "[2 5]\n",
      "[2 5]\n",
      "[3 4]\n",
      "[3 4]\n",
      "[9 6 3]\n",
      "[9 6 3]\n"
     ]
    }
   ],
   "source": [
    "import numpy as np\n",
    "\n",
    "y = [\n",
    "    [1,2,3],\n",
    "    [4,5,6],\n",
    "    [7,8,9],\n",
    "]\n",
    "\n",
    "#1. 4,5,6\n",
    "#2. 2,5\n",
    "#3. 3,4\n",
    "#4. 9,6,3\n",
    "\n",
    "np_y = np.array(y) \n",
    "#format np_y[dim1, dim2]\n",
    "print(np_y[1, :]) #1.\n",
    "\n",
    "print(np_y[0:2, 1]) #2. method1\n",
    "print(np_y[[0,1], 1])#2. method2\n",
    "\n",
    "print(np_y[[0,1], [2, 0]]) # 3. dim1, dim2 both fancy indexing\n",
    "\n",
    "row = [0,1]\n",
    "column = [2, 0]\n",
    "print(np_y[row, column]) # 3. dim1, dim2 both fancy indexing method2\n",
    "\n",
    "\n",
    "print(np_y[::-1, 2]) # 4. method1\n",
    "\n",
    "row = [2,1,0]\n",
    "column = [2]\n",
    "print(np_y[row, column])# 4. method2\n"
   ]
  },
  {
   "cell_type": "markdown",
   "metadata": {},
   "source": [
    "Masking"
   ]
  },
  {
   "cell_type": "code",
   "execution_count": 2,
   "metadata": {},
   "outputs": [
    {
     "name": "stdout",
     "output_type": "stream",
     "text": [
      "[2, 4, 6, 8, 10]\n",
      "[2, 4, 6, 8, 10]\n"
     ]
    }
   ],
   "source": [
    "x = [1,2,3,4,5,6,7,8,9,10]\n",
    "\n",
    "#Need only the even numbers\n",
    "\n",
    "#Method 1\n",
    "even = []\n",
    "\n",
    "for num in x:\n",
    "    if num % 2 == 0:\n",
    "        even.append(num)\n",
    "\n",
    "print(even)\n",
    "\n",
    "#Method 2 - List comprehension\n",
    "\n",
    "even  = [num for num in x if num % 2 == 0]\n",
    "print(even)"
   ]
  },
  {
   "cell_type": "code",
   "execution_count": 3,
   "metadata": {},
   "outputs": [
    {
     "data": {
      "text/plain": [
       "array([0, 1, 2, 3, 4, 5, 6, 7, 8, 9])"
      ]
     },
     "execution_count": 3,
     "metadata": {},
     "output_type": "execute_result"
    }
   ],
   "source": [
    "np_x = np.arange(10) # this is range(10)\n",
    "\n",
    "np_x"
   ]
  },
  {
   "cell_type": "code",
   "execution_count": 4,
   "metadata": {},
   "outputs": [
    {
     "data": {
      "text/plain": [
       "array([ True, False,  True, False,  True, False,  True, False,  True,\n",
       "       False])"
      ]
     },
     "execution_count": 4,
     "metadata": {},
     "output_type": "execute_result"
    }
   ],
   "source": [
    "np_x[np_x % 2 == 0] # Actually this is fancy indexing\n",
    "\n",
    "np_x % 2 == 0"
   ]
  },
  {
   "cell_type": "code",
   "execution_count": 5,
   "metadata": {},
   "outputs": [
    {
     "data": {
      "text/plain": [
       "array([0, 2, 4, 6, 8])"
      ]
     },
     "execution_count": 5,
     "metadata": {},
     "output_type": "execute_result"
    }
   ],
   "source": [
    "np_x\n",
    "ix = [ True, False,  True, False,  True, False,  True, False,  True,\n",
    "       False]\n",
    "np_x[ix]       "
   ]
  },
  {
   "cell_type": "code",
   "execution_count": 6,
   "metadata": {},
   "outputs": [
    {
     "data": {
      "text/plain": [
       "array([1, 2, 3, 4, 5, 6, 7, 8, 9])"
      ]
     },
     "execution_count": 6,
     "metadata": {},
     "output_type": "execute_result"
    }
   ],
   "source": [
    "#Chose odd numbers from np_x less than 5\n",
    "cond1 = np_x % 2 != 0\n",
    "cond2 = np_x < 5\n",
    "cond3 = np_x > 0\n",
    "#np_x[cond1]\n",
    "np_x[cond1 & cond2]\n",
    "\n",
    "# If you need \"or\" use |\n",
    "\n",
    "np_x[cond1 & cond2 | cond3]\n"
   ]
  },
  {
   "cell_type": "markdown",
   "metadata": {},
   "source": [
    "Broadcasting"
   ]
  },
  {
   "cell_type": "code",
   "execution_count": 7,
   "metadata": {},
   "outputs": [
    {
     "data": {
      "text/plain": [
       "array([0, 0, 3, 8, 3, 8, 8, 7, 0, 7])"
      ]
     },
     "execution_count": 7,
     "metadata": {},
     "output_type": "execute_result"
    }
   ],
   "source": [
    "'''\n",
    "- Slicing, fancy indexing\n",
    "- Masking\n",
    "- Broadcasting\n",
    "\n",
    "Basically numpy behaves like vectors\n",
    "\n",
    "[1,        [5, \n",
    " 2, x 5 =   10, \n",
    " 3]         15]\n",
    "\n",
    "\n",
    "'''\n",
    "\n",
    "np_x = np.random.randint(10, size = 10) #10 is exclisive\n",
    "np_x"
   ]
  },
  {
   "cell_type": "code",
   "execution_count": 8,
   "metadata": {},
   "outputs": [
    {
     "data": {
      "text/plain": [
       "array([ 0,  0,  9, 24,  9, 24, 24, 21,  0, 21])"
      ]
     },
     "execution_count": 8,
     "metadata": {},
     "output_type": "execute_result"
    }
   ],
   "source": [
    "np_x * 3"
   ]
  },
  {
   "cell_type": "code",
   "execution_count": 9,
   "metadata": {},
   "outputs": [
    {
     "data": {
      "text/plain": [
       "[1, 2, 3, 1, 2, 3, 1, 2, 3]"
      ]
     },
     "execution_count": 9,
     "metadata": {},
     "output_type": "execute_result"
    }
   ],
   "source": [
    "some_list = [1,2,3]\n",
    "some_list * 3 # Not use lists in DS therefore"
   ]
  },
  {
   "cell_type": "code",
   "execution_count": 10,
   "metadata": {},
   "outputs": [
    {
     "data": {
      "text/plain": [
       "array([[1., 1., 1.],\n",
       "       [1., 1., 1.],\n",
       "       [1., 1., 1.]])"
      ]
     },
     "execution_count": 10,
     "metadata": {},
     "output_type": "execute_result"
    }
   ],
   "source": [
    "#Create an array\n",
    "\n",
    "np.ones((3, 3))"
   ]
  },
  {
   "cell_type": "code",
   "execution_count": 11,
   "metadata": {},
   "outputs": [
    {
     "data": {
      "text/plain": [
       "array([0, 1, 2])"
      ]
     },
     "execution_count": 11,
     "metadata": {},
     "output_type": "execute_result"
    }
   ],
   "source": [
    "np.arange(3) "
   ]
  },
  {
   "cell_type": "code",
   "execution_count": 12,
   "metadata": {},
   "outputs": [
    {
     "data": {
      "text/plain": [
       "array([[1., 2., 3.],\n",
       "       [1., 2., 3.],\n",
       "       [1., 2., 3.]])"
      ]
     },
     "execution_count": 12,
     "metadata": {},
     "output_type": "execute_result"
    }
   ],
   "source": [
    "#What whould happen?\n",
    "\n",
    "\n",
    "np.ones((3, 3)) + np.arange(3)"
   ]
  },
  {
   "cell_type": "code",
   "execution_count": 13,
   "metadata": {},
   "outputs": [
    {
     "data": {
      "text/plain": [
       "array([0, 1, 2])"
      ]
     },
     "execution_count": 13,
     "metadata": {},
     "output_type": "execute_result"
    }
   ],
   "source": [
    "x = np.arange(3)\n",
    "x"
   ]
  },
  {
   "cell_type": "code",
   "execution_count": 14,
   "metadata": {},
   "outputs": [
    {
     "data": {
      "text/plain": [
       "(3,)"
      ]
     },
     "execution_count": 14,
     "metadata": {},
     "output_type": "execute_result"
    }
   ],
   "source": [
    "x.shape"
   ]
  },
  {
   "cell_type": "code",
   "execution_count": 15,
   "metadata": {},
   "outputs": [
    {
     "data": {
      "text/plain": [
       "array([[0],\n",
       "       [1],\n",
       "       [2]])"
      ]
     },
     "execution_count": 15,
     "metadata": {},
     "output_type": "execute_result"
    }
   ],
   "source": [
    "#Make x a column vector\n",
    "x = x.reshape(3,1)\n",
    "x"
   ]
  },
  {
   "cell_type": "code",
   "execution_count": 16,
   "metadata": {},
   "outputs": [],
   "source": [
    "#Why do we call it a column vector ==> column dimevsion, is 1"
   ]
  },
  {
   "cell_type": "code",
   "execution_count": 17,
   "metadata": {},
   "outputs": [
    {
     "data": {
      "text/plain": [
       "array([[0],\n",
       "       [1],\n",
       "       [2]])"
      ]
     },
     "execution_count": 17,
     "metadata": {},
     "output_type": "execute_result"
    }
   ],
   "source": [
    "x"
   ]
  },
  {
   "cell_type": "code",
   "execution_count": 18,
   "metadata": {},
   "outputs": [
    {
     "data": {
      "text/plain": [
       "array([0, 1, 2])"
      ]
     },
     "execution_count": 18,
     "metadata": {},
     "output_type": "execute_result"
    }
   ],
   "source": [
    "y = np.arange(3)\n",
    "y"
   ]
  },
  {
   "cell_type": "code",
   "execution_count": 19,
   "metadata": {},
   "outputs": [
    {
     "data": {
      "text/plain": [
       "array([[0, 1, 2],\n",
       "       [1, 2, 3],\n",
       "       [2, 3, 4]])"
      ]
     },
     "execution_count": 19,
     "metadata": {},
     "output_type": "execute_result"
    }
   ],
   "source": [
    "x + y"
   ]
  },
  {
   "cell_type": "code",
   "execution_count": 20,
   "metadata": {},
   "outputs": [
    {
     "name": "stdout",
     "output_type": "stream",
     "text": [
      "[[1. 1. 1.]\n",
      " [1. 1. 1.]]\n"
     ]
    },
    {
     "data": {
      "text/plain": [
       "(2, 3)"
      ]
     },
     "execution_count": 20,
     "metadata": {},
     "output_type": "execute_result"
    }
   ],
   "source": [
    "#First create a numpy matrix of size 2, 3\n",
    "\n",
    "#np.ones()\n",
    "#np.empty()\n",
    "#np.zeros()\n",
    "#np.diagonal()\n",
    "\n",
    "'''\n",
    "[1, 1, 1],\n",
    "[1, 1, 1]\n",
    "'''\n",
    "\n",
    "np_x = np.ones((2,3)) # ones - fn input is a tuple\n",
    "print(np_x)\n",
    "\n",
    "#Veryfy shape\n",
    "np_x.shape\n"
   ]
  },
  {
   "cell_type": "code",
   "execution_count": 21,
   "metadata": {},
   "outputs": [
    {
     "name": "stdout",
     "output_type": "stream",
     "text": [
      "[[1. 1.]\n",
      " [1. 1.]\n",
      " [1. 1.]]\n"
     ]
    },
    {
     "data": {
      "text/plain": [
       "(3, 2)"
      ]
     },
     "execution_count": 21,
     "metadata": {},
     "output_type": "execute_result"
    }
   ],
   "source": [
    "# Reshape to 3,2\n",
    "\n",
    "np_y = np_x.reshape(3, 2) # Reshape - fn input is a tuple\n",
    "print(np_y)\n",
    "\n",
    "#Verify shape\n",
    "np_y.shape"
   ]
  },
  {
   "cell_type": "code",
   "execution_count": 22,
   "metadata": {},
   "outputs": [
    {
     "data": {
      "text/plain": [
       "array([[2., 3.],\n",
       "       [2., 3.],\n",
       "       [2., 3.]])"
      ]
     },
     "execution_count": 22,
     "metadata": {},
     "output_type": "execute_result"
    }
   ],
   "source": [
    "#Add [1,2] to each row\n",
    "np_z = [1,2]\n",
    "\n",
    "np_y + np_z"
   ]
  },
  {
   "cell_type": "code",
   "execution_count": 23,
   "metadata": {},
   "outputs": [
    {
     "name": "stdout",
     "output_type": "stream",
     "text": [
      "x: [[1. 1.]\n",
      " [1. 1.]\n",
      " [1. 1.]] \n",
      "\n",
      "y: [1. 1. 1.]\n",
      "y reshaped : [[1.]\n",
      " [1.]\n",
      " [1.]]\n",
      "[[2. 2.]\n",
      " [2. 2.]\n",
      " [2. 2.]]\n"
     ]
    }
   ],
   "source": [
    "#Numpy array 1 size (3,2)\n",
    "x = np.ones((3,2))\n",
    "print(f\"x: {x} \\n\")\n",
    "\n",
    "#Numpy array 2 size (3,)\n",
    "y = np.ones((3,))\n",
    "print(f\"y: {y}\")\n",
    "\n",
    "#Try to add - Error\n",
    "#x + y\n",
    "\n",
    "#Reshape\n",
    "y = y.reshape((3,1))\n",
    "print(f\"y reshaped : {y}\")\n",
    "\n",
    "print(x + y)"
   ]
  },
  {
   "cell_type": "code",
   "execution_count": 24,
   "metadata": {},
   "outputs": [
    {
     "name": "stdout",
     "output_type": "stream",
     "text": [
      "y: [1. 1. 1.]\n",
      "x reshaped : [[1. 1. 1.]\n",
      " [1. 1. 1.]]\n",
      "[[2. 2. 2.]\n",
      " [2. 2. 2.]]\n"
     ]
    }
   ],
   "source": [
    "y = np.ones((3,))\n",
    "print(f\"y: {y}\")\n",
    "\n",
    "#Reshape\n",
    "x = x.reshape((2,3))\n",
    "print(f\"x reshaped : {x}\")\n",
    "\n",
    "\n",
    "print(x + y)"
   ]
  },
  {
   "cell_type": "markdown",
   "metadata": {},
   "source": [
    "Task \n",
    "\n",
    "1. Create a numpy array of size 200 by 4 with random float values between 1 to 5 and name it Data\n",
    "\n",
    "2. Split the array into two numpy arrays, X and y, where the X contains the first 3 columns and y contains the last column.\n",
    "\n",
    "3. Continuing, split the first 70% of the 200 rows(140) of X and y and call them X_train and y_train. Similarly, populate X_test and y_test using same corresponding columns but 30% rest of the data(60 rows).\n"
   ]
  },
  {
   "cell_type": "code",
   "execution_count": 25,
   "metadata": {},
   "outputs": [
    {
     "data": {
      "text/plain": [
       "(200, 3)"
      ]
     },
     "execution_count": 25,
     "metadata": {},
     "output_type": "execute_result"
    }
   ],
   "source": [
    "# 1\n",
    "np_array = np.ones((200,4))\n",
    "X = np_array[0:200,0:3]\n",
    "X.shape\n",
    "\n"
   ]
  },
  {
   "cell_type": "code",
   "execution_count": 26,
   "metadata": {},
   "outputs": [
    {
     "data": {
      "text/plain": [
       "(200, 1)"
      ]
     },
     "execution_count": 26,
     "metadata": {},
     "output_type": "execute_result"
    }
   ],
   "source": [
    "y = np_array[0:200,[3]]\n",
    "y.shape"
   ]
  },
  {
   "cell_type": "code",
   "execution_count": 27,
   "metadata": {},
   "outputs": [
    {
     "data": {
      "text/plain": [
       "140"
      ]
     },
     "execution_count": 27,
     "metadata": {},
     "output_type": "execute_result"
    }
   ],
   "source": [
    "# If we are not selecting a random sample\n",
    "index = int(0.7 * np_array.shape[0])\n",
    "index"
   ]
  },
  {
   "cell_type": "code",
   "execution_count": 28,
   "metadata": {},
   "outputs": [
    {
     "data": {
      "text/plain": [
       "(140, 3)"
      ]
     },
     "execution_count": 28,
     "metadata": {},
     "output_type": "execute_result"
    }
   ],
   "source": [
    "x_test = X[0:index,0:3 ]\n",
    "x_test.shape"
   ]
  },
  {
   "cell_type": "code",
   "execution_count": 29,
   "metadata": {},
   "outputs": [
    {
     "data": {
      "text/plain": [
       "(140,)"
      ]
     },
     "execution_count": 29,
     "metadata": {},
     "output_type": "execute_result"
    }
   ],
   "source": [
    "y_test = y[0:index, 0]\n",
    "y_test.shape"
   ]
  },
  {
   "cell_type": "code",
   "execution_count": 30,
   "metadata": {},
   "outputs": [
    {
     "name": "stdout",
     "output_type": "stream",
     "text": [
      "(200, 4)\n"
     ]
    },
    {
     "data": {
      "text/plain": [
       "1.0056668558226027"
      ]
     },
     "execution_count": 30,
     "metadata": {},
     "output_type": "execute_result"
    }
   ],
   "source": [
    "#np.ones((200,4))\n",
    "\n",
    "#np.random.randint(low, high, shape_tuple)\n",
    "\n",
    "data0 = np.random.randint(0, 10, (200,4))\n",
    "\n",
    "#np.random.uniform(low, high, shape_tuple)\n",
    "\n",
    "data = np.random.uniform(1, 10, (200,4))\n",
    "\n",
    "print(data.shape)\n",
    "\n",
    "#Verify\n",
    "data.max()\n",
    "data.min()\n"
   ]
  },
  {
   "cell_type": "code",
   "execution_count": 31,
   "metadata": {},
   "outputs": [
    {
     "data": {
      "text/plain": [
       "((200, 3), (200,))"
      ]
     },
     "execution_count": 31,
     "metadata": {},
     "output_type": "execute_result"
    }
   ],
   "source": [
    "# First 3 columns becomes X ==> Slicing\n",
    "\n",
    "X = data[:,0:3] # data[dim1, dim2] ot data[:,:3], data[:,:-1]\n",
    "\n",
    "y = data[:, 3]\n",
    "\n",
    "#(200, ) - 1 Dimension\n",
    "#(200, 1) - 2 Dimension\n",
    "\n",
    "X.shape, y.shape\n",
    "\n"
   ]
  },
  {
   "cell_type": "code",
   "execution_count": 32,
   "metadata": {},
   "outputs": [
    {
     "data": {
      "text/plain": [
       "((140, 3), (60, 3))"
      ]
     },
     "execution_count": 32,
     "metadata": {},
     "output_type": "execute_result"
    }
   ],
   "source": [
    "#X_train contains 70% rows of X\n",
    "\n",
    "dataset_size  = X.shape[0]\n",
    "dataset_size\n",
    "\n",
    "train_size = int(dataset_size * 0.7) # ==>This is float without int()\n",
    "train_size\n",
    "\n",
    "x_train = X[:train_size , : ]\n",
    "x_test = X[train_size:  , : ]\n",
    "\n",
    "x_train.shape, x_test.shape\n",
    "\n",
    "# This is not the right way.\n",
    "\n",
    "\n"
   ]
  },
  {
   "cell_type": "code",
   "execution_count": 33,
   "metadata": {},
   "outputs": [
    {
     "data": {
      "text/plain": [
       "140"
      ]
     },
     "execution_count": 33,
     "metadata": {},
     "output_type": "execute_result"
    }
   ],
   "source": [
    "import random\n",
    "\n",
    "my_list = range(200)\n",
    "random_140_samples = random.sample(my_list, train_size)\n",
    "len(random_140_samples)\n",
    "#random_140_samples"
   ]
  },
  {
   "cell_type": "code",
   "execution_count": 34,
   "metadata": {},
   "outputs": [
    {
     "data": {
      "text/plain": [
       "(140, 3)"
      ]
     },
     "execution_count": 34,
     "metadata": {},
     "output_type": "execute_result"
    }
   ],
   "source": [
    "x_train = X[random_140_samples, :] \n",
    "x_train.shape"
   ]
  },
  {
   "cell_type": "code",
   "execution_count": 35,
   "metadata": {},
   "outputs": [
    {
     "data": {
      "text/plain": [
       "60"
      ]
     },
     "execution_count": 35,
     "metadata": {},
     "output_type": "execute_result"
    }
   ],
   "source": [
    "# x_test should take only the inverse of random_140_samples --> list comprehension\n",
    "\n",
    "next_60_indexes_not_in_this_140 = [ i for i in range(200) if i not in random_140_samples] \n",
    "len(next_60_indexes_not_in_this_140)"
   ]
  },
  {
   "cell_type": "code",
   "execution_count": 36,
   "metadata": {},
   "outputs": [
    {
     "data": {
      "text/plain": [
       "(60, 3)"
      ]
     },
     "execution_count": 36,
     "metadata": {},
     "output_type": "execute_result"
    }
   ],
   "source": [
    "x_test = X[next_60_indexes_not_in_this_140, :]\n",
    "x_test.shape"
   ]
  },
  {
   "cell_type": "code",
   "execution_count": 37,
   "metadata": {},
   "outputs": [
    {
     "data": {
      "text/plain": [
       "(140,)"
      ]
     },
     "execution_count": 37,
     "metadata": {},
     "output_type": "execute_result"
    }
   ],
   "source": [
    "y_train = y[random_140_samples] \n",
    "y_train.shape"
   ]
  },
  {
   "cell_type": "code",
   "execution_count": 38,
   "metadata": {},
   "outputs": [
    {
     "data": {
      "text/plain": [
       "(60,)"
      ]
     },
     "execution_count": 38,
     "metadata": {},
     "output_type": "execute_result"
    }
   ],
   "source": [
    "y_test = y[next_60_indexes_not_in_this_140]\n",
    "y_test.shape"
   ]
  },
  {
   "cell_type": "code",
   "execution_count": 39,
   "metadata": {},
   "outputs": [
    {
     "data": {
      "text/plain": [
       "(10, (14, 3))"
      ]
     },
     "execution_count": 39,
     "metadata": {},
     "output_type": "execute_result"
    }
   ],
   "source": [
    "# 1. Now X_train is (140, 3) create non-overlapping data of shape (14,3) --> use the for loop\n",
    "#2. Please create a subset of X_Train of size 50, which the starting point is randomized\n",
    "# If the number has exceeded, take only what you have - Mini - Batch\n",
    "\n",
    "\n",
    "batch_list = []\n",
    "\n",
    "batch_size = 14\n",
    "\n",
    "for i in range(0, train_size, batch_size):\n",
    "    k = x_train[i:i+batch_size, :]\n",
    "    batch_list.append(k)\n",
    "\n",
    "len(batch_list) ,   batch_list[0].shape"
   ]
  },
  {
   "cell_type": "code",
   "execution_count": 40,
   "metadata": {},
   "outputs": [],
   "source": [
    "'''\n",
    "first = X[0:14]\n",
    "second = X[14:28]\n",
    "...\n",
    "last = X[126:]\n",
    "\n",
    "Strating index --> 0, 14, 28,...\n",
    "End index --> 14, 28, 42, ...\n",
    "'''\n",
    "\n",
    "for i in range(0, 140, 14):\n",
    "    X[i:i+14]\n"
   ]
  },
  {
   "cell_type": "code",
   "execution_count": 41,
   "metadata": {},
   "outputs": [
    {
     "data": {
      "text/plain": [
       "(140, 3)"
      ]
     },
     "execution_count": 41,
     "metadata": {},
     "output_type": "execute_result"
    }
   ],
   "source": [
    "x_train.shape"
   ]
  },
  {
   "cell_type": "code",
   "execution_count": 42,
   "metadata": {},
   "outputs": [
    {
     "data": {
      "text/plain": [
       "(0, 3)"
      ]
     },
     "execution_count": 42,
     "metadata": {},
     "output_type": "execute_result"
    }
   ],
   "source": [
    "#2. Please create a subset of X_Train of size 50, which the starting point is randomized\n",
    "\n",
    "# some_subset = X[ random_start : random_start+50 ]\n",
    "\n",
    "random_num = random.choice( range(200) )\n",
    "some_subset = x_train[ random_num : random_num+50, : ]\n",
    "some_subset.shape\n"
   ]
  },
  {
   "cell_type": "code",
   "execution_count": 43,
   "metadata": {},
   "outputs": [],
   "source": [
    "#Task \n",
    "\n",
    "#1. Numpy array 150 by 5, Imagine this holds 150 samples of height, weight, age, salary, GPA\n",
    "\n",
    "#3. Split the X into X_train and X_test where x_train contains 70% of the data and split y in to y_train and y_test, where y_train contains 70% of the data\n"
   ]
  },
  {
   "cell_type": "code",
   "execution_count": 44,
   "metadata": {},
   "outputs": [
    {
     "name": "stdout",
     "output_type": "stream",
     "text": [
      "(150, 5) 9.999573167143652 1.0376073596281383\n"
     ]
    }
   ],
   "source": [
    "data = np.random.uniform(1, 10, (150,5))\n",
    "\n",
    "#Verify\n",
    "print(data.shape, data.max(), data.min())"
   ]
  },
  {
   "cell_type": "code",
   "execution_count": 45,
   "metadata": {},
   "outputs": [
    {
     "name": "stdout",
     "output_type": "stream",
     "text": [
      "(150, 4) (150,)\n"
     ]
    }
   ],
   "source": [
    "#2. Split the array of the first four columns into a variable called X and the last column by y\n",
    "\n",
    "X = data[:,0:4] # data[dim1, dim2] or data[:,:3], data[:,:-1]\n",
    "\n",
    "y = data[:, 4]\n",
    "\n",
    "print(X.shape, y.shape)"
   ]
  },
  {
   "cell_type": "code",
   "execution_count": 49,
   "metadata": {},
   "outputs": [
    {
     "name": "stdout",
     "output_type": "stream",
     "text": [
      "150 105\n",
      "(105, 4) (105,)\n"
     ]
    }
   ],
   "source": [
    "#3. Split the X into X_train and X_test where x_train contains 70% of the data and split y in to y_train and y_test, where y_train contains 70% of the data\n",
    "\n",
    "#X_train and y_train contains 70% rows of X\n",
    "\n",
    "dataset_size  = X.shape[0]\n",
    "train_size = int(dataset_size * 0.7) \n",
    "print(dataset_size,train_size)\n",
    "\n",
    "my_list = range(150)\n",
    "random_105_samples = random.sample(my_list, train_size)\n",
    "len(random_105_samples)\n",
    "x_train = X[random_105_samples, :] \n",
    "y_train = y[random_105_samples]\n",
    "print(x_train.shape, y_train.shape)\n",
    "\n"
   ]
  },
  {
   "cell_type": "code",
   "execution_count": 54,
   "metadata": {},
   "outputs": [
    {
     "name": "stdout",
     "output_type": "stream",
     "text": [
      "(45, 4) (45,)\n"
     ]
    }
   ],
   "source": [
    "# x_test should take only the inverse of random_140_samples --> list comprehension\n",
    "\n",
    "next_45_indexes_not_in_this_105 = [ i for i in range(150) if i not in random_105_samples] \n",
    "len(next_45_indexes_not_in_this_105)\n",
    "\n",
    "x_test = X[next_45_indexes_not_in_this_105, :]\n",
    "\n",
    "\n",
    "y_test = y[next_45_indexes_not_in_this_105]\n",
    "\n",
    "print(x_test.shape, y_test.shape)"
   ]
  },
  {
   "cell_type": "code",
   "execution_count": 58,
   "metadata": {},
   "outputs": [
    {
     "name": "stdout",
     "output_type": "stream",
     "text": [
      "10\n"
     ]
    },
    {
     "data": {
      "text/plain": [
       "(11, (10, 4))"
      ]
     },
     "execution_count": 58,
     "metadata": {},
     "output_type": "execute_result"
    }
   ],
   "source": [
    "#4. Create 10 non-overlapping dataset of X_train\n",
    "batch_list = []\n",
    "num_sets = 10\n",
    "\n",
    "batch_size = int(train_size / num_sets)\n",
    "\n",
    "print(batch_size)\n",
    "\n",
    "for i in range(0, train_size, batch_size):\n",
    "    k = x_train[i:i+batch_size, :]\n",
    "    batch_list.append(k)\n",
    "\n",
    "len(batch_list) ,   batch_list[0].shape"
   ]
  }
 ],
 "metadata": {
  "kernelspec": {
   "display_name": "Python 3.8.10 ('.venv': pipenv)",
   "language": "python",
   "name": "python3"
  },
  "language_info": {
   "codemirror_mode": {
    "name": "ipython",
    "version": 3
   },
   "file_extension": ".py",
   "mimetype": "text/x-python",
   "name": "python",
   "nbconvert_exporter": "python",
   "pygments_lexer": "ipython3",
   "version": "3.8.10"
  },
  "orig_nbformat": 4,
  "vscode": {
   "interpreter": {
    "hash": "27768773b483d82a9b2b839e3fa80b1be5789db7fd78df4eedef2df266871616"
   }
  }
 },
 "nbformat": 4,
 "nbformat_minor": 2
}
