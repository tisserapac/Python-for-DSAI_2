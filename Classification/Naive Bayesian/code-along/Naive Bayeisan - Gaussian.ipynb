{
 "cells": [
  {
   "cell_type": "markdown",
   "metadata": {},
   "source": [
    "# Naive Bayesian - Gaussian\n",
    "\n",
    "- Logistic Regression and Naive Baye are two baseline algorithms for classification\n",
    "- Baselines mean they serve like the mininum\n",
    "- When you do classification, it's a no brainer to use Logistic and Naive\n",
    "  - they are so simple yet so effective\n",
    "- **Key idea for GNB**: use the normal distribution to estimate y"
   ]
  },
  {
   "cell_type": "markdown",
   "metadata": {},
   "source": [
    "$$\n",
    "P(y|x) = \\frac{P(x|y)P(y)}{P(x)}\n",
    "$$"
   ]
  },
  {
   "cell_type": "markdown",
   "metadata": {},
   "source": [
    "In previous class, you estimate $P(y | x)$ directly using gradient descent.\n",
    "\n",
    "But we can do another way, that is, using naive baye algorithm, i.e., if we can find $P(x | y)$, then we can find $P(y | x)$ ===> \"generative algorithms\"\n",
    "\n",
    "So we can ask something like this right, e.g., $P(y | x = 4)$ ==>\n",
    "\n",
    "$$P(y = class 1 | x = 4)$$ \n",
    "$$P(y = class 2 | x = 4)$$ \n",
    "and so on...\n",
    "\n",
    "$$\\frac{P(x|y = class 1)P(y = class 1)}{P(x)}$$ \n",
    "$$\\frac{P(x|y = class 2)P(y = class 2)}{P(x)}$$ \n",
    "and so on...\n",
    "\n",
    "We can ignore $P(x)$, and compare only the numerator (top guy)\n",
    "\n",
    "$$P(x|y = class 1)P(y = class 1)$$ \n",
    "$$P(x|y = class 2)P(y = class 2)$$ \n",
    "\n",
    "So we have two components here, the easy one is $P(y = class 1)$ and $P(y = class 2)$, they are basically:\n",
    "\n",
    "$$P(y = 1) = \\frac{\\sum_{i=1}^m 1(y=1)}{m}$$\n",
    "$$P(y = 0) = \\frac{\\sum_{i=1}^m 1(y=0)}{m}$$\n",
    "\n",
    "Now the question is the left part, which is $P(x|y = class 1)$, how to find?\n",
    "\n",
    "Answer: not easy!\n",
    "\n",
    "Naive answer: assume $P(x | y)$ follows some statistical distribution.\n",
    "\n",
    "- if your x is continuous, you can assume gaussian distribution\n",
    "- if your x is discrete, you can assume multinomial distribution\n"
   ]
  },
  {
   "cell_type": "code",
   "execution_count": 1,
   "metadata": {},
   "outputs": [
    {
     "data": {
      "text/plain": [
       "(0.6, 0.4)"
      ]
     },
     "execution_count": 1,
     "metadata": {},
     "output_type": "execute_result"
    }
   ],
   "source": [
    "import numpy as np\n",
    "\n",
    "X_train = np.array([\n",
    "    [1, 2, 3], \n",
    "    [4, 5, 6], \n",
    "    [7, 8, 9],\n",
    "    [10, 11, 12],\n",
    "    [11, 12, 13]\n",
    "])\n",
    "\n",
    "y_train = np.array([0, 0, 0, 1, 1])\n",
    "\n",
    "cond0 = y_train == 0\n",
    "cond1 = y_train == 1\n",
    "\n",
    "m0 = len(y_train[cond0])\n",
    "m1 = len(y_train[cond1])\n",
    "m  = len(y_train)\n",
    "\n",
    "#simple exercise: find P(y = 0), P(y = 1) ==> priors\n",
    "prior0 = m0 / m\n",
    "prior1 = m1 / m\n",
    "\n",
    "prior0, prior1"
   ]
  },
  {
   "cell_type": "code",
   "execution_count": 2,
   "metadata": {},
   "outputs": [],
   "source": [
    "#I want to find P(x | y = 0), P(x | y = 1)\n",
    "#to make it, we need the normal distribution,\n",
    "#before we have the normal distribution, we need to find the mean and std\n",
    "\n",
    "#mean of each class of each feature\n",
    "#std  of each class of each feature\n",
    "\n",
    "#mean.shape: (k, n) or (n, k) #here k = #class, n = #features\n",
    "#std.shape:  (k, n)\n",
    "\n",
    "#please find these mean and std"
   ]
  },
  {
   "cell_type": "code",
   "execution_count": 3,
   "metadata": {},
   "outputs": [
    {
     "name": "stdout",
     "output_type": "stream",
     "text": [
      "Mean:  [[ 4.   5.   6. ]\n",
      " [10.5 11.5 12.5]]\n",
      "Std:  [[2.44948974 2.44948974 2.44948974]\n",
      " [0.5        0.5        0.5       ]]\n"
     ]
    }
   ],
   "source": [
    "def mean_std(X, y, k):\n",
    "    #create empy mean and std\n",
    "    n    = X.shape[1]\n",
    "    mean = np.zeros((k, n))\n",
    "    std  = np.zeros((k, n))\n",
    "    \n",
    "    #for loop, loop each cond\n",
    "    for label in range(k):\n",
    "        mean[label, :] = X[y == label].mean(axis=0)\n",
    "        std[label, :]  = X[y == label].std(axis=0)\n",
    "    return mean, std\n",
    "\n",
    "mean, std = mean_std(X_train, y_train, 2)\n",
    "\n",
    "print(\"Mean: \", mean)\n",
    "print(\"Std: \", std)"
   ]
  },
  {
   "cell_type": "code",
   "execution_count": 4,
   "metadata": {},
   "outputs": [],
   "source": [
    "#we can now create the normal distribution - pdf - probability density function"
   ]
  },
  {
   "cell_type": "markdown",
   "metadata": {},
   "source": [
    "$$ P(x \\mid y=1 ; \\mu_1, \\sigma_1^{2}) = \\frac{1}{\\sqrt{2\\pi\\sigma_1^{2}}}e ^{-\\frac{(x-\\mu_1)^{2}}{2\\sigma_1^{2}}}$$\n",
    "$$ P(x \\mid y=0 ; \\mu_0, \\sigma_0^{2}) = \\frac{1}{\\sqrt{2\\pi\\sigma_0^{2}}}e ^{-\\frac{(x-\\mu_0)^{2}}{2\\sigma_0^{2}}}$$"
   ]
  },
  {
   "cell_type": "code",
   "execution_count": 9,
   "metadata": {},
   "outputs": [
    {
     "name": "stdout",
     "output_type": "stream",
     "text": [
      "[[4.83941449e-01 4.83941449e-01 4.83941449e-01]\n",
      " [3.24927207e-79 3.24927207e-79 1.10614191e-49]]\n"
     ]
    }
   ],
   "source": [
    "#1. create a function called gaussian_pdf(X_test, mean, std)\n",
    "    #return the probability\n",
    "    \n",
    "#Note that this mean and std COMES FROM training set....\n",
    "#but when we predict, we use X_test\n",
    "def gaussian_pdf(X_test, mean, std):\n",
    "    left = 1 / (np.sqrt(2 * np.pi) * std)\n",
    "    power = (X_test - mean) ** 2 / (2 * (std ** 2))\n",
    "    right = np.exp(-power)\n",
    "    return left * right\n",
    "    \n",
    "#2. Create some X_test, and try to predict the y\n",
    "X_test = np.array([    [11, 12, 13], [1, 2, 5]   ])\n",
    "\n",
    "pdf0 = gaussian_pdf(X_test, mean[0, :], std[0, :])\n",
    "pdf1 = gaussian_pdf(X_test, mean[1, :], std[1, :])\n",
    "\n",
    "print(pdf1) \n",
    "#m, n\n",
    "#0.0081087 is the probability of sample1 of feature1 for class0\n",
    "#0.07693316 is the probability of sample2 of feature1 for class0\n",
    "#interpret: sample2 has a much higher probability to become class0\n",
    "#interpret: sample1 has a much higher probabilty to become class1"
   ]
  },
  {
   "cell_type": "markdown",
   "metadata": {},
   "source": [
    "#this is the naive part, which assumes that each features are independent\n",
    "#thus the final probability is simply multiplication of it (principle of IID)\n",
    "$$P(x \\mid y) = \\prod_{i=1}^n P( x_i \\mid y )$$"
   ]
  },
  {
   "cell_type": "code",
   "execution_count": 10,
   "metadata": {},
   "outputs": [
    {
     "name": "stdout",
     "output_type": "stream",
     "text": [
      "[2.06726389e-08 8.86891295e-04] [1.13338761e-001 1.16783908e-206]\n"
     ]
    }
   ],
   "source": [
    "total_likelihood0 = np.prod(pdf0, axis=1)\n",
    "total_likelihood1 = np.prod(pdf1, axis=1)\n",
    "\n",
    "print(total_likelihood0, total_likelihood1)"
   ]
  },
  {
   "cell_type": "markdown",
   "metadata": {},
   "source": [
    "$$P(x|y = class 1)P(y = class 1)$$ \n",
    "$$P(x|y = class 2)P(y = class 2)$$ "
   ]
  },
  {
   "cell_type": "code",
   "execution_count": 11,
   "metadata": {},
   "outputs": [
    {
     "name": "stdout",
     "output_type": "stream",
     "text": [
      "[1.24035833e-08 5.32134777e-04] [4.53355045e-002 4.67135631e-207]\n"
     ]
    }
   ],
   "source": [
    "posterior0 = prior0 * total_likelihood0\n",
    "posterior1 = prior1 * total_likelihood1\n",
    "\n",
    "print(posterior0, posterior1)"
   ]
  },
  {
   "cell_type": "code",
   "execution_count": 12,
   "metadata": {},
   "outputs": [
    {
     "data": {
      "text/plain": [
       "array([1, 0])"
      ]
     },
     "execution_count": 12,
     "metadata": {},
     "output_type": "execute_result"
    }
   ],
   "source": [
    "yhat = 1 * (posterior1 > posterior0)\n",
    "\n",
    "yhat"
   ]
  },
  {
   "cell_type": "code",
   "execution_count": 18,
   "metadata": {},
   "outputs": [
    {
     "data": {
      "image/png": "[encoded data removed]",
      "text/plain": [
       "<Figure size 432x288 with 1 Axes>"
      ]
     },
     "metadata": {
      "needs_background": "light"
     },
     "output_type": "display_data"
    }
   ],
   "source": [
    "#Exercise:\n",
    "from random import random\n",
    "import matplotlib.pyplot as plt\n",
    "from sklearn.datasets import make_classification\n",
    "from sklearn.model_selection import train_test_split\n",
    "from sklearn.preprocessing import StandardScaler\n",
    "\n",
    "X, y = make_classification(n_samples=500, n_features=10, n_redundant=1, n_informative=7,\n",
    "                             n_clusters_per_class=2, random_state=14)\n",
    "plt.scatter(X[:, 0], X[:, 1], marker='o', c=y,\n",
    "            s=25, edgecolor='k')\n",
    "\n",
    "#1. load the data (done!)\n",
    "#2. act like you do EDA (done!)\n",
    "#3. split\n",
    "X_train, X_test, y_train, y_test = train_test_split(X, y, test_size=0.3,\n",
    "                                                    random_state=999)\n",
    "\n",
    "#4. preprocess - clean (no need), standardize\n",
    "sc = StandardScaler()\n",
    "X_train = sc.fit_transform(X_train)  #we transform all columsn bc all columns are cont.\n",
    "X_test  = sc.transform(X_test) #use train set to transform test set\n"
   ]
  },
  {
   "cell_type": "code",
   "execution_count": 20,
   "metadata": {},
   "outputs": [],
   "source": [
    "class GNB(object):\n",
    "    \n",
    "    def _mean_std(self, X, y, k):\n",
    "        #create empy mean and std\n",
    "        n    = X.shape[1]\n",
    "        mean = np.zeros((k, n))\n",
    "        std  = np.zeros((k, n))\n",
    "        \n",
    "        #for loop, loop each cond\n",
    "        for label in range(k):\n",
    "            mean[label, :] = X[y == label].mean(axis=0)\n",
    "            std[label, :]  = X[y == label].std(axis=0)\n",
    "        return mean, std\n",
    "    \n",
    "    def _gaussian_pdf(self, X_test, mean, std):\n",
    "        left = 1 / (np.sqrt(2 * np.pi) * std)\n",
    "        power = (X_test - mean) ** 2 / (2 * (std ** 2))\n",
    "        right = np.exp(-power)\n",
    "        return left * right\n",
    "    \n",
    "    def _prior(self, y_train):\n",
    "        cond0 = y_train == 0\n",
    "        cond1 = y_train == 1\n",
    "        \n",
    "        m0 = len(y_train[cond0])\n",
    "        m1 = len(y_train[cond1])\n",
    "        m  = len(y_train)\n",
    "\n",
    "        prior0 = m0 / m\n",
    "        prior1 = m1 / m\n",
    "        \n",
    "        return prior0, prior1\n",
    "    \n",
    "    def __init__(self):\n",
    "        pass\n",
    "    \n",
    "    def fit(self, X_train, y_train):\n",
    "        k = len(set(y_train))\n",
    "        self.mean, self.std = self._mean_std(X_train, y_train, k)\n",
    "        self.prior0, self.prior1 = self._prior(y_train)\n",
    "        \n",
    "    def predict(self, X_test):\n",
    "        likelihood0 = self._gaussian_pdf(X_test, self.mean[0, :], self.std[0, :])\n",
    "        likelihood1 = self._gaussian_pdf(X_test, self.mean[1, :], self.std[1, :])\n",
    "        \n",
    "        total_likelihood0 = np.prod(likelihood0, axis = 1)\n",
    "        total_likelihood1 = np.prod(likelihood1, axis = 1)\n",
    "        \n",
    "        posterior0 = self.prior0 * total_likelihood0\n",
    "        posterior1 = self.prior1 * total_likelihood1\n",
    "        \n",
    "        return 1 * (posterior1 > posterior0)"
   ]
  },
  {
   "cell_type": "code",
   "execution_count": 21,
   "metadata": {},
   "outputs": [],
   "source": [
    "#5. fit the naive baye algorithm (make it into a class)\n",
    "gnb = GNB()\n",
    "gnb.fit(X_train, y_train)"
   ]
  },
  {
   "cell_type": "code",
   "execution_count": 22,
   "metadata": {},
   "outputs": [
    {
     "data": {
      "text/plain": [
       "array([1, 1, 1, 1, 1, 1, 1, 1, 0, 0, 1, 0, 1, 0, 1, 0, 0, 1, 0, 1, 0, 1,\n",
       "       1, 0, 0, 0, 0, 0, 1, 0, 0, 1, 1, 0, 1, 0, 0, 0, 1, 1, 1, 1, 0, 0,\n",
       "       0, 0, 0, 0, 0, 1, 0, 0, 0, 0, 1, 1, 0, 0, 0, 0, 0, 1, 0, 0, 1, 1,\n",
       "       1, 0, 0, 0, 1, 1, 1, 1, 0, 1, 0, 1, 0, 1, 1, 1, 1, 0, 1, 0, 1, 1,\n",
       "       1, 1, 1, 1, 1, 1, 1, 0, 0, 1, 0, 0, 0, 1, 0, 1, 1, 0, 0, 0, 0, 1,\n",
       "       1, 1, 0, 0, 0, 0, 0, 1, 1, 1, 0, 0, 0, 1, 0, 1, 0, 1, 1, 1, 1, 0,\n",
       "       0, 0, 0, 1, 1, 1, 0, 0, 0, 1, 1, 0, 1, 0, 0, 0, 0, 1])"
      ]
     },
     "execution_count": 22,
     "metadata": {},
     "output_type": "execute_result"
    }
   ],
   "source": [
    "#6. predict with X_test\n",
    "yhat = gnb.predict(X_test)\n",
    "yhat"
   ]
  },
  {
   "cell_type": "code",
   "execution_count": 25,
   "metadata": {},
   "outputs": [
    {
     "name": "stdout",
     "output_type": "stream",
     "text": [
      "              precision    recall  f1-score   support\n",
      "\n",
      "           0       0.78      0.85      0.81        71\n",
      "           1       0.85      0.78      0.82        79\n",
      "\n",
      "    accuracy                           0.81       150\n",
      "   macro avg       0.81      0.81      0.81       150\n",
      "weighted avg       0.82      0.81      0.81       150\n",
      "\n"
     ]
    }
   ],
   "source": [
    "#check the classification report, confusion matrix\n",
    "from sklearn.metrics import classification_report, confusion_matrix, ConfusionMatrixDisplay\n",
    "\n",
    "print(classification_report(y_test, yhat))"
   ]
  },
  {
   "cell_type": "code",
   "execution_count": 29,
   "metadata": {},
   "outputs": [
    {
     "data": {
      "text/plain": [
       "<sklearn.metrics._plot.confusion_matrix.ConfusionMatrixDisplay at 0x132ccca00>"
      ]
     },
     "execution_count": 29,
     "metadata": {},
     "output_type": "execute_result"
    },
    {
     "data": {
      "image/png": "[encoded data removed]",
      "text/plain": [
       "<Figure size 432x288 with 2 Axes>"
      ]
     },
     "metadata": {
      "needs_background": "light"
     },
     "output_type": "display_data"
    }
   ],
   "source": [
    "cm = confusion_matrix(y_test, yhat)\n",
    "cmd = ConfusionMatrixDisplay(cm, display_labels=[0, 1])\n",
    "cmd.plot()"
   ]
  }
 ],
 "metadata": {
  "kernelspec": {
   "display_name": "Python 3.8.6 ('teaching_env')",
   "language": "python",
   "name": "python3"
  },
  "language_info": {
   "codemirror_mode": {
    "name": "ipython",
    "version": 3
   },
   "file_extension": ".py",
   "mimetype": "text/x-python",
   "name": "python",
   "nbconvert_exporter": "python",
   "pygments_lexer": "ipython3",
   "version": "3.8.6"
  },
  "orig_nbformat": 4,
  "vscode": {
   "interpreter": {
    "hash": "becc4c8e5ad229b2591d820334d85e3db0111492344629bf57f272470dce75a5"
   }
  }
 },
 "nbformat": 4,
 "nbformat_minor": 2
}
