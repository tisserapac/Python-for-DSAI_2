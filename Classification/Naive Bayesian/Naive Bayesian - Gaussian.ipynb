{
 "cells": [
  {
   "cell_type": "markdown",
   "metadata": {},
   "source": [
    "# Programming for Data Science and Artificial Intelligence\n",
    "\n",
    "## Naive Bayesian - Gaussian\n",
    "\n",
    "### Readings: \n",
    "- [VANDER] Ch5\n",
    "- [HASTIE] Ch6"
   ]
  },
  {
   "cell_type": "code",
   "execution_count": 2,
   "metadata": {},
   "outputs": [],
   "source": [
    "import numpy as np\n",
    "import matplotlib.pyplot as plt"
   ]
  },
  {
   "cell_type": "markdown",
   "metadata": {},
   "source": [
    "## Gaussian Naive Classification\n",
    "\n",
    "In Bayesian classification, we're interested in finding the probability of a label given some observed features, which we can write as $P(y | x)$ (also known as **posteriors**).\n",
    "Bayes's theorem tells us how to express this in terms of quantities as:\n",
    "\n",
    "$$\n",
    "P(y|x) = \\frac{P(x|y)P(y)}{P(x)}\n",
    "$$\n",
    "\n",
    "The proof is as follows:\n",
    "\n",
    "- the probabilty of two events x and y happening, $P(x \\cap y)$ is the probability of $x$ or $P(x)$, times the probability of $y$ given that $P(x)$ has occured, $P(y \\mid x)$\n",
    "\n",
    "$$ P(x \\cap y) = P(x)P(y \\mid x)$$\n",
    "\n",
    "- on the other hand, the probability of $x$ and $y$ is also equal to the probability of $y$ timese the probabilty of $x$ given $y$\n",
    "\n",
    "$$ P(x \\cap y) = P(y)P(x \\mid y)$$\n",
    "\n",
    "- Equating the two yields:\n",
    "\n",
    "$$ P(x)P(y \\mid x) = P(y)P(x \\mid y)$$\n",
    "\n",
    "- Thus\n",
    "\n",
    "$$ P(y \\mid x) = \\frac{P(y)P(x \\mid y)}{P(x)}$$\n",
    "\n",
    "-----\n",
    "\n",
    "\n",
    "Thus, if we know all these three terms on the right, we can find $P(y \\mid x)$ (posteriors).  Since if we want to use for classification, we can simply compare the upper term, thus we need to know two terms!  The $P(y)$ (priors) and $P(x \\mid y)$ (likelihoods or conditional probability).\n",
    "\n",
    "$P(y)$ (also known as **priors**) is simply\n",
    "\n",
    "$$P(y = 1) = \\frac{\\sum_{i=1}^m 1(y=1)}{m}$$\n",
    "\n",
    "$$P(y = 0) = \\frac{\\sum_{i=1}^m 1(y=0)}{m}$$\n",
    "\n"
   ]
  },
  {
   "cell_type": "code",
   "execution_count": 2,
   "metadata": {},
   "outputs": [
    {
     "name": "stdout",
     "output_type": "stream",
     "text": [
      "Prior 0:  0.75\n",
      "Priro 1:  0.25\n"
     ]
    }
   ],
   "source": [
    "X_train = np.array([\n",
    "    [1, 2, 3],\n",
    "    [4, 5, 6],\n",
    "    [9, 10, 11],\n",
    "    [2, 4, 5]\n",
    "])\n",
    "\n",
    "X_test = np.array([\n",
    "    [2, 3, 4],\n",
    "    [7, 8, 9]\n",
    "])\n",
    "\n",
    "y_train = np.array([0, 0, 1, 0])\n",
    "y_test = np.array([0, 1])\n",
    "\n",
    "m0 = len(X_train[y_train==0])\n",
    "m1 = len(X_train[y_train==1])\n",
    "\n",
    "prior0 = m0 / (m0 + m1)\n",
    "prior1 = m1 / (m0 + m1)\n",
    "\n",
    "print(\"Prior 0: \", prior0)\n",
    "print(\"Priro 1: \", prior1)"
   ]
  },
  {
   "cell_type": "markdown",
   "metadata": {},
   "source": [
    "$P(x \\mid y)$ (also known as **likelihoods** or **conditional probability**) is a little bit tricky but if we are willing to make a \"naive\" assumption, then we can find a rough approximation of the generative model for each class, and then proceed with the Bayesian classification.  Perhaps the easiest naive Bayes classifier to understand is Gaussian naive Bayes.  In this classifier, the assumption is that *data from each label is drawn from a simple Gaussian distribution* as follows:\n",
    "\n",
    "$$ P(x \\mid y=1 ; \\mu_1, \\sigma^{2}) = \\frac{1}{\\sqrt{2\\pi\\sigma^{2}}}e ^{-\\frac{(x-\\mu_1)^{2}}{2\\sigma^{2}}}$$\n",
    "$$ P(x \\mid y=0 ; \\mu_0, \\sigma^{2}) = \\frac{1}{\\sqrt{2\\pi\\sigma^{2}}}e ^{-\\frac{(x-\\mu_0)^{2}}{2\\sigma^{2}}}$$\n",
    "\n",
    "where\n",
    "\n",
    "The mean of feature $j$ when $y=0$ is\n",
    "\n",
    "$$\\mu_{0j} = \\frac{\\sum_{i=1}^m x_{ij}}{m} $$\n",
    "\n",
    "This is how the normal distribution looks like\n",
    "\n",
    "<center><img src=\"figures/normal.png\" width=400/></center>\n",
    "\n"
   ]
  },
  {
   "cell_type": "code",
   "execution_count": 3,
   "metadata": {},
   "outputs": [
    {
     "name": "stdout",
     "output_type": "stream",
     "text": [
      "X:  [[ 1  2  3]\n",
      " [ 4  5  6]\n",
      " [ 9 10 11]\n",
      " [ 2  4  5]]\n",
      "y:  [0 0 1 0]\n",
      "Mean:\n",
      "  [[ 2.33333333  3.66666667  4.66666667]\n",
      " [ 9.         10.         11.        ]]\n",
      "Std:\n",
      "  [[1.24721913 1.24721913 1.24721913]\n",
      " [0.         0.         0.        ]]\n"
     ]
    }
   ],
   "source": [
    "#first we need to first mean and variance of each class of each feature\n",
    "def mean_std(X, y, k):\n",
    "    n = X.shape[1]\n",
    "    mean = np.zeros((k, n))\n",
    "    std = np.zeros((k, n))\n",
    "    for label in range(k):\n",
    "        mean[label, :] = X[y==label].mean(axis=0)\n",
    "        std[label, :]  = X[y==label].std(axis=0)\n",
    "    return mean, std\n",
    "\n",
    "mean, std = mean_std(X_train, y_train, k=2)\n",
    "\n",
    "print(\"X: \", X_train)\n",
    "print(\"y: \", y_train)\n",
    "print(\"Mean:\\n \", mean)  #shape(k, n)\n",
    "print(\"Std:\\n \", std)  #shape(k, n)\n"
   ]
  },
  {
   "cell_type": "code",
   "execution_count": 4,
   "metadata": {
    "scrolled": true
   },
   "outputs": [
    {
     "name": "stdout",
     "output_type": "stream",
     "text": [
      "X_test:\n",
      "  [[2 3 4]\n",
      " [7 8 9]]\n",
      "y_test:\n",
      "  [0 1]\n",
      "P(x|y=0):  [[0.30864325 0.27728427 0.27728427]\n",
      " [0.00029168 0.00076505 0.00076505]]\n",
      "P(x|y=1):  [[nan nan nan]\n",
      " [nan nan nan]]\n"
     ]
    },
    {
     "name": "stderr",
     "output_type": "stream",
     "text": [
      "<ipython-input-4-3cc46e149a53>:3: RuntimeWarning: divide by zero encountered in true_divide\n",
      "  left = 1 / (np.sqrt(2 * np.pi) * std)\n",
      "<ipython-input-4-3cc46e149a53>:4: RuntimeWarning: divide by zero encountered in true_divide\n",
      "  e = (X - mean) ** 2 / (2 * (std ** 2))\n",
      "<ipython-input-4-3cc46e149a53>:6: RuntimeWarning: invalid value encountered in multiply\n",
      "  return left*right\n"
     ]
    }
   ],
   "source": [
    "#second we can now specify the pdf function\n",
    "def gaussian_pdf(X, mean, std):\n",
    "    left = 1 / (np.sqrt(2 * np.pi) * std)\n",
    "    e = (X - mean) ** 2 / (2 * (std ** 2))\n",
    "    right = np.exp(-e)\n",
    "    return left*right\n",
    "\n",
    "#guassian pdf for class 0 and 1\n",
    "#Note that I am using X_test, since p(x|y) is looking at \"new\" evidence\n",
    "px_y0 = gaussian_pdf(X_test, mean[0, :], std[0, :])\n",
    "px_y1 = gaussian_pdf(X_test, mean[1, :], std[1, :])\n",
    "\n",
    "np.set_printoptions(suppress=True)\n",
    "print(\"X_test:\\n \", X_test)\n",
    "print(\"y_test:\\n \", y_test)\n",
    "print(\"P(x|y=0): \", px_y0)  #shape is same as X_test\n",
    "print(\"P(x|y=1): \", px_y1)\n",
    "\n",
    "#each of them explain the likelihood of these features belong to the class\n",
    "#for example,  [0.308, 0.277, 0.277] explains the likelihood of each feature of the first sample \n",
    "#belonging to class 0"
   ]
  },
  {
   "cell_type": "markdown",
   "metadata": {},
   "source": [
    "Naive classification assumes all features are independent, thus the total likelihood is just the product:\n",
    "$$P(x \\mid y) = \\prod_{i=1}^n P( x_i \\mid y )$$"
   ]
  },
  {
   "cell_type": "code",
   "execution_count": 5,
   "metadata": {},
   "outputs": [
    {
     "name": "stdout",
     "output_type": "stream",
     "text": [
      "P(x|y=0):  [[0.30864325 0.27728427 0.27728427]\n",
      " [0.00029168 0.00076505 0.00076505]]\n",
      "Total likelihood for class 0:  [0.02373052 0.        ]\n",
      "P(x|y=1):  [[nan nan nan]\n",
      " [nan nan nan]]\n",
      "Total likelihood for class 1:  [nan nan]\n"
     ]
    }
   ],
   "source": [
    "# P(feature1|class0) * P(feature2|class0)\n",
    "total_likelihood0 = np.prod(px_y0, axis=1)\n",
    "\n",
    "# P(feature1|class1) * P(feature2|class1)\n",
    "total_likelihood1 = np.prod(px_y1, axis=1)\n",
    "\n",
    "print(\"P(x|y=0): \", px_y0)\n",
    "print(\"Total likelihood for class 0: \", total_likelihood0)  #shape is (m, )\n",
    "\n",
    "print(\"P(x|y=1): \", px_y1)\n",
    "print(\"Total likelihood for class 1: \", total_likelihood1)  #shape is (m, )\n"
   ]
  },
  {
   "cell_type": "markdown",
   "metadata": {},
   "source": [
    "Finally, do $P(y)P(x|y)$"
   ]
  },
  {
   "cell_type": "code",
   "execution_count": 6,
   "metadata": {},
   "outputs": [
    {
     "name": "stdout",
     "output_type": "stream",
     "text": [
      "posterior 0:  [0.01779789 0.        ]\n",
      "posterior 1:  [nan nan]\n"
     ]
    }
   ],
   "source": [
    "posterior0 = prior0 * total_likelihood0    \n",
    "posterior1 = prior1 * total_likelihood1\n",
    "\n",
    "print(\"posterior 0: \", posterior0)\n",
    "print(\"posterior 1: \", posterior1)"
   ]
  },
  {
   "cell_type": "markdown",
   "metadata": {},
   "source": [
    "Predict based on which one is bigger."
   ]
  },
  {
   "cell_type": "code",
   "execution_count": 7,
   "metadata": {},
   "outputs": [
    {
     "name": "stdout",
     "output_type": "stream",
     "text": [
      "[False False]\n"
     ]
    }
   ],
   "source": [
    "yhat = 1 * posterior1 > posterior0\n",
    "\n",
    "print(yhat)   #why we don't need to compute P(x)?"
   ]
  },
  {
   "cell_type": "markdown",
   "metadata": {},
   "source": [
    "### Putting everything together\n",
    "\n",
    "1. Prepare your data\n",
    "    - $\\mathbf{X}$ and $\\mathbf{y}$ in the right shape\n",
    "        - $\\mathbf{X}$ -> $(m, n)$\n",
    "        - $\\mathbf{y}$ -> $(m,  )$\n",
    "        - Note that theta is not needed.  Why?\n",
    "    - train-test split\n",
    "    - feature scale\n",
    "    - clean out any missing data\n",
    "    - (optional) feature engineering\n",
    "2. Calculate the mean and std of each feature for each class (from the X_train). \n",
    "    $$\\mu_{0j} = \\frac{\\sum_{i=1}^m x_{ij}}{m} $$\n",
    "   The shape of your mean and std will be $(k, n)$\n",
    "3. Calculate the **likelihoods** of each sample of each feature (for X_test) using\n",
    "\n",
    "    $$ P(x \\mid y=1 ; \\mu_1, \\sigma^{2}) = \\frac{1}{\\sqrt{2\\pi\\sigma^{2}}}e ^{-\\frac{(x-\\mu_1)^{2}}{2\\sigma^{2}}}$$\n",
    "    $$ P(x \\mid y=0 ; \\mu_0, \\sigma^{2}) = \\frac{1}{\\sqrt{2\\pi\\sigma^{2}}}e ^{-\\frac{(x-\\mu_0)^{2}}{2\\sigma^{2}}}$$\n",
    "    \n",
    "    - The shape of likelihood for class 0 will be $(m, n)$\n",
    "    - Total likelihood is the product as follows:\n",
    "    \n",
    "    $$p(x \\mid y) = \\prod_{i=1}^n p(x_i \\mid y)$$\n",
    "    \n",
    "    - The shape of this total likelihood for class 0 will be $(m, )$\n",
    "    \n",
    "4. Find **priors** P(y)\n",
    "$$P(y = 1) = \\frac{\\Sigma_{i=1}^m 1(y=1)}{m}$$\n",
    "$$P(y = 0) = \\frac{\\Sigma_{i=1}^m 1(y=0)}{m}$$\n",
    "\n",
    "    - The shape of priors for class 0 will be simply a scalar\n",
    "\n",
    "5. Multiply $P(y)P(x \\mid y)$ for each class which will give us $p(y \\mid x)$ (**posteriors**)\n",
    "    \n",
    "    - For each class, the result of this is simply a multiplication between scalar and $(m, )$ resulting in a shape of $(m, )$, and you will have $k$ of such result.\n",
    "\n",
    "6. Simply compare $P(y)P(x \\mid y)$ for each class, whichever is bigger wins.  Note that we can ignore $P(x)$ since they can be canceled on both sides."
   ]
  },
  {
   "cell_type": "markdown",
   "metadata": {},
   "source": [
    "#### 1. Prepare your data\n",
    "\n",
    "#### 1.1 Get your X and y in the right shape"
   ]
  },
  {
   "cell_type": "code",
   "execution_count": 3,
   "metadata": {},
   "outputs": [
    {
     "data": {
      "text/plain": [
       "<matplotlib.collections.PathCollection at 0x7f0254fbe280>"
      ]
     },
     "execution_count": 3,
     "metadata": {},
     "output_type": "execute_result"
    },
    {
     "data": {
      "image/png": "[encoded data removed]",
      "text/plain": [
       "<Figure size 640x480 with 1 Axes>"
      ]
     },
     "metadata": {},
     "output_type": "display_data"
    }
   ],
   "source": [
    "from sklearn.datasets import make_classification\n",
    "from sklearn.model_selection import train_test_split\n",
    "from sklearn.preprocessing import StandardScaler\n",
    "\n",
    "# generate quite a lot of noise\n",
    "# with only 4 informative features out of 10\n",
    "# with 2 redundant features, overlapping with that 4 informative features\n",
    "# and 4 noisy features\n",
    "# Also, make std wider using n_clusters=2\n",
    "X, y = make_classification(n_samples=500, n_features=10, n_redundant=2, n_informative=4,\n",
    "                             n_clusters_per_class=2, random_state=14)\n",
    "plt.scatter(X[:, 0], X[:, 1], marker='o', c=y,\n",
    "            s=25, edgecolor='k')\n",
    "\n",
    "# look at the data...it is likely not linearly separable!"
   ]
  },
  {
   "cell_type": "markdown",
   "metadata": {},
   "source": [
    "#### 1.2 Train test split your data"
   ]
  },
  {
   "cell_type": "code",
   "execution_count": 4,
   "metadata": {},
   "outputs": [],
   "source": [
    "X_train, X_test, y_train, y_test = train_test_split(X, y, test_size=0.3)"
   ]
  },
  {
   "cell_type": "markdown",
   "metadata": {},
   "source": [
    "#### 1.3 Feature scale your data to reach faster convergence"
   ]
  },
  {
   "cell_type": "code",
   "execution_count": 5,
   "metadata": {},
   "outputs": [],
   "source": [
    "# feature scaling helps improve reach convergence faster\n",
    "scaler = StandardScaler()\n",
    "X_train = scaler.fit_transform(X_train)\n",
    "X_test = scaler.transform(X_test)"
   ]
  },
  {
   "cell_type": "markdown",
   "metadata": {},
   "source": [
    "#### 2. Calculate the mean and std for each feature for each class"
   ]
  },
  {
   "cell_type": "code",
   "execution_count": 6,
   "metadata": {},
   "outputs": [],
   "source": [
    "def mean_std(X_train, y_train):\n",
    "    n = X_train.shape[1]\n",
    "    mean = np.zeros((2, n))\n",
    "    std = np.zeros((2, n))\n",
    "    for label in [0, 1]:\n",
    "        mean[label, :] = X_train[y_train==label].mean(axis=0)\n",
    "        std[label, :]  = X_train[y_train==label].std(axis=0)\n",
    "    return mean, std\n",
    "\n",
    "mean, std = mean_std(X_train, y_train)\n",
    "assert mean.shape == (2, X_train.shape[1])\n",
    "assert std.shape == (2, X_train.shape[1])"
   ]
  },
  {
   "cell_type": "markdown",
   "metadata": {},
   "source": [
    "#### 3. Define the probability density function so we can later calculate $p(x \\mid y)$"
   ]
  },
  {
   "cell_type": "code",
   "execution_count": 7,
   "metadata": {},
   "outputs": [],
   "source": [
    "# scipy.stats.multivariate_normal is a library with this .pdf function\n",
    "# but I just code from scratch for you to see\n",
    "def gaussian_pdf(X, mean, std):\n",
    "    left = 1 / (np.sqrt(2 * np.pi) * std)\n",
    "    e = (X - mean) ** 2 / (2 * (std ** 2))\n",
    "    right = np.exp(-e)\n",
    "    return left*right"
   ]
  },
  {
   "cell_type": "markdown",
   "metadata": {},
   "source": [
    "#### 3. Calculate the likelihood by calculating the probability density of each class $p(x \\mid y)$"
   ]
  },
  {
   "cell_type": "code",
   "execution_count": 8,
   "metadata": {},
   "outputs": [
    {
     "name": "stdout",
     "output_type": "stream",
     "text": [
      "(150, 10)\n"
     ]
    }
   ],
   "source": [
    "#guassian pdf for class 0 and 1\n",
    "#Note that I am using X_test, since p(x|y) is looking at \"new\" evidence\n",
    "likelihood0 = gaussian_pdf(X_test, mean[0, :], std[0, :])\n",
    "likelihood1 = gaussian_pdf(X_test, mean[1, :], std[1, :])\n",
    "\n",
    "print(likelihood0.shape)\n",
    "\n",
    "#pdf should have probability of each sample for each feature\n",
    "assert likelihood0.shape == (X_test.shape[0], X_test.shape[1]), \"Shape is wrong for pdf0!\"\n",
    "assert likelihood1.shape == (X_test.shape[0], X_test.shape[1]), \"Shape is wrong for pdf1!\""
   ]
  },
  {
   "cell_type": "markdown",
   "metadata": {},
   "source": [
    "#### 3.1 Calculate the total likelihood by calculating the product of $p(x \\mid y) = \\prod_{i=1}^n p(x = i \\mid y)$"
   ]
  },
  {
   "cell_type": "code",
   "execution_count": 10,
   "metadata": {},
   "outputs": [
    {
     "name": "stdout",
     "output_type": "stream",
     "text": [
      "(150,)\n"
     ]
    }
   ],
   "source": [
    "# np.product\n",
    "# P(feature1|class0) * P(feature2|class0)\n",
    "total_likelihood0 = np.prod(likelihood0, axis=1)\n",
    "\n",
    "# P(feature1|class1) * P(feature2|class1)\n",
    "total_likelihood1 = np.prod(likelihood1, axis=1)\n",
    "\n",
    "print(total_likelihood0.shape)"
   ]
  },
  {
   "cell_type": "markdown",
   "metadata": {},
   "source": [
    "#### 4. Calculate the prior $p(y)$"
   ]
  },
  {
   "cell_type": "code",
   "execution_count": 11,
   "metadata": {},
   "outputs": [],
   "source": [
    "# probability for class 0 and 1\n",
    "m0 = len(X_train[y_train==0])\n",
    "m1 = len(X_train[y_train==1])\n",
    "prior0 = m0 / (m0 + m1)\n",
    "prior1 = m1 / (m0 + m1)\n",
    "\n",
    "assert prior0 + prior1 == 1, \"probability not equal 1\""
   ]
  },
  {
   "cell_type": "markdown",
   "metadata": {},
   "source": [
    "#### 5. Calculate the posterior $p(x \\mid y)p(y)$ for each class"
   ]
  },
  {
   "cell_type": "code",
   "execution_count": 12,
   "metadata": {},
   "outputs": [],
   "source": [
    "# P(class0) * P(feature1|class0) * P(feature2|class0)\n",
    "posterior0 = prior0 * total_likelihood0    \n",
    "# P(class1) * P(feature1|class1) * P(feature2|class1)\n",
    "posterior1 = prior1 * total_likelihood1"
   ]
  },
  {
   "cell_type": "markdown",
   "metadata": {},
   "source": [
    "#### 6. Calculate accuracy"
   ]
  },
  {
   "cell_type": "code",
   "execution_count": 13,
   "metadata": {},
   "outputs": [
    {
     "name": "stdout",
     "output_type": "stream",
     "text": [
      "=========Average precision score=======\n",
      "0.7597202797202798\n",
      "=========Classification report=======\n",
      "Report:                precision    recall  f1-score   support\n",
      "\n",
      "           0       0.86      0.87      0.86        84\n",
      "           1       0.83      0.82      0.82        66\n",
      "\n",
      "    accuracy                           0.85       150\n",
      "   macro avg       0.84      0.84      0.84       150\n",
      "weighted avg       0.85      0.85      0.85       150\n",
      "\n"
     ]
    }
   ],
   "source": [
    "#if probability of class 1 is more than 0, then True\n",
    "yhat = 1 * posterior1 > posterior0\n",
    "    \n",
    "from sklearn.metrics import average_precision_score, classification_report\n",
    "print(\"=========Average precision score=======\")\n",
    "print(average_precision_score(y_test, yhat))\n",
    "print(\"=========Classification report=======\")\n",
    "print(\"Report: \", classification_report(y_test, yhat))"
   ]
  },
  {
   "cell_type": "markdown",
   "metadata": {},
   "source": [
    "### Sklearn"
   ]
  },
  {
   "cell_type": "markdown",
   "metadata": {},
   "source": [
    "Of course, once we are able to code from scratch, we can turn to our sklearn so we don't need to implement from scratch from now.  Naive Bayes Gaussian is implemented in Scikit-Learn's ``sklearn.naive_bayes.GaussianNB`` estimator:"
   ]
  },
  {
   "cell_type": "code",
   "execution_count": 14,
   "metadata": {},
   "outputs": [
    {
     "data": {
      "text/html": [
       "<style>#sk-container-id-1 {color: black;background-color: white;}#sk-container-id-1 pre{padding: 0;}#sk-container-id-1 div.sk-toggleable {background-color: white;}#sk-container-id-1 label.sk-toggleable__label {cursor: pointer;display: block;width: 100%;margin-bottom: 0;padding: 0.3em;box-sizing: border-box;text-align: center;}#sk-container-id-1 label.sk-toggleable__label-arrow:before {content: \"▸\";float: left;margin-right: 0.25em;color: #696969;}#sk-container-id-1 label.sk-toggleable__label-arrow:hover:before {color: black;}#sk-container-id-1 div.sk-estimator:hover label.sk-toggleable__label-arrow:before {color: black;}#sk-container-id-1 div.sk-toggleable__content {max-height: 0;max-width: 0;overflow: hidden;text-align: left;background-color: #f0f8ff;}#sk-container-id-1 div.sk-toggleable__content pre {margin: 0.2em;color: black;border-radius: 0.25em;background-color: #f0f8ff;}#sk-container-id-1 input.sk-toggleable__control:checked~div.sk-toggleable__content {max-height: 200px;max-width: 100%;overflow: auto;}#sk-container-id-1 input.sk-toggleable__control:checked~label.sk-toggleable__label-arrow:before {content: \"▾\";}#sk-container-id-1 div.sk-estimator input.sk-toggleable__control:checked~label.sk-toggleable__label {background-color: #d4ebff;}#sk-container-id-1 div.sk-label input.sk-toggleable__control:checked~label.sk-toggleable__label {background-color: #d4ebff;}#sk-container-id-1 input.sk-hidden--visually {border: 0;clip: rect(1px 1px 1px 1px);clip: rect(1px, 1px, 1px, 1px);height: 1px;margin: -1px;overflow: hidden;padding: 0;position: absolute;width: 1px;}#sk-container-id-1 div.sk-estimator {font-family: monospace;background-color: #f0f8ff;border: 1px dotted black;border-radius: 0.25em;box-sizing: border-box;margin-bottom: 0.5em;}#sk-container-id-1 div.sk-estimator:hover {background-color: #d4ebff;}#sk-container-id-1 div.sk-parallel-item::after {content: \"\";width: 100%;border-bottom: 1px solid gray;flex-grow: 1;}#sk-container-id-1 div.sk-label:hover label.sk-toggleable__label {background-color: #d4ebff;}#sk-container-id-1 div.sk-serial::before {content: \"\";position: absolute;border-left: 1px solid gray;box-sizing: border-box;top: 0;bottom: 0;left: 50%;z-index: 0;}#sk-container-id-1 div.sk-serial {display: flex;flex-direction: column;align-items: center;background-color: white;padding-right: 0.2em;padding-left: 0.2em;position: relative;}#sk-container-id-1 div.sk-item {position: relative;z-index: 1;}#sk-container-id-1 div.sk-parallel {display: flex;align-items: stretch;justify-content: center;background-color: white;position: relative;}#sk-container-id-1 div.sk-item::before, #sk-container-id-1 div.sk-parallel-item::before {content: \"\";position: absolute;border-left: 1px solid gray;box-sizing: border-box;top: 0;bottom: 0;left: 50%;z-index: -1;}#sk-container-id-1 div.sk-parallel-item {display: flex;flex-direction: column;z-index: 1;position: relative;background-color: white;}#sk-container-id-1 div.sk-parallel-item:first-child::after {align-self: flex-end;width: 50%;}#sk-container-id-1 div.sk-parallel-item:last-child::after {align-self: flex-start;width: 50%;}#sk-container-id-1 div.sk-parallel-item:only-child::after {width: 0;}#sk-container-id-1 div.sk-dashed-wrapped {border: 1px dashed gray;margin: 0 0.4em 0.5em 0.4em;box-sizing: border-box;padding-bottom: 0.4em;background-color: white;}#sk-container-id-1 div.sk-label label {font-family: monospace;font-weight: bold;display: inline-block;line-height: 1.2em;}#sk-container-id-1 div.sk-label-container {text-align: center;}#sk-container-id-1 div.sk-container {/* jupyter's `normalize.less` sets `[hidden] { display: none; }` but bootstrap.min.css set `[hidden] { display: none !important; }` so we also need the `!important` here to be able to override the default hidden behavior on the sphinx rendered scikit-learn.org. See: https://github.com/scikit-learn/scikit-learn/issues/21755 */display: inline-block !important;position: relative;}#sk-container-id-1 div.sk-text-repr-fallback {display: none;}</style><div id=\"sk-container-id-1\" class=\"sk-top-container\"><div class=\"sk-text-repr-fallback\"><pre>GaussianNB()</pre><b>In a Jupyter environment, please rerun this cell to show the HTML representation or trust the notebook. <br />On GitHub, the HTML representation is unable to render, please try loading this page with nbviewer.org.</b></div><div class=\"sk-container\" hidden><div class=\"sk-item\"><div class=\"sk-estimator sk-toggleable\"><input class=\"sk-toggleable__control sk-hidden--visually\" id=\"sk-estimator-id-1\" type=\"checkbox\" checked><label for=\"sk-estimator-id-1\" class=\"sk-toggleable__label sk-toggleable__label-arrow\">GaussianNB</label><div class=\"sk-toggleable__content\"><pre>GaussianNB()</pre></div></div></div></div></div>"
      ],
      "text/plain": [
       "GaussianNB()"
      ]
     },
     "execution_count": 14,
     "metadata": {},
     "output_type": "execute_result"
    }
   ],
   "source": [
    "from sklearn.naive_bayes import GaussianNB\n",
    "model = GaussianNB()\n",
    "model.fit(X_train, y_train)"
   ]
  },
  {
   "cell_type": "code",
   "execution_count": 15,
   "metadata": {
    "scrolled": true
   },
   "outputs": [
    {
     "name": "stdout",
     "output_type": "stream",
     "text": [
      "=========Classification report=======\n",
      "Report:                precision    recall  f1-score   support\n",
      "\n",
      "           0       0.86      0.87      0.86        84\n",
      "           1       0.83      0.82      0.82        66\n",
      "\n",
      "    accuracy                           0.85       150\n",
      "   macro avg       0.84      0.84      0.84       150\n",
      "weighted avg       0.85      0.85      0.85       150\n",
      "\n"
     ]
    }
   ],
   "source": [
    "yhat = model.predict(X_test)\n",
    "print(\"=========Classification report=======\")\n",
    "print(\"Report: \", classification_report(y_test, yhat))"
   ]
  },
  {
   "cell_type": "markdown",
   "metadata": {},
   "source": [
    "We can also use predict_proba to print out the actual probabilities"
   ]
  },
  {
   "cell_type": "code",
   "execution_count": 16,
   "metadata": {
    "scrolled": true
   },
   "outputs": [
    {
     "data": {
      "text/plain": [
       "array([[0.07, 0.93],\n",
       "       [0.57, 0.43],\n",
       "       [1.  , 0.  ],\n",
       "       [0.95, 0.05],\n",
       "       [0.93, 0.07],\n",
       "       [0.98, 0.02],\n",
       "       [0.81, 0.19],\n",
       "       [0.56, 0.44]])"
      ]
     },
     "execution_count": 16,
     "metadata": {},
     "output_type": "execute_result"
    }
   ],
   "source": [
    "yprob = model.predict_proba(X_test)\n",
    "yprob[-8:].round(2)"
   ]
  },
  {
   "cell_type": "markdown",
   "metadata": {},
   "source": [
    "### ===Task===\n",
    "\n",
    "Generate a 2 class data using sklearn, and use them on Gaussian Naive Classification.  Put them into class and calculate accuracy accordingly."
   ]
  }
 ],
 "metadata": {
  "kernelspec": {
   "display_name": "Python 3.8.10 ('.venv': pipenv)",
   "language": "python",
   "name": "python3"
  },
  "language_info": {
   "codemirror_mode": {
    "name": "ipython",
    "version": 3
   },
   "file_extension": ".py",
   "mimetype": "text/x-python",
   "name": "python",
   "nbconvert_exporter": "python",
   "pygments_lexer": "ipython3",
   "version": "3.8.10"
  },
  "vscode": {
   "interpreter": {
    "hash": "27768773b483d82a9b2b839e3fa80b1be5789db7fd78df4eedef2df266871616"
   }
  }
 },
 "nbformat": 4,
 "nbformat_minor": 4
}
