{
 "cells": [
  {
   "cell_type": "markdown",
   "metadata": {},
   "source": [
    "# Multinomial Logistic Regression from Scratch\n",
    "\n",
    "1.  Predict - `X.shape = (m, n); y.shape = (m, k); theta/w/weights.shape = (n, k)`\n",
    "    \n",
    "    What is $g(x)$ input and output?\n",
    "\n",
    "    input  = X:    (m, n)\n",
    "    output = yhat: (m, k) \n",
    "\n",
    "    Mathematially, $g(x)$ is an adapted version of the sigmoid formula, so that it outputs (m, k).  We called this $g(x)$ the **softmax** function.\n",
    "\n",
    "    $$ h = P(y = c | \\theta) = \\frac{e^{\\mathbf{X}\\theta_c}}{\\sum_{i=1}^k e^{\\mathbf{X}\\theta_i}}$$\n",
    "\n",
    "    Division makes sure the probability sums to 1.\n",
    "\n",
    "    Why $e$?\n",
    "    - $e$ always give positive number, so it's a perfect guy to calculate probability!\n",
    "    - But hey, chaky, $e$ to the power of something gives me some number, like very high number, like 8103...., so how it can be probability? \n",
    "      - Ans: very simple, just divide by all e, then they will be frac of 1\n",
    "    - Derivative of e cancels nicely with log\n",
    "    \n",
    "    Why is called softmax?\n",
    "    - what is hardmax ==> [2, 3, 4] ==> [0, 0, 1] \n",
    "      - The y vector has only probability of either 1 or 0\n",
    "    - softmax: ==> [2, 3, 4] ==> [0.05, 0.15, 0.8]\n",
    "\n",
    "2. Find the gradient\n",
    "  2.1 \n",
    "\n",
    "    "
   ]
  },
  {
   "cell_type": "code",
   "execution_count": 2,
   "metadata": {},
   "outputs": [
    {
     "data": {
      "text/plain": [
       "(2, 3)"
      ]
     },
     "execution_count": 2,
     "metadata": {},
     "output_type": "execute_result"
    }
   ],
   "source": [
    "import numpy as np\n",
    "\n",
    "X = np.array([[1,3,8],[4,8,1]])\n",
    "X.shape"
   ]
  },
  {
   "cell_type": "code",
   "execution_count": 3,
   "metadata": {},
   "outputs": [
    {
     "data": {
      "text/plain": [
       "(2, 3)"
      ]
     },
     "execution_count": 3,
     "metadata": {},
     "output_type": "execute_result"
    }
   ],
   "source": [
    "y = np.array([[0, 1,0], [0, 0, 1]])\n",
    "y.shape #(2, 3) -- > (m, k) where k is the number of  classes"
   ]
  },
  {
   "cell_type": "code",
   "execution_count": 9,
   "metadata": {},
   "outputs": [
    {
     "data": {
      "text/plain": [
       "(2, 3)"
      ]
     },
     "execution_count": 9,
     "metadata": {},
     "output_type": "execute_result"
    }
   ],
   "source": [
    "yhat_example = np.array([[0.05, 0.86, 0.09], [0.3, 0.3, 0.4]])\n",
    "yhat_example.shape\n",
    "\n"
   ]
  },
  {
   "cell_type": "code",
   "execution_count": 10,
   "metadata": {},
   "outputs": [
    {
     "data": {
      "text/plain": [
       "array([1, 2])"
      ]
     },
     "execution_count": 10,
     "metadata": {},
     "output_type": "execute_result"
    }
   ],
   "source": [
    "np.argmax(yhat_example, axis=1)"
   ]
  },
  {
   "cell_type": "code",
   "execution_count": null,
   "metadata": {},
   "outputs": [],
   "source": [
    "'''\n",
    "'''\n",
    "\n",
    "w = np.ones(X.shape[1], len(y.unique()))\n",
    "# Asuming y is not yet one-hot encoded"
   ]
  },
  {
   "cell_type": "code",
   "execution_count": 11,
   "metadata": {},
   "outputs": [
    {
     "data": {
      "text/plain": [
       "array([[1, 3, 8],\n",
       "       [4, 8, 1]])"
      ]
     },
     "execution_count": 11,
     "metadata": {},
     "output_type": "execute_result"
    }
   ],
   "source": [
    "X"
   ]
  },
  {
   "cell_type": "code",
   "execution_count": 17,
   "metadata": {},
   "outputs": [
    {
     "data": {
      "text/plain": [
       "array([[0, 1, 2],\n",
       "       [3, 4, 5],\n",
       "       [6, 7, 8]])"
      ]
     },
     "execution_count": 17,
     "metadata": {},
     "output_type": "execute_result"
    }
   ],
   "source": [
    "theta = np.arange(9).reshape((X.shape[1], 3))\n",
    "theta"
   ]
  },
  {
   "cell_type": "code",
   "execution_count": 22,
   "metadata": {},
   "outputs": [
    {
     "data": {
      "text/plain": [
       "array([1., 1.])"
      ]
     },
     "execution_count": 22,
     "metadata": {},
     "output_type": "execute_result"
    }
   ],
   "source": [
    "something = X @ theta\n",
    "np.exp(something)\n",
    "yhat = np.exp(something) / np.sum(np.exp(something), axis=1, keepdims=True)\n",
    "yhat.sum(axis=1)"
   ]
  },
  {
   "cell_type": "markdown",
   "metadata": {},
   "source": [
    "$$ h = P(y = c | \\theta) = \\frac{e^{\\mathbf{X}\\theta_c}}{\\sum_{i=1}^k e^{\\mathbf{X}\\theta_i}}$$"
   ]
  },
  {
   "cell_type": "code",
   "execution_count": 24,
   "metadata": {},
   "outputs": [],
   "source": [
    "#so please write the softmax function,\n",
    "#can calculate the yhat with the given theta\n",
    "def softmax(input):\n",
    "    return np.exp(input) / np.sum(np.exp(input), axis=1, keepdims=True)\n",
    "\n",
    "yhat = softmax(X @ theta)\n",
    "sum = yhat.sum(axis=1)\n",
    "\n",
    "assert np.all(sum == 1)\n",
    "\n",
    "assert yhat.shape == (X.shape[0], 3) # y ->(m,k)\n"
   ]
  },
  {
   "cell_type": "code",
   "execution_count": 33,
   "metadata": {},
   "outputs": [
    {
     "name": "stdout",
     "output_type": "stream",
     "text": [
      "Good 0.10536051565782628\n",
      "Bad 2.3025850929940455\n"
     ]
    }
   ],
   "source": [
    "# 1. Implement this loss function - cross entrophy\n",
    "def ce(Y, H):\n",
    "    return -np.sum(Y * np.log(H)) # J is a number, no need to keepdim\n",
    "\n",
    "#2. Create a y, a good yhat, a bad y hat\n",
    "Y = np.array([[0, 0, 1, 0]]) #(1,k)\n",
    "good_Y = np.array([[0.04 ,0.03, 0.9, 0.03]])\n",
    "bad_Y = np.array([[0.3, 0.3, 0.1, 0.3]])\n",
    "\n",
    "#3. And check the loss. A good yhat should have low loss, and bad yhat should have high loss\n",
    "print(\"Good\", ce(Y, good_Y))\n",
    "print(\"Bad\", ce(Y, bad_Y))\n",
    "\n",
    "#4. Optional "
   ]
  },
  {
   "cell_type": "code",
   "execution_count": 31,
   "metadata": {},
   "outputs": [
    {
     "data": {
      "text/plain": [
       "Text(0, 0.5, 'loss')"
      ]
     },
     "execution_count": 31,
     "metadata": {},
     "output_type": "execute_result"
    },
    {
     "data": {
      "image/png": "[encoded data removed]",
      "text/plain": [
       "<Figure size 640x480 with 1 Axes>"
      ]
     },
     "metadata": {},
     "output_type": "display_data"
    }
   ],
   "source": [
    "import matplotlib.pyplot as plt\n",
    "x = np.linspace(0.01, 0.99, 1000)\n",
    "plt.plot(x, -np.log(x))\n",
    "plt.xlabel(\"probability\")\n",
    "plt.ylabel(\"loss\")"
   ]
  },
  {
   "cell_type": "code",
   "execution_count": 26,
   "metadata": {},
   "outputs": [
    {
     "data": {
      "text/plain": [
       "-0.10536051565782628"
      ]
     },
     "execution_count": 26,
     "metadata": {},
     "output_type": "execute_result"
    }
   ],
   "source": [
    "np.log(0.9)"
   ]
  },
  {
   "cell_type": "markdown",
   "metadata": {},
   "source": [
    "## Let's code Multinomial logistic regression"
   ]
  },
  {
   "cell_type": "code",
   "execution_count": 35,
   "metadata": {},
   "outputs": [
    {
     "data": {
      "image/png": "[encoded data removed]",
      "text/plain": [
       "<Figure size 640x480 with 1 Axes>"
      ]
     },
     "metadata": {},
     "output_type": "display_data"
    }
   ],
   "source": [
    "#1. Load sklern iris dataset\n",
    "from sklearn.datasets import load_iris\n",
    "from sklearn.model_selection import train_test_split\n",
    "from sklearn.preprocessing import StandardScaler\n",
    "from sklearn.preprocessing import OneHotEncoder\n",
    "\n",
    "X,y = load_iris(return_X_y=True)\n",
    "\n",
    "plt.scatter(X[:, 0], X[:, 1], c=y)\n",
    "plt.show()\n",
    "\n"
   ]
  },
  {
   "cell_type": "code",
   "execution_count": 36,
   "metadata": {},
   "outputs": [],
   "source": [
    "#2. perform split, standadization\n",
    "X_train, X_test, y_train, y_test = train_test_split(X, y, test_size=0.3, random_state=999)\n",
    "\n",
    "sc = StandardScaler()\n",
    "X_train = sc.fit_transform(X_train)\n",
    "X_test  = sc.transform(X_test)\n",
    "\n",
    "X_train = np.insert(X_train, 0, 1, axis=1)\n",
    "X_test = np.insert(X_test, 0, 1, axis=1)"
   ]
  },
  {
   "cell_type": "code",
   "execution_count": 41,
   "metadata": {},
   "outputs": [],
   "source": [
    "#hint - check how your y \n",
    "#convert y_train to one-hot encoded y_train\n",
    "#1 - make the np.zero one-hot encode y_train\n",
    "# enc = OneHotEncoder(handle_unknown='ignore')\n",
    "# enc.fit(X)\n",
    "m = X_train.shape[0]\n",
    "k = len(set(y_train))\n",
    "oh_y_train = np.zeros((m,k))\n",
    "\n",
    "for i in range(k):\n",
    "    cond = y_train == i\n",
    "    oh_y_train[cond, i] = 1\n"
   ]
  },
  {
   "cell_type": "code",
   "execution_count": 65,
   "metadata": {},
   "outputs": [],
   "source": [
    "#3. Implement the class MultinormialLogisticRegression with fit and predicr\n",
    "class MultinormialLogisticRegression(object):\n",
    "    def __init__(self, num_epochs = 5, alpha = 0.01):\n",
    "        self.num_epochs = num_epochs\n",
    "        self.alpha = alpha\n",
    "        self.theta = None\n",
    "\n",
    "    def cross_entrophy(self, y, yhat): # H = yhat = f(x)\n",
    "        return -np.sum(y * np.log(yhat))\n",
    "\n",
    "    def fit(self, X_train, oh_y_train):\n",
    "        m,n = X_train.shape\n",
    "        K = oh_y_train.shape[1]\n",
    "        self.theta = np.ones((n,k))\n",
    "        losses = []\n",
    "\n",
    "        for i in range(self.num_epochs):\n",
    "            #randomize our X_train\n",
    "            perm = np.random.permutation(X_train.shape[0])\n",
    "            X_train = X_train[perm]\n",
    "            oh_y_train = oh_y_train[perm]     \n",
    "\n",
    "            #1. Predict\n",
    "            yhat = self._predict(X_train)\n",
    "\n",
    "            #1.1 Optional Kepp the loss\n",
    "            loss = self.cross_entrophy(oh_y_train, yhat)\n",
    "            losses.append(loss)\n",
    "\n",
    "            #2. Gradient\n",
    "            grad = X_train.T @ (yhat - oh_y_train)\n",
    "            print(grad)\n",
    "\n",
    "            #3. Update\n",
    "            self.theta = self.theta - self.alpha * grad\n",
    "\n",
    "        return losses\n",
    "\n",
    "    def _predict(self, X_train):\n",
    "        input = X_train @ self.theta\n",
    "        return np.exp(input) / np.sum(np.exp(input), axis=1, keepdims=True)\n",
    "\n",
    "    def predict(self, X_test):\n",
    "        input = self._predict(X_test)\n",
    "        return np.argmax(input, axis=1)\n",
    "        "
   ]
  },
  {
   "cell_type": "code",
   "execution_count": 74,
   "metadata": {},
   "outputs": [
    {
     "name": "stdout",
     "output_type": "stream",
     "text": [
      "[[ 2.16493490e-15 -3.00000000e+00  3.00000000e+00]\n",
      " [ 3.56424154e+01 -6.29404526e+00 -2.93483701e+01]\n",
      " [-2.99274016e+01  2.44064861e+01  5.52091548e+00]\n",
      " [ 4.57348346e+01 -1.24276769e+01 -3.33071577e+01]\n",
      " [ 4.38099980e+01 -7.41409703e+00 -3.63959010e+01]]\n",
      "[[  5.05079484  -9.40340098   4.35260614]\n",
      " [  5.86771105   0.09740925  -5.9651203 ]\n",
      " [ -9.38597896  12.5607353   -3.17475634]\n",
      " [ 10.03306091  -2.01571657  -8.01734435]\n",
      " [  9.29127234   2.13314081 -11.42441314]]\n",
      "[[ 4.25540555 -8.36549715  4.1100916 ]\n",
      " [ 3.94083385 -0.43025654 -3.51057731]\n",
      " [-6.79027797  8.92772085 -2.13744288]\n",
      " [ 7.12403718 -1.27872267 -5.84531451]\n",
      " [ 6.54989547  2.4829892  -9.03288467]]\n",
      "[[ 3.53773847 -7.20829737  3.6705589 ]\n",
      " [ 3.1228945  -0.78277719 -2.34011731]\n",
      " [-5.33417589  6.49563828 -1.16146239]\n",
      " [ 5.72707574 -0.81319406 -4.91388168]\n",
      " [ 5.25371248  2.6527085  -7.90642098]]\n",
      "[[ 2.97571402 -6.31676661  3.34105259]\n",
      " [ 2.66793622 -1.05649879 -1.61143743]\n",
      " [-4.39477557  4.82722342 -0.43244786]\n",
      " [ 4.88697343 -0.5411808  -4.34579263]\n",
      " [ 4.48251305  2.69118719 -7.17370024]]\n"
     ]
    }
   ],
   "source": [
    "#4. Test with test set and print sklearn.matics calssification report, as well as confusion matrix\n",
    "    #use argmax, becasuse your test set is NOT one-hot encoded...\n",
    "\n",
    "lr = MultinormialLogisticRegression()\n",
    "train_losses = lr.fit(X_train, oh_y_train)"
   ]
  },
  {
   "cell_type": "code",
   "execution_count": 76,
   "metadata": {},
   "outputs": [
    {
     "data": {
      "text/plain": [
       "Text(0, 0.5, 'losses')"
      ]
     },
     "execution_count": 76,
     "metadata": {},
     "output_type": "execute_result"
    },
    {
     "data": {
      "image/png": "[encoded data removed]",
      "text/plain": [
       "<Figure size 640x480 with 1 Axes>"
      ]
     },
     "metadata": {},
     "output_type": "display_data"
    }
   ],
   "source": [
    "plt.plot(train_losses)\n",
    "plt.xlabel(\"Iterations\")\n",
    "plt.ylabel(\"losses\")"
   ]
  },
  {
   "cell_type": "code",
   "execution_count": 70,
   "metadata": {},
   "outputs": [
    {
     "data": {
      "text/plain": [
       "0.9111111111111111"
      ]
     },
     "execution_count": 70,
     "metadata": {},
     "output_type": "execute_result"
    }
   ],
   "source": [
    "from sklearn.metrics import classification_report, accuracy_score, confusion_matrix\n",
    "yhat = lr.predict(X_test)\n",
    "\n",
    "accuracy_score(y_test, yhat)"
   ]
  },
  {
   "cell_type": "code",
   "execution_count": 71,
   "metadata": {},
   "outputs": [
    {
     "name": "stdout",
     "output_type": "stream",
     "text": [
      "              precision    recall  f1-score   support\n",
      "\n",
      "           0       1.00      1.00      1.00        15\n",
      "           1       0.79      0.92      0.85        12\n",
      "           2       0.94      0.83      0.88        18\n",
      "\n",
      "    accuracy                           0.91        45\n",
      "   macro avg       0.91      0.92      0.91        45\n",
      "weighted avg       0.92      0.91      0.91        45\n",
      "\n"
     ]
    }
   ],
   "source": [
    "print(classification_report(y_test, yhat))"
   ]
  },
  {
   "cell_type": "code",
   "execution_count": 72,
   "metadata": {},
   "outputs": [
    {
     "name": "stdout",
     "output_type": "stream",
     "text": [
      "[[15  0  0]\n",
      " [ 0 11  1]\n",
      " [ 0  3 15]]\n"
     ]
    }
   ],
   "source": [
    "print(confusion_matrix(y_test, yhat))"
   ]
  },
  {
   "cell_type": "code",
   "execution_count": 77,
   "metadata": {},
   "outputs": [
    {
     "data": {
      "text/plain": [
       "<AxesSubplot: >"
      ]
     },
     "execution_count": 77,
     "metadata": {},
     "output_type": "execute_result"
    },
    {
     "data": {
      "image/png": "[encoded data removed]",
      "text/plain": [
       "<Figure size 640x480 with 2 Axes>"
      ]
     },
     "metadata": {},
     "output_type": "display_data"
    }
   ],
   "source": [
    "import seaborn as sns\n",
    "sns.heatmap(confusion_matrix(y_test, yhat))"
   ]
  },
  {
   "cell_type": "code",
   "execution_count": 78,
   "metadata": {},
   "outputs": [],
   "source": [
    "#5. Compare the results with sklearn.linear_model.LogisticRegression()\n",
    "\n",
    "from sklearn.linear_model import LogisticRegression\n",
    "\n",
    "#clf = LogisticRegression(random_state=0).fit(X, y)"
   ]
  }
 ],
 "metadata": {
  "kernelspec": {
   "display_name": "Python 3.8.10 ('.venv': pipenv)",
   "language": "python",
   "name": "python3"
  },
  "language_info": {
   "codemirror_mode": {
    "name": "ipython",
    "version": 3
   },
   "file_extension": ".py",
   "mimetype": "text/x-python",
   "name": "python",
   "nbconvert_exporter": "python",
   "pygments_lexer": "ipython3",
   "version": "3.8.10"
  },
  "orig_nbformat": 4,
  "vscode": {
   "interpreter": {
    "hash": "27768773b483d82a9b2b839e3fa80b1be5789db7fd78df4eedef2df266871616"
   }
  }
 },
 "nbformat": 4,
 "nbformat_minor": 2
}
