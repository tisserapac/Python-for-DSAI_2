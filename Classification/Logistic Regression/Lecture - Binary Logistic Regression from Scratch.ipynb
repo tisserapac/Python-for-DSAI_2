{
 "cells": [
  {
   "cell_type": "markdown",
   "metadata": {},
   "source": [
    "# Programming for Data Science and Artificial Intelligence\n",
    "\n",
    "## Logistic Regression from Scratch\n",
    "\n",
    "### Readings: \n",
    "- [GERON] Ch4\n",
    "- [VANDER] Ch5\n",
    "- [HASTIE] Ch4"
   ]
  },
  {
   "cell_type": "code",
   "execution_count": 1,
   "metadata": {},
   "outputs": [],
   "source": [
    "import numpy as np\n",
    "import matplotlib.pyplot as plt"
   ]
  },
  {
   "cell_type": "markdown",
   "metadata": {},
   "source": [
    "### Logit/sigmoid function\n",
    "\n",
    "Logistic regression is a baseline supervised algorithm for solving classification problem where outcome (target) is discrete.   The idea behind is that $\\boldsymbol{\\theta}^T\\mathbf{x}$ will return a continous value and thus may not be suitable for classification task.  However, if we can find one function $g$ such that\n",
    "\n",
    "$$g(\\boldsymbol{\\theta}^T\\mathbf{x}) = [0, 1]$$\n",
    "\n",
    "then we can define our hypothesis function as $g$ and optimize accordingly based on some loss function.\n",
    "\n",
    "It happens that $g$ (and also our hypothesis function h) can be defined as the sigmoid (logit) function as the following:\n",
    "\n",
    "$$ h = g(\\boldsymbol{\\theta}^T\\mathbf{x}) = \\frac{1}{1+e^{-\\boldsymbol{\\theta}^T\\mathbf{x}}} $$\n",
    "\n",
    "**Note: don't worry if you don't know what is a sigmoid function.  It is just some function that magically maps any value to value between 0 to 1.**\n",
    "\n",
    "**Trivials**: \n",
    "$e$ is a really convenient number for math, for example whenever you take the derivative of $e^x$, you get $e^x$ back again.  It's the only function on Earth that will do that.  Also, $e^x$ always give you positive numbers, thus it is no surprise this $e$ was often used in probability/statistics.  Last, it is convenient to apply $\\log$ in any optimization problem including $e$ since it will cancel it nicely and will also not change the optimization answer since $\\log$ is monotically increasing.  Btw, the common log base we use in natural log, but it really does not matter because the base is merely a constant.\n",
    "\n",
    "Let's see how does it look in code:"
   ]
  },
  {
   "cell_type": "code",
   "execution_count": 2,
   "metadata": {},
   "outputs": [
    {
     "data": {
      "text/plain": [
       "Text(0, 0.5, 'y')"
      ]
     },
     "execution_count": 2,
     "metadata": {},
     "output_type": "execute_result"
    },
    {
     "data": {
      "image/png": "[encoded data removed]",
      "text/plain": [
       "<Figure size 432x288 with 1 Axes>"
      ]
     },
     "metadata": {
      "needs_background": "light"
     },
     "output_type": "display_data"
    }
   ],
   "source": [
    "# lambda way \n",
    "sigmoid_gen = lambda x: (1+np.exp(-x))**-1\n",
    "\n",
    "# Function way\n",
    "def sigmoid(x):\n",
    "    sig = 1 / (1 + np.exp(-x))\n",
    "    return sig\n",
    "\n",
    "# Generate data points\n",
    "x = np.arange(-5,5,0.1)\n",
    "y = sigmoid(x)\n",
    "\n",
    "# Plot the sigmoid\n",
    "plt.scatter(x, y)\n",
    "plt.title('Sigmoid')\n",
    "plt.xlabel('x')\n",
    "plt.ylabel('y')"
   ]
  },
  {
   "cell_type": "markdown",
   "metadata": {},
   "source": [
    "Recall the derivative using quotient rule is        \n",
    "\n",
    "$$ (\\frac{f}{g})' = \\frac{f'g - fg'}{g^2}$$\n",
    "\n",
    "Given sigmoid function as\n",
    "\n",
    "$$ g(x) = \\frac{1}{1+e^{-x}} $$\n",
    "\n",
    "Thus the derivative of sigmoid function is\n",
    "\n",
    "$$\n",
    "\\begin{aligned}\n",
    "    \\frac{dg}{dx} &= \\frac{0(1 + e^{-x}) - (-1)(e^{-x}))}{(1 + e^{-x})^2} \\\\\n",
    "    &= \\frac{e^{-x}}{(1 + e^{-x})^2}  = \\frac{e^{-x} + 1 - 1}{(1 + e^{-x})^2} \\\\\n",
    "    &= \\frac{1}{(1 + e^{-x})} - \\frac{1}{(1 + e^{-x})^2} \\\\\n",
    "    &= \\frac{1}{(1 + e^{-x})} \\big(1 - \\frac{1}{(1 + e^{-x})}\\big)\\\\\n",
    "    &= g(1 - g)\n",
    "\\end{aligned}\n",
    "$$\n",
    "\n",
    "**Note: once again, don't worry if you don't understand derivative very well.  The key here is just to be reminded that derivative is important for us to do gradient descent, ok?**\n",
    "\n",
    "Let's look at the gradient by modifying our sigmoid function a little bit."
   ]
  },
  {
   "cell_type": "code",
   "execution_count": 3,
   "metadata": {},
   "outputs": [
    {
     "data": {
      "text/plain": [
       "Text(0, 0.5, 'y')"
      ]
     },
     "execution_count": 3,
     "metadata": {},
     "output_type": "execute_result"
    },
    {
     "data": {
      "image/png": "[encoded data removed]",
      "text/plain": [
       "<Figure size 720x144 with 2 Axes>"
      ]
     },
     "metadata": {
      "needs_background": "light"
     },
     "output_type": "display_data"
    }
   ],
   "source": [
    "# Formula:\n",
    "# g(x) = 1 / (1 + np.exp(-x))\n",
    "\n",
    "# lambda way \n",
    "sigmoid_gen = lambda x: (1+np.exp(-x))**-1\n",
    "\n",
    "# Function way\n",
    "def sigmoid(x, deriv = False):\n",
    "    sig = 1 / (1 + np.exp(-x))\n",
    "    if deriv:\n",
    "        sig_deriv = sig*(1-sig) \n",
    "        return sig_deriv\n",
    "    else:\n",
    "        return sig\n",
    "# Generate data points\n",
    "x = np.arange(-5,5,0.1)\n",
    "y = sigmoid(x)\n",
    "y_deriv = sigmoid(x, deriv = True)\n",
    "\n",
    "# Plot the sigmoid\n",
    "_, ax = plt.subplots(1, 2, figsize=(10, 2))\n",
    "ax1 = ax[0]\n",
    "ax1.scatter(x, y)\n",
    "ax1.set_title('Sigmoid')\n",
    "ax1.set_xlabel('x')\n",
    "ax1.set_ylabel('y')\n",
    "\n",
    "# Plot the derivative of the sigmoid\n",
    "ax2 = ax[1]\n",
    "ax2.scatter(x, y_deriv)\n",
    "ax2.set_title('Derivative of the sigmoid')\n",
    "ax2.set_xlabel('x')\n",
    "ax2.set_ylabel('y')"
   ]
  },
  {
   "cell_type": "markdown",
   "metadata": {},
   "source": [
    "**Trivials**: As you can see, the greatest gradient possible is 0.25.  Thus it means that in a gradient descent update, the update speed will be restricted by this value."
   ]
  },
  {
   "cell_type": "markdown",
   "metadata": {},
   "source": [
    "So if we had the following function\n",
    "\n",
    "$$ \\boldsymbol{\\theta}^T\\mathbf{x} = \\theta_{0} + \\theta_{1}x_{1} + \\theta_{2}x_{2} $$\n",
    "\n",
    "Given some point ($x_{1}$,$x_{2}$), if we plugged it to our sigmoid function, the equation could output a positive result (for one class), negative result (for the other class), or 0 (the point lies right on the decision boundary).\n",
    "\n",
    "For example, given ($x_{1} = 3$, $x_{2} = 4$) and ($\\theta_{1}$ = 1, $\\theta_{2}$ = 2) (let's ignore $\\theta_{0}$ for simplicity), the following code performs a sigmoid of $\\boldsymbol{\\theta}^T\\mathbf{x}$"
   ]
  },
  {
   "cell_type": "code",
   "execution_count": 4,
   "metadata": {},
   "outputs": [
    {
     "name": "stdout",
     "output_type": "stream",
     "text": [
      "theta^Tx: 11\n",
      "sigmoid of theta^Tx:  0.999983298578152\n"
     ]
    }
   ],
   "source": [
    "X = np.array([3, 4])\n",
    "theta = np.array([1, 2])\n",
    "print(\"theta^Tx:\", X @ theta)\n",
    "print(\"sigmoid of theta^Tx: \", sigmoid(X @ theta))  #<---very sure that this is 0 to 1 :-)"
   ]
  },
  {
   "cell_type": "markdown",
   "metadata": {},
   "source": [
    "Ok...now we learn sigmoid or the logit function.  Let's look at the loss function."
   ]
  },
  {
   "cell_type": "markdown",
   "metadata": {},
   "source": [
    "### Loss function for classification\n",
    "\n",
    "Recall that we simply use the mean squared error for loss function in regression.  So what loss function to use in classification?\n",
    "\n",
    "**Answer: cross-entropy**\n",
    "\n",
    "$$J = - (\\sum_{i=1}^m y^{(i)}\\log(h^{(i)}) + (1-y^{(i)})\\log(1-h^{(i)}))$$\n",
    "\n",
    "Before understanding, let's check whether it really works..."
   ]
  },
  {
   "cell_type": "code",
   "execution_count": 5,
   "metadata": {},
   "outputs": [],
   "source": [
    "def cross_entropy_loss(y, h):\n",
    "    loss = - np.sum(y * np.log(h) + (1 - y) * np.log(1 - h))\n",
    "    \n",
    "    return loss"
   ]
  },
  {
   "cell_type": "code",
   "execution_count": 6,
   "metadata": {},
   "outputs": [
    {
     "name": "stdout",
     "output_type": "stream",
     "text": [
      "bad h should give high loss:  27.631021115928544\n",
      "good h should give low loss:  0.060302015121008704\n"
     ]
    }
   ],
   "source": [
    "y      = np.array([1, 1, 1, 0, 0, 0])\n",
    "bad_h  = np.array([0.01, 0.01, 0.01, 0.99, 0.99, 0.99])  #<---very bad prediction\n",
    "good_h = np.array([0.99, 0.99, 0.99, 0.01, 0.01, 0.01])  #<---very good prediction\n",
    "\n",
    "\n",
    "print(\"bad h should give high loss: \", cross_entropy_loss(y, bad_h))\n",
    "print(\"good h should give low loss: \", cross_entropy_loss(y, good_h))"
   ]
  },
  {
   "cell_type": "markdown",
   "metadata": {},
   "source": [
    "It works!  How?  To understand, you need to understand the behavior or $\\log$."
   ]
  },
  {
   "cell_type": "code",
   "execution_count": 7,
   "metadata": {},
   "outputs": [
    {
     "data": {
      "text/plain": [
       "<matplotlib.legend.Legend at 0x12392e2e0>"
      ]
     },
     "execution_count": 7,
     "metadata": {},
     "output_type": "execute_result"
    },
    {
     "data": {
      "image/png": "[encoded data removed]",
      "text/plain": [
       "<Figure size 432x288 with 1 Axes>"
      ]
     },
     "metadata": {
      "needs_background": "light"
     },
     "output_type": "display_data"
    }
   ],
   "source": [
    "h = np.linspace(0.001, 0.999, 1000)\n",
    "\n",
    "plt.scatter(h, -np.log(h), label='log(h)    ==> y=1')\n",
    "plt.scatter(h, -np.log(1-h), label='log(1-h) ==> y=0')\n",
    "plt.xlabel('h')\n",
    "plt.ylabel('loss')\n",
    "\n",
    "plt.legend()"
   ]
  },
  {
   "cell_type": "markdown",
   "metadata": {},
   "source": [
    "Notice this behavior:\n",
    "\n",
    "When y=1, \n",
    "- if h=1, loss is near 0.  \n",
    "- if h=0.01, loss is very high\n",
    "\n",
    "when y=0,\n",
    "- if h=0, loss is near 0.  \n",
    "- if h=0.99, loss is very high"
   ]
  },
  {
   "cell_type": "markdown",
   "metadata": {},
   "source": [
    "### Gradient of cross entropy\n",
    "\n",
    "Recall that we need to find the gradient of the loss function in order to use gradient descent.\n",
    "\n",
    "Calculating is easy. To make thing easy, let's imagine one training sample. Recall that \n",
    "\n",
    "$$J = - (y^{(i)}\\log(h^{(i)}) + (1-y^{(i)})\\log(1-h^{(i)}))$$\n",
    "$$h = \\frac{1}{1+e^{-g}}$$\n",
    "$$g = \\boldsymbol{\\theta}^T\\mathbf{x}$$\n",
    "\n",
    "\n",
    "Thus, gradient of $J$ in respect to some $\\theta_j$ is\n",
    "\n",
    "$$\\frac{\\partial J}{\\partial \\theta_j} = \\frac{\\partial J}{\\partial h} \\frac{\\partial h}{\\partial g} \\frac{\\partial g}{\\partial \\theta_j}$$\n",
    "      \n",
    "where\n",
    "\n",
    "$$\\frac{\\partial J}{\\partial h} = \\frac{h^{(i)} - \n",
    "y^{(i)}}{h^{(i)}(1-h^{(i)})}$$\n",
    "$$\\frac{\\partial h}{\\partial g} = h^{(i)}(1-h^{(i)})$$\n",
    "$$\\frac{\\partial g}{\\partial \\theta_j} = x_j$$\n",
    "\n",
    "Thus, \n",
    "\n",
    "$$\n",
    "\\begin{aligned}\n",
    "\\frac{\\partial J}{\\partial \\theta_j} &= \\frac{\\partial J}{\\partial h} \\frac{\\partial h}{\\partial g} \\frac{\\partial g}{\\partial \\theta_j}\\\\\n",
    "&= \\frac{h^{(i)} - y^{(i)}}{h^{(i)}(1-h^{(i)})} * h^{(i)}(1-h^{(i)}) * x_j\\\\\n",
    "&= (h^{(i)} - y^{(i)})x_j\\\\\n",
    "\\end{aligned}$$\n",
    "\n",
    "We can also write the gradient as matrix form:\n",
    "\n",
    "$$ \\frac{\\partial J}{\\partial \\theta} = \\mathbf{X}^\\top (\\mathbf{h} - \\mathbf{y})$$\n",
    "   \n",
    "**Don't worry.  If you got lost here, just take it easy.  For now, you just need to know that why we need to find the gradient. You can also go home and try it slowly one time.  Just one time is enough to make you have faith.**\n",
    "\n",
    "Now that we learn the logit function and the loss function, we are now ready to implement logistic regression!"
   ]
  },
  {
   "cell_type": "markdown",
   "metadata": {},
   "source": [
    "## Binary Logistic Regression\n",
    "\n",
    "Logistic regression is a binary **classification algorithm** by simply finding a best fitted line that separates two dataset.  In order to squash the output to a value between 0 and 1, logistic regression used a function called logit function (or sigmoid function)\n",
    "\n",
    "### Implementation\n",
    "    \n",
    "1. Prepare your data\n",
    "    - add intercept\n",
    "    - $\\mathbf{X}$ and $\\mathbf{y}$ and $\\mathbf{w}$ in the right shape\n",
    "        - $\\mathbf{X}$ -> $(m, n)$\n",
    "        - $\\mathbf{y}$ -> $(m, )$\n",
    "        - $\\mathbf{w}$ -> $(n, )$\n",
    "        - where $m$ is number of samples\n",
    "        - where $n$ is number of features\n",
    "    - train-test split\n",
    "    - feature scale\n",
    "    - clean out any missing data\n",
    "    - (optional) feature engineering\n",
    "2. Predict and calculate the loss\n",
    "    - The loss function is the *cross entropy* defined as\n",
    "    $$J = - (\\sum_{i=1}^m y^{(i)}\\log(h^{(i)}) + (1-y^{(i)})\\log(1-h^{(i)}))$$\n",
    "3. Calculate the gradient based on the loss\n",
    "    $$ \\frac{\\partial J}{\\partial \\theta} = \\mathbf{X}^\\top (\\mathbf{h} - \\mathbf{y})$$\n",
    "4. Update the theta with this update rule\n",
    "    $$\\theta_j := \\theta_j - \\alpha * \\frac{\\partial J}{\\partial \\theta_j}$$\n",
    "    where $\\alpha$ is a typical learning rate range between 0 and 1\n",
    "5. Loop 2-4 until max_iter is reached, or the difference between old loss and new loss are smaller than some predefined threshold tolerance"
   ]
  },
  {
   "cell_type": "markdown",
   "metadata": {},
   "source": [
    "### 1: Prepare your data\n",
    "\n",
    "#### 1.1 Get your X and y in the right shape"
   ]
  },
  {
   "cell_type": "code",
   "execution_count": 8,
   "metadata": {},
   "outputs": [
    {
     "data": {
      "text/plain": [
       "<matplotlib.collections.PathCollection at 0x13189f5b0>"
      ]
     },
     "execution_count": 8,
     "metadata": {},
     "output_type": "execute_result"
    },
    {
     "data": {
      "image/png": "[encoded data removed]",
      "text/plain": [
       "<Figure size 432x288 with 1 Axes>"
      ]
     },
     "metadata": {
      "needs_background": "light"
     },
     "output_type": "display_data"
    }
   ],
   "source": [
    "from sklearn import linear_model\n",
    "from sklearn.datasets import make_classification\n",
    "from sklearn.model_selection import train_test_split\n",
    "from sklearn.preprocessing import StandardScaler\n",
    "\n",
    "X, y = make_classification(n_samples=500, n_features=10, n_redundant=2, n_informative=4,\n",
    "                             n_clusters_per_class=2, random_state=14)\n",
    "plt.scatter(X[:, 0], X[:, 1], marker='o', c=y,\n",
    "            s=25, edgecolor='k')"
   ]
  },
  {
   "cell_type": "markdown",
   "metadata": {},
   "source": [
    "#### 1.2 Train test split your data"
   ]
  },
  {
   "cell_type": "code",
   "execution_count": 9,
   "metadata": {},
   "outputs": [],
   "source": [
    "X_train, X_test, y_train, y_test = train_test_split(X, y, test_size=0.3)"
   ]
  },
  {
   "cell_type": "markdown",
   "metadata": {},
   "source": [
    "#### 1.3 Feature scale your data to reach faster convergence"
   ]
  },
  {
   "cell_type": "code",
   "execution_count": 10,
   "metadata": {},
   "outputs": [],
   "source": [
    "# feature scaling helps reaching convergence faster\n",
    "scaler  = StandardScaler()\n",
    "X_train = scaler.fit_transform(X_train)\n",
    "X_test  = scaler.transform(X_test)"
   ]
  },
  {
   "cell_type": "markdown",
   "metadata": {},
   "source": [
    "#### 1.4 Add intercepts"
   ]
  },
  {
   "cell_type": "code",
   "execution_count": 11,
   "metadata": {},
   "outputs": [],
   "source": [
    "intercept = np.ones((X_train.shape[0], 1))\n",
    "X_train   = np.concatenate((intercept, X_train), axis=1)  # add intercept\n",
    "intercept = np.ones((X_test.shape[0], 1))\n",
    "X_test    = np.concatenate((intercept, X_test), axis=1)  # add intercept"
   ]
  },
  {
   "cell_type": "markdown",
   "metadata": {},
   "source": [
    "### 2: Fit your algorithm \n",
    "\n",
    "#### 1. Define your algorithm"
   ]
  },
  {
   "cell_type": "code",
   "execution_count": 12,
   "metadata": {},
   "outputs": [
    {
     "name": "stdout",
     "output_type": "stream",
     "text": [
      "Loss at iteration 0 24.26015131959808\n",
      "Loss at iteration 500 14.462013691847803\n",
      "Loss at iteration 1000 12.915902454435116\n",
      "Loss at iteration 1500 14.879713785059957\n",
      "Loss at iteration 2000 10.240037368704424\n",
      "Loss at iteration 2500 14.159136099171667\n",
      "Loss at iteration 3000 6.786184053609345\n",
      "Loss at iteration 3500 11.99033511968124\n",
      "Loss at iteration 4000 12.967063343362554\n",
      "Loss at iteration 4500 11.343193596484667\n"
     ]
    }
   ],
   "source": [
    "# here I use mini-batch as a demonstration\n",
    "# you are free to use any variants of gradient descent\n",
    "def mini_batch_GD(X, y, max_iter=1000):\n",
    "    w = np.zeros(X.shape[1])\n",
    "    l_rate = 0.01\n",
    "\n",
    "    batch_size = int(0.1 * X.shape[0])\n",
    "    for i in range(max_iter):\n",
    "        ix = np.random.randint(0, X.shape[0]) #<----with replacement\n",
    "        batch_X = X[ix:ix+batch_size]\n",
    "        batch_y = y[ix:ix+batch_size]\n",
    "        loss, grad = gradient(batch_X, batch_y, w)\n",
    "        if i % 500 == 0:\n",
    "            print(f\"Loss at iteration {i}\", loss)\n",
    "        w = w - l_rate * grad\n",
    "    return w, i\n",
    "\n",
    "def gradient(X, y, w):\n",
    "    m = X.shape[0]\n",
    "    h = h_theta(X, w)\n",
    "    error = h - y\n",
    "    # putting negative sign for negative log likelihood\n",
    "    loss = - np.sum(y * np.log(h) + (1 - y) * np.log(1 - h))\n",
    "    grad = np.dot(X.T, error)\n",
    "    return loss, grad\n",
    "\n",
    "def sigmoid(x):\n",
    "    return 1 / (1 + np.exp(-x))\n",
    "        \n",
    "def h_theta(X, w):\n",
    "    return sigmoid(X @ w)\n",
    "\n",
    "def output(pred):\n",
    "    return np.round(pred)\n",
    "\n",
    "w, i = mini_batch_GD(X_train, y_train, max_iter=5000)"
   ]
  },
  {
   "cell_type": "markdown",
   "metadata": {},
   "source": [
    "#### 2. Compute accuracy"
   ]
  },
  {
   "cell_type": "code",
   "execution_count": 13,
   "metadata": {},
   "outputs": [
    {
     "data": {
      "text/plain": [
       "array([1., 1., 1., 0., 0., 0., 1., 1., 1., 1., 0., 0., 0., 1., 1., 1., 1.,\n",
       "       1., 1., 0., 0., 0., 1., 0., 1., 1., 1., 1., 0., 1., 0., 1., 0., 1.,\n",
       "       1., 1., 1., 0., 0., 0., 0., 0., 0., 1., 0., 1., 0., 1., 0., 0., 1.,\n",
       "       0., 1., 0., 1., 1., 1., 0., 1., 1., 1., 1., 0., 0., 0., 0., 1., 1.,\n",
       "       0., 0., 0., 1., 1., 0., 0., 1., 1., 0., 0., 0., 0., 0., 0., 0., 0.,\n",
       "       1., 0., 0., 0., 0., 0., 1., 0., 1., 0., 1., 0., 0., 1., 1., 0., 1.,\n",
       "       0., 0., 0., 1., 1., 0., 0., 1., 1., 1., 0., 0., 0., 1., 1., 0., 1.,\n",
       "       1., 1., 0., 1., 0., 0., 0., 1., 0., 1., 0., 1., 0., 1., 1., 0., 0.,\n",
       "       0., 0., 0., 0., 1., 1., 1., 1., 0., 0., 1., 1., 1., 0.])"
      ]
     },
     "execution_count": 13,
     "metadata": {},
     "output_type": "execute_result"
    }
   ],
   "source": [
    "yhat = output(h_theta(X_test, w))\n",
    "yhat"
   ]
  },
  {
   "cell_type": "code",
   "execution_count": 14,
   "metadata": {
    "scrolled": true
   },
   "outputs": [
    {
     "data": {
      "text/plain": [
       "0.82"
      ]
     },
     "execution_count": 14,
     "metadata": {},
     "output_type": "execute_result"
    }
   ],
   "source": [
    "from sklearn.metrics import accuracy_score\n",
    "accuracy_score(y_test, yhat)"
   ]
  },
  {
   "cell_type": "markdown",
   "metadata": {},
   "source": [
    "### When to Use Logistic Regression\n",
    "\n",
    "Almost always, as a baseline though!  Logistic Regression make an assumption based on linearity and as long as your data is approximately linear, Logistic Regression work fantastic.  There are also some clear advantages:\n",
    "- They are quite fast for both training and prediction\n",
    "- They have very few (if any) tunable parameters\n",
    "- Descent algorithms works well with Logistic Regression\n",
    "\n",
    "The only problem of Logistic Regression lies on its limitation of linearity.  I would usually try Naive Bayesian, followed by Logistic Regression as baseline.  And if the accuracy is quite low, I would try other non-linear classification models such as SVM or KNN or Decision Tree."
   ]
  }
 ],
 "metadata": {
  "kernelspec": {
   "display_name": "Python 3.8.6 ('teaching_env')",
   "language": "python",
   "name": "python3"
  },
  "language_info": {
   "codemirror_mode": {
    "name": "ipython",
    "version": 3
   },
   "file_extension": ".py",
   "mimetype": "text/x-python",
   "name": "python",
   "nbconvert_exporter": "python",
   "pygments_lexer": "ipython3",
   "version": "3.8.6"
  },
  "vscode": {
   "interpreter": {
    "hash": "becc4c8e5ad229b2591d820334d85e3db0111492344629bf57f272470dce75a5"
   }
  }
 },
 "nbformat": 4,
 "nbformat_minor": 4
}
