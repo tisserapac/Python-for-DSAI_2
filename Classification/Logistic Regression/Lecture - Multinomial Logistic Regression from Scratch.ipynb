{
 "cells": [
  {
   "cell_type": "markdown",
   "metadata": {},
   "source": [
    "# Programming for Data Science and Artificial Intelligence\n",
    "\n",
    "## Multinomial Logistic Regression from Scratch\n",
    "\n",
    "### Readings: \n",
    "- [GERON] Ch4\n",
    "- [VANDER] Ch5\n",
    "- [HASTIE] Ch4"
   ]
  },
  {
   "cell_type": "code",
   "execution_count": 1,
   "metadata": {},
   "outputs": [],
   "source": [
    "import numpy as np\n",
    "import matplotlib.pyplot as plt"
   ]
  },
  {
   "cell_type": "markdown",
   "metadata": {},
   "source": [
    "## Multinomial Logistic Regression\n",
    "\n",
    "This is logistic regression when number of classes are more than 2.\n",
    "\n",
    "### Implementation\n",
    "\n",
    "The gradient descent has the following steps:\n",
    "\n",
    "1. Prepare your data\n",
    "    - add intercept\n",
    "    - $\\mathbf{X}$ and $\\mathbf{Y}$ and $\\mathbf{W}$ in the right shape\n",
    "        - $\\mathbf{X}$ -> $(m, n)$\n",
    "        - $\\mathbf{Y}$ -> $(m, k)$\n",
    "        - $\\mathbf{W}$ -> $(n, k)$\n",
    "        - where $k$ is number of classes\n",
    "    - train-test split\n",
    "    - feature scale\n",
    "    - clean out any missing data\n",
    "    - (optional) feature engineering\n",
    "2. Predict using the softmax function\n",
    "   $$ h = P(y = c \\mid \\boldsymbol{\\theta}) = \\frac{e^{\\boldsymbol{\\theta}^{T}_c\\mathbf{x}}}{\\Sigma_{i=1}^{k} e^{\\boldsymbol{\\theta}_k^{T}\\mathbf{x}}}$$\n",
    "   where c is the class\n",
    "   \n",
    "   --->why this function?<----\n",
    "   - First, mathematically, this is just an extension of the sigmoid formula for multi-class classification\n",
    "   - $e$ will always give non-negative outputs which helps, since probability is never negative\n",
    "   - $e$ has a similar effect as argmax, which will turn larger input to larger outputs.\n",
    "   - $e$ is super easy to differentiate, because derivative of $e$ is $e$\n",
    "   - $e$ nicely cancel out the $\\log$ in the cross entropy loss (see below)\n",
    "   - By dividing, it make sure all the probability adds up to one.  You can think the softmax function as some form of normalization.   Why not normalization?  Because normalization cares only about proportion, while softmax reacts to change in scale better."
   ]
  },
  {
   "cell_type": "markdown",
   "metadata": {},
   "source": [
    "### Softmax function"
   ]
  },
  {
   "cell_type": "code",
   "execution_count": 2,
   "metadata": {
    "scrolled": true
   },
   "outputs": [
    {
     "name": "stdout",
     "output_type": "stream",
     "text": [
      "X:  (2, 3)\n",
      "Y:  (2, 4)\n",
      "W:  (3, 4)\n",
      "X @ W: [[ 8 14 20  7]\n",
      " [15 26 35 13]]\n",
      "softmax(X @ W): [[6.12896865e-06 2.47260243e-03 9.97519014e-01 2.25472156e-06]\n",
      " [2.06089928e-09 1.23394576e-04 9.99876603e-01 2.78912388e-10]]\n",
      "Try to confirm it adds up to 1: [1. 1.]\n",
      "if I want to know which one is the answer, use argmax:  [2 2]\n",
      "normalization(X @ W): [[0.30044631 0.52578104 0.75111577 0.26289052]\n",
      " [0.31311215 0.54272772 0.73059501 0.27136386]]\n"
     ]
    }
   ],
   "source": [
    "def softmax(x):\n",
    "    return np.exp(x) / np.sum(np.exp(x), axis=1, keepdims=True)\n",
    "\n",
    "X = np.array([[1, 2, 3],\n",
    "             [2, 4, 5]])\n",
    "\n",
    "print(\"X: \", X.shape)  #(m, n) two samples, three features.  We ignore the y-intercept\n",
    "\n",
    "#####important########\n",
    "#note that Y in a multi-class classification is one-hot NOT class label\n",
    "Y = np.array([[0, 0, 1, 0],\n",
    "              [1, 0, 0, 0]])  #(m, k) let's say four classes\n",
    "\n",
    "print(\"Y: \", Y.shape)\n",
    "\n",
    "W = np.array([[1, 2, 3, 4],\n",
    "              [2, 3, 1, 0],\n",
    "              [1, 2, 5, 1],\n",
    "              ])  #(n, k)  three features, four classes\n",
    "\n",
    "print(\"W: \", W.shape)\n",
    "\n",
    "print(\"X @ W:\",  X @ W)  #X @ W should be the same shape as our y\n",
    "\n",
    "print(\"softmax(X @ W):\", softmax(X@W))\n",
    "\n",
    "np.set_printoptions(suppress=True)\n",
    "print(\"Try to confirm it adds up to 1:\", softmax(X@W).sum(axis=1))\n",
    "\n",
    "print(\"if I want to know which one is the answer, use argmax: \", np.argmax(softmax(X@W), axis=1))\n",
    "\n",
    "from sklearn.preprocessing import normalize\n",
    "print(\"normalization(X @ W):\", normalize(X@W))"
   ]
  },
  {
   "cell_type": "markdown",
   "metadata": {},
   "source": [
    "### Cross entropy loss"
   ]
  },
  {
   "cell_type": "markdown",
   "metadata": {},
   "source": [
    "3. Calculate the loss using the cross entropy loss\n",
    "    $$J = -\\sum_{i=1}^m y^{(i)}\\log(h^{(i)})$$\n",
    "    \n",
    "Note that this is no different with the previous binary cross entropy loss.  The binary cross entropy loss is now simply extended to multiclass"
   ]
  },
  {
   "cell_type": "code",
   "execution_count": 3,
   "metadata": {
    "scrolled": true
   },
   "outputs": [
    {
     "name": "stdout",
     "output_type": "stream",
     "text": [
      "Y:  [[0 0 1 0]\n",
      " [1 0 0 0]]\n",
      "h:  [[0.00000613 0.0024726  0.99751901 0.00000225]\n",
      " [0.         0.00012339 0.9998766  0.        ]]\n",
      "log:  [[ -0.          -0.          -0.00248407  -0.        ]\n",
      " [-20.0001234   -0.          -0.          -0.        ]]\n",
      "log loss:  [[ 0.          0.          0.00248407  0.        ]\n",
      " [20.0001234   0.          0.          0.        ]]\n",
      "sum of log loss:  20.00260747339262\n"
     ]
    }
   ],
   "source": [
    "print(\"Y: \", Y)\n",
    "print(\"h: \", softmax(X@W))\n",
    "print(\"log: \", Y * np.log(softmax(X@W)))\n",
    "print(\"log loss: \", -(Y * np.log(softmax(X@W))))\n",
    "print(\"sum of log loss: \", np.sum(-(Y * np.log(softmax(X@W)))))"
   ]
  },
  {
   "cell_type": "markdown",
   "metadata": {},
   "source": [
    "### Gradient"
   ]
  },
  {
   "cell_type": "markdown",
   "metadata": {},
   "source": [
    "4. Calculate the gradient of theta of feature $j$ based on the loss function $J$\n",
    "    - Suppose given 2 classes (k = 2) and 3 features (n = 3), first, our y will have shape of (sample, 2), where $y_1$ refers to the probability of the sample belonging to class 1, and $y_2$ is the probability of the sample belonging to class 2.  Here $y$ sums to 1.  We have the loss function as\n",
    "       $$ J = -y_1 \\log h_1 - y_2 \\log h_2 $$\n",
    "       where $h_1$ and $h_2$ are\n",
    "       $$ h_1 = \\frac{\\exp(g_1)}{\\exp(g_1)+\\exp(g_2)} $$\n",
    "       $$ h_2 = \\frac{\\exp(g_2)}{\\exp(g_1)+\\exp(g_2)} $$\n",
    "       where $g_1$ and $g_2$ are\n",
    "       $$ g_1 = w_{11}x_1 + w_{21}x_2 + w_{31}x_3 $$\n",
    "       $$ g_2 = w_{12}x_1 + w_{22}x_2 + w_{32}x_3  $$\n",
    "       where in $w_{ij}$, $i$ stands for feature and $j$ stands for class \n",
    "    - For example, to find the gradient of $J$ in respect to $w_{21}$, we simply can use the chain rule (or backpropagation) to calculate like this:\n",
    "       $$ \\frac{\\partial J}{\\partial w_{21}} = \\frac{\\partial J}{\\partial h_{1}}\\frac{\\partial h_{1}}{\\partial g_{1}}\\frac{\\partial g_{1}}{\\partial w_{21}} + \\frac{\\partial J}{\\partial h_{2}}\\frac{\\partial h_{2}}{\\partial g_{1}}\\frac{\\partial g_{1}}{\\partial w_{21}}$$\n",
    "   - If we know each of them, it is easy, where\n",
    "       $$\\frac{\\partial J}{\\partial h_{1}} = -\\frac{y_1}{h_1}$$\n",
    "       $$\\frac{\\partial J}{\\partial h_{2}} = -\\frac{y_2}{h_2}$$\n",
    "       $$\\frac{\\partial h_{1}}{\\partial g_{1}} = \\frac{\\exp(g_{1})}{\\exp(g_{1}) + \\exp(g_{2})} - (\\frac{\\exp(g_1)}{\\exp(g_1)+\\exp(g_2)})^2 = h_1 (1 - h_1)$$\n",
    "       $$\\frac{\\partial h_{2}}{\\partial g_{1}} = \\frac{-exp(g_2)exp(g_1)}{(\\exp(g_1) + \\exp(g_2)^2} = -h_2h_1$$\n",
    "       $$\\frac{\\partial g_1}{\\partial w_{21}} = x_2$$\n",
    "    - For those who forgets how to do third and fourth, recall that the quotient rule\n",
    "        $$ (\\frac{f}{g})' = \\frac{f'g - fg'}{g^2}$$\n",
    "    - Putting everything together, we got\n",
    "$$\n",
    "\\begin{aligned}\n",
    "\\frac{\\partial J}{\\partial w_{21}} &= \\frac{\\partial J}{\\partial h_{1}}\\frac{\\partial h_{1}}{\\partial g_{1}}\\frac{\\partial g_{1}}{\\partial w_{21}} + \\frac{\\partial J}{\\partial h_{2}}\\frac{\\partial h_{2}}{\\partial g_{1}}\\frac{\\partial g_{1}}{\\partial w_{21}}\\\\\n",
    "&= -\\frac{y_1}{h_1} * h_1 (1 - h_1) * x_2 + -\\frac{y_2}{h_2} * -h_2h_1 * x_2 \\\\\n",
    "&= x_2 (-y_1 + y_1h_1 + y_2h_1)\\\\\n",
    "&= x_2 (-y_1 + h_1(y_1 + y_2))\\\\\n",
    "&= x_2 (h_1 - y_1)\\\\\n",
    "\\end{aligned}\n",
    "$$\n",
    "4. Update the theta with this update rule\n",
    "    $$\\theta_j := \\theta_j - \\alpha * \\frac{\\partial J}{\\partial \\theta_j}$$\n",
    "    where $\\alpha$ is a typical learning rate range between 0 and 1\n",
    "5. Loop 2-4 until max_iter is reached, or the difference between old loss and new loss are smaller than some predefined threshold tol\n",
    "\n",
    "**Note: Again, take it easy if you don't understand the derivative.  One good news is that the gradient turns out to be the same as past lesson!**"
   ]
  },
  {
   "cell_type": "markdown",
   "metadata": {},
   "source": [
    "### Putting everything together"
   ]
  },
  {
   "cell_type": "code",
   "execution_count": 4,
   "metadata": {},
   "outputs": [],
   "source": [
    "from sklearn import datasets\n",
    "from sklearn.preprocessing import StandardScaler\n",
    "from sklearn.model_selection import train_test_split\n",
    "import numpy as np\n",
    "import matplotlib.pyplot as plt\n",
    "\n",
    "#Step 1: Prepare data\n",
    "\n",
    "# import some data to play with\n",
    "iris = datasets.load_iris()\n",
    "X = iris.data[:, 2:]  # we only take the first two features.\n",
    "y = iris.target  #now our y is three classes thus require multinomial\n",
    "\n",
    "# data split\n",
    "X_train, X_test, y_train, y_test = train_test_split(X, y, test_size=0.3)\n",
    "\n",
    "# feature scaling helps improve reach convergence faster\n",
    "scaler = StandardScaler()\n",
    "X_train = scaler.fit_transform(X_train)\n",
    "X_test = scaler.fit_transform(X_test)\n",
    "\n",
    "# add intercept to our X\n",
    "intercept = np.ones((X_train.shape[0], 1))\n",
    "X_train   = np.concatenate((intercept, X_train), axis=1)  #add intercept\n",
    "intercept = np.ones((X_test.shape[0], 1))\n",
    "X_test    = np.concatenate((intercept, X_test), axis=1)  #add intercept\n",
    "\n",
    "# make sure our y is in the shape of (m, k)\n",
    "# we will convert our output vector in \n",
    "# matrix where no. of columns is equal to the no. of classes. \n",
    "# The values in the matrix will be 0 or 1. For instance the rows \n",
    "# where we have output 2 the column 2 will contain 1 and the rest are all 0.\n",
    "# in simple words, y will be of shape (m, k)\n",
    "k = len(set(y))  # no. of class  (can also use np.unique)\n",
    "m = X_train.shape[0]  # no.of samples\n",
    "n = X_train.shape[1]  # no. of features\n",
    "Y_train_encoded = np.zeros((m, k))\n",
    "for each_class in range(k):\n",
    "    cond = y_train==each_class\n",
    "    Y_train_encoded[cond, each_class] = 1"
   ]
  },
  {
   "cell_type": "code",
   "execution_count": 5,
   "metadata": {},
   "outputs": [
    {
     "data": {
      "image/png": "[encoded data removed]",
      "text/plain": [
       "<Figure size 432x432 with 1 Axes>"
      ]
     },
     "metadata": {
      "needs_background": "light"
     },
     "output_type": "display_data"
    }
   ],
   "source": [
    "# Step 1.1 (optional): Visualize our data\n",
    "\n",
    "# your code here\n",
    "plt.figure(figsize=(6,6))\n",
    "plt.scatter(X[:, 0], X[:, 1], label='class 0', c=y)\n",
    "plt.show()"
   ]
  },
  {
   "cell_type": "code",
   "execution_count": 6,
   "metadata": {},
   "outputs": [
    {
     "name": "stdout",
     "output_type": "stream",
     "text": [
      "Cost at iteration 0 1.019647659063904\n",
      "Cost at iteration 500 0.0988357133475733\n",
      "Cost at iteration 1000 0.09084675619734214\n",
      "Cost at iteration 1500 0.08823236554878638\n",
      "Cost at iteration 2000 0.08706655950680812\n",
      "Cost at iteration 2500 0.0864574350217082\n",
      "Cost at iteration 3000 0.08610413839122685\n",
      "Cost at iteration 3500 0.0858824503319582\n",
      "Cost at iteration 4000 0.08573414959185513\n",
      "Cost at iteration 4500 0.0856294324482497\n"
     ]
    }
   ],
   "source": [
    "# Step 2: Fit your data\n",
    "\n",
    "def logistic_regression_GD(X, Y, k, n, max_iter=1000):\n",
    "    '''\n",
    "    Inputs: \n",
    "        X shape: (m, n)\n",
    "        w shape: (n, k)\n",
    "    '''\n",
    "    W = np.random.rand(n, k)\n",
    "    l_rate = 0.01\n",
    "    for i in range(max_iter):\n",
    "        cost, grad =  gradient(X, Y, W)\n",
    "        if i % 500 == 0:\n",
    "            print(f\"Cost at iteration {i}\", cost)\n",
    "        W = W - l_rate * grad\n",
    "    return W, i\n",
    "\n",
    "# for those who tend to feel overwhelmed with lots of code\n",
    "# I recommend you to write each part of the code separately as function\n",
    "# it helps!\n",
    "def gradient(X, Y, W):\n",
    "    m = X.shape[0]\n",
    "    H = h_theta(X, W)\n",
    "    cost = - np.sum(Y * np.log(H)) / m\n",
    "    error = H - Y\n",
    "    grad = softmax_grad(X, error)\n",
    "    return cost, grad\n",
    "\n",
    "def softmax(theta_t_x):\n",
    "    return np.exp(theta_t_x) / np.sum(np.exp(theta_t_x), axis=1, keepdims=True)\n",
    "\n",
    "def softmax_grad(X, error):\n",
    "    return  X.T @ error\n",
    "        \n",
    "def h_theta(X, W):\n",
    "    '''\n",
    "    Input:\n",
    "        X shape: (m, n)\n",
    "        w shape: (n, k)\n",
    "    Returns:\n",
    "        yhat shape: (m, k)\n",
    "    '''\n",
    "    return softmax(X @ W)\n",
    "\n",
    "W, i = logistic_regression_GD(X_train, Y_train_encoded, k, X_train.shape[1], max_iter=5000)"
   ]
  },
  {
   "cell_type": "code",
   "execution_count": 7,
   "metadata": {},
   "outputs": [
    {
     "data": {
      "text/plain": [
       "0.9333333333333333"
      ]
     },
     "execution_count": 7,
     "metadata": {},
     "output_type": "execute_result"
    }
   ],
   "source": [
    "from sklearn.metrics import accuracy_score\n",
    "\n",
    "yhat = np.argmax(h_theta(X_test, W), axis=1)\n",
    "accuracy_score(y_test, yhat)"
   ]
  }
 ],
 "metadata": {
  "kernelspec": {
   "display_name": "Python 3.8.6 ('teaching_env')",
   "language": "python",
   "name": "python3"
  },
  "language_info": {
   "codemirror_mode": {
    "name": "ipython",
    "version": 3
   },
   "file_extension": ".py",
   "mimetype": "text/x-python",
   "name": "python",
   "nbconvert_exporter": "python",
   "pygments_lexer": "ipython3",
   "version": "3.8.6"
  },
  "vscode": {
   "interpreter": {
    "hash": "becc4c8e5ad229b2591d820334d85e3db0111492344629bf57f272470dce75a5"
   }
  }
 },
 "nbformat": 4,
 "nbformat_minor": 4
}
