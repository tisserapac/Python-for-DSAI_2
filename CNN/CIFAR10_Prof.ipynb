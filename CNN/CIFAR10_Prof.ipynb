{
 "cells": [
  {
   "cell_type": "markdown",
   "id": "5bbf15d3-f1e9-40c3-a7a0-736a576bb624",
   "metadata": {},
   "source": [
    "# Workshop on CIFAR10\n",
    "\n",
    "Today you will be working on CIFAR10 on your own.\n",
    "\n",
    "Good luck!"
   ]
  },
  {
   "cell_type": "code",
   "execution_count": 1,
   "id": "a526c8f2-fa25-413f-8340-e3eb956136d2",
   "metadata": {},
   "outputs": [],
   "source": [
    "#load everything\n",
    "import torch\n",
    "from torchvision import datasets, transforms\n",
    "import torch.nn as nn\n",
    "from torch.utils.data import DataLoader\n",
    "from torchvision.utils import make_grid\n",
    "\n",
    "import sys, time\n",
    "import numpy as np\n",
    "import pandas as pd\n",
    "from sklearn.metrics import confusion_matrix, ConfusionMatrixDisplay\n",
    "import matplotlib.pyplot as plt"
   ]
  },
  {
   "cell_type": "code",
   "execution_count": 2,
   "id": "5e469d9e-e8ba-4a8d-8c9b-9a803eaf0035",
   "metadata": {},
   "outputs": [
    {
     "name": "stdout",
     "output_type": "stream",
     "text": [
      "cuda:0\n"
     ]
    }
   ],
   "source": [
    "device = torch.device('cuda:0' if torch.cuda.is_available() else 'cpu')\n",
    "print(device)\n",
    "\n",
    "#change this five times to get 5 cross validation\n",
    "SEED = 999\n",
    "torch.manual_seed(SEED)\n",
    "torch.backends.cudnn.deterministic = True"
   ]
  },
  {
   "cell_type": "markdown",
   "id": "76cb1f2d-8e76-4139-a030-1a50619c6df2",
   "metadata": {},
   "source": [
    "## 1. ETL"
   ]
  },
  {
   "cell_type": "code",
   "execution_count": 4,
   "id": "782c3bdc-b5f0-4462-9869-b5aeaaf69f0e",
   "metadata": {},
   "outputs": [],
   "source": [
    "#use datasets.CIFAR to get train and test\n",
    "#then split train to train and val in the percentage of 80:20\n",
    "transform = transforms.ToTensor()"
   ]
  },
  {
   "cell_type": "code",
   "execution_count": 6,
   "id": "e890871c-f167-4a04-89f3-d03bfe28756d",
   "metadata": {},
   "outputs": [
    {
     "name": "stdout",
     "output_type": "stream",
     "text": [
      "Files already downloaded and verified\n",
      "Files already downloaded and verified\n"
     ]
    }
   ],
   "source": [
    "#import os\n",
    "#os.environ['http_proxy']  = 'http://192.41.170.23:3128'\n",
    "#os.environ['https_proxy'] = 'http://192.41.170.23:3128'\n",
    "\n",
    "train_data = datasets.CIFAR10(root=\"../data\", train=True, \n",
    "                              download=True, transform=transform)\n",
    "test_set   = datasets.CIFAR10(root=\"../data\", train=False, \n",
    "                              download=True, transform=transform)"
   ]
  },
  {
   "cell_type": "code",
   "execution_count": 7,
   "id": "9495101d-71bc-424a-b8b0-6e279d5171d8",
   "metadata": {},
   "outputs": [
    {
     "data": {
      "text/plain": [
       "(50000, 10000)"
      ]
     },
     "execution_count": 7,
     "metadata": {},
     "output_type": "execute_result"
    }
   ],
   "source": [
    "len(train_data), len(test_set)"
   ]
  },
  {
   "cell_type": "code",
   "execution_count": 8,
   "id": "670c58c4-7f0a-4ddf-9a6f-9188ce77fb7d",
   "metadata": {},
   "outputs": [],
   "source": [
    "train_set, val_set = torch.utils.data.random_split(train_data, [40000, 10000])"
   ]
  },
  {
   "cell_type": "markdown",
   "id": "ba060ac3-e62e-4714-b3d2-fc35e0b8885e",
   "metadata": {},
   "source": [
    "## 2. EDA"
   ]
  },
  {
   "cell_type": "code",
   "execution_count": 9,
   "id": "6396322f-7834-44a0-9ae3-52787589e59e",
   "metadata": {},
   "outputs": [
    {
     "data": {
      "text/plain": [
       "torch.Size([3, 32, 32])"
      ]
     },
     "execution_count": 9,
     "metadata": {},
     "output_type": "execute_result"
    }
   ],
   "source": [
    "#task1:  please print one sample image of the training set\n",
    "train_set[0][0].shape \n",
    "#shape:  C, W, H"
   ]
  },
  {
   "cell_type": "code",
   "execution_count": 10,
   "id": "d12c1488-43a5-49db-be48-82252f831cdb",
   "metadata": {},
   "outputs": [
    {
     "data": {
      "text/plain": [
       "2"
      ]
     },
     "execution_count": 10,
     "metadata": {},
     "output_type": "execute_result"
    }
   ],
   "source": [
    "train_set[0][1]\n",
    "#2 is bird!!!"
   ]
  },
  {
   "cell_type": "code",
   "execution_count": 9,
   "id": "e695dd4a-572a-4b3f-9357-48a36bdd35a2",
   "metadata": {},
   "outputs": [],
   "source": [
    "# train_set[0]   #basically image, label"
   ]
  },
  {
   "cell_type": "code",
   "execution_count": 11,
   "id": "b99a167c-b778-4e91-b2d0-513f23f7f54b",
   "metadata": {},
   "outputs": [
    {
     "data": {
      "text/plain": [
       "torch.Size([32, 32, 3])"
      ]
     },
     "execution_count": 11,
     "metadata": {},
     "output_type": "execute_result"
    }
   ],
   "source": [
    "# permute from C, W, H  ===>  W, H, C because imshow wants this shape\n",
    "image = torch.permute(train_set[0][0], (1, 2, 0))\n",
    "image.shape\n",
    "\n",
    "#you can use .view or .reshape"
   ]
  },
  {
   "cell_type": "code",
   "execution_count": 11,
   "id": "ab881fd6-bfb4-42f5-b0d7-a970e01e9430",
   "metadata": {},
   "outputs": [
    {
     "data": {
      "text/plain": [
       "<matplotlib.image.AxesImage at 0x7f75d813d8b0>"
      ]
     },
     "execution_count": 11,
     "metadata": {},
     "output_type": "execute_result"
    },
    {
     "data": {
      "image/png": "[encoded data removed]",
      "text/plain": [
       "<Figure size 640x480 with 1 Axes>"
      ]
     },
     "metadata": {},
     "output_type": "display_data"
    }
   ],
   "source": [
    "#showtime\n",
    "plt.imshow(image)"
   ]
  },
  {
   "cell_type": "code",
   "execution_count": 12,
   "id": "56825974-9477-45d0-95eb-4e58d35d9f31",
   "metadata": {},
   "outputs": [
    {
     "data": {
      "text/plain": [
       "{0, 1, 2, 3, 4, 5, 6, 7, 8, 9}"
      ]
     },
     "execution_count": 12,
     "metadata": {},
     "output_type": "execute_result"
    }
   ],
   "source": [
    "#task2:  check how many labels we have\n",
    "set(train_data.targets)  #is provided by torch dataset"
   ]
  },
  {
   "cell_type": "code",
   "execution_count": 13,
   "id": "1e0473ac-8882-439a-82a9-bbb83a5bffbf",
   "metadata": {},
   "outputs": [],
   "source": [
    "#task3: for each label, print one sample image\n",
    "indices = []\n",
    "labels  = []\n",
    "for index, label in enumerate(train_data.targets):\n",
    "    if len(indices) < 10:   #O(1)\n",
    "        if label not in labels:\n",
    "            labels.append(label)\n",
    "            indices.append(index)"
   ]
  },
  {
   "cell_type": "code",
   "execution_count": 14,
   "id": "a29e3d57",
   "metadata": {},
   "outputs": [
    {
     "data": {
      "text/plain": [
       "([6, 9, 4, 1, 2, 7, 8, 3, 5, 0], [0, 1, 3, 4, 6, 7, 8, 9, 27, 29])"
      ]
     },
     "execution_count": 14,
     "metadata": {},
     "output_type": "execute_result"
    }
   ],
   "source": [
    "labels, indices"
   ]
  },
  {
   "cell_type": "code",
   "execution_count": 15,
   "id": "45d94777",
   "metadata": {},
   "outputs": [],
   "source": [
    "sorted_indices = [label for _, label in sorted(zip(labels, indices))]"
   ]
  },
  {
   "cell_type": "code",
   "execution_count": 16,
   "id": "4059b38d",
   "metadata": {},
   "outputs": [
    {
     "name": "stdout",
     "output_type": "stream",
     "text": [
      "Labels:  tensor([0, 1, 2, 3, 4, 5, 6, 7, 8, 9])\n"
     ]
    },
    {
     "data": {
      "text/plain": [
       "<matplotlib.image.AxesImage at 0x7f387838bd00>"
      ]
     },
     "execution_count": 16,
     "metadata": {},
     "output_type": "execute_result"
    },
    {
     "data": {
      "image/png": "[encoded data removed]",
      "text/plain": [
       "<Figure size 720x576 with 1 Axes>"
      ]
     },
     "metadata": {
      "needs_background": "light"
     },
     "output_type": "display_data"
    }
   ],
   "source": [
    "images = []\n",
    "for i, image_index in enumerate(sorted_indices):  #O(1)\n",
    "    image = train_data[image_index][0]\n",
    "    images.append(image)\n",
    "\n",
    "image_tensor = torch.stack(images, 0)\n",
    "image_tensor.shape #tensor shape:  B, C, W, H  #(10, 3, 32, 32)\n",
    "\n",
    "print(\"Labels: \", torch.arange(10))\n",
    "\n",
    "grid_image = make_grid(image_tensor, nrow=5)\n",
    "grid_image = torch.permute(grid_image, (1, 2, 0))\n",
    "plt.figure(figsize=(10, 8))\n",
    "plt.imshow(grid_image)"
   ]
  },
  {
   "cell_type": "markdown",
   "id": "3cfe7d82",
   "metadata": {},
   "source": [
    "## 3. Create dataloaders for train, val, test"
   ]
  },
  {
   "cell_type": "code",
   "execution_count": 19,
   "id": "4f093ed2",
   "metadata": {},
   "outputs": [],
   "source": [
    "batch_size = 100\n",
    "train_loader = DataLoader(train_set,batch_size=batch_size,   shuffle=True, num_workers=2, pin_memory=True)\n",
    "val_loader   = DataLoader(val_set,  batch_size=batch_size,   shuffle=True, num_workers=2, pin_memory=True)\n",
    "test_loader  = DataLoader(test_set, batch_size=batch_size,   shuffle=False,num_workers=2, pin_memory=True)"
   ]
  },
  {
   "cell_type": "code",
   "execution_count": 18,
   "id": "969a07c4",
   "metadata": {},
   "outputs": [
    {
     "name": "stdout",
     "output_type": "stream",
     "text": [
      "torch.Size([100, 3, 32, 32])\n",
      "torch.Size([100])\n"
     ]
    }
   ],
   "source": [
    "### 3.1 Test the dataloader\n",
    "\n",
    "#shape of image\n",
    "#shape of label\n",
    "\n",
    "# for image, label in train_loader:\n",
    "#     print(image.shape)\n",
    "#     print(label.shape)\n",
    "#     break\n",
    "\n"
   ]
  },
  {
   "cell_type": "markdown",
   "id": "4d8a2127",
   "metadata": {},
   "source": [
    "## 4. Test your knowledge on conv2d"
   ]
  },
  {
   "cell_type": "code",
   "execution_count": 21,
   "id": "b07719fd",
   "metadata": {},
   "outputs": [
    {
     "data": {
      "text/plain": [
       "torch.Size([100, 3, 32, 32])"
      ]
     },
     "execution_count": 21,
     "metadata": {},
     "output_type": "execute_result"
    }
   ],
   "source": [
    "image = torch.randn((100, 3, 32, 32))\n",
    "image.shape"
   ]
  },
  {
   "cell_type": "code",
   "execution_count": 22,
   "id": "0f326857",
   "metadata": {},
   "outputs": [
    {
     "name": "stdout",
     "output_type": "stream",
     "text": [
      "layer1 - out.shape:  torch.Size([100, 256, 30, 30])\n",
      "layer2 - out.shape:  torch.Size([100, 128, 28, 28])\n",
      "layer3 - out.shape:  torch.Size([100, 20])\n",
      "layer4 - out.shape:  torch.Size([100, 10])\n"
     ]
    }
   ],
   "source": [
    "#create two layers of conv2d\n",
    "#from 3 -> 256 -> 128\n",
    "#image shape:  (B, 3, 32, 32)\n",
    "#nn.Conv2d(in_c, out_c, k, s, p)\n",
    "#out_size = image_size - k + 2p/s +1\n",
    "layer1 = nn.Conv2d(3, 256, 3, 1, 0)\n",
    "out    = layer1(image)\n",
    "print(\"layer1 - out.shape: \", out.shape)\n",
    "#out_size = 32 - 3 / 1 + 1\n",
    "#after layer1 shape:  (B, 256, 30, 30)\n",
    "layer2 = nn.Conv2d(256, 128, 3, 1, 0)\n",
    "out    = layer2(out)\n",
    "print(\"layer2 - out.shape: \", out.shape)\n",
    "#out_size = 30 - 3 / 1 + 1\n",
    "#after layer2 shape: (B, 128, 28, 28)\n",
    "\n",
    "#don't forget to reshape (B, 128, 28, 28) ==> (B, 128 * 28 * 28)\n",
    "out = out.reshape(-1, 128*28*28)\n",
    "\n",
    "#follow by two linear layers of 128 -> 20 -> 10\n",
    "layer3 = nn.Linear(128*28*28, 20)\n",
    "out = layer3(out)\n",
    "print(\"layer3 - out.shape: \", out.shape)\n",
    "#after layer3 shape: (B, 20)\n",
    "layer4 = nn.Linear(20, 10)\n",
    "out = layer4(out)\n",
    "print(\"layer4 - out.shape: \", out.shape)\n",
    "#after layer4 shape: (B, 10)"
   ]
  },
  {
   "cell_type": "markdown",
   "id": "ad75ae8d",
   "metadata": {},
   "source": [
    "## 5. Design the neural network"
   ]
  },
  {
   "cell_type": "code",
   "execution_count": 23,
   "id": "e2ab1709",
   "metadata": {},
   "outputs": [],
   "source": [
    "class CifarCNN(nn.Module):\n",
    "    \n",
    "    def __init__(self):\n",
    "        super().__init__()\n",
    "        #conv2d (3, 256) -> relu -> batchnorm\n",
    "        self.conv1 = nn.Conv2d(3, 256, 3, 1, 0)\n",
    "        self.relu  = nn.ReLU()\n",
    "        self.maxpool = nn.MaxPool2d(2, 2)\n",
    "        \n",
    "        #conv2d (256, 128) -> relu -> batchnorm\n",
    "        self.conv2 = nn.Conv2d(256, 128, 3, 1, 0)\n",
    "        #out_size = 15 - 3 /1 + 1 = 13\n",
    "        \n",
    "        #linear (128, 64) -> relu -> linear (64, 20) -> relu -> linear (20, 10)\n",
    "        self.linear1 = nn.Linear(128*6*6, 64)\n",
    "        self.linear2 = nn.Linear(64, 20)\n",
    "        self.linear3 = nn.Linear(20, 10)\n",
    "        \n",
    "    def forward(self, image):\n",
    "        out = self.maxpool(self.relu(self.conv1(image)))\n",
    "        #out_size = 30 / 2 = 15\n",
    "        out = self.maxpool(self.relu(self.conv2(out)))\n",
    "        #out_size = 13 / 2 = 6\n",
    "        \n",
    "        out = out.reshape(-1, 128*6*6)\n",
    "        \n",
    "        out = self.relu(self.linear1(out))\n",
    "        out = self.relu(self.linear2(out))\n",
    "        \n",
    "        return self.linear3(out)"
   ]
  },
  {
   "cell_type": "markdown",
   "id": "9060d1de",
   "metadata": {},
   "source": [
    "## 6. Test the model"
   ]
  },
  {
   "cell_type": "code",
   "execution_count": 24,
   "id": "85abe958",
   "metadata": {},
   "outputs": [
    {
     "data": {
      "text/plain": [
       "torch.Size([100, 10])"
      ]
     },
     "execution_count": 24,
     "metadata": {},
     "output_type": "execute_result"
    }
   ],
   "source": [
    "#create the model, put them into the device\n",
    "model = CifarCNN().to(device)\n",
    "\n",
    "#let's use image (B, C, W, H)\n",
    "image = image.to(device)\n",
    "\n",
    "#try input this image to the model\n",
    "out = model(image)\n",
    "\n",
    "#check the output size\n",
    "out.shape #what is 100?  what is 10?"
   ]
  },
  {
   "cell_type": "code",
   "execution_count": 25,
   "id": "d67e2e62-e18d-4691-83c7-881eb90e7b59",
   "metadata": {},
   "outputs": [
    {
     "data": {
      "text/plain": [
       "device(type='cuda', index=0)"
      ]
     },
     "execution_count": 25,
     "metadata": {},
     "output_type": "execute_result"
    }
   ],
   "source": [
    "device"
   ]
  },
  {
   "cell_type": "markdown",
   "id": "31a24a68",
   "metadata": {},
   "source": [
    "## 7. Count the parameters"
   ]
  },
  {
   "cell_type": "code",
   "execution_count": 26,
   "id": "45da73b6",
   "metadata": {},
   "outputs": [],
   "source": [
    "def count_parameters(model):\n",
    "    params = [p.numel() for p in model.parameters() if p.requires_grad]\n",
    "    for item in params:\n",
    "        print(f'{item:>6}')\n",
    "    print(f'______\\n{sum(params):>6}')"
   ]
  },
  {
   "cell_type": "code",
   "execution_count": 27,
   "id": "d2996775",
   "metadata": {},
   "outputs": [
    {
     "name": "stdout",
     "output_type": "stream",
     "text": [
      "  6912\n",
      "   256\n",
      "294912\n",
      "   128\n",
      "294912\n",
      "    64\n",
      "  1280\n",
      "    20\n",
      "   200\n",
      "    10\n",
      "______\n",
      "598694\n"
     ]
    }
   ],
   "source": [
    "count_parameters(model)\n",
    "#conv2d weight = 3 * 256 * 3 * 3 = 6912\n",
    "#conv2d bias = 256\n",
    "#256 = gamma of batchnorm\n",
    "#256 = beta of batchnorm"
   ]
  },
  {
   "cell_type": "markdown",
   "id": "d38d4372",
   "metadata": {},
   "source": [
    "## 8. Training!!!"
   ]
  },
  {
   "cell_type": "code",
   "execution_count": 28,
   "id": "41814642",
   "metadata": {},
   "outputs": [
    {
     "name": "stdout",
     "output_type": "stream",
     "text": [
      "Epoch: 0 - Batch: 100 - Loss: 1.99 - Acc: 20.97\n",
      "Epoch: 0 - Batch: 200 - Loss: 1.54 - Acc: 28.62\n",
      "Epoch: 0 - Batch: 300 - Loss: 1.41 - Acc: 32.87\n",
      "Epoch: 0 - Batch: 400 - Loss: 1.44 - Acc: 35.85\n",
      "++++++Validation++++++  Loss: 1.39 - Acc: 47.07\n",
      "Epoch: 1 - Batch: 100 - Loss: 1.39 - Acc: 48.72\n",
      "Epoch: 1 - Batch: 200 - Loss: 1.63 - Acc: 48.96\n",
      "Epoch: 1 - Batch: 300 - Loss: 1.47 - Acc: 49.80\n",
      "Epoch: 1 - Batch: 400 - Loss: 1.27 - Acc: 50.47\n",
      "++++++Validation++++++  Loss: 1.28 - Acc: 52.00\n",
      "Epoch: 2 - Batch: 100 - Loss: 1.32 - Acc: 53.78\n",
      "Epoch: 2 - Batch: 200 - Loss: 1.21 - Acc: 54.38\n",
      "Epoch: 2 - Batch: 300 - Loss: 1.24 - Acc: 54.75\n",
      "Epoch: 2 - Batch: 400 - Loss: 1.23 - Acc: 55.28\n",
      "++++++Validation++++++  Loss: 1.16 - Acc: 55.95\n",
      "Epoch: 3 - Batch: 100 - Loss: 1.06 - Acc: 59.16\n",
      "Epoch: 3 - Batch: 200 - Loss: 1.20 - Acc: 59.48\n",
      "Epoch: 3 - Batch: 300 - Loss: 1.03 - Acc: 59.76\n",
      "Epoch: 3 - Batch: 400 - Loss: 1.10 - Acc: 59.91\n",
      "++++++Validation++++++  Loss: 1.02 - Acc: 59.74\n",
      "Epoch: 4 - Batch: 100 - Loss: 0.96 - Acc: 62.57\n",
      "Epoch: 4 - Batch: 200 - Loss: 1.01 - Acc: 62.40\n",
      "Epoch: 4 - Batch: 300 - Loss: 1.01 - Acc: 62.99\n",
      "Epoch: 4 - Batch: 400 - Loss: 1.05 - Acc: 63.09\n",
      "++++++Validation++++++  Loss: 1.01 - Acc: 61.65\n"
     ]
    }
   ],
   "source": [
    "criterion = nn.CrossEntropyLoss()\n",
    "optimizer = torch.optim.Adam(model.parameters(), lr = 0.001)\n",
    "#how do we know 0.001 is good?\n",
    "\n",
    "num_epoch = 5\n",
    "val_old_loss = float(\"Inf\")\n",
    "filepath = \"../models/cifarcnn.pt\"\n",
    "for e in range(num_epoch):\n",
    "    total_train_corr = 0\n",
    "    for batch, (image, label) in enumerate(train_loader):\n",
    "        image = image.to(device)\n",
    "        label = label.to(device)\n",
    "        \n",
    "        yhat  = model(image)           #1. predict  yhat shape(100, 10)\n",
    "        loss  = criterion(yhat, label) #2. loss\n",
    "        \n",
    "        #add accuracy\n",
    "        predicted  = torch.max(yhat, 1)[1]\n",
    "        batch_train_corr = (predicted == label).sum()\n",
    "        total_train_corr += batch_train_corr\n",
    "        acc = (total_train_corr * 100) / ((batch_size) * (batch + 1))\n",
    "        \n",
    "        optimizer.zero_grad()#3. clear gradients\n",
    "        loss.backward() #4. backpropagate\n",
    "        optimizer.step() #5. update\n",
    "        \n",
    "        if (batch + 1) % 100 == 0:\n",
    "            # sys.stdout.write(f\"\\rBatch: {batch+1} - Loss: {loss}\")\n",
    "            print(f\"Epoch: {e} - Batch: {batch+1:3.0f} - Loss: {loss:.2f} - Acc: {acc:.2f}\")\n",
    "    \n",
    "    #after each epoch, calculate the validation acc and loss\n",
    "    with torch.no_grad():\n",
    "        total_val_corr = 0\n",
    "        for (val_image, val_label) in val_loader:\n",
    "            val_image = val_image.to(device)\n",
    "            val_label = val_label.to(device)\n",
    "            val_yhat = model(val_image)\n",
    "            val_loss = criterion(val_yhat, val_label)\n",
    "            #save the model with the lowest loss\n",
    "            if val_loss < val_old_loss:\n",
    "                torch.save(model.state_dict(), filepath) #state_dict is simply the weights\n",
    "                val_old_loss = val_loss\n",
    "            val_predicted = torch.max(val_yhat, 1)[1]\n",
    "            total_val_corr += (val_predicted == val_label).sum()\n",
    "        val_acc = (total_val_corr * 100) / len(val_set)\n",
    "        print(f\"++++++Validation++++++  Loss: {val_loss:.2f} - Acc: {val_acc:.2f}\")"
   ]
  },
  {
   "cell_type": "markdown",
   "id": "4679b099-df77-41f5-a0cd-4530a6bfc793",
   "metadata": {},
   "source": [
    "## 9. Plot the loss and acc"
   ]
  },
  {
   "cell_type": "markdown",
   "id": "9fd7ef8e-a1b3-44cc-97da-42386171159f",
   "metadata": {},
   "source": [
    "## 10. Check which image we got wrong.....with confusion matrix\n",
    "\n",
    "- even print out the image we predict wrong...so we can understand how to make better models"
   ]
  },
  {
   "cell_type": "markdown",
   "id": "4f9fc401-5932-47e7-9498-defc9731f10b",
   "metadata": {},
   "source": [
    "## 11. Testing / Inference"
   ]
  },
  {
   "cell_type": "code",
   "execution_count": 29,
   "id": "8931071c-9c96-4aac-975d-0c4c02301835",
   "metadata": {},
   "outputs": [
    {
     "name": "stdout",
     "output_type": "stream",
     "text": [
      "tensor(61.1900, device='cuda:0')\n"
     ]
    }
   ],
   "source": [
    "#do by yourself\n",
    "#load the best model based on val loss\n",
    "model = CifarCNN().to(device)\n",
    "model.load_state_dict(torch.load(filepath))\n",
    "\n",
    "#do the testing phase! :-)\n",
    "with torch.no_grad():\n",
    "    test_corr = 0 \n",
    "    for test_image, test_label in test_loader:\n",
    "        test_image = test_image.to(device)\n",
    "        test_label = test_label.to(device)\n",
    "        test_yhat = model(test_image)\n",
    "        test_loss = criterion(test_yhat, test_label)\n",
    "        test_predicted = torch.max(test_yhat, 1)[1]\n",
    "        test_corr += (test_predicted == test_label).sum()\n",
    "    test_acc = (test_corr * 100) / len(test_set)\n",
    "    \n",
    "print(test_acc)"
   ]
  },
  {
   "cell_type": "code",
   "execution_count": null,
   "id": "f49f3d96",
   "metadata": {},
   "outputs": [],
   "source": []
  }
 ],
 "metadata": {
  "kernelspec": {
   "display_name": "Python 3 (ipykernel)",
   "language": "python",
   "name": "python3"
  },
  "language_info": {
   "codemirror_mode": {
    "name": "ipython",
    "version": 3
   },
   "file_extension": ".py",
   "mimetype": "text/x-python",
   "name": "python",
   "nbconvert_exporter": "python",
   "pygments_lexer": "ipython3",
   "version": "3.9.12"
  },
  "vscode": {
   "interpreter": {
    "hash": "becc4c8e5ad229b2591d820334d85e3db0111492344629bf57f272470dce75a5"
   }
  }
 },
 "nbformat": 4,
 "nbformat_minor": 5
}
