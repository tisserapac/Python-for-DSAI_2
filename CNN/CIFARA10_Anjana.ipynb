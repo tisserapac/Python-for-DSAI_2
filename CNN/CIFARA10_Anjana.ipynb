{
 "cells": [
  {
   "cell_type": "code",
   "execution_count": 121,
   "metadata": {},
   "outputs": [],
   "source": [
    "import torch\n",
    "import torch.nn as nn\n",
    "import torch.nn.functional as F\n",
    "from torch.utils.data import DataLoader\n",
    "from torchvision import datasets, transforms\n",
    "from torchvision.utils import make_grid\n",
    "\n",
    "import numpy as np\n",
    "import pandas as pd\n",
    "import seaborn as sn  # for heatmaps\n",
    "from sklearn.metrics import confusion_matrix\n",
    "import matplotlib.pyplot as plt"
   ]
  },
  {
   "cell_type": "code",
   "execution_count": 122,
   "metadata": {},
   "outputs": [
    {
     "name": "stdout",
     "output_type": "stream",
     "text": [
      "cuda:0\n"
     ]
    }
   ],
   "source": [
    "device = torch.device('cuda:0' if torch.cuda.is_available() else 'cpu')\n",
    "print(device)\n",
    "\n",
    "#change this five times to get 5 cross validation\n",
    "SEED = 999\n",
    "torch.manual_seed(SEED)\n",
    "torch.backends.cudnn.deterministic = True"
   ]
  },
  {
   "cell_type": "markdown",
   "metadata": {},
   "source": [
    "## 1. ETL"
   ]
  },
  {
   "cell_type": "code",
   "execution_count": 123,
   "metadata": {},
   "outputs": [
    {
     "name": "stdout",
     "output_type": "stream",
     "text": [
      "Files already downloaded and verified\n",
      "Files already downloaded and verified\n"
     ]
    }
   ],
   "source": [
    "# Use datasets.CIFAR10 to get train and test\n",
    "# Split train to train and val in the % 80:20\n",
    "\n",
    "transform  = transforms.ToTensor()\n",
    "\n",
    "train_data = datasets.CIFAR10(root='../data', train=True, download=True, transform=transform)\n",
    "test_data  = datasets.CIFAR10(root='../data', train=False, download=True, transform=transform)"
   ]
  },
  {
   "cell_type": "code",
   "execution_count": 124,
   "metadata": {},
   "outputs": [
    {
     "data": {
      "text/plain": [
       "Dataset CIFAR10\n",
       "    Number of datapoints: 50000\n",
       "    Root location: ../data\n",
       "    Split: Train\n",
       "    StandardTransform\n",
       "Transform: ToTensor()"
      ]
     },
     "execution_count": 124,
     "metadata": {},
     "output_type": "execute_result"
    }
   ],
   "source": [
    "train_data"
   ]
  },
  {
   "cell_type": "code",
   "execution_count": 125,
   "metadata": {},
   "outputs": [
    {
     "data": {
      "text/plain": [
       "Dataset CIFAR10\n",
       "    Number of datapoints: 10000\n",
       "    Root location: ../data\n",
       "    Split: Test\n",
       "    StandardTransform\n",
       "Transform: ToTensor()"
      ]
     },
     "execution_count": 125,
     "metadata": {},
     "output_type": "execute_result"
    }
   ],
   "source": [
    "test_data"
   ]
  },
  {
   "cell_type": "code",
   "execution_count": 126,
   "metadata": {},
   "outputs": [
    {
     "data": {
      "text/plain": [
       "50000"
      ]
     },
     "execution_count": 126,
     "metadata": {},
     "output_type": "execute_result"
    }
   ],
   "source": [
    "len(train_data)"
   ]
  },
  {
   "cell_type": "code",
   "execution_count": 127,
   "metadata": {},
   "outputs": [
    {
     "data": {
      "text/plain": [
       "10000"
      ]
     },
     "execution_count": 127,
     "metadata": {},
     "output_type": "execute_result"
    }
   ],
   "source": [
    "len(test_data)"
   ]
  },
  {
   "cell_type": "code",
   "execution_count": 128,
   "metadata": {},
   "outputs": [
    {
     "data": {
      "text/plain": [
       "40000.0"
      ]
     },
     "execution_count": 128,
     "metadata": {},
     "output_type": "execute_result"
    }
   ],
   "source": [
    "50000*0.8"
   ]
  },
  {
   "cell_type": "code",
   "execution_count": 129,
   "metadata": {},
   "outputs": [],
   "source": [
    "train_set, val_set = torch.utils.data.random_split(train_data, [40000, 10000])"
   ]
  },
  {
   "cell_type": "markdown",
   "metadata": {},
   "source": [
    "## 2. EDA"
   ]
  },
  {
   "cell_type": "code",
   "execution_count": 130,
   "metadata": {},
   "outputs": [
    {
     "data": {
      "text/plain": [
       "torch.Size([3, 32, 32])"
      ]
     },
     "execution_count": 130,
     "metadata": {},
     "output_type": "execute_result"
    }
   ],
   "source": [
    "image = train_set[0][0]\n",
    "image.shape"
   ]
  },
  {
   "cell_type": "code",
   "execution_count": 131,
   "metadata": {},
   "outputs": [
    {
     "data": {
      "text/plain": [
       "torch.Size([32, 32, 3])"
      ]
     },
     "execution_count": 131,
     "metadata": {},
     "output_type": "execute_result"
    }
   ],
   "source": [
    "image = torch.permute(train_set[0][0], (1,2,0))\n",
    "image.shape"
   ]
  },
  {
   "cell_type": "code",
   "execution_count": 132,
   "metadata": {},
   "outputs": [
    {
     "name": "stdout",
     "output_type": "stream",
     "text": [
      "torch.Size([3, 32, 32])\n"
     ]
    },
    {
     "data": {
      "text/plain": [
       "<matplotlib.image.AxesImage at 0x7fa6bc9fb940>"
      ]
     },
     "execution_count": 132,
     "metadata": {},
     "output_type": "execute_result"
    },
    {
     "data": {
      "image/png": "[encoded data removed]",
      "text/plain": [
       "<Figure size 640x480 with 1 Axes>"
      ]
     },
     "metadata": {},
     "output_type": "display_data"
    }
   ],
   "source": [
    "# Print one sample image from training set\n",
    "print(train_set[0][0].shape)\n",
    "#Shape C, W, H\n",
    "\n",
    "plt.imshow(image)"
   ]
  },
  {
   "cell_type": "code",
   "execution_count": 133,
   "metadata": {},
   "outputs": [],
   "source": [
    "#train_data.targets"
   ]
  },
  {
   "cell_type": "code",
   "execution_count": 134,
   "metadata": {},
   "outputs": [],
   "source": [
    "#Check num. labels\n",
    "labels = set(train_data.targets)\n",
    "\n",
    "\n"
   ]
  },
  {
   "cell_type": "code",
   "execution_count": 135,
   "metadata": {},
   "outputs": [],
   "source": [
    "#for each label, print one sample image\n",
    "indeces = []\n",
    "labels  = []\n",
    "for index, label in enumerate(train_data.targets):\n",
    "    if len(indeces) < 10:\n",
    "        if label not in labels:\n",
    "           labels.append(label)\n",
    "           indeces.append(index)\n",
    "    "
   ]
  },
  {
   "cell_type": "code",
   "execution_count": 136,
   "metadata": {},
   "outputs": [
    {
     "data": {
      "text/plain": [
       "([6, 9, 4, 1, 2, 7, 8, 3, 5, 0], [0, 1, 3, 4, 6, 7, 8, 9, 27, 29])"
      ]
     },
     "execution_count": 136,
     "metadata": {},
     "output_type": "execute_result"
    }
   ],
   "source": [
    "labels, indeces"
   ]
  },
  {
   "cell_type": "code",
   "execution_count": 137,
   "metadata": {},
   "outputs": [
    {
     "name": "stdout",
     "output_type": "stream",
     "text": [
      "6 0\n",
      "9 1\n",
      "4 3\n",
      "1 4\n",
      "2 6\n",
      "7 7\n",
      "8 8\n",
      "3 9\n",
      "5 27\n",
      "0 29\n"
     ]
    }
   ],
   "source": [
    "for index, label in zip(labels, indeces ):\n",
    "    print(index, label)"
   ]
  },
  {
   "cell_type": "code",
   "execution_count": 138,
   "metadata": {},
   "outputs": [],
   "source": [
    "sorted_indices = [label for _, label in sorted(zip(labels, indeces))]"
   ]
  },
  {
   "cell_type": "code",
   "execution_count": 139,
   "metadata": {},
   "outputs": [
    {
     "name": "stdout",
     "output_type": "stream",
     "text": [
      "Labels:  tensor([0, 1, 2, 3, 4, 5, 6, 7, 8, 9])\n"
     ]
    },
    {
     "data": {
      "text/plain": [
       "<matplotlib.image.AxesImage at 0x7fa720765a80>"
      ]
     },
     "execution_count": 139,
     "metadata": {},
     "output_type": "execute_result"
    },
    {
     "data": {
      "image/png": "[encoded data removed]",
      "text/plain": [
       "<Figure size 1000x800 with 1 Axes>"
      ]
     },
     "metadata": {},
     "output_type": "display_data"
    }
   ],
   "source": [
    "images = []\n",
    "for i, image_index in enumerate(sorted_indices):  #O(1)\n",
    "    image = train_data[image_index][0]\n",
    "    images.append(image)\n",
    "\n",
    "image_tensor = torch.stack(images, 0)\n",
    "image_tensor.shape #tensor shape:  B, C, W, H  #(10, 3, 32, 32)\n",
    "\n",
    "print(\"Labels: \", torch.arange(10))\n",
    "\n",
    "grid_image = make_grid(image_tensor, nrow=5)\n",
    "grid_image = torch.permute(grid_image, (1, 2, 0))\n",
    "plt.figure(figsize=(10, 8))\n",
    "plt.imshow(grid_image)"
   ]
  },
  {
   "cell_type": "markdown",
   "metadata": {},
   "source": [
    "## 3. Create DataLoaders fro train, val and test"
   ]
  },
  {
   "cell_type": "code",
   "execution_count": 140,
   "metadata": {},
   "outputs": [],
   "source": [
    "batch_size = 100\n",
    "train_loader = DataLoader(train_set, batch_size=batch_size, shuffle=True,num_workers=2, pin_memory=True )\n",
    "val_loader = DataLoader(val_set, batch_size=batch_size, shuffle=True, num_workers=2, pin_memory=True)\n",
    "test_loader  = DataLoader(test_data, batch_size=batch_size, shuffle=False, num_workers=2, pin_memory=True)"
   ]
  },
  {
   "cell_type": "markdown",
   "metadata": {},
   "source": [
    "### 3.1 Test the dataloaders"
   ]
  },
  {
   "cell_type": "code",
   "execution_count": 150,
   "metadata": {},
   "outputs": [
    {
     "name": "stdout",
     "output_type": "stream",
     "text": [
      "torch.Size([100, 3, 32, 32])\n",
      "torch.Size([100])\n"
     ]
    }
   ],
   "source": [
    "#Shape of image\n",
    "\n",
    "#Sahpe of labes\n",
    "\n",
    "for image, label in train_loader:\n",
    "    print(images.shape)\n",
    "    print(label.shape)\n",
    "    break"
   ]
  },
  {
   "cell_type": "markdown",
   "metadata": {},
   "source": [
    "## 4. Test your knowledge on conv2d"
   ]
  },
  {
   "cell_type": "code",
   "execution_count": 151,
   "metadata": {},
   "outputs": [
    {
     "data": {
      "text/plain": [
       "torch.Size([100, 3, 32, 32])"
      ]
     },
     "execution_count": 151,
     "metadata": {},
     "output_type": "execute_result"
    }
   ],
   "source": [
    "image.shape"
   ]
  },
  {
   "cell_type": "code",
   "execution_count": 152,
   "metadata": {},
   "outputs": [
    {
     "name": "stdout",
     "output_type": "stream",
     "text": [
      "torch.Size([100, 256, 30, 30])\n",
      "torch.Size([100, 128, 28, 28])\n",
      "torch.Size([100, 20])\n",
      "torch.Size([100, 10])\n"
     ]
    }
   ],
   "source": [
    "#create two layers of conv2d\n",
    "#from 3 -> 256 -> 128\n",
    "#image shape:  (B, 3, 32, 32)\n",
    "#nn.Conv2d(in_c, out_c, k, s, p)\n",
    "#out_size = image_size - k + 2p/s +1\n",
    "layer1 = nn.Conv2d(3, 256, 3, 1, 0)\n",
    "out    = layer1(image)\n",
    "print(out.shape)\n",
    "#out_size = 32 - 3 / 1 + 1\n",
    "#after layer1 shape:  (B, 256, 30, 30)\n",
    "layer2 = nn.Conv2d(256, 128, 3, 1, 0)\n",
    "out    = layer2(out)\n",
    "print(out.shape)\n",
    "#out_size = 30 - 3 / 1 + 1\n",
    "#after layer2 shape: (B, 128, 28, 28)\n",
    "\n",
    "#don't forget to reshape (B, 128, 28, 28) ==> (B, 128 * 28 * 28)\n",
    "out = out.reshape(-1, 128*28*28)\n",
    "\n",
    "#follow by two linear layers of 128 -> 20 -> 10\n",
    "layer3 = nn.Linear(128*28*28, 20)\n",
    "out = layer3(out)\n",
    "print(out.shape)\n",
    "#after layer3 shape: (B, 20)\n",
    "layer4 = nn.Linear(20, 10)\n",
    "out = layer4(out)\n",
    "print(out.shape)\n",
    "#after layer4 shape: (B, 10)"
   ]
  },
  {
   "cell_type": "code",
   "execution_count": 153,
   "metadata": {},
   "outputs": [
    {
     "data": {
      "text/plain": [
       "28.0"
      ]
     },
     "execution_count": 153,
     "metadata": {},
     "output_type": "execute_result"
    }
   ],
   "source": [
    "# O = (W - F  + 2P)/S + 1\n",
    "((32 - 3 + 2*0 )/ 1) +1\n",
    "((30 - 3 + 2*0 )/ 1) +1"
   ]
  },
  {
   "cell_type": "markdown",
   "metadata": {},
   "source": [
    "## 5. Design a Neural Network"
   ]
  },
  {
   "cell_type": "code",
   "execution_count": 154,
   "metadata": {},
   "outputs": [],
   "source": [
    "#device = torch.device('cpu')"
   ]
  },
  {
   "cell_type": "code",
   "execution_count": 155,
   "metadata": {},
   "outputs": [],
   "source": [
    "class CifarCNN(nn.Module):\n",
    "    \n",
    "    def __init__(self):\n",
    "        super().__init__()\n",
    "        #conv2d (3, 256) -> relu -> batchnorm\n",
    "        self.conv1 = nn.Conv2d(3, 256, 3, 1, 0)\n",
    "        self.relu  = nn.ReLU()\n",
    "        self.norm1 = nn.BatchNorm2d(256)\n",
    "        \n",
    "        #conv2d (256, 128) -> relu -> batchnorm\n",
    "        self.conv2 = nn.Conv2d(256, 128, 3, 1, 0)\n",
    "        self.norm2 = nn.BatchNorm2d(128)\n",
    "        \n",
    "        #linear (128, 64) -> relu -> linear (64, 20) -> relu -> linear (20, 10)\n",
    "        self.linear1 = nn.Linear(128*28*28, 64)\n",
    "        self.linear2 = nn.Linear(64, 20)\n",
    "        self.linear3 = nn.Linear(20, 10)\n",
    "        \n",
    "    def forward(self, image):\n",
    "        out = self.norm1(self.relu(self.conv1(image)))\n",
    "        out = self.norm2(self.relu(self.conv2(out)))\n",
    "        out = out.reshape(-1, 128*28*28)\n",
    "        out = self.relu(self.linear1(out))\n",
    "        out = self.relu(self.linear2(out))\n",
    "        \n",
    "        return self.linear3(out)"
   ]
  },
  {
   "cell_type": "markdown",
   "metadata": {},
   "source": [
    "## 6. Test the model"
   ]
  },
  {
   "cell_type": "code",
   "execution_count": 156,
   "metadata": {},
   "outputs": [
    {
     "data": {
      "text/plain": [
       "torch.Size([100, 10])"
      ]
     },
     "execution_count": 156,
     "metadata": {},
     "output_type": "execute_result"
    }
   ],
   "source": [
    "# Create the model, put them into the device\n",
    "model = CifarCNN().to(device)\n",
    "#model = CifarCNN()\n",
    "\n",
    "#Let's use image (B, C, W, H)\n",
    "# random_image = torch.rand((1, 3, 32, 32)).to(device)\n",
    "# out = model(random_image)\n",
    "# print(out.shape)\n",
    "image.shape\n",
    "image = image.to(device)\n",
    "\n",
    "# Try input this image\n",
    "out = model(image)\n",
    "\n",
    "# Check the output size\n",
    "out.shape"
   ]
  },
  {
   "cell_type": "code",
   "execution_count": 157,
   "metadata": {},
   "outputs": [],
   "source": [
    "def count_parameters(model):\n",
    "    params = [p.numel() for p in model.parameters() if p.requires_grad]\n",
    "    for item in params:\n",
    "        print(f'{item:>6}')\n",
    "    print(f'______\\n{sum(params):>6}')"
   ]
  },
  {
   "cell_type": "code",
   "execution_count": 158,
   "metadata": {},
   "outputs": [
    {
     "name": "stdout",
     "output_type": "stream",
     "text": [
      "  6912\n",
      "   256\n",
      "   256\n",
      "   256\n",
      "294912\n",
      "   128\n",
      "   128\n",
      "   128\n",
      "6422528\n",
      "    64\n",
      "  1280\n",
      "    20\n",
      "   200\n",
      "    10\n",
      "______\n",
      "6727078\n"
     ]
    }
   ],
   "source": [
    "count_parameters(model)"
   ]
  },
  {
   "cell_type": "code",
   "execution_count": 159,
   "metadata": {},
   "outputs": [
    {
     "data": {
      "text/plain": [
       "6912"
      ]
     },
     "execution_count": 159,
     "metadata": {},
     "output_type": "execute_result"
    }
   ],
   "source": [
    "3 * 256 * 3 * 3"
   ]
  },
  {
   "cell_type": "markdown",
   "metadata": {},
   "source": [
    "## 8. Training"
   ]
  },
  {
   "cell_type": "code",
   "execution_count": 160,
   "metadata": {},
   "outputs": [
    {
     "name": "stdout",
     "output_type": "stream",
     "text": [
      "Epoch: 0 - Batch: 100.000000 - Loss: 1.95 - Acc: 29.25\n",
      "Epoch: 0 - Batch: 200.000000 - Loss: 1.52 - Acc: 36.06\n",
      "Epoch: 0 - Batch: 300.000000 - Loss: 1.47 - Acc: 40.03\n",
      "Epoch: 0 - Batch: 400.000000 - Loss: 1.40 - Acc: 43.29\n",
      "++++++Validation++++++  Loss: 1.17 - Acc: 54.74\n",
      "Epoch: 1 - Batch: 100.000000 - Loss: 1.01 - Acc: 59.99\n"
     ]
    },
    {
     "ename": "KeyboardInterrupt",
     "evalue": "",
     "output_type": "error",
     "traceback": [
      "\u001b[0;31m---------------------------------------------------------------------------\u001b[0m",
      "\u001b[0;31mKeyboardInterrupt\u001b[0m                         Traceback (most recent call last)",
      "Cell \u001b[0;32mIn [160], line 29\u001b[0m\n\u001b[1;32m     27\u001b[0m total_train_corr \u001b[39m=\u001b[39m \u001b[39m0\u001b[39m\n\u001b[1;32m     28\u001b[0m \u001b[39mfor\u001b[39;00m batch, (image, label) \u001b[39min\u001b[39;00m \u001b[39menumerate\u001b[39m(train_loader):\n\u001b[0;32m---> 29\u001b[0m     image \u001b[39m=\u001b[39m image\u001b[39m.\u001b[39;49mto(device)\n\u001b[1;32m     30\u001b[0m     label \u001b[39m=\u001b[39m label\u001b[39m.\u001b[39mto(device)\n\u001b[1;32m     32\u001b[0m     yhat  \u001b[39m=\u001b[39m model(image)           \u001b[39m#1. predict  yhat shape(100, 10)\u001b[39;00m\n",
      "\u001b[0;31mKeyboardInterrupt\u001b[0m: "
     ]
    }
   ],
   "source": [
    "#define loss\n",
    "\n",
    "#define optimizer\n",
    "\n",
    "#for epochs = 5\n",
    "    #for trainloader\n",
    "        #put image and label to device\n",
    "        \n",
    "        #1. predict\n",
    "        #2. loss\n",
    "        #3. clear gradients\n",
    "        #4. backpropagate\n",
    "        #5. update\n",
    "        \n",
    "        #print the loss\n",
    "\n",
    "#define loss\n",
    "criterion = nn.CrossEntropyLoss()\n",
    "#define optimizer\n",
    "optimizer = torch.optim.Adam(model.parameters(), lr = 0.001)\n",
    "#how do we know 0.001 is good?\n",
    "\n",
    "num_epoch = 5\n",
    "val_old_loss = float(\"Inf\")\n",
    "filepath = \"cifarnn.pt\"\n",
    "for e in range(num_epoch):\n",
    "    total_train_corr = 0\n",
    "    for batch, (image, label) in enumerate(train_loader):\n",
    "        image = image.to(device)\n",
    "        label = label.to(device)\n",
    "        \n",
    "        yhat  = model(image)           #1. predict  yhat shape(100, 10)\n",
    "        loss  = criterion(yhat, label) #2. loss\n",
    "        \n",
    "        #add accuracy\n",
    "        predicted  = torch.max(yhat, 1)[1]\n",
    "        batch_train_corr = (predicted == label).sum()\n",
    "        total_train_corr += batch_train_corr\n",
    "        acc = (total_train_corr * 100) / ((batch_size) * (batch + 1))\n",
    "        if val_loss < val_old_loss:\n",
    "                torch.save(model.state_dict(), filepath) #state_dict is simply the weights\n",
    "                val_old_loss = val_loss\n",
    "\n",
    "\n",
    "        optimizer.zero_grad()#3. clear gradients\n",
    "        loss.backward() #4. backpropagate\n",
    "        optimizer.step() #5. update\n",
    "        \n",
    "        if (batch + 1) % 100 == 0:\n",
    "            # sys.stdout.write(f\"\\rBatch: {batch+1} - Loss: {loss}\")\n",
    "            print(f\"Epoch: {e} - Batch: {batch+1:3f} - Loss: {loss:.2f} - Acc: {acc:.2f}\")\n",
    "\n",
    "    #after each epoch, calculate the validation acc and loss\n",
    "    with torch.no_grad():\n",
    "        total_val_corr = 0\n",
    "        for (val_image, val_label) in val_loader:\n",
    "            val_image = val_image.to(device)\n",
    "            val_label = val_label.to(device)\n",
    "            val_yhat = model(val_image)\n",
    "            val_loss = criterion(val_yhat, val_label)\n",
    "            #Save the model with lowerst validation loss\n",
    "            val_predicted = torch.max(val_yhat, 1)[1]\n",
    "            total_val_corr += (val_predicted == val_label).sum()\n",
    "        val_acc = (total_val_corr * 100) / len(val_set)\n",
    "        print(f\"++++++Validation++++++  Loss: {val_loss:.2f} - Acc: {val_acc:.2f}\")\n",
    "\n",
    "\n",
    "\n"
   ]
  }
 ],
 "metadata": {
  "kernelspec": {
   "display_name": "Python 3 (ipykernel)",
   "language": "python",
   "name": "python3"
  },
  "language_info": {
   "codemirror_mode": {
    "name": "ipython",
    "version": 3
   },
   "file_extension": ".py",
   "mimetype": "text/x-python",
   "name": "python",
   "nbconvert_exporter": "python",
   "pygments_lexer": "ipython3",
   "version": "3.9.12"
  },
  "vscode": {
   "interpreter": {
    "hash": "27768773b483d82a9b2b839e3fa80b1be5789db7fd78df4eedef2df266871616"
   }
  }
 },
 "nbformat": 4,
 "nbformat_minor": 2
}
