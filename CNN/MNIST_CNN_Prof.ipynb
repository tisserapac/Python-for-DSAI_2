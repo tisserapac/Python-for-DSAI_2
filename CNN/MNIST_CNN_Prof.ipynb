{
 "cells": [
  {
   "cell_type": "markdown",
   "metadata": {},
   "source": [
    "# MNIST with CNN"
   ]
  },
  {
   "cell_type": "code",
   "execution_count": 1,
   "metadata": {},
   "outputs": [],
   "source": [
    "#load everything\n",
    "import torch\n",
    "from torchvision import datasets, transforms\n",
    "import torch.nn as nn\n",
    "from torch.utils.data import DataLoader\n",
    "from torchvision.utils import make_grid\n",
    "\n",
    "import sys, time\n",
    "import numpy as np\n",
    "import pandas as pd\n",
    "from sklearn.metrics import confusion_matrix, ConfusionMatrixDisplay\n",
    "import matplotlib.pyplot as plt"
   ]
  },
  {
   "cell_type": "code",
   "execution_count": 2,
   "metadata": {},
   "outputs": [
    {
     "name": "stdout",
     "output_type": "stream",
     "text": [
      "cuda:0\n"
     ]
    }
   ],
   "source": [
    "device = torch.device('cuda:0' if torch.cuda.is_available() else 'cpu')\n",
    "print(device)\n",
    "\n",
    "#change this five times to get 5 cross validation\n",
    "SEED = 999\n",
    "torch.manual_seed(SEED)\n",
    "torch.backends.cudnn.deterministic = True"
   ]
  },
  {
   "cell_type": "markdown",
   "metadata": {},
   "source": [
    "## 1. ETL: Load the MNIST"
   ]
  },
  {
   "cell_type": "code",
   "execution_count": 3,
   "metadata": {},
   "outputs": [],
   "source": [
    "transform = transforms.ToTensor()\n",
    "#you guys need to me after this guy, the value becomes what??\n",
    "#value will be normalized to [0, 1] and also converts to tensor"
   ]
  },
  {
   "cell_type": "code",
   "execution_count": 4,
   "metadata": {},
   "outputs": [
    {
     "data": {
      "text/plain": [
       "60000"
      ]
     },
     "execution_count": 4,
     "metadata": {},
     "output_type": "execute_result"
    }
   ],
   "source": [
    "#import os\n",
    "#os.environ['http_proxy'] = 'http://192.41.170.23:3128'\n",
    "#os.environ['https_proxy'] = 'http://192.41.170.23:3128'\n",
    "\n",
    "train_data = datasets.MNIST(root=\"../data\", train=True, \n",
    "                            download=True, transform=transform)\n",
    "#split the train into train and val\n",
    "#this time, Chaky won't be lazy, he will create validation set, which everyone MUST\n",
    "len(train_data)"
   ]
  },
  {
   "cell_type": "code",
   "execution_count": 5,
   "metadata": {},
   "outputs": [
    {
     "data": {
      "text/plain": [
       "(50000, 10000)"
      ]
     },
     "execution_count": 5,
     "metadata": {},
     "output_type": "execute_result"
    }
   ],
   "source": [
    "train_set, val_set = torch.utils.data.random_split(train_data, [50000, 10000])\n",
    "len(train_set), len(val_set)"
   ]
  },
  {
   "cell_type": "code",
   "execution_count": 6,
   "metadata": {},
   "outputs": [],
   "source": [
    "test_set = datasets.MNIST(root=\"../data\", train=False, \n",
    "                            download=True, transform=transform)"
   ]
  },
  {
   "cell_type": "code",
   "execution_count": 7,
   "metadata": {},
   "outputs": [
    {
     "data": {
      "text/plain": [
       "8"
      ]
     },
     "execution_count": 7,
     "metadata": {},
     "output_type": "execute_result"
    },
    {
     "data": {
      "image/png": "[encoded data removed]",
      "text/plain": [
       "<Figure size 432x288 with 1 Axes>"
      ]
     },
     "metadata": {
      "needs_background": "light"
     },
     "output_type": "display_data"
    }
   ],
   "source": [
    "#challenge, show one image of a number\n",
    "train_set[0][0].shape   #train_set[0] is the image, label, so [0][0] is the imge\n",
    "\n",
    "#hint: plt.imshow\n",
    "plt.imshow(train_set[0][0].reshape(28,28), cmap=\"gray\")\n",
    "\n",
    "#what is the label of this guy?\n",
    "train_set[0][1]"
   ]
  },
  {
   "cell_type": "markdown",
   "metadata": {},
   "source": [
    "## 2. Create dataloaders"
   ]
  },
  {
   "cell_type": "code",
   "execution_count": 10,
   "metadata": {},
   "outputs": [],
   "source": [
    "#train batch_size = 10\n",
    "#val batch_size = everything\n",
    "#test batch_size = everything\n",
    "#all shuffle = True\n",
    "\n",
    "#format: DataLoader(dataset, batch_size, shuffle)\n",
    "\n",
    "batch_size = 512\n",
    "\n",
    "train_loader = DataLoader(train_set, batch_size=batch_size,    shuffle=True, num_workers=2, pin_memory=True)\n",
    "val_loader   = DataLoader(val_set,   batch_size=len(val_set),  shuffle=True, num_workers=2, pin_memory=True)\n",
    "test_loader  = DataLoader(test_set,  batch_size=len(test_set), shuffle=True, num_workers=2, pin_memory=True)\n"
   ]
  },
  {
   "cell_type": "markdown",
   "metadata": {},
   "source": [
    "## 3. Test the dataloader"
   ]
  },
  {
   "cell_type": "code",
   "execution_count": 9,
   "metadata": {},
   "outputs": [
    {
     "name": "stdout",
     "output_type": "stream",
     "text": [
      "torch.Size([512, 1, 28, 28])\n",
      "torch.Size([512])\n"
     ]
    }
   ],
   "source": [
    "#run a for loop train_loader and then break, and then print out shape of image, label\n",
    "\n",
    "# for images, label in train_loader:\n",
    "#     print(images.shape)\n",
    "#     print(label.shape)\n",
    "#     break\n",
    "\n",
    "#what is [10, 1, 28, 28]\n",
    "#        [batch_size, c, w, h] = image\n",
    "#what is [10]\n",
    "#        [batch_size] = target\n"
   ]
  },
  {
   "cell_type": "markdown",
   "metadata": {},
   "source": [
    "## 3. Learn about nn.Conv2d"
   ]
  },
  {
   "cell_type": "code",
   "execution_count": 11,
   "metadata": {},
   "outputs": [],
   "source": [
    "#format: nn.Conv2d(input_channel, output_channel, kernel_size, stride=1, padding=0)\n",
    "#if i know my image is channel 1\n",
    "#let's say I want to convert this channel 1 to 13, \n",
    "#kernel_size = 3\n",
    "#stride = 1\n",
    "#padding = 0\n",
    "chaky_layer = nn.Conv2d(1, 13, 3, 1, 0)"
   ]
  },
  {
   "cell_type": "code",
   "execution_count": 12,
   "metadata": {},
   "outputs": [
    {
     "data": {
      "text/plain": [
       "Conv2d(1, 13, kernel_size=(3, 3), stride=(1, 1))"
      ]
     },
     "execution_count": 12,
     "metadata": {},
     "output_type": "execute_result"
    }
   ],
   "source": [
    "chaky_layer"
   ]
  },
  {
   "cell_type": "code",
   "execution_count": 13,
   "metadata": {},
   "outputs": [
    {
     "data": {
      "text/plain": [
       "torch.Size([13, 1, 3, 3])"
      ]
     },
     "execution_count": 13,
     "metadata": {},
     "output_type": "execute_result"
    }
   ],
   "source": [
    "#chaky_layer.weight.shape"
   ]
  },
  {
   "cell_type": "code",
   "execution_count": 14,
   "metadata": {},
   "outputs": [
    {
     "data": {
      "text/plain": [
       "torch.Size([13])"
      ]
     },
     "execution_count": 14,
     "metadata": {},
     "output_type": "execute_result"
    }
   ],
   "source": [
    "#chaky_layer.bias.shape"
   ]
  },
  {
   "cell_type": "code",
   "execution_count": 15,
   "metadata": {},
   "outputs": [
    {
     "data": {
      "text/plain": [
       "torch.Size([1, 28, 28])"
      ]
     },
     "execution_count": 15,
     "metadata": {},
     "output_type": "execute_result"
    }
   ],
   "source": [
    "#can you take image for me\n",
    "image = train_set[0][0]\n",
    "image.shape"
   ]
  },
  {
   "cell_type": "code",
   "execution_count": 16,
   "metadata": {},
   "outputs": [
    {
     "data": {
      "text/plain": [
       "torch.Size([1, 13, 26, 26])"
      ]
     },
     "execution_count": 16,
     "metadata": {},
     "output_type": "execute_result"
    }
   ],
   "source": [
    "image = image.reshape(1, 1, 28, 28)\n",
    "out = chaky_layer(image)\n",
    "out.shape\n",
    "#where does [13, 26, 26] comes from???\n",
    "#(input_size - k + 2P) / s +1\n",
    "# (28 - 3 + 2*0) / 1 + 1"
   ]
  },
  {
   "cell_type": "code",
   "execution_count": 16,
   "metadata": {},
   "outputs": [
    {
     "name": "stdout",
     "output_type": "stream",
     "text": [
      "torch.Size([1, 5, 24, 24])\n"
     ]
    }
   ],
   "source": [
    "#can you create another convolution layer\n",
    "#that can accept this input [13, 26, 26]\n",
    "#kernel size =3, stride =1, padding = 0, output_channel = 5, input_channel = ???\n",
    "chaky_layer2 = nn.Conv2d(13,5,3,1,0)\n",
    "out2 = chaky_layer2(out)\n",
    "print(out2.shape)\n",
    "#what is [5, 24, 24]\n",
    "#5 is the output_channel\n",
    "#24 - do the math by yourself"
   ]
  },
  {
   "cell_type": "code",
   "execution_count": 17,
   "metadata": {},
   "outputs": [
    {
     "data": {
      "text/plain": [
       "torch.Size([1, 1, 28, 28])"
      ]
     },
     "execution_count": 17,
     "metadata": {},
     "output_type": "execute_result"
    }
   ],
   "source": [
    "image.shape"
   ]
  },
  {
   "cell_type": "code",
   "execution_count": 18,
   "metadata": {},
   "outputs": [
    {
     "name": "stdout",
     "output_type": "stream",
     "text": [
      "torch.Size([1, 128, 20, 20])\n",
      "torch.Size([128, 20, 20])\n"
     ]
    },
    {
     "data": {
      "text/plain": [
       "<matplotlib.image.AxesImage at 0x7f62b0147790>"
      ]
     },
     "execution_count": 18,
     "metadata": {},
     "output_type": "execute_result"
    },
    {
     "data": {
      "image/png": "[encoded data removed]",
      "text/plain": [
       "<Figure size 432x288 with 1 Axes>"
      ]
     },
     "metadata": {
      "needs_background": "light"
     },
     "output_type": "display_data"
    }
   ],
   "source": [
    "#create two convolutional layer\n",
    "#of outputchannel 256, then 128\n",
    "#kernel_size = 5, stride = 1, padding = 0\n",
    "layers = nn.Sequential(nn.Conv2d(1,256,5,1,0),nn.Conv2d(256,128,5,1,0))\n",
    "out3 = layers(image)\n",
    "print(out3.shape)\n",
    "out3 = out3.reshape(128, 20, 20)\n",
    "print(out3.shape)\n",
    "plt.imshow(out3[0].detach().numpy())"
   ]
  },
  {
   "cell_type": "markdown",
   "metadata": {},
   "source": [
    "## 4. Learn about maxpool2d"
   ]
  },
  {
   "cell_type": "code",
   "execution_count": 19,
   "metadata": {},
   "outputs": [],
   "source": [
    "pool = nn.MaxPool2d(2, 2)"
   ]
  },
  {
   "cell_type": "code",
   "execution_count": 20,
   "metadata": {},
   "outputs": [
    {
     "data": {
      "text/plain": [
       "torch.Size([1, 1, 28, 28])"
      ]
     },
     "execution_count": 20,
     "metadata": {},
     "output_type": "execute_result"
    }
   ],
   "source": [
    "image.shape"
   ]
  },
  {
   "cell_type": "code",
   "execution_count": 21,
   "metadata": {},
   "outputs": [
    {
     "data": {
      "text/plain": [
       "torch.Size([1, 1, 14, 14])"
      ]
     },
     "execution_count": 21,
     "metadata": {},
     "output_type": "execute_result"
    }
   ],
   "source": [
    "out = pool(image)\n",
    "out.shape"
   ]
  },
  {
   "cell_type": "code",
   "execution_count": 22,
   "metadata": {},
   "outputs": [],
   "source": [
    "#let's have break until 17:15"
   ]
  },
  {
   "cell_type": "code",
   "execution_count": 23,
   "metadata": {},
   "outputs": [
    {
     "data": {
      "text/plain": [
       "torch.Size([1, 16, 24, 24])"
      ]
     },
     "execution_count": 23,
     "metadata": {},
     "output_type": "execute_result"
    }
   ],
   "source": [
    "#test the sample\n",
    "#random image\n",
    "random_image = torch.rand((1, 1, 28, 28))\n",
    "conv1 = nn.Conv2d(1, 6, 3, 1)  \n",
    "conv2 = nn.Conv2d(6, 16, 3, 1)\n",
    "\n",
    "layers = nn.Sequential(conv1, conv2)\n",
    "out = layers(random_image)\n",
    "out.shape  #output shape"
   ]
  },
  {
   "cell_type": "markdown",
   "metadata": {},
   "source": [
    "## 5. Create the model"
   ]
  },
  {
   "cell_type": "code",
   "execution_count": 24,
   "metadata": {},
   "outputs": [],
   "source": [
    "#convolutional neural network\n",
    "class ChakyCNN(nn.Module):\n",
    "    \n",
    "    def __init__(self):\n",
    "        super().__init__()\n",
    "        #create 2 convolutional layer (1 -> 6 -> 16)\n",
    "        #stride = 1, kernel_size = 3\n",
    "        self.conv1 = nn.Conv2d(1, 6, 3, 1)  #(input_size - k + 2P) / s +1\n",
    "        #input w/h = (28 - 3 + 0) / 1 + 1 = 26\n",
    "        self.conv2 = nn.Conv2d(6, 16, 3, 1)\n",
    "        #input w/h = (24 - 3 + 0) /1 + 1 = 24\n",
    "        #three linear layers here\n",
    "        #1st layer - from image (b, c, w, h) --> (b, c*w*h) in order to input to linear layer\n",
    "        #1st layer input_size -> 120  (input_size here is channel x w x h)\n",
    "        self.linear1 = nn.Linear(16*5*5, 120)\n",
    "        #2nd layer 120 -> 84\n",
    "        self.linear2 = nn.Linear(120, 84)\n",
    "        #3rd layer 84 -> 10  (10 is the output_size)\n",
    "        self.linear3 = nn.Linear(84, 10)\n",
    "        \n",
    "        self.maxpool = nn.MaxPool2d(2, 2)\n",
    "        self.relu    = nn.ReLU()\n",
    "        \n",
    "    def forward(self, image):\n",
    "        #image.shape:  (B, C, W, H)\n",
    "        out = self.conv1(image)  #convolution1\n",
    "        #out.shape:    (B, 6, 26, 26)\n",
    "        out = self.relu(out) #relu\n",
    "        out = self.maxpool(out) #maxpool2d\n",
    "        #out.shape:    (B, 6, 13, 13)\n",
    "        \n",
    "        #(input_size - k + 2P) / s +1\n",
    "        # 13 - 3 / 1 + 1 = 11\n",
    "        out = self.conv2(out) #convolution2\n",
    "        #out.shape (B, 16, 11, 11)\n",
    "        out = self.relu(out) #relu\n",
    "        out = self.maxpool(out) #maxpool2d\n",
    "        #out.shape (B, 16, 5, 5)\n",
    "        \n",
    "        #reshape so that it can be inserted into the linear layer\n",
    "        out = out.reshape(-1, 16*5*5)\n",
    "        \n",
    "        #linear1 -> relu\n",
    "        #linear2 -> relu\n",
    "        #linear3\n",
    "        out = self.linear1(out)\n",
    "        out = self.relu(out)\n",
    "        #out.shape (B, 120)\n",
    "        #linear2 -> relu\n",
    "        out = self.linear2(out)\n",
    "        out = self.relu(out)\n",
    "        #out.shape (B, 84)\n",
    "        #linear3 -> relu\n",
    "        out = self.linear3(out)\n",
    "        #out.shape (B, 10)\n",
    "        \n",
    "        return out\n",
    "        "
   ]
  },
  {
   "cell_type": "markdown",
   "metadata": {},
   "source": [
    "## 6. Test the model for me"
   ]
  },
  {
   "cell_type": "code",
   "execution_count": 25,
   "metadata": {},
   "outputs": [
    {
     "name": "stdout",
     "output_type": "stream",
     "text": [
      "torch.Size([1, 10])\n"
     ]
    }
   ],
   "source": [
    "model = ChakyCNN().to(device)\n",
    "random_image = torch.rand((1, 1, 28, 28)).to(device)\n",
    "out = model(random_image)\n",
    "print(out.shape)"
   ]
  },
  {
   "cell_type": "markdown",
   "metadata": {},
   "source": [
    "## 7. Count the parameters"
   ]
  },
  {
   "cell_type": "code",
   "execution_count": 26,
   "metadata": {},
   "outputs": [],
   "source": [
    "def count_parameters(model):\n",
    "    params = [p.numel() for p in model.parameters() if p.requires_grad]\n",
    "    for item in params:\n",
    "        print(f'{item:>6}')\n",
    "    print(f'______\\n{sum(params):>6}')"
   ]
  },
  {
   "cell_type": "code",
   "execution_count": 27,
   "metadata": {},
   "outputs": [
    {
     "name": "stdout",
     "output_type": "stream",
     "text": [
      "    54\n",
      "     6\n",
      "   864\n",
      "    16\n",
      " 48000\n",
      "   120\n",
      " 10080\n",
      "    84\n",
      "   840\n",
      "    10\n",
      "______\n",
      " 60074\n"
     ]
    }
   ],
   "source": [
    "count_parameters(model)\n",
    "#what is 54, 6, 864, 16....where does they come from\n",
    "#total parameters is 60074\n",
    "#54 comes from the first conv1 layer\n",
    "#(1, 6, 3, 3)\n",
    "#6 comes from the bias of the first conv1 layer\n",
    "#864 comes from the second conv2 layer\n",
    "#(6, 16, 3, 3) = 864\n",
    "#48000 comes from???\n",
    "#(5 * 5 * 16, 120) = 48000"
   ]
  },
  {
   "cell_type": "markdown",
   "metadata": {},
   "source": [
    "## 8. Training!!!"
   ]
  },
  {
   "cell_type": "code",
   "execution_count": 27,
   "metadata": {},
   "outputs": [],
   "source": [
    "J_fn = nn.CrossEntropyLoss()\n",
    "optimizer = torch.optim.Adam(model.parameters(), lr=0.001)"
   ]
  },
  {
   "cell_type": "code",
   "execution_count": 28,
   "metadata": {},
   "outputs": [
    {
     "name": "stdout",
     "output_type": "stream",
     "text": [
      "Epoch: 0 - Batch: 19 - Train Loss: 2.08 - Train Acc: 27.97 - Total Time: 0.00s\n",
      "Epoch: 0 - Batch: 39 - Train Loss: 1.10 - Train Acc: 41.63 - Total Time: 0.00s\n",
      "Epoch: 0 - Batch: 59 - Train Loss: 0.62 - Train Acc: 52.71 - Total Time: 0.00s\n",
      "Epoch: 0 - Batch: 79 - Train Loss: 0.49 - Train Acc: 60.04 - Total Time: 0.01s\n",
      "++++++Validation++++++ Val Loss: 0.43 - Val Acc: 86.63\n",
      "Epoch: 1 - Batch: 19 - Train Loss: 0.45 - Train Acc: 87.18 - Total Time: 0.01s\n",
      "Epoch: 1 - Batch: 39 - Train Loss: 0.30 - Train Acc: 87.99 - Total Time: 0.01s\n",
      "Epoch: 1 - Batch: 59 - Train Loss: 0.31 - Train Acc: 88.73 - Total Time: 0.01s\n",
      "Epoch: 1 - Batch: 79 - Train Loss: 0.31 - Train Acc: 89.47 - Total Time: 0.01s\n",
      "++++++Validation++++++ Val Loss: 0.25 - Val Acc: 92.54\n",
      "Epoch: 2 - Batch: 19 - Train Loss: 0.27 - Train Acc: 92.25 - Total Time: 0.01s\n",
      "Epoch: 2 - Batch: 39 - Train Loss: 0.16 - Train Acc: 92.76 - Total Time: 0.01s\n",
      "Epoch: 2 - Batch: 59 - Train Loss: 0.19 - Train Acc: 93.03 - Total Time: 0.00s\n",
      "Epoch: 2 - Batch: 79 - Train Loss: 0.17 - Train Acc: 93.23 - Total Time: 0.00s\n",
      "++++++Validation++++++ Val Loss: 0.19 - Val Acc: 93.94\n",
      "Epoch: 3 - Batch: 19 - Train Loss: 0.13 - Train Acc: 94.61 - Total Time: 0.01s\n",
      "Epoch: 3 - Batch: 39 - Train Loss: 0.15 - Train Acc: 94.85 - Total Time: 0.00s\n",
      "Epoch: 3 - Batch: 59 - Train Loss: 0.14 - Train Acc: 95.07 - Total Time: 0.00s\n",
      "Epoch: 3 - Batch: 79 - Train Loss: 0.17 - Train Acc: 95.16 - Total Time: 0.00s\n",
      "++++++Validation++++++ Val Loss: 0.14 - Val Acc: 95.83\n",
      "Epoch: 4 - Batch: 19 - Train Loss: 0.15 - Train Acc: 96.00 - Total Time: 0.01s\n",
      "Epoch: 4 - Batch: 39 - Train Loss: 0.13 - Train Acc: 96.19 - Total Time: 0.01s\n",
      "Epoch: 4 - Batch: 59 - Train Loss: 0.10 - Train Acc: 96.18 - Total Time: 0.01s\n",
      "Epoch: 4 - Batch: 79 - Train Loss: 0.12 - Train Acc: 96.15 - Total Time: 0.01s\n",
      "++++++Validation++++++ Val Loss: 0.11 - Val Acc: 96.75\n"
     ]
    }
   ],
   "source": [
    "epochs = 5   #too lazy to wait\n",
    "val_old_loss = float(\"Inf\")\n",
    "train_losses = []\n",
    "train_accs   = []\n",
    "val_losses   = []\n",
    "val_accs     = []\n",
    "filepath = '../models/best_mnist.pt'\n",
    "#for epochs\n",
    "for e in range(epochs):\n",
    "    #for train loader\n",
    "    total_corr = 0\n",
    "    for b, (image, label) in enumerate(train_loader):\n",
    "        \n",
    "        start_time = time.time()\n",
    "        \n",
    "        #image: (B, C, W, H)\n",
    "        #label: (B)\n",
    "        image = image.to(device)\n",
    "        label = label.to(device)\n",
    "        \n",
    "        yhat = model(image) #1. model\n",
    "        train_loss = J_fn(yhat, label) #2. loss\n",
    "        \n",
    "        #2.1 collect the loss and acc\n",
    "        train_losses.append(train_loss)\n",
    "        predicted = torch.max(yhat, 1)[1]\n",
    "        batch_corr = (predicted == label).sum()\n",
    "        total_corr += batch_corr\n",
    "            \n",
    "        optimizer.zero_grad() #3. zero_grad\n",
    "        train_loss.backward() #4. backward\n",
    "        optimizer.step() #5. step\n",
    "        \n",
    "        #print the loss and acc if epoch / 1\n",
    "        train_acc = (total_corr * 100) / (batch_size * (b + 1))\n",
    "        train_accs.append(train_acc)\n",
    "        \n",
    "        #total time\n",
    "        total_time = time.time() - start_time\n",
    "        \n",
    "        if (b+1) % 20 == 0:\n",
    "            print(f\"Epoch: {e} - Batch: {b} - Train Loss: {train_loss:.2f} - Train Acc: {train_acc:.2f} - Total Time: {total_time:.2f}s\")\n",
    "        \n",
    "    with torch.no_grad():\n",
    "        val_corr = 0 \n",
    "        for val_image, val_label in val_loader:\n",
    "            val_image = val_image.to(device)\n",
    "            val_label = val_label.to(device)\n",
    "            val_yhat = model(val_image)\n",
    "            val_loss = J_fn(val_yhat, val_label)\n",
    "            val_predicted = torch.max(val_yhat, 1)[1]\n",
    "            val_corr += (val_predicted == val_label).sum()\n",
    "            if val_loss < val_old_loss:\n",
    "                torch.save(model.state_dict(), filepath)\n",
    "        val_acc = (val_corr * 100) / len(val_set)\n",
    "    val_accs.append(val_acc)\n",
    "    val_losses.append(val_loss)\n",
    "    # here you MUST SAVE THE BEST MODEL whenever val_loss < val_old_loss\n",
    "    ##even if it takes time, you want to do this in your thesis....\n",
    "    \n",
    "    print(f\"++++++Validation++++++ Val Loss: {val_loss:.2f} - Val Acc: {val_acc:.2f}\")\n"
   ]
  },
  {
   "cell_type": "code",
   "execution_count": 29,
   "metadata": {},
   "outputs": [],
   "source": [
    "train_losses = [loss.item() for loss in train_losses]\n",
    "train_accs   = [acc.item()  for acc  in train_accs]\n",
    "val_losses   = [loss.item() for loss in val_losses]\n",
    "val_accs     = [acc.item()  for acc  in val_accs]"
   ]
  },
  {
   "cell_type": "code",
   "execution_count": 30,
   "metadata": {},
   "outputs": [
    {
     "data": {
      "text/plain": [
       "Text(0.5, 1.0, 'Loss/acc at the end of each epoch')"
      ]
     },
     "execution_count": 30,
     "metadata": {},
     "output_type": "execute_result"
    },
    {
     "data": {
      "image/png": "[encoded data removed]",
      "text/plain": [
       "<Figure size 432x288 with 1 Axes>"
      ]
     },
     "metadata": {
      "needs_background": "light"
     },
     "output_type": "display_data"
    }
   ],
   "source": [
    "plt.plot(train_losses, label='training loss')\n",
    "plt.title('Loss/acc at the end of each epoch')"
   ]
  },
  {
   "cell_type": "code",
   "execution_count": 31,
   "metadata": {},
   "outputs": [
    {
     "data": {
      "text/plain": [
       "Text(0.5, 1.0, 'Loss/acc at the end of each epoch')"
      ]
     },
     "execution_count": 31,
     "metadata": {},
     "output_type": "execute_result"
    },
    {
     "data": {
      "image/png": "[encoded data removed]",
      "text/plain": [
       "<Figure size 432x288 with 1 Axes>"
      ]
     },
     "metadata": {
      "needs_background": "light"
     },
     "output_type": "display_data"
    }
   ],
   "source": [
    "plt.plot(val_losses, label='validation loss')\n",
    "plt.title('Loss/acc at the end of each epoch')"
   ]
  },
  {
   "cell_type": "code",
   "execution_count": 32,
   "metadata": {},
   "outputs": [
    {
     "data": {
      "text/plain": [
       "Text(0.5, 1.0, 'Loss/acc at the end of each epoch')"
      ]
     },
     "execution_count": 32,
     "metadata": {},
     "output_type": "execute_result"
    },
    {
     "data": {
      "image/png": "[encoded data removed]",
      "text/plain": [
       "<Figure size 432x288 with 1 Axes>"
      ]
     },
     "metadata": {
      "needs_background": "light"
     },
     "output_type": "display_data"
    }
   ],
   "source": [
    "plt.plot(train_accs, label='training acc')\n",
    "plt.title('Loss/acc at the end of each epoch')"
   ]
  },
  {
   "cell_type": "code",
   "execution_count": 33,
   "metadata": {},
   "outputs": [
    {
     "data": {
      "text/plain": [
       "Text(0.5, 1.0, 'Loss/acc at the end of each epoch')"
      ]
     },
     "execution_count": 33,
     "metadata": {},
     "output_type": "execute_result"
    },
    {
     "data": {
      "image/png": "[encoded data removed]",
      "text/plain": [
       "<Figure size 432x288 with 1 Axes>"
      ]
     },
     "metadata": {
      "needs_background": "light"
     },
     "output_type": "display_data"
    }
   ],
   "source": [
    "plt.plot(val_accs, label='validation loss')\n",
    "plt.title('Loss/acc at the end of each epoch')"
   ]
  },
  {
   "cell_type": "markdown",
   "metadata": {},
   "source": [
    "## 9. Testing / Inference"
   ]
  },
  {
   "cell_type": "code",
   "execution_count": 35,
   "metadata": {},
   "outputs": [
    {
     "name": "stdout",
     "output_type": "stream",
     "text": [
      "tensor(97.4700, device='cuda:0')\n"
     ]
    }
   ],
   "source": [
    "#do by yourself\n",
    "#load the best model based on val loss\n",
    "model = ChakyCNN().to(device)\n",
    "model.load_state_dict(torch.load(filepath))\n",
    "\n",
    "#do the testing phase! :-)\n",
    "with torch.no_grad():\n",
    "    test_corr = 0 \n",
    "    for test_image, test_label in test_loader:\n",
    "        test_image = test_image.to(device)\n",
    "        test_label = test_label.to(device)\n",
    "        test_yhat = model(test_image)\n",
    "        test_loss = J_fn(test_yhat, test_label)\n",
    "        test_predicted = torch.max(test_yhat, 1)[1]\n",
    "        test_corr += (test_predicted == test_label).sum()\n",
    "    test_acc = (test_corr * 100) / len(test_set)\n",
    "    \n",
    "print(test_acc)"
   ]
  }
 ],
 "metadata": {
  "kernelspec": {
   "display_name": "Python 3 (ipykernel)",
   "language": "python",
   "name": "python3"
  },
  "language_info": {
   "codemirror_mode": {
    "name": "ipython",
    "version": 3
   },
   "file_extension": ".py",
   "mimetype": "text/x-python",
   "name": "python",
   "nbconvert_exporter": "python",
   "pygments_lexer": "ipython3",
   "version": "3.9.12"
  },
  "vscode": {
   "interpreter": {
    "hash": "becc4c8e5ad229b2591d820334d85e3db0111492344629bf57f272470dce75a5"
   }
  }
 },
 "nbformat": 4,
 "nbformat_minor": 4
}
